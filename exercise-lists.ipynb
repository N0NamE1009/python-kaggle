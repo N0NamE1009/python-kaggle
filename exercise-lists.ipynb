{
 "cells": [
  {
   "cell_type": "markdown",
   "id": "e68d3dba",
   "metadata": {
    "papermill": {
     "duration": 0.0046,
     "end_time": "2023-07-25T10:27:55.093425",
     "exception": false,
     "start_time": "2023-07-25T10:27:55.088825",
     "status": "completed"
    },
    "tags": []
   },
   "source": [
    "**This notebook is an exercise in the [Python](https://www.kaggle.com/learn/python) course.  You can reference the tutorial at [this link](https://www.kaggle.com/colinmorris/lists).**\n",
    "\n",
    "---\n"
   ]
  },
  {
   "cell_type": "markdown",
   "id": "f6495659",
   "metadata": {
    "papermill": {
     "duration": 0.003961,
     "end_time": "2023-07-25T10:27:55.101264",
     "exception": false,
     "start_time": "2023-07-25T10:27:55.097303",
     "status": "completed"
    },
    "tags": []
   },
   "source": [
    "Things get more interesting with lists. You'll apply your new knowledge to solve the questions below. Remember to run the following cell first."
   ]
  },
  {
   "cell_type": "code",
   "execution_count": 1,
   "id": "12d85a58",
   "metadata": {
    "execution": {
     "iopub.execute_input": "2023-07-25T10:27:55.110876Z",
     "iopub.status.busy": "2023-07-25T10:27:55.109888Z",
     "iopub.status.idle": "2023-07-25T10:27:55.147069Z",
     "shell.execute_reply": "2023-07-25T10:27:55.146378Z"
    },
    "papermill": {
     "duration": 0.043758,
     "end_time": "2023-07-25T10:27:55.148835",
     "exception": false,
     "start_time": "2023-07-25T10:27:55.105077",
     "status": "completed"
    },
    "tags": []
   },
   "outputs": [
    {
     "name": "stdout",
     "output_type": "stream",
     "text": [
      "Setup complete.\n"
     ]
    }
   ],
   "source": [
    "from learntools.core import binder; binder.bind(globals())\n",
    "from learntools.python.ex4 import *\n",
    "print('Setup complete.')"
   ]
  },
  {
   "cell_type": "markdown",
   "id": "9d5c7dc0",
   "metadata": {
    "papermill": {
     "duration": 0.003908,
     "end_time": "2023-07-25T10:27:55.157036",
     "exception": false,
     "start_time": "2023-07-25T10:27:55.153128",
     "status": "completed"
    },
    "tags": []
   },
   "source": [
    "# 1.\n",
    "\n",
    "Complete the function below according to its docstring."
   ]
  },
  {
   "cell_type": "code",
   "execution_count": 2,
   "id": "629311a4",
   "metadata": {
    "execution": {
     "iopub.execute_input": "2023-07-25T10:27:55.166158Z",
     "iopub.status.busy": "2023-07-25T10:27:55.165838Z",
     "iopub.status.idle": "2023-07-25T10:27:55.174528Z",
     "shell.execute_reply": "2023-07-25T10:27:55.173776Z"
    },
    "papermill": {
     "duration": 0.015085,
     "end_time": "2023-07-25T10:27:55.176053",
     "exception": false,
     "start_time": "2023-07-25T10:27:55.160968",
     "status": "completed"
    },
    "tags": []
   },
   "outputs": [
    {
     "data": {
      "application/javascript": [
       "parent.postMessage({\"jupyterEvent\": \"custom.exercise_interaction\", \"data\": {\"outcomeType\": 1, \"valueTowardsCompletion\": 0.2, \"interactionType\": 1, \"questionType\": 2, \"questionId\": \"1_SelectSecondItem\", \"learnToolsVersion\": \"0.3.4\", \"failureMessage\": \"\", \"exceptionClass\": \"\", \"trace\": \"\"}}, \"*\")"
      ],
      "text/plain": [
       "<IPython.core.display.Javascript object>"
      ]
     },
     "metadata": {},
     "output_type": "display_data"
    },
    {
     "data": {
      "text/markdown": [
       "<span style=\"color:#33cc33\">Correct</span>"
      ],
      "text/plain": [
       "Correct"
      ]
     },
     "metadata": {},
     "output_type": "display_data"
    }
   ],
   "source": [
    "def select_second(L):\n",
    "    \"\"\"Return the second element of the given list. If the list has no second\n",
    "    element, return None.\n",
    "    \"\"\"\n",
    "    if len(L)<2:\n",
    "        return None\n",
    "    return L[1]\n",
    "\n",
    "# Check your answer\n",
    "q1.check()"
   ]
  },
  {
   "cell_type": "code",
   "execution_count": 3,
   "id": "840da04e",
   "metadata": {
    "execution": {
     "iopub.execute_input": "2023-07-25T10:27:55.185396Z",
     "iopub.status.busy": "2023-07-25T10:27:55.185138Z",
     "iopub.status.idle": "2023-07-25T10:27:55.188568Z",
     "shell.execute_reply": "2023-07-25T10:27:55.187821Z"
    },
    "papermill": {
     "duration": 0.009774,
     "end_time": "2023-07-25T10:27:55.190093",
     "exception": false,
     "start_time": "2023-07-25T10:27:55.180319",
     "status": "completed"
    },
    "tags": []
   },
   "outputs": [],
   "source": [
    "#q1.hint()\n",
    "#q1.solution()"
   ]
  },
  {
   "cell_type": "markdown",
   "id": "20b139e8",
   "metadata": {
    "papermill": {
     "duration": 0.004389,
     "end_time": "2023-07-25T10:27:55.198635",
     "exception": false,
     "start_time": "2023-07-25T10:27:55.194246",
     "status": "completed"
    },
    "tags": []
   },
   "source": [
    "# 2.\n",
    "\n",
    "You are analyzing sports teams.  Members of each team are stored in a list. The Coach is the first name in the list, the captain is the second name in the list, and other players are listed after that. \n",
    "These lists are stored in another list, which starts with the best team and proceeds through the list to the worst team last.  Complete the function below to select the **captain** of the worst team."
   ]
  },
  {
   "cell_type": "code",
   "execution_count": 4,
   "id": "8e64f32f",
   "metadata": {
    "execution": {
     "iopub.execute_input": "2023-07-25T10:27:55.207743Z",
     "iopub.status.busy": "2023-07-25T10:27:55.207469Z",
     "iopub.status.idle": "2023-07-25T10:27:55.214316Z",
     "shell.execute_reply": "2023-07-25T10:27:55.213543Z"
    },
    "papermill": {
     "duration": 0.013016,
     "end_time": "2023-07-25T10:27:55.215755",
     "exception": false,
     "start_time": "2023-07-25T10:27:55.202739",
     "status": "completed"
    },
    "tags": []
   },
   "outputs": [
    {
     "data": {
      "application/javascript": [
       "parent.postMessage({\"jupyterEvent\": \"custom.exercise_interaction\", \"data\": {\"outcomeType\": 1, \"valueTowardsCompletion\": 0.2, \"interactionType\": 1, \"questionType\": 2, \"questionId\": \"2_LosingTeamCaptain\", \"learnToolsVersion\": \"0.3.4\", \"failureMessage\": \"\", \"exceptionClass\": \"\", \"trace\": \"\"}}, \"*\")"
      ],
      "text/plain": [
       "<IPython.core.display.Javascript object>"
      ]
     },
     "metadata": {},
     "output_type": "display_data"
    },
    {
     "data": {
      "text/markdown": [
       "<span style=\"color:#33cc33\">Correct</span>"
      ],
      "text/plain": [
       "Correct"
      ]
     },
     "metadata": {},
     "output_type": "display_data"
    }
   ],
   "source": [
    "def losing_team_captain(teams):\n",
    "    \"\"\"Given a list of teams, where each team is a list of names, return the 2nd player (captain)\n",
    "    from the last listed team\n",
    "    \"\"\"\n",
    "    return teams[-1][1]\n",
    "\n",
    "# Check your answer\n",
    "q2.check()"
   ]
  },
  {
   "cell_type": "code",
   "execution_count": 5,
   "id": "396dfa28",
   "metadata": {
    "execution": {
     "iopub.execute_input": "2023-07-25T10:27:55.226559Z",
     "iopub.status.busy": "2023-07-25T10:27:55.226303Z",
     "iopub.status.idle": "2023-07-25T10:27:55.229736Z",
     "shell.execute_reply": "2023-07-25T10:27:55.228955Z"
    },
    "papermill": {
     "duration": 0.011154,
     "end_time": "2023-07-25T10:27:55.231367",
     "exception": false,
     "start_time": "2023-07-25T10:27:55.220213",
     "status": "completed"
    },
    "tags": []
   },
   "outputs": [],
   "source": [
    "#q2.hint()\n",
    "#q2.solution()"
   ]
  },
  {
   "cell_type": "markdown",
   "id": "b00f4cf1",
   "metadata": {
    "papermill": {
     "duration": 0.004175,
     "end_time": "2023-07-25T10:27:55.239916",
     "exception": false,
     "start_time": "2023-07-25T10:27:55.235741",
     "status": "completed"
    },
    "tags": []
   },
   "source": [
    "# 3.\n",
    "\n",
    "The next iteration of Mario Kart will feature an extra-infuriating new item, the *Purple Shell*. When used, it warps the last place racer into first place and the first place racer into last place. Complete the function below to implement the Purple Shell's effect."
   ]
  },
  {
   "cell_type": "code",
   "execution_count": 6,
   "id": "25b1d8eb",
   "metadata": {
    "execution": {
     "iopub.execute_input": "2023-07-25T10:27:55.249583Z",
     "iopub.status.busy": "2023-07-25T10:27:55.249331Z",
     "iopub.status.idle": "2023-07-25T10:27:55.256573Z",
     "shell.execute_reply": "2023-07-25T10:27:55.255851Z"
    },
    "papermill": {
     "duration": 0.013761,
     "end_time": "2023-07-25T10:27:55.258070",
     "exception": false,
     "start_time": "2023-07-25T10:27:55.244309",
     "status": "completed"
    },
    "tags": []
   },
   "outputs": [
    {
     "data": {
      "application/javascript": [
       "parent.postMessage({\"jupyterEvent\": \"custom.exercise_interaction\", \"data\": {\"outcomeType\": 1, \"valueTowardsCompletion\": 0.2, \"interactionType\": 1, \"questionType\": 2, \"questionId\": \"3_PurpleShell\", \"learnToolsVersion\": \"0.3.4\", \"failureMessage\": \"\", \"exceptionClass\": \"\", \"trace\": \"\"}}, \"*\")"
      ],
      "text/plain": [
       "<IPython.core.display.Javascript object>"
      ]
     },
     "metadata": {},
     "output_type": "display_data"
    },
    {
     "data": {
      "text/markdown": [
       "<span style=\"color:#33cc33\">Correct</span>"
      ],
      "text/plain": [
       "Correct"
      ]
     },
     "metadata": {},
     "output_type": "display_data"
    }
   ],
   "source": [
    "def purple_shell(racers):\n",
    "    \"\"\"Given a list of racers, set the first place racer (at the front of the list) to last\n",
    "    place and vice versa.\n",
    "    \n",
    "    >>> r = [\"Mario\", \"Bowser\", \"Luigi\"]\n",
    "    >>> purple_shell(r)\n",
    "    >>> r\n",
    "    [\"Luigi\", \"Bowser\", \"Mario\"]\n",
    "    \"\"\"\n",
    "    aux = racers[0]\n",
    "    racers[0] = racers[-1]\n",
    "    racers[-1]=aux\n",
    "\n",
    "# Check your answer\n",
    "q3.check()"
   ]
  },
  {
   "cell_type": "code",
   "execution_count": 7,
   "id": "8ed4402f",
   "metadata": {
    "execution": {
     "iopub.execute_input": "2023-07-25T10:27:55.268428Z",
     "iopub.status.busy": "2023-07-25T10:27:55.268174Z",
     "iopub.status.idle": "2023-07-25T10:27:55.271603Z",
     "shell.execute_reply": "2023-07-25T10:27:55.270820Z"
    },
    "papermill": {
     "duration": 0.010344,
     "end_time": "2023-07-25T10:27:55.273069",
     "exception": false,
     "start_time": "2023-07-25T10:27:55.262725",
     "status": "completed"
    },
    "tags": []
   },
   "outputs": [],
   "source": [
    "#q3.hint()\n",
    "#q3.solution()"
   ]
  },
  {
   "cell_type": "markdown",
   "id": "981f3962",
   "metadata": {
    "papermill": {
     "duration": 0.004342,
     "end_time": "2023-07-25T10:27:55.282003",
     "exception": false,
     "start_time": "2023-07-25T10:27:55.277661",
     "status": "completed"
    },
    "tags": []
   },
   "source": [
    "# 4.\n",
    "\n",
    "What are the lengths of the following lists? Fill in the variable `lengths` with your predictions. (Try to make a prediction for each list *without* just calling `len()` on it.)"
   ]
  },
  {
   "cell_type": "code",
   "execution_count": 8,
   "id": "10393bb1",
   "metadata": {
    "execution": {
     "iopub.execute_input": "2023-07-25T10:27:55.292300Z",
     "iopub.status.busy": "2023-07-25T10:27:55.292050Z",
     "iopub.status.idle": "2023-07-25T10:27:55.299203Z",
     "shell.execute_reply": "2023-07-25T10:27:55.298484Z"
    },
    "papermill": {
     "duration": 0.014261,
     "end_time": "2023-07-25T10:27:55.300802",
     "exception": false,
     "start_time": "2023-07-25T10:27:55.286541",
     "status": "completed"
    },
    "tags": []
   },
   "outputs": [
    {
     "data": {
      "application/javascript": [
       "parent.postMessage({\"jupyterEvent\": \"custom.exercise_interaction\", \"data\": {\"outcomeType\": 1, \"valueTowardsCompletion\": 0.2, \"interactionType\": 1, \"questionType\": 1, \"questionId\": \"4_UnderstandLen\", \"learnToolsVersion\": \"0.3.4\", \"failureMessage\": \"\", \"exceptionClass\": \"\", \"trace\": \"\"}}, \"*\")"
      ],
      "text/plain": [
       "<IPython.core.display.Javascript object>"
      ]
     },
     "metadata": {},
     "output_type": "display_data"
    },
    {
     "data": {
      "text/markdown": [
       "<span style=\"color:#33cc33\">Correct:</span> \n",
       "\n",
       "\n",
       "- a: There are three items in this list. Nothing tricky yet.\n",
       "- b: The list `[2, 3]` counts as a single item. It has one item before it. So we have 2 items in the list\n",
       "- c: The empty list has 0 items\n",
       "- d: The expression is the same as the list `[2, 3]`, which has length 2."
      ],
      "text/plain": [
       "Correct: \n",
       "\n",
       "\n",
       "- a: There are three items in this list. Nothing tricky yet.\n",
       "- b: The list `[2, 3]` counts as a single item. It has one item before it. So we have 2 items in the list\n",
       "- c: The empty list has 0 items\n",
       "- d: The expression is the same as the list `[2, 3]`, which has length 2."
      ]
     },
     "metadata": {},
     "output_type": "display_data"
    }
   ],
   "source": [
    "a = [1, 2, 3]\n",
    "b = [1, [2, 3]]\n",
    "c = []\n",
    "d = [1, 2, 3][1:]\n",
    "\n",
    "# Put your predictions in the list below. Lengths should contain 4 numbers, the\n",
    "# first being the length of a, the second being the length of b and so on.\n",
    "lengths = [3,2,0,2]\n",
    "\n",
    "# Check your answer\n",
    "q4.check()"
   ]
  },
  {
   "cell_type": "code",
   "execution_count": 9,
   "id": "9d6f8597",
   "metadata": {
    "execution": {
     "iopub.execute_input": "2023-07-25T10:27:55.311837Z",
     "iopub.status.busy": "2023-07-25T10:27:55.311546Z",
     "iopub.status.idle": "2023-07-25T10:27:55.315030Z",
     "shell.execute_reply": "2023-07-25T10:27:55.314336Z"
    },
    "papermill": {
     "duration": 0.01064,
     "end_time": "2023-07-25T10:27:55.316540",
     "exception": false,
     "start_time": "2023-07-25T10:27:55.305900",
     "status": "completed"
    },
    "tags": []
   },
   "outputs": [],
   "source": [
    "# line below provides some explanation\n",
    "#q4.solution()"
   ]
  },
  {
   "cell_type": "markdown",
   "id": "7052bb0b",
   "metadata": {
    "papermill": {
     "duration": 0.004544,
     "end_time": "2023-07-25T10:27:55.325836",
     "exception": false,
     "start_time": "2023-07-25T10:27:55.321292",
     "status": "completed"
    },
    "tags": []
   },
   "source": [
    "# 5. <span title=\"A bit spicy\" style=\"color: darkgreen \">🌶️</span>\n",
    "\n",
    "We're using lists to record people who attended our party and what order they arrived in. For example, the following list represents a party with 7 guests, in which Adela showed up first and Ford was the last to arrive:\n",
    "\n",
    "    party_attendees = ['Adela', 'Fleda', 'Owen', 'May', 'Mona', 'Gilbert', 'Ford']\n",
    "\n",
    "A guest is considered 'fashionably late' if they arrived after at least half of the party's guests. However, they must not be the very last guest (that's taking it too far). In the above example, Mona and Gilbert are the only guests who were fashionably late.\n",
    "\n",
    "Complete the function below which takes a list of party attendees as well as a person, and tells us whether that person is fashionably late."
   ]
  },
  {
   "cell_type": "code",
   "execution_count": 10,
   "id": "5c8efa56",
   "metadata": {
    "execution": {
     "iopub.execute_input": "2023-07-25T10:27:55.336431Z",
     "iopub.status.busy": "2023-07-25T10:27:55.336155Z",
     "iopub.status.idle": "2023-07-25T10:27:55.344323Z",
     "shell.execute_reply": "2023-07-25T10:27:55.343470Z"
    },
    "papermill": {
     "duration": 0.015277,
     "end_time": "2023-07-25T10:27:55.345811",
     "exception": false,
     "start_time": "2023-07-25T10:27:55.330534",
     "status": "completed"
    },
    "tags": []
   },
   "outputs": [
    {
     "data": {
      "application/javascript": [
       "parent.postMessage({\"jupyterEvent\": \"custom.exercise_interaction\", \"data\": {\"outcomeType\": 1, \"valueTowardsCompletion\": 0.2, \"interactionType\": 1, \"questionType\": 2, \"questionId\": \"5_FashionablyLate\", \"learnToolsVersion\": \"0.3.4\", \"failureMessage\": \"\", \"exceptionClass\": \"\", \"trace\": \"\"}}, \"*\")"
      ],
      "text/plain": [
       "<IPython.core.display.Javascript object>"
      ]
     },
     "metadata": {},
     "output_type": "display_data"
    },
    {
     "data": {
      "text/markdown": [
       "<span style=\"color:#33cc33\">Correct</span>"
      ],
      "text/plain": [
       "Correct"
      ]
     },
     "metadata": {},
     "output_type": "display_data"
    }
   ],
   "source": [
    "def fashionably_late(arrivals, name):\n",
    "    \"\"\"Given an ordered list of arrivals to the party and a name, return whether the guest with that\n",
    "    name was fashionably late.\n",
    "    \"\"\"\n",
    "    order = arrivals.index(name)\n",
    "    return order >= len(arrivals) / 2 and order != len(arrivals) - 1\n",
    "\n",
    "# Check your answer\n",
    "q5.check()"
   ]
  },
  {
   "cell_type": "code",
   "execution_count": 11,
   "id": "45243845",
   "metadata": {
    "execution": {
     "iopub.execute_input": "2023-07-25T10:27:55.356958Z",
     "iopub.status.busy": "2023-07-25T10:27:55.356714Z",
     "iopub.status.idle": "2023-07-25T10:27:55.361744Z",
     "shell.execute_reply": "2023-07-25T10:27:55.360981Z"
    },
    "papermill": {
     "duration": 0.012436,
     "end_time": "2023-07-25T10:27:55.363271",
     "exception": false,
     "start_time": "2023-07-25T10:27:55.350835",
     "status": "completed"
    },
    "tags": []
   },
   "outputs": [
    {
     "data": {
      "text/plain": [
       "False"
      ]
     },
     "execution_count": 11,
     "metadata": {},
     "output_type": "execute_result"
    }
   ],
   "source": [
    "party_attendees = ['Adela', 'Fleda', 'Owen', 'May', 'Mona', 'Gilbert', 'Ford']\n",
    "fashionably_late(party_attendees,'Ford')"
   ]
  },
  {
   "cell_type": "code",
   "execution_count": 12,
   "id": "4a2d8328",
   "metadata": {
    "execution": {
     "iopub.execute_input": "2023-07-25T10:27:55.374441Z",
     "iopub.status.busy": "2023-07-25T10:27:55.374171Z",
     "iopub.status.idle": "2023-07-25T10:27:55.380100Z",
     "shell.execute_reply": "2023-07-25T10:27:55.379331Z"
    },
    "papermill": {
     "duration": 0.013334,
     "end_time": "2023-07-25T10:27:55.381578",
     "exception": false,
     "start_time": "2023-07-25T10:27:55.368244",
     "status": "completed"
    },
    "tags": []
   },
   "outputs": [
    {
     "data": {
      "application/javascript": [
       "parent.postMessage({\"jupyterEvent\": \"custom.exercise_interaction\", \"data\": {\"interactionType\": 3, \"questionType\": 2, \"questionId\": \"5_FashionablyLate\", \"learnToolsVersion\": \"0.3.4\", \"valueTowardsCompletion\": 0.0, \"failureMessage\": \"\", \"exceptionClass\": \"\", \"trace\": \"\", \"outcomeType\": 4}}, \"*\")"
      ],
      "text/plain": [
       "<IPython.core.display.Javascript object>"
      ]
     },
     "metadata": {},
     "output_type": "display_data"
    },
    {
     "data": {
      "text/markdown": [
       "<span style=\"color:#33cc99\">Solution:</span> \n",
       "```python\n",
       "def fashionably_late(arrivals, name):\n",
       "    order = arrivals.index(name)\n",
       "    return order >= len(arrivals) / 2 and order != len(arrivals) - 1\n",
       "```"
      ],
      "text/plain": [
       "Solution: \n",
       "```python\n",
       "def fashionably_late(arrivals, name):\n",
       "    order = arrivals.index(name)\n",
       "    return order >= len(arrivals) / 2 and order != len(arrivals) - 1\n",
       "```"
      ]
     },
     "metadata": {},
     "output_type": "display_data"
    }
   ],
   "source": [
    "#q5.hint()\n",
    "q5.solution()"
   ]
  },
  {
   "cell_type": "markdown",
   "id": "b2852e8d",
   "metadata": {
    "papermill": {
     "duration": 0.005059,
     "end_time": "2023-07-25T10:27:55.392031",
     "exception": false,
     "start_time": "2023-07-25T10:27:55.386972",
     "status": "completed"
    },
    "tags": []
   },
   "source": [
    "# Keep Going\n",
    "\n",
    "That's it for lists and tuples! Now you have the baseline knowledge to **[learn about loops](https://www.kaggle.com/colinmorris/loops-and-list-comprehensions)**, which is where lists and tuples get really interesting. "
   ]
  },
  {
   "cell_type": "markdown",
   "id": "6dfd9ec1",
   "metadata": {
    "papermill": {
     "duration": 0.004956,
     "end_time": "2023-07-25T10:27:55.402632",
     "exception": false,
     "start_time": "2023-07-25T10:27:55.397676",
     "status": "completed"
    },
    "tags": []
   },
   "source": [
    "---\n",
    "\n",
    "\n",
    "\n",
    "\n",
    "*Have questions or comments? Visit the [course discussion forum](https://www.kaggle.com/learn/python/discussion) to chat with other learners.*"
   ]
  }
 ],
 "metadata": {
  "kernelspec": {
   "display_name": "Python 3",
   "language": "python",
   "name": "python3"
  },
  "language_info": {
   "codemirror_mode": {
    "name": "ipython",
    "version": 3
   },
   "file_extension": ".py",
   "mimetype": "text/x-python",
   "name": "python",
   "nbconvert_exporter": "python",
   "pygments_lexer": "ipython3",
   "version": "3.10.12"
  },
  "papermill": {
   "default_parameters": {},
   "duration": 8.638568,
   "end_time": "2023-07-25T10:27:56.226126",
   "environment_variables": {},
   "exception": null,
   "input_path": "__notebook__.ipynb",
   "output_path": "__notebook__.ipynb",
   "parameters": {},
   "start_time": "2023-07-25T10:27:47.587558",
   "version": "2.4.0"
  }
 },
 "nbformat": 4,
 "nbformat_minor": 5
}
