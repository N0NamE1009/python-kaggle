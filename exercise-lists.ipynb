{
 "cells": [
  {
   "cell_type": "markdown",
   "id": "57a719d4",
   "metadata": {
    "papermill": {
     "duration": 0.005296,
     "end_time": "2023-07-24T23:57:50.229704",
     "exception": false,
     "start_time": "2023-07-24T23:57:50.224408",
     "status": "completed"
    },
    "tags": []
   },
   "source": [
    "**This notebook is an exercise in the [Python](https://www.kaggle.com/learn/python) course.  You can reference the tutorial at [this link](https://www.kaggle.com/colinmorris/lists).**\n",
    "\n",
    "---\n"
   ]
  },
  {
   "cell_type": "markdown",
   "id": "d81cf044",
   "metadata": {
    "papermill": {
     "duration": 0.003423,
     "end_time": "2023-07-24T23:57:50.238355",
     "exception": false,
     "start_time": "2023-07-24T23:57:50.234932",
     "status": "completed"
    },
    "tags": []
   },
   "source": [
    "Things get more interesting with lists. You'll apply your new knowledge to solve the questions below. Remember to run the following cell first."
   ]
  },
  {
   "cell_type": "code",
   "execution_count": 1,
   "id": "4c67fa4d",
   "metadata": {
    "execution": {
     "iopub.execute_input": "2023-07-24T23:57:50.247487Z",
     "iopub.status.busy": "2023-07-24T23:57:50.246925Z",
     "iopub.status.idle": "2023-07-24T23:57:50.289626Z",
     "shell.execute_reply": "2023-07-24T23:57:50.288784Z"
    },
    "papermill": {
     "duration": 0.049578,
     "end_time": "2023-07-24T23:57:50.291563",
     "exception": false,
     "start_time": "2023-07-24T23:57:50.241985",
     "status": "completed"
    },
    "tags": []
   },
   "outputs": [
    {
     "name": "stdout",
     "output_type": "stream",
     "text": [
      "Setup complete.\n"
     ]
    }
   ],
   "source": [
    "from learntools.core import binder; binder.bind(globals())\n",
    "from learntools.python.ex4 import *\n",
    "print('Setup complete.')"
   ]
  },
  {
   "cell_type": "markdown",
   "id": "45f4aa9f",
   "metadata": {
    "papermill": {
     "duration": 0.003562,
     "end_time": "2023-07-24T23:57:50.299025",
     "exception": false,
     "start_time": "2023-07-24T23:57:50.295463",
     "status": "completed"
    },
    "tags": []
   },
   "source": [
    "# 1.\n",
    "\n",
    "Complete the function below according to its docstring."
   ]
  },
  {
   "cell_type": "code",
   "execution_count": 2,
   "id": "7028538c",
   "metadata": {
    "execution": {
     "iopub.execute_input": "2023-07-24T23:57:50.308147Z",
     "iopub.status.busy": "2023-07-24T23:57:50.307773Z",
     "iopub.status.idle": "2023-07-24T23:57:50.317683Z",
     "shell.execute_reply": "2023-07-24T23:57:50.316460Z"
    },
    "papermill": {
     "duration": 0.016651,
     "end_time": "2023-07-24T23:57:50.319467",
     "exception": false,
     "start_time": "2023-07-24T23:57:50.302816",
     "status": "completed"
    },
    "tags": []
   },
   "outputs": [
    {
     "data": {
      "application/javascript": [
       "parent.postMessage({\"jupyterEvent\": \"custom.exercise_interaction\", \"data\": {\"outcomeType\": 1, \"valueTowardsCompletion\": 0.2, \"interactionType\": 1, \"questionType\": 2, \"questionId\": \"1_SelectSecondItem\", \"learnToolsVersion\": \"0.3.4\", \"failureMessage\": \"\", \"exceptionClass\": \"\", \"trace\": \"\"}}, \"*\")"
      ],
      "text/plain": [
       "<IPython.core.display.Javascript object>"
      ]
     },
     "metadata": {},
     "output_type": "display_data"
    },
    {
     "data": {
      "text/markdown": [
       "<span style=\"color:#33cc33\">Correct</span>"
      ],
      "text/plain": [
       "Correct"
      ]
     },
     "metadata": {},
     "output_type": "display_data"
    }
   ],
   "source": [
    "def select_second(L):\n",
    "    \"\"\"Return the second element of the given list. If the list has no second\n",
    "    element, return None.\n",
    "    \"\"\"\n",
    "    if len(L)<2:\n",
    "        return None\n",
    "    return L[1]\n",
    "\n",
    "# Check your answer\n",
    "q1.check()"
   ]
  },
  {
   "cell_type": "code",
   "execution_count": 3,
   "id": "d6b884c3",
   "metadata": {
    "execution": {
     "iopub.execute_input": "2023-07-24T23:57:50.328923Z",
     "iopub.status.busy": "2023-07-24T23:57:50.328552Z",
     "iopub.status.idle": "2023-07-24T23:57:50.333188Z",
     "shell.execute_reply": "2023-07-24T23:57:50.331892Z"
    },
    "papermill": {
     "duration": 0.011587,
     "end_time": "2023-07-24T23:57:50.335064",
     "exception": false,
     "start_time": "2023-07-24T23:57:50.323477",
     "status": "completed"
    },
    "tags": []
   },
   "outputs": [],
   "source": [
    "#q1.hint()\n",
    "#q1.solution()"
   ]
  },
  {
   "cell_type": "markdown",
   "id": "e5ce6ceb",
   "metadata": {
    "papermill": {
     "duration": 0.003828,
     "end_time": "2023-07-24T23:57:50.343416",
     "exception": false,
     "start_time": "2023-07-24T23:57:50.339588",
     "status": "completed"
    },
    "tags": []
   },
   "source": [
    "\"BGwI~ekR6+^# 2.\n",
    "\n",
    "You are analyzing sports teams.  Members of each team are stored in a list. The Coach is the first name in the list, the captain is the second name in the list, and other players are listed after that. \n",
    "These lists are stored in another list, which starts with the best team and proceeds through the list to the worst team last.  Complete the function below to select the **captain** of the worst team."
   ]
  },
  {
   "cell_type": "code",
   "execution_count": 4,
   "id": "641b6915",
   "metadata": {
    "execution": {
     "iopub.execute_input": "2023-07-24T23:57:50.352953Z",
     "iopub.status.busy": "2023-07-24T23:57:50.352594Z",
     "iopub.status.idle": "2023-07-24T23:57:50.359759Z",
     "shell.execute_reply": "2023-07-24T23:57:50.358952Z"
    },
    "papermill": {
     "duration": 0.014078,
     "end_time": "2023-07-24T23:57:50.361474",
     "exception": false,
     "start_time": "2023-07-24T23:57:50.347396",
     "status": "completed"
    },
    "tags": []
   },
   "outputs": [
    {
     "data": {
      "application/javascript": [
       "parent.postMessage({\"jupyterEvent\": \"custom.exercise_interaction\", \"data\": {\"outcomeType\": 4, \"interactionType\": 1, \"questionType\": 2, \"questionId\": \"2_LosingTeamCaptain\", \"learnToolsVersion\": \"0.3.4\", \"valueTowardsCompletion\": 0.0, \"failureMessage\": \"\", \"exceptionClass\": \"\", \"trace\": \"\"}}, \"*\")"
      ],
      "text/plain": [
       "<IPython.core.display.Javascript object>"
      ]
     },
     "metadata": {},
     "output_type": "display_data"
    },
    {
     "data": {
      "text/markdown": [
       "<span style=\"color:#ccaa33\">Check:</span> When you've updated the starter code, `check()` will tell you whether your code is correct. "
      ],
      "text/plain": [
       "Check: When you've updated the starter code, `check()` will tell you whether your code is correct. "
      ]
     },
     "metadata": {},
     "output_type": "display_data"
    }
   ],
   "source": [
    "def losing_team_captain(teams):\n",
    "    \"\"\"Given a list of teams, where each team is a list of names, return the 2nd player (captain)\n",
    "    from the last listed team\n",
    "    \"\"\"\n",
    "    pass\n",
    "\n",
    "# Check your answer\n",
    "q2.check()"
   ]
  },
  {
   "cell_type": "code",
   "execution_count": 5,
   "id": "5335fe51",
   "metadata": {
    "collapsed": true,
    "execution": {
     "iopub.execute_input": "2023-07-24T23:57:50.371629Z",
     "iopub.status.busy": "2023-07-24T23:57:50.371269Z",
     "iopub.status.idle": "2023-07-24T23:57:50.375820Z",
     "shell.execute_reply": "2023-07-24T23:57:50.374692Z"
    },
    "jupyter": {
     "outputs_hidden": true
    },
    "papermill": {
     "duration": 0.011969,
     "end_time": "2023-07-24T23:57:50.377951",
     "exception": false,
     "start_time": "2023-07-24T23:57:50.365982",
     "status": "completed"
    },
    "tags": []
   },
   "outputs": [],
   "source": [
    "#q2.hint()\n",
    "#q2.solution()"
   ]
  },
  {
   "cell_type": "markdown",
   "id": "2acd3ab4",
   "metadata": {
    "papermill": {
     "duration": 0.00392,
     "end_time": "2023-07-24T23:57:50.386432",
     "exception": false,
     "start_time": "2023-07-24T23:57:50.382512",
     "status": "completed"
    },
    "tags": []
   },
   "source": [
    "# 3.\n",
    "\n",
    "The next iteration of Mario Kart will feature an extra-infuriating new item, the *Purple Shell*. When used, it warps the last place racer into first place and the first place racer into last place. Complete the function below to implement the Purple Shell's effect."
   ]
  },
  {
   "cell_type": "code",
   "execution_count": 6,
   "id": "1deee18f",
   "metadata": {
    "execution": {
     "iopub.execute_input": "2023-07-24T23:57:50.397909Z",
     "iopub.status.busy": "2023-07-24T23:57:50.396978Z",
     "iopub.status.idle": "2023-07-24T23:57:50.405073Z",
     "shell.execute_reply": "2023-07-24T23:57:50.404192Z"
    },
    "papermill": {
     "duration": 0.015197,
     "end_time": "2023-07-24T23:57:50.406773",
     "exception": false,
     "start_time": "2023-07-24T23:57:50.391576",
     "status": "completed"
    },
    "tags": []
   },
   "outputs": [
    {
     "data": {
      "application/javascript": [
       "parent.postMessage({\"jupyterEvent\": \"custom.exercise_interaction\", \"data\": {\"outcomeType\": 4, \"interactionType\": 1, \"questionType\": 2, \"questionId\": \"3_PurpleShell\", \"learnToolsVersion\": \"0.3.4\", \"valueTowardsCompletion\": 0.0, \"failureMessage\": \"\", \"exceptionClass\": \"\", \"trace\": \"\"}}, \"*\")"
      ],
      "text/plain": [
       "<IPython.core.display.Javascript object>"
      ]
     },
     "metadata": {},
     "output_type": "display_data"
    },
    {
     "data": {
      "text/markdown": [
       "<span style=\"color:#ccaa33\">Check:</span> When you've updated the starter code, `check()` will tell you whether your code is correct. "
      ],
      "text/plain": [
       "Check: When you've updated the starter code, `check()` will tell you whether your code is correct. "
      ]
     },
     "metadata": {},
     "output_type": "display_data"
    }
   ],
   "source": [
    "def purple_shell(racers):\n",
    "    \"\"\"Given a list of racers, set the first place racer (at the front of the list) to last\n",
    "    place and vice versa.\n",
    "    \n",
    "    >>> r = [\"Mario\", \"Bowser\", \"Luigi\"]\n",
    "    >>> purple_shell(r)\n",
    "    >>> r\n",
    "    [\"Luigi\", \"Bowser\", \"Mario\"]\n",
    "    \"\"\"\n",
    "    pass\n",
    "\n",
    "# Check your answer\n",
    "q3.check()"
   ]
  },
  {
   "cell_type": "code",
   "execution_count": 7,
   "id": "e38f6752",
   "metadata": {
    "collapsed": true,
    "execution": {
     "iopub.execute_input": "2023-07-24T23:57:50.417717Z",
     "iopub.status.busy": "2023-07-24T23:57:50.417371Z",
     "iopub.status.idle": "2023-07-24T23:57:50.421632Z",
     "shell.execute_reply": "2023-07-24T23:57:50.420402Z"
    },
    "jupyter": {
     "outputs_hidden": true
    },
    "papermill": {
     "duration": 0.012369,
     "end_time": "2023-07-24T23:57:50.423788",
     "exception": false,
     "start_time": "2023-07-24T23:57:50.411419",
     "status": "completed"
    },
    "tags": []
   },
   "outputs": [],
   "source": [
    "#q3.hint()\n",
    "#q3.solution()"
   ]
  },
  {
   "cell_type": "markdown",
   "id": "906f2b39",
   "metadata": {
    "papermill": {
     "duration": 0.004325,
     "end_time": "2023-07-24T23:57:50.432944",
     "exception": false,
     "start_time": "2023-07-24T23:57:50.428619",
     "status": "completed"
    },
    "tags": []
   },
   "source": [
    "# 4.\n",
    "\n",
    "What are the lengths of the following lists? Fill in the variable `lengths` with your predictions. (Try to make a prediction for each list *without* just calling `len()` on it.)"
   ]
  },
  {
   "cell_type": "code",
   "execution_count": 8,
   "id": "4456e096",
   "metadata": {
    "execution": {
     "iopub.execute_input": "2023-07-24T23:57:50.443555Z",
     "iopub.status.busy": "2023-07-24T23:57:50.443203Z",
     "iopub.status.idle": "2023-07-24T23:57:50.451372Z",
     "shell.execute_reply": "2023-07-24T23:57:50.450326Z"
    },
    "papermill": {
     "duration": 0.015676,
     "end_time": "2023-07-24T23:57:50.453115",
     "exception": false,
     "start_time": "2023-07-24T23:57:50.437439",
     "status": "completed"
    },
    "tags": []
   },
   "outputs": [
    {
     "data": {
      "application/javascript": [
       "parent.postMessage({\"jupyterEvent\": \"custom.exercise_interaction\", \"data\": {\"outcomeType\": 4, \"interactionType\": 1, \"questionType\": 1, \"questionId\": \"4_UnderstandLen\", \"learnToolsVersion\": \"0.3.4\", \"valueTowardsCompletion\": 0.0, \"failureMessage\": \"\", \"exceptionClass\": \"\", \"trace\": \"\"}}, \"*\")"
      ],
      "text/plain": [
       "<IPython.core.display.Javascript object>"
      ]
     },
     "metadata": {},
     "output_type": "display_data"
    },
    {
     "data": {
      "text/markdown": [
       "<span style=\"color:#ccaa33\">Check:</span> When you've updated the starter code, `check()` will tell you whether your code is correct. You need to update the code that creates variable `lengths`"
      ],
      "text/plain": [
       "Check: When you've updated the starter code, `check()` will tell you whether your code is correct. You need to update the code that creates variable `lengths`"
      ]
     },
     "metadata": {},
     "output_type": "display_data"
    }
   ],
   "source": [
    "a = [1, 2, 3]\n",
    "b = [1, [2, 3]]\n",
    "c = []\n",
    "d = [1, 2, 3][1:]\n",
    "\n",
    "# Put your predictions in the list below. Lengths should contain 4 numbers, the\n",
    "# first being the length of a, the second being the length of b and so on.\n",
    "lengths = []\n",
    "\n",
    "# Check your answer\n",
    "q4.check()"
   ]
  },
  {
   "cell_type": "code",
   "execution_count": 9,
   "id": "c4303946",
   "metadata": {
    "collapsed": true,
    "execution": {
     "iopub.execute_input": "2023-07-24T23:57:50.464633Z",
     "iopub.status.busy": "2023-07-24T23:57:50.464290Z",
     "iopub.status.idle": "2023-07-24T23:57:50.467995Z",
     "shell.execute_reply": "2023-07-24T23:57:50.467133Z"
    },
    "jupyter": {
     "outputs_hidden": true
    },
    "papermill": {
     "duration": 0.012007,
     "end_time": "2023-07-24T23:57:50.470243",
     "exception": false,
     "start_time": "2023-07-24T23:57:50.458236",
     "status": "completed"
    },
    "tags": []
   },
   "outputs": [],
   "source": [
    "# line below provides some explanation\n",
    "#q4.solution()"
   ]
  },
  {
   "cell_type": "markdown",
   "id": "56b2e9c2",
   "metadata": {
    "papermill": {
     "duration": 0.004576,
     "end_time": "2023-07-24T23:57:50.480076",
     "exception": false,
     "start_time": "2023-07-24T23:57:50.475500",
     "status": "completed"
    },
    "tags": []
   },
   "source": [
    "# 5. <span title=\"A bit spicy\" style=\"color: darkgreen \">🌶️</span>\n",
    "\n",
    "We're using lists to record people who attended our party and what order they arrived in. For example, the following list represents a party with 7 guests, in which Adela showed up first and Ford was the last to arrive:\n",
    "\n",
    "    party_attendees = ['Adela', 'Fleda', 'Owen', 'May', 'Mona', 'Gilbert', 'Ford']\n",
    "\n",
    "A guest is considered 'fashionably late' if they arrived after at least half of the party's guests. However, they must not be the very last guest (that's taking it too far). In the above example, Mona and Gilbert are the only guests who were fashionably late.\n",
    "\n",
    "Complete the function below which takes a list of party attendees as well as a person, and tells us whether that person is fashionably late."
   ]
  },
  {
   "cell_type": "code",
   "execution_count": 10,
   "id": "7f7a75e9",
   "metadata": {
    "execution": {
     "iopub.execute_input": "2023-07-24T23:57:50.491119Z",
     "iopub.status.busy": "2023-07-24T23:57:50.490775Z",
     "iopub.status.idle": "2023-07-24T23:57:50.498472Z",
     "shell.execute_reply": "2023-07-24T23:57:50.497714Z"
    },
    "papermill": {
     "duration": 0.015253,
     "end_time": "2023-07-24T23:57:50.500094",
     "exception": false,
     "start_time": "2023-07-24T23:57:50.484841",
     "status": "completed"
    },
    "tags": []
   },
   "outputs": [
    {
     "data": {
      "application/javascript": [
       "parent.postMessage({\"jupyterEvent\": \"custom.exercise_interaction\", \"data\": {\"outcomeType\": 4, \"interactionType\": 1, \"questionType\": 2, \"questionId\": \"5_FashionablyLate\", \"learnToolsVersion\": \"0.3.4\", \"valueTowardsCompletion\": 0.0, \"failureMessage\": \"\", \"exceptionClass\": \"\", \"trace\": \"\"}}, \"*\")"
      ],
      "text/plain": [
       "<IPython.core.display.Javascript object>"
      ]
     },
     "metadata": {},
     "output_type": "display_data"
    },
    {
     "data": {
      "text/markdown": [
       "<span style=\"color:#ccaa33\">Check:</span> When you've updated the starter code, `check()` will tell you whether your code is correct. "
      ],
      "text/plain": [
       "Check: When you've updated the starter code, `check()` will tell you whether your code is correct. "
      ]
     },
     "metadata": {},
     "output_type": "display_data"
    }
   ],
   "source": [
    "def fashionably_late(arrivals, name):\n",
    "    \"\"\"Given an ordered list of arrivals to the party and a name, return whether the guest with that\n",
    "    name was fashionably late.\n",
    "    \"\"\"\n",
    "    pass\n",
    "\n",
    "# Check your answer\n",
    "q5.check()"
   ]
  },
  {
   "cell_type": "code",
   "execution_count": 11,
   "id": "2334196d",
   "metadata": {
    "collapsed": true,
    "execution": {
     "iopub.execute_input": "2023-07-24T23:57:50.511669Z",
     "iopub.status.busy": "2023-07-24T23:57:50.511335Z",
     "iopub.status.idle": "2023-07-24T23:57:50.514959Z",
     "shell.execute_reply": "2023-07-24T23:57:50.514137Z"
    },
    "jupyter": {
     "outputs_hidden": true
    },
    "papermill": {
     "duration": 0.012019,
     "end_time": "2023-07-24T23:57:50.517257",
     "exception": false,
     "start_time": "2023-07-24T23:57:50.505238",
     "status": "completed"
    },
    "tags": []
   },
   "outputs": [],
   "source": [
    "#q5.hint()\n",
    "#q5.solution()"
   ]
  },
  {
   "cell_type": "markdown",
   "id": "e4ea3047",
   "metadata": {
    "papermill": {
     "duration": 0.004934,
     "end_time": "2023-07-24T23:57:50.527725",
     "exception": false,
     "start_time": "2023-07-24T23:57:50.522791",
     "status": "completed"
    },
    "tags": []
   },
   "source": [
    "# Keep Going\n",
    "\n",
    "That's it for lists and tuples! Now you have the baseline knowledge to **[learn about loops](https://www.kaggle.com/colinmorris/loops-and-list-comprehensions)**, which is where lists and tuples get really interesting. "
   ]
  },
  {
   "cell_type": "markdown",
   "id": "eb85ae60",
   "metadata": {
    "papermill": {
     "duration": 0.004966,
     "end_time": "2023-07-24T23:57:50.537992",
     "exception": false,
     "start_time": "2023-07-24T23:57:50.533026",
     "status": "completed"
    },
    "tags": []
   },
   "source": [
    "---\n",
    "\n",
    "\n",
    "\n",
    "\n",
    "*Have questions or comments? Visit the [course discussion forum](https://www.kaggle.com/learn/python/discussion) to chat with other learners.*"
   ]
  }
 ],
 "metadata": {
  "kernelspec": {
   "display_name": "Python 3",
   "language": "python",
   "name": "python3"
  },
  "language_info": {
   "codemirror_mode": {
    "name": "ipython",
    "version": 3
   },
   "file_extension": ".py",
   "mimetype": "text/x-python",
   "name": "python",
   "nbconvert_exporter": "python",
   "pygments_lexer": "ipython3",
   "version": "3.10.12"
  },
  "papermill": {
   "default_parameters": {},
   "duration": 10.264596,
   "end_time": "2023-07-24T23:57:51.263695",
   "environment_variables": {},
   "exception": null,
   "input_path": "__notebook__.ipynb",
   "output_path": "__notebook__.ipynb",
   "parameters": {},
   "start_time": "2023-07-24T23:57:40.999099",
   "version": "2.4.0"
  }
 },
 "nbformat": 4,
 "nbformat_minor": 5
}
