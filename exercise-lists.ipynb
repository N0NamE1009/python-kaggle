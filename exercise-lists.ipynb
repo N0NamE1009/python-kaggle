{
 "cells": [
  {
   "cell_type": "markdown",
   "id": "401e44f4",
   "metadata": {
    "papermill": {
     "duration": 0.005135,
     "end_time": "2023-07-25T00:01:37.679157",
     "exception": false,
     "start_time": "2023-07-25T00:01:37.674022",
     "status": "completed"
    },
    "tags": []
   },
   "source": [
    "**This notebook is an exercise in the [Python](https://www.kaggle.com/learn/python) course.  You can reference the tutorial at [this link](https://www.kaggle.com/colinmorris/lists).**\n",
    "\n",
    "---\n"
   ]
  },
  {
   "cell_type": "markdown",
   "id": "fd744f45",
   "metadata": {
    "papermill": {
     "duration": 0.004171,
     "end_time": "2023-07-25T00:01:37.688048",
     "exception": false,
     "start_time": "2023-07-25T00:01:37.683877",
     "status": "completed"
    },
    "tags": []
   },
   "source": [
    "Things get more interesting with lists. You'll apply your new knowledge to solve the questions below. Remember to run the following cell first."
   ]
  },
  {
   "cell_type": "code",
   "execution_count": 1,
   "id": "546784a3",
   "metadata": {
    "execution": {
     "iopub.execute_input": "2023-07-25T00:01:37.698864Z",
     "iopub.status.busy": "2023-07-25T00:01:37.698402Z",
     "iopub.status.idle": "2023-07-25T00:01:37.746426Z",
     "shell.execute_reply": "2023-07-25T00:01:37.745314Z"
    },
    "papermill": {
     "duration": 0.056477,
     "end_time": "2023-07-25T00:01:37.749115",
     "exception": false,
     "start_time": "2023-07-25T00:01:37.692638",
     "status": "completed"
    },
    "tags": []
   },
   "outputs": [
    {
     "name": "stdout",
     "output_type": "stream",
     "text": [
      "Setup complete.\n"
     ]
    }
   ],
   "source": [
    "from learntools.core import binder; binder.bind(globals())\n",
    "from learntools.python.ex4 import *\n",
    "print('Setup complete.')"
   ]
  },
  {
   "cell_type": "markdown",
   "id": "304f892f",
   "metadata": {
    "papermill": {
     "duration": 0.004416,
     "end_time": "2023-07-25T00:01:37.758354",
     "exception": false,
     "start_time": "2023-07-25T00:01:37.753938",
     "status": "completed"
    },
    "tags": []
   },
   "source": [
    "# 1.\n",
    "\n",
    "Complete the function below according to its docstring."
   ]
  },
  {
   "cell_type": "code",
   "execution_count": 2,
   "id": "22be8048",
   "metadata": {
    "execution": {
     "iopub.execute_input": "2023-07-25T00:01:37.769608Z",
     "iopub.status.busy": "2023-07-25T00:01:37.768976Z",
     "iopub.status.idle": "2023-07-25T00:01:37.780122Z",
     "shell.execute_reply": "2023-07-25T00:01:37.778995Z"
    },
    "papermill": {
     "duration": 0.019713,
     "end_time": "2023-07-25T00:01:37.782665",
     "exception": false,
     "start_time": "2023-07-25T00:01:37.762952",
     "status": "completed"
    },
    "tags": []
   },
   "outputs": [
    {
     "data": {
      "application/javascript": [
       "parent.postMessage({\"jupyterEvent\": \"custom.exercise_interaction\", \"data\": {\"outcomeType\": 1, \"valueTowardsCompletion\": 0.2, \"interactionType\": 1, \"questionType\": 2, \"questionId\": \"1_SelectSecondItem\", \"learnToolsVersion\": \"0.3.4\", \"failureMessage\": \"\", \"exceptionClass\": \"\", \"trace\": \"\"}}, \"*\")"
      ],
      "text/plain": [
       "<IPython.core.display.Javascript object>"
      ]
     },
     "metadata": {},
     "output_type": "display_data"
    },
    {
     "data": {
      "text/markdown": [
       "<span style=\"color:#33cc33\">Correct</span>"
      ],
      "text/plain": [
       "Correct"
      ]
     },
     "metadata": {},
     "output_type": "display_data"
    }
   ],
   "source": [
    "def select_second(L):\n",
    "    \"\"\"Return the second element of the given list. If the list has no second\n",
    "    element, return None.\n",
    "    \"\"\"\n",
    "    if len(L)<2:\n",
    "        return None\n",
    "    return L[1]\n",
    "\n",
    "# Check your answer\n",
    "q1.check()"
   ]
  },
  {
   "cell_type": "code",
   "execution_count": 3,
   "id": "58499df8",
   "metadata": {
    "execution": {
     "iopub.execute_input": "2023-07-25T00:01:37.794942Z",
     "iopub.status.busy": "2023-07-25T00:01:37.794505Z",
     "iopub.status.idle": "2023-07-25T00:01:37.798832Z",
     "shell.execute_reply": "2023-07-25T00:01:37.797579Z"
    },
    "papermill": {
     "duration": 0.013577,
     "end_time": "2023-07-25T00:01:37.801254",
     "exception": false,
     "start_time": "2023-07-25T00:01:37.787677",
     "status": "completed"
    },
    "tags": []
   },
   "outputs": [],
   "source": [
    "#q1.hint()\n",
    "#q1.solution()"
   ]
  },
  {
   "cell_type": "markdown",
   "id": "93e1eaf3",
   "metadata": {
    "papermill": {
     "duration": 0.004779,
     "end_time": "2023-07-25T00:01:37.811021",
     "exception": false,
     "start_time": "2023-07-25T00:01:37.806242",
     "status": "completed"
    },
    "tags": []
   },
   "source": [
    "# 2.\n",
    "\n",
    "You are analyzing sports teams.  Members of each team are stored in a list. The Coach is the first name in the list, the captain is the second name in the list, and other players are listed after that. \n",
    "These lists are stored in another list, which starts with the best team and proceeds through the list to the worst team last.  Complete the function below to select the **captain** of the worst team."
   ]
  },
  {
   "cell_type": "code",
   "execution_count": 4,
   "id": "9ba8017d",
   "metadata": {
    "execution": {
     "iopub.execute_input": "2023-07-25T00:01:37.822957Z",
     "iopub.status.busy": "2023-07-25T00:01:37.822534Z",
     "iopub.status.idle": "2023-07-25T00:01:37.832125Z",
     "shell.execute_reply": "2023-07-25T00:01:37.831248Z"
    },
    "papermill": {
     "duration": 0.01832,
     "end_time": "2023-07-25T00:01:37.834344",
     "exception": false,
     "start_time": "2023-07-25T00:01:37.816024",
     "status": "completed"
    },
    "tags": []
   },
   "outputs": [
    {
     "data": {
      "application/javascript": [
       "parent.postMessage({\"jupyterEvent\": \"custom.exercise_interaction\", \"data\": {\"outcomeType\": 1, \"valueTowardsCompletion\": 0.2, \"interactionType\": 1, \"questionType\": 2, \"questionId\": \"2_LosingTeamCaptain\", \"learnToolsVersion\": \"0.3.4\", \"failureMessage\": \"\", \"exceptionClass\": \"\", \"trace\": \"\"}}, \"*\")"
      ],
      "text/plain": [
       "<IPython.core.display.Javascript object>"
      ]
     },
     "metadata": {},
     "output_type": "display_data"
    },
    {
     "data": {
      "text/markdown": [
       "<span style=\"color:#33cc33\">Correct</span>"
      ],
      "text/plain": [
       "Correct"
      ]
     },
     "metadata": {},
     "output_type": "display_data"
    }
   ],
   "source": [
    "def losing_team_captain(teams):\n",
    "    \"\"\"Given a list of teams, where each team is a list of names, return the 2nd player (captain)\n",
    "    from the last listed team\n",
    "    \"\"\"\n",
    "    return teams[-1][1]\n",
    "\n",
    "# Check your answer\n",
    "q2.check()"
   ]
  },
  {
   "cell_type": "code",
   "execution_count": 5,
   "id": "ffe0fbee",
   "metadata": {
    "execution": {
     "iopub.execute_input": "2023-07-25T00:01:37.847489Z",
     "iopub.status.busy": "2023-07-25T00:01:37.846644Z",
     "iopub.status.idle": "2023-07-25T00:01:37.851547Z",
     "shell.execute_reply": "2023-07-25T00:01:37.850578Z"
    },
    "papermill": {
     "duration": 0.014052,
     "end_time": "2023-07-25T00:01:37.853938",
     "exception": false,
     "start_time": "2023-07-25T00:01:37.839886",
     "status": "completed"
    },
    "tags": []
   },
   "outputs": [],
   "source": [
    "#q2.hint()\n",
    "#q2.solution()"
   ]
  },
  {
   "cell_type": "markdown",
   "id": "84067c34",
   "metadata": {
    "papermill": {
     "duration": 0.004903,
     "end_time": "2023-07-25T00:01:37.865371",
     "exception": false,
     "start_time": "2023-07-25T00:01:37.860468",
     "status": "completed"
    },
    "tags": []
   },
   "source": [
    "# 3.\n",
    "\n",
    "The next iteration of Mario Kart will feature an extra-infuriating new item, the *Purple Shell*. When used, it warps the last place racer into first place and the first place racer into last place. Complete the function below to implement the Purple Shell's effect."
   ]
  },
  {
   "cell_type": "code",
   "execution_count": 6,
   "id": "75d28686",
   "metadata": {
    "execution": {
     "iopub.execute_input": "2023-07-25T00:01:37.877862Z",
     "iopub.status.busy": "2023-07-25T00:01:37.877103Z",
     "iopub.status.idle": "2023-07-25T00:01:37.887052Z",
     "shell.execute_reply": "2023-07-25T00:01:37.885975Z"
    },
    "papermill": {
     "duration": 0.01888,
     "end_time": "2023-07-25T00:01:37.889447",
     "exception": false,
     "start_time": "2023-07-25T00:01:37.870567",
     "status": "completed"
    },
    "tags": []
   },
   "outputs": [
    {
     "data": {
      "application/javascript": [
       "parent.postMessage({\"jupyterEvent\": \"custom.exercise_interaction\", \"data\": {\"outcomeType\": 1, \"valueTowardsCompletion\": 0.2, \"interactionType\": 1, \"questionType\": 2, \"questionId\": \"3_PurpleShell\", \"learnToolsVersion\": \"0.3.4\", \"failureMessage\": \"\", \"exceptionClass\": \"\", \"trace\": \"\"}}, \"*\")"
      ],
      "text/plain": [
       "<IPython.core.display.Javascript object>"
      ]
     },
     "metadata": {},
     "output_type": "display_data"
    },
    {
     "data": {
      "text/markdown": [
       "<span style=\"color:#33cc33\">Correct</span>"
      ],
      "text/plain": [
       "Correct"
      ]
     },
     "metadata": {},
     "output_type": "display_data"
    }
   ],
   "source": [
    "def purple_shell(racers):\n",
    "    \"\"\"Given a list of racers, set the first place racer (at the front of the list) to last\n",
    "    place and vice versa.\n",
    "    \n",
    "    >>> r = [\"Mario\", \"Bowser\", \"Luigi\"]\n",
    "    >>> purple_shell(r)\n",
    "    >>> r\n",
    "    [\"Luigi\", \"Bowser\", \"Mario\"]\n",
    "    \"\"\"\n",
    "    aux = racers[0]\n",
    "    racers[0] = racers[-1]\n",
    "    racers[-1]=aux\n",
    "\n",
    "# Check your answer\n",
    "q3.check()"
   ]
  },
  {
   "cell_type": "code",
   "execution_count": 7,
   "id": "cf4c1590",
   "metadata": {
    "collapsed": true,
    "execution": {
     "iopub.execute_input": "2023-07-25T00:01:37.902339Z",
     "iopub.status.busy": "2023-07-25T00:01:37.901964Z",
     "iopub.status.idle": "2023-07-25T00:01:37.906279Z",
     "shell.execute_reply": "2023-07-25T00:01:37.905170Z"
    },
    "jupyter": {
     "outputs_hidden": true
    },
    "papermill": {
     "duration": 0.013492,
     "end_time": "2023-07-25T00:01:37.908569",
     "exception": false,
     "start_time": "2023-07-25T00:01:37.895077",
     "status": "completed"
    },
    "tags": []
   },
   "outputs": [],
   "source": [
    "#q3.hint()\n",
    "#q3.solution()"
   ]
  },
  {
   "cell_type": "markdown",
   "id": "caadbcfe",
   "metadata": {
    "papermill": {
     "duration": 0.005291,
     "end_time": "2023-07-25T00:01:37.920015",
     "exception": false,
     "start_time": "2023-07-25T00:01:37.914724",
     "status": "completed"
    },
    "tags": []
   },
   "source": [
    "# 4.\n",
    "\n",
    "What are the lengths of the following lists? Fill in the variable `lengths` with your predictions. (Try to make a prediction for each list *without* just calling `len()` on it.)"
   ]
  },
  {
   "cell_type": "code",
   "execution_count": 8,
   "id": "a5cefc72",
   "metadata": {
    "execution": {
     "iopub.execute_input": "2023-07-25T00:01:37.933248Z",
     "iopub.status.busy": "2023-07-25T00:01:37.932438Z",
     "iopub.status.idle": "2023-07-25T00:01:37.942470Z",
     "shell.execute_reply": "2023-07-25T00:01:37.941142Z"
    },
    "papermill": {
     "duration": 0.019158,
     "end_time": "2023-07-25T00:01:37.944766",
     "exception": false,
     "start_time": "2023-07-25T00:01:37.925608",
     "status": "completed"
    },
    "tags": []
   },
   "outputs": [
    {
     "data": {
      "application/javascript": [
       "parent.postMessage({\"jupyterEvent\": \"custom.exercise_interaction\", \"data\": {\"outcomeType\": 4, \"interactionType\": 1, \"questionType\": 1, \"questionId\": \"4_UnderstandLen\", \"learnToolsVersion\": \"0.3.4\", \"valueTowardsCompletion\": 0.0, \"failureMessage\": \"\", \"exceptionClass\": \"\", \"trace\": \"\"}}, \"*\")"
      ],
      "text/plain": [
       "<IPython.core.display.Javascript object>"
      ]
     },
     "metadata": {},
     "output_type": "display_data"
    },
    {
     "data": {
      "text/markdown": [
       "<span style=\"color:#ccaa33\">Check:</span> When you've updated the starter code, `check()` will tell you whether your code is correct. You need to update the code that creates variable `lengths`"
      ],
      "text/plain": [
       "Check: When you've updated the starter code, `check()` will tell you whether your code is correct. You need to update the code that creates variable `lengths`"
      ]
     },
     "metadata": {},
     "output_type": "display_data"
    }
   ],
   "source": [
    "a = [1, 2, 3]\n",
    "b = [1, [2, 3]]\n",
    "c = []\n",
    "d = [1, 2, 3][1:]\n",
    "\n",
    "# Put your predictions in the list below. Lengths should contain 4 numbers, the\n",
    "# first being the length of a, the second being the length of b and so on.\n",
    "lengths = []\n",
    "\n",
    "# Check your answer\n",
    "q4.check()"
   ]
  },
  {
   "cell_type": "code",
   "execution_count": 9,
   "id": "f2bf9aed",
   "metadata": {
    "collapsed": true,
    "execution": {
     "iopub.execute_input": "2023-07-25T00:01:37.958403Z",
     "iopub.status.busy": "2023-07-25T00:01:37.957807Z",
     "iopub.status.idle": "2023-07-25T00:01:37.961976Z",
     "shell.execute_reply": "2023-07-25T00:01:37.961162Z"
    },
    "jupyter": {
     "outputs_hidden": true
    },
    "papermill": {
     "duration": 0.013503,
     "end_time": "2023-07-25T00:01:37.964007",
     "exception": false,
     "start_time": "2023-07-25T00:01:37.950504",
     "status": "completed"
    },
    "tags": []
   },
   "outputs": [],
   "source": [
    "# line below provides some explanation\n",
    "#q4.solution()"
   ]
  },
  {
   "cell_type": "markdown",
   "id": "dd98cbb0",
   "metadata": {
    "papermill": {
     "duration": 0.00557,
     "end_time": "2023-07-25T00:01:37.975282",
     "exception": false,
     "start_time": "2023-07-25T00:01:37.969712",
     "status": "completed"
    },
    "tags": []
   },
   "source": [
    "# 5. <span title=\"A bit spicy\" style=\"color: darkgreen \">🌶️</span>\n",
    "\n",
    "We're using lists to record people who attended our party and what order they arrived in. For example, the following list represents a party with 7 guests, in which Adela showed up first and Ford was the last to arrive:\n",
    "\n",
    "    party_attendees = ['Adela', 'Fleda', 'Owen', 'May', 'Mona', 'Gilbert', 'Ford']\n",
    "\n",
    "A guest is considered 'fashionably late' if they arrived after at least half of the party's guests. However, they must not be the very last guest (that's taking it too far). In the above example, Mona and Gilbert are the only guests who were fashionably late.\n",
    "\n",
    "Complete the function below which takes a list of party attendees as well as a person, and tells us whether that person is fashionably late."
   ]
  },
  {
   "cell_type": "code",
   "execution_count": 10,
   "id": "177b1fe7",
   "metadata": {
    "execution": {
     "iopub.execute_input": "2023-07-25T00:01:37.988889Z",
     "iopub.status.busy": "2023-07-25T00:01:37.988236Z",
     "iopub.status.idle": "2023-07-25T00:01:37.998075Z",
     "shell.execute_reply": "2023-07-25T00:01:37.996882Z"
    },
    "papermill": {
     "duration": 0.01936,
     "end_time": "2023-07-25T00:01:38.000411",
     "exception": false,
     "start_time": "2023-07-25T00:01:37.981051",
     "status": "completed"
    },
    "tags": []
   },
   "outputs": [
    {
     "data": {
      "application/javascript": [
       "parent.postMessage({\"jupyterEvent\": \"custom.exercise_interaction\", \"data\": {\"outcomeType\": 4, \"interactionType\": 1, \"questionType\": 2, \"questionId\": \"5_FashionablyLate\", \"learnToolsVersion\": \"0.3.4\", \"valueTowardsCompletion\": 0.0, \"failureMessage\": \"\", \"exceptionClass\": \"\", \"trace\": \"\"}}, \"*\")"
      ],
      "text/plain": [
       "<IPython.core.display.Javascript object>"
      ]
     },
     "metadata": {},
     "output_type": "display_data"
    },
    {
     "data": {
      "text/markdown": [
       "<span style=\"color:#ccaa33\">Check:</span> When you've updated the starter code, `check()` will tell you whether your code is correct. "
      ],
      "text/plain": [
       "Check: When you've updated the starter code, `check()` will tell you whether your code is correct. "
      ]
     },
     "metadata": {},
     "output_type": "display_data"
    }
   ],
   "source": [
    "def fashionably_late(arrivals, name):\n",
    "    \"\"\"Given an ordered list of arrivals to the party and a name, return whether the guest with that\n",
    "    name was fashionably late.\n",
    "    \"\"\"\n",
    "    pass\n",
    "\n",
    "# Check your answer\n",
    "q5.check()"
   ]
  },
  {
   "cell_type": "code",
   "execution_count": 11,
   "id": "6acb6891",
   "metadata": {
    "collapsed": true,
    "execution": {
     "iopub.execute_input": "2023-07-25T00:01:38.014770Z",
     "iopub.status.busy": "2023-07-25T00:01:38.014328Z",
     "iopub.status.idle": "2023-07-25T00:01:38.018178Z",
     "shell.execute_reply": "2023-07-25T00:01:38.017288Z"
    },
    "jupyter": {
     "outputs_hidden": true
    },
    "papermill": {
     "duration": 0.01372,
     "end_time": "2023-07-25T00:01:38.020189",
     "exception": false,
     "start_time": "2023-07-25T00:01:38.006469",
     "status": "completed"
    },
    "tags": []
   },
   "outputs": [],
   "source": [
    "#q5.hint()\n",
    "#q5.solution()"
   ]
  },
  {
   "cell_type": "markdown",
   "id": "06dbdd98",
   "metadata": {
    "papermill": {
     "duration": 0.005862,
     "end_time": "2023-07-25T00:01:38.032390",
     "exception": false,
     "start_time": "2023-07-25T00:01:38.026528",
     "status": "completed"
    },
    "tags": []
   },
   "source": [
    "# Keep Going\n",
    "\n",
    "That's it for lists and tuples! Now you have the baseline knowledge to **[learn about loops](https://www.kaggle.com/colinmorris/loops-and-list-comprehensions)**, which is where lists and tuples get really interesting. "
   ]
  },
  {
   "cell_type": "markdown",
   "id": "7d3fd1c8",
   "metadata": {
    "papermill": {
     "duration": 0.006,
     "end_time": "2023-07-25T00:01:38.045090",
     "exception": false,
     "start_time": "2023-07-25T00:01:38.039090",
     "status": "completed"
    },
    "tags": []
   },
   "source": [
    "---\n",
    "\n",
    "\n",
    "\n",
    "\n",
    "*Have questions or comments? Visit the [course discussion forum](https://www.kaggle.com/learn/python/discussion) to chat with other learners.*"
   ]
  }
 ],
 "metadata": {
  "kernelspec": {
   "display_name": "Python 3",
   "language": "python",
   "name": "python3"
  },
  "language_info": {
   "codemirror_mode": {
    "name": "ipython",
    "version": 3
   },
   "file_extension": ".py",
   "mimetype": "text/x-python",
   "name": "python",
   "nbconvert_exporter": "python",
   "pygments_lexer": "ipython3",
   "version": "3.10.12"
  },
  "papermill": {
   "default_parameters": {},
   "duration": 12.111462,
   "end_time": "2023-07-25T00:01:38.974723",
   "environment_variables": {},
   "exception": null,
   "input_path": "__notebook__.ipynb",
   "output_path": "__notebook__.ipynb",
   "parameters": {},
   "start_time": "2023-07-25T00:01:26.863261",
   "version": "2.4.0"
  }
 },
 "nbformat": 4,
 "nbformat_minor": 5
}
