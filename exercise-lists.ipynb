{
 "cells": [
  {
   "cell_type": "markdown",
   "id": "c915f02f",
   "metadata": {
    "papermill": {
     "duration": 0.00669,
     "end_time": "2023-07-24T23:59:49.580670",
     "exception": false,
     "start_time": "2023-07-24T23:59:49.573980",
     "status": "completed"
    },
    "tags": []
   },
   "source": [
    "**This notebook is an exercise in the [Python](https://www.kaggle.com/learn/python) course.  You can reference the tutorial at [this link](https://www.kaggle.com/colinmorris/lists).**\n",
    "\n",
    "---\n"
   ]
  },
  {
   "cell_type": "markdown",
   "id": "7a3435d0",
   "metadata": {
    "papermill": {
     "duration": 0.005648,
     "end_time": "2023-07-24T23:59:49.592585",
     "exception": false,
     "start_time": "2023-07-24T23:59:49.586937",
     "status": "completed"
    },
    "tags": []
   },
   "source": [
    "Things get more interesting with lists. You'll apply your new knowledge to solve the questions below. Remember to run the following cell first."
   ]
  },
  {
   "cell_type": "code",
   "execution_count": 1,
   "id": "6d62779c",
   "metadata": {
    "execution": {
     "iopub.execute_input": "2023-07-24T23:59:49.606116Z",
     "iopub.status.busy": "2023-07-24T23:59:49.605737Z",
     "iopub.status.idle": "2023-07-24T23:59:49.655363Z",
     "shell.execute_reply": "2023-07-24T23:59:49.654089Z"
    },
    "papermill": {
     "duration": 0.059493,
     "end_time": "2023-07-24T23:59:49.657983",
     "exception": false,
     "start_time": "2023-07-24T23:59:49.598490",
     "status": "completed"
    },
    "tags": []
   },
   "outputs": [
    {
     "name": "stdout",
     "output_type": "stream",
     "text": [
      "Setup complete.\n"
     ]
    }
   ],
   "source": [
    "from learntools.core import binder; binder.bind(globals())\n",
    "from learntools.python.ex4 import *\n",
    "print('Setup complete.')"
   ]
  },
  {
   "cell_type": "markdown",
   "id": "d48eba99",
   "metadata": {
    "papermill": {
     "duration": 0.0059,
     "end_time": "2023-07-24T23:59:49.670209",
     "exception": false,
     "start_time": "2023-07-24T23:59:49.664309",
     "status": "completed"
    },
    "tags": []
   },
   "source": [
    "# 1.\n",
    "\n",
    "Complete the function below according to its docstring."
   ]
  },
  {
   "cell_type": "code",
   "execution_count": 2,
   "id": "e150d33d",
   "metadata": {
    "execution": {
     "iopub.execute_input": "2023-07-24T23:59:49.684430Z",
     "iopub.status.busy": "2023-07-24T23:59:49.684015Z",
     "iopub.status.idle": "2023-07-24T23:59:49.694850Z",
     "shell.execute_reply": "2023-07-24T23:59:49.693797Z"
    },
    "papermill": {
     "duration": 0.020867,
     "end_time": "2023-07-24T23:59:49.697260",
     "exception": false,
     "start_time": "2023-07-24T23:59:49.676393",
     "status": "completed"
    },
    "tags": []
   },
   "outputs": [
    {
     "data": {
      "application/javascript": [
       "parent.postMessage({\"jupyterEvent\": \"custom.exercise_interaction\", \"data\": {\"outcomeType\": 1, \"valueTowardsCompletion\": 0.2, \"interactionType\": 1, \"questionType\": 2, \"questionId\": \"1_SelectSecondItem\", \"learnToolsVersion\": \"0.3.4\", \"failureMessage\": \"\", \"exceptionClass\": \"\", \"trace\": \"\"}}, \"*\")"
      ],
      "text/plain": [
       "<IPython.core.display.Javascript object>"
      ]
     },
     "metadata": {},
     "output_type": "display_data"
    },
    {
     "data": {
      "text/markdown": [
       "<span style=\"color:#33cc33\">Correct</span>"
      ],
      "text/plain": [
       "Correct"
      ]
     },
     "metadata": {},
     "output_type": "display_data"
    }
   ],
   "source": [
    "def select_second(L):\n",
    "    \"\"\"Return the second element of the given list. If the list has no second\n",
    "    element, return None.\n",
    "    \"\"\"\n",
    "    if len(L)<2:\n",
    "        return None\n",
    "    return L[1]\n",
    "\n",
    "# Check your answer\n",
    "q1.check()"
   ]
  },
  {
   "cell_type": "code",
   "execution_count": 3,
   "id": "cd9c7a41",
   "metadata": {
    "execution": {
     "iopub.execute_input": "2023-07-24T23:59:49.711964Z",
     "iopub.status.busy": "2023-07-24T23:59:49.711580Z",
     "iopub.status.idle": "2023-07-24T23:59:49.716154Z",
     "shell.execute_reply": "2023-07-24T23:59:49.714974Z"
    },
    "papermill": {
     "duration": 0.014487,
     "end_time": "2023-07-24T23:59:49.718271",
     "exception": false,
     "start_time": "2023-07-24T23:59:49.703784",
     "status": "completed"
    },
    "tags": []
   },
   "outputs": [],
   "source": [
    "#q1.hint()\n",
    "#q1.solution()"
   ]
  },
  {
   "cell_type": "markdown",
   "id": "f770877e",
   "metadata": {
    "papermill": {
     "duration": 0.006076,
     "end_time": "2023-07-24T23:59:49.730874",
     "exception": false,
     "start_time": "2023-07-24T23:59:49.724798",
     "status": "completed"
    },
    "tags": []
   },
   "source": [
    "# 2.\n",
    "\n",
    "You are analyzing sports teams.  Members of each team are stored in a list. The Coach is the first name in the list, the captain is the second name in the list, and other players are listed after that. \n",
    "These lists are stored in another list, which starts with the best team and proceeds through the list to the worst team last.  Complete the function below to select the **captain** of the worst team."
   ]
  },
  {
   "cell_type": "code",
   "execution_count": 4,
   "id": "6ba8fae9",
   "metadata": {
    "execution": {
     "iopub.execute_input": "2023-07-24T23:59:49.745384Z",
     "iopub.status.busy": "2023-07-24T23:59:49.744978Z",
     "iopub.status.idle": "2023-07-24T23:59:49.753833Z",
     "shell.execute_reply": "2023-07-24T23:59:49.753029Z"
    },
    "papermill": {
     "duration": 0.01892,
     "end_time": "2023-07-24T23:59:49.756135",
     "exception": false,
     "start_time": "2023-07-24T23:59:49.737215",
     "status": "completed"
    },
    "tags": []
   },
   "outputs": [
    {
     "data": {
      "application/javascript": [
       "parent.postMessage({\"jupyterEvent\": \"custom.exercise_interaction\", \"data\": {\"outcomeType\": 1, \"valueTowardsCompletion\": 0.2, \"interactionType\": 1, \"questionType\": 2, \"questionId\": \"2_LosingTeamCaptain\", \"learnToolsVersion\": \"0.3.4\", \"failureMessage\": \"\", \"exceptionClass\": \"\", \"trace\": \"\"}}, \"*\")"
      ],
      "text/plain": [
       "<IPython.core.display.Javascript object>"
      ]
     },
     "metadata": {},
     "output_type": "display_data"
    },
    {
     "data": {
      "text/markdown": [
       "<span style=\"color:#33cc33\">Correct</span>"
      ],
      "text/plain": [
       "Correct"
      ]
     },
     "metadata": {},
     "output_type": "display_data"
    }
   ],
   "source": [
    "def losing_team_captain(teams):\n",
    "    \"\"\"Given a list of teams, where each team is a list of names, return the 2nd player (captain)\n",
    "    from the last listed team\n",
    "    \"\"\"\n",
    "    return teams[-1][1]\n",
    "\n",
    "# Check your answer\n",
    "q2.check()"
   ]
  },
  {
   "cell_type": "code",
   "execution_count": 5,
   "id": "581076b2",
   "metadata": {
    "execution": {
     "iopub.execute_input": "2023-07-24T23:59:49.771878Z",
     "iopub.status.busy": "2023-07-24T23:59:49.771226Z",
     "iopub.status.idle": "2023-07-24T23:59:49.775570Z",
     "shell.execute_reply": "2023-07-24T23:59:49.774496Z"
    },
    "papermill": {
     "duration": 0.015002,
     "end_time": "2023-07-24T23:59:49.777917",
     "exception": false,
     "start_time": "2023-07-24T23:59:49.762915",
     "status": "completed"
    },
    "tags": []
   },
   "outputs": [],
   "source": [
    "#q2.hint()\n",
    "#q2.solution()"
   ]
  },
  {
   "cell_type": "markdown",
   "id": "49a81981",
   "metadata": {
    "papermill": {
     "duration": 0.006467,
     "end_time": "2023-07-24T23:59:49.791274",
     "exception": false,
     "start_time": "2023-07-24T23:59:49.784807",
     "status": "completed"
    },
    "tags": []
   },
   "source": [
    "# 3.\n",
    "\n",
    "The next iteration of Mario Kart will feature an extra-infuriating new item, the *Purple Shell*. When used, it warps the last place racer into first place and the first place racer into last place. Complete the function below to implement the Purple Shell's effect."
   ]
  },
  {
   "cell_type": "code",
   "execution_count": 6,
   "id": "20f59aea",
   "metadata": {
    "execution": {
     "iopub.execute_input": "2023-07-24T23:59:49.808064Z",
     "iopub.status.busy": "2023-07-24T23:59:49.807386Z",
     "iopub.status.idle": "2023-07-24T23:59:49.816332Z",
     "shell.execute_reply": "2023-07-24T23:59:49.815293Z"
    },
    "papermill": {
     "duration": 0.0194,
     "end_time": "2023-07-24T23:59:49.818637",
     "exception": false,
     "start_time": "2023-07-24T23:59:49.799237",
     "status": "completed"
    },
    "tags": []
   },
   "outputs": [
    {
     "data": {
      "application/javascript": [
       "parent.postMessage({\"jupyterEvent\": \"custom.exercise_interaction\", \"data\": {\"outcomeType\": 4, \"interactionType\": 1, \"questionType\": 2, \"questionId\": \"3_PurpleShell\", \"learnToolsVersion\": \"0.3.4\", \"valueTowardsCompletion\": 0.0, \"failureMessage\": \"\", \"exceptionClass\": \"\", \"trace\": \"\"}}, \"*\")"
      ],
      "text/plain": [
       "<IPython.core.display.Javascript object>"
      ]
     },
     "metadata": {},
     "output_type": "display_data"
    },
    {
     "data": {
      "text/markdown": [
       "<span style=\"color:#ccaa33\">Check:</span> When you've updated the starter code, `check()` will tell you whether your code is correct. "
      ],
      "text/plain": [
       "Check: When you've updated the starter code, `check()` will tell you whether your code is correct. "
      ]
     },
     "metadata": {},
     "output_type": "display_data"
    }
   ],
   "source": [
    "def purple_shell(racers):\n",
    "    \"\"\"Given a list of racers, set the first place racer (at the front of the list) to last\n",
    "    place and vice versa.\n",
    "    \n",
    "    >>> r = [\"Mario\", \"Bowser\", \"Luigi\"]\n",
    "    >>> purple_shell(r)\n",
    "    >>> r\n",
    "    [\"Luigi\", \"Bowser\", \"Mario\"]\n",
    "    \"\"\"\n",
    "    pass\n",
    "\n",
    "# Check your answer\n",
    "q3.check()"
   ]
  },
  {
   "cell_type": "code",
   "execution_count": 7,
   "id": "92283f54",
   "metadata": {
    "collapsed": true,
    "execution": {
     "iopub.execute_input": "2023-07-24T23:59:49.835080Z",
     "iopub.status.busy": "2023-07-24T23:59:49.834697Z",
     "iopub.status.idle": "2023-07-24T23:59:49.839190Z",
     "shell.execute_reply": "2023-07-24T23:59:49.838143Z"
    },
    "jupyter": {
     "outputs_hidden": true
    },
    "papermill": {
     "duration": 0.015209,
     "end_time": "2023-07-24T23:59:49.841522",
     "exception": false,
     "start_time": "2023-07-24T23:59:49.826313",
     "status": "completed"
    },
    "tags": []
   },
   "outputs": [],
   "source": [
    "#q3.hint()\n",
    "#q3.solution()"
   ]
  },
  {
   "cell_type": "markdown",
   "id": "1395834f",
   "metadata": {
    "papermill": {
     "duration": 0.006908,
     "end_time": "2023-07-24T23:59:49.855928",
     "exception": false,
     "start_time": "2023-07-24T23:59:49.849020",
     "status": "completed"
    },
    "tags": []
   },
   "source": [
    "# 4.\n",
    "\n",
    "What are the lengths of the following lists? Fill in the variable `lengths` with your predictions. (Try to make a prediction for each list *without* just calling `len()` on it.)"
   ]
  },
  {
   "cell_type": "code",
   "execution_count": 8,
   "id": "05af6b0a",
   "metadata": {
    "execution": {
     "iopub.execute_input": "2023-07-24T23:59:49.872214Z",
     "iopub.status.busy": "2023-07-24T23:59:49.871579Z",
     "iopub.status.idle": "2023-07-24T23:59:49.881381Z",
     "shell.execute_reply": "2023-07-24T23:59:49.880488Z"
    },
    "papermill": {
     "duration": 0.020444,
     "end_time": "2023-07-24T23:59:49.883426",
     "exception": false,
     "start_time": "2023-07-24T23:59:49.862982",
     "status": "completed"
    },
    "tags": []
   },
   "outputs": [
    {
     "data": {
      "application/javascript": [
       "parent.postMessage({\"jupyterEvent\": \"custom.exercise_interaction\", \"data\": {\"outcomeType\": 4, \"interactionType\": 1, \"questionType\": 1, \"questionId\": \"4_UnderstandLen\", \"learnToolsVersion\": \"0.3.4\", \"valueTowardsCompletion\": 0.0, \"failureMessage\": \"\", \"exceptionClass\": \"\", \"trace\": \"\"}}, \"*\")"
      ],
      "text/plain": [
       "<IPython.core.display.Javascript object>"
      ]
     },
     "metadata": {},
     "output_type": "display_data"
    },
    {
     "data": {
      "text/markdown": [
       "<span style=\"color:#ccaa33\">Check:</span> When you've updated the starter code, `check()` will tell you whether your code is correct. You need to update the code that creates variable `lengths`"
      ],
      "text/plain": [
       "Check: When you've updated the starter code, `check()` will tell you whether your code is correct. You need to update the code that creates variable `lengths`"
      ]
     },
     "metadata": {},
     "output_type": "display_data"
    }
   ],
   "source": [
    "a = [1, 2, 3]\n",
    "b = [1, [2, 3]]\n",
    "c = []\n",
    "d = [1, 2, 3][1:]\n",
    "\n",
    "# Put your predictions in the list below. Lengths should contain 4 numbers, the\n",
    "# first being the length of a, the second being the length of b and so on.\n",
    "lengths = []\n",
    "\n",
    "# Check your answer\n",
    "q4.check()"
   ]
  },
  {
   "cell_type": "code",
   "execution_count": 9,
   "id": "bd32a881",
   "metadata": {
    "collapsed": true,
    "execution": {
     "iopub.execute_input": "2023-07-24T23:59:49.900767Z",
     "iopub.status.busy": "2023-07-24T23:59:49.900106Z",
     "iopub.status.idle": "2023-07-24T23:59:49.905524Z",
     "shell.execute_reply": "2023-07-24T23:59:49.903666Z"
    },
    "jupyter": {
     "outputs_hidden": true
    },
    "papermill": {
     "duration": 0.017527,
     "end_time": "2023-07-24T23:59:49.908605",
     "exception": false,
     "start_time": "2023-07-24T23:59:49.891078",
     "status": "completed"
    },
    "tags": []
   },
   "outputs": [],
   "source": [
    "# line below provides some explanation\n",
    "#q4.solution()"
   ]
  },
  {
   "cell_type": "markdown",
   "id": "38c413b6",
   "metadata": {
    "papermill": {
     "duration": 0.007417,
     "end_time": "2023-07-24T23:59:49.923940",
     "exception": false,
     "start_time": "2023-07-24T23:59:49.916523",
     "status": "completed"
    },
    "tags": []
   },
   "source": [
    "# 5. <span title=\"A bit spicy\" style=\"color: darkgreen \">🌶️</span>\n",
    "\n",
    "We're using lists to record people who attended our party and what order they arrived in. For example, the following list represents a party with 7 guests, in which Adela showed up first and Ford was the last to arrive:\n",
    "\n",
    "    party_attendees = ['Adela', 'Fleda', 'Owen', 'May', 'Mona', 'Gilbert', 'Ford']\n",
    "\n",
    "A guest is considered 'fashionably late' if they arrived after at least half of the party's guests. However, they must not be the very last guest (that's taking it too far). In the above example, Mona and Gilbert are the only guests who were fashionably late.\n",
    "\n",
    "Complete the function below which takes a list of party attendees as well as a person, and tells us whether that person is fashionably late."
   ]
  },
  {
   "cell_type": "code",
   "execution_count": 10,
   "id": "cd2e4e3b",
   "metadata": {
    "execution": {
     "iopub.execute_input": "2023-07-24T23:59:49.942833Z",
     "iopub.status.busy": "2023-07-24T23:59:49.941662Z",
     "iopub.status.idle": "2023-07-24T23:59:49.951059Z",
     "shell.execute_reply": "2023-07-24T23:59:49.950293Z"
    },
    "papermill": {
     "duration": 0.020743,
     "end_time": "2023-07-24T23:59:49.953043",
     "exception": false,
     "start_time": "2023-07-24T23:59:49.932300",
     "status": "completed"
    },
    "tags": []
   },
   "outputs": [
    {
     "data": {
      "application/javascript": [
       "parent.postMessage({\"jupyterEvent\": \"custom.exercise_interaction\", \"data\": {\"outcomeType\": 4, \"interactionType\": 1, \"questionType\": 2, \"questionId\": \"5_FashionablyLate\", \"learnToolsVersion\": \"0.3.4\", \"valueTowardsCompletion\": 0.0, \"failureMessage\": \"\", \"exceptionClass\": \"\", \"trace\": \"\"}}, \"*\")"
      ],
      "text/plain": [
       "<IPython.core.display.Javascript object>"
      ]
     },
     "metadata": {},
     "output_type": "display_data"
    },
    {
     "data": {
      "text/markdown": [
       "<span style=\"color:#ccaa33\">Check:</span> When you've updated the starter code, `check()` will tell you whether your code is correct. "
      ],
      "text/plain": [
       "Check: When you've updated the starter code, `check()` will tell you whether your code is correct. "
      ]
     },
     "metadata": {},
     "output_type": "display_data"
    }
   ],
   "source": [
    "def fashionably_late(arrivals, name):\n",
    "    \"\"\"Given an ordered list of arrivals to the party and a name, return whether the guest with that\n",
    "    name was fashionably late.\n",
    "    \"\"\"\n",
    "    pass\n",
    "\n",
    "# Check your answer\n",
    "q5.check()"
   ]
  },
  {
   "cell_type": "code",
   "execution_count": 11,
   "id": "92c8d4e9",
   "metadata": {
    "collapsed": true,
    "execution": {
     "iopub.execute_input": "2023-07-24T23:59:49.971089Z",
     "iopub.status.busy": "2023-07-24T23:59:49.970396Z",
     "iopub.status.idle": "2023-07-24T23:59:49.975205Z",
     "shell.execute_reply": "2023-07-24T23:59:49.974196Z"
    },
    "jupyter": {
     "outputs_hidden": true
    },
    "papermill": {
     "duration": 0.016512,
     "end_time": "2023-07-24T23:59:49.977605",
     "exception": false,
     "start_time": "2023-07-24T23:59:49.961093",
     "status": "completed"
    },
    "tags": []
   },
   "outputs": [],
   "source": [
    "#q5.hint()\n",
    "#q5.solution()"
   ]
  },
  {
   "cell_type": "markdown",
   "id": "8117862f",
   "metadata": {
    "papermill": {
     "duration": 0.007881,
     "end_time": "2023-07-24T23:59:49.993781",
     "exception": false,
     "start_time": "2023-07-24T23:59:49.985900",
     "status": "completed"
    },
    "tags": []
   },
   "source": [
    "# Keep Going\n",
    "\n",
    "That's it for lists and tuples! Now you have the baseline knowledge to **[learn about loops](https://www.kaggle.com/colinmorris/loops-and-list-comprehensions)**, which is where lists and tuples get really interesting. "
   ]
  },
  {
   "cell_type": "markdown",
   "id": "d0c4ae74",
   "metadata": {
    "papermill": {
     "duration": 0.007882,
     "end_time": "2023-07-24T23:59:50.009986",
     "exception": false,
     "start_time": "2023-07-24T23:59:50.002104",
     "status": "completed"
    },
    "tags": []
   },
   "source": [
    "---\n",
    "\n",
    "\n",
    "\n",
    "\n",
    "*Have questions or comments? Visit the [course discussion forum](https://www.kaggle.com/learn/python/discussion) to chat with other learners.*"
   ]
  }
 ],
 "metadata": {
  "kernelspec": {
   "display_name": "Python 3",
   "language": "python",
   "name": "python3"
  },
  "language_info": {
   "codemirror_mode": {
    "name": "ipython",
    "version": 3
   },
   "file_extension": ".py",
   "mimetype": "text/x-python",
   "name": "python",
   "nbconvert_exporter": "python",
   "pygments_lexer": "ipython3",
   "version": "3.10.12"
  },
  "papermill": {
   "default_parameters": {},
   "duration": 12.843568,
   "end_time": "2023-07-24T23:59:50.940835",
   "environment_variables": {},
   "exception": null,
   "input_path": "__notebook__.ipynb",
   "output_path": "__notebook__.ipynb",
   "parameters": {},
   "start_time": "2023-07-24T23:59:38.097267",
   "version": "2.4.0"
  }
 },
 "nbformat": 4,
 "nbformat_minor": 5
}
