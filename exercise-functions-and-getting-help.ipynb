{
 "cells": [
  {
   "cell_type": "markdown",
   "id": "5c907818",
   "metadata": {
    "papermill": {
     "duration": 0.00528,
     "end_time": "2023-07-24T22:59:05.188379",
     "exception": false,
     "start_time": "2023-07-24T22:59:05.183099",
     "status": "completed"
    },
    "tags": []
   },
   "source": [
    "**This notebook is an exercise in the [Python](https://www.kaggle.com/learn/python) course.  You can reference the tutorial at [this link](https://www.kaggle.com/colinmorris/functions-and-getting-help).**\n",
    "\n",
    "---\n"
   ]
  },
  {
   "cell_type": "markdown",
   "id": "5d605b09",
   "metadata": {
    "papermill": {
     "duration": 0.004378,
     "end_time": "2023-07-24T22:59:05.197600",
     "exception": false,
     "start_time": "2023-07-24T22:59:05.193222",
     "status": "completed"
    },
    "tags": []
   },
   "source": [
    "Functions are powerful. Try writing some yourself.\n",
    "\n",
    "As before, don't forget to run the setup code below before jumping into question 1."
   ]
  },
  {
   "cell_type": "code",
   "execution_count": 1,
   "id": "0176424e",
   "metadata": {
    "_kg_hide-input": true,
    "_kg_hide-output": true,
    "execution": {
     "iopub.execute_input": "2023-07-24T22:59:05.210193Z",
     "iopub.status.busy": "2023-07-24T22:59:05.209276Z",
     "iopub.status.idle": "2023-07-24T22:59:05.265252Z",
     "shell.execute_reply": "2023-07-24T22:59:05.264013Z"
    },
    "papermill": {
     "duration": 0.065159,
     "end_time": "2023-07-24T22:59:05.267895",
     "exception": false,
     "start_time": "2023-07-24T22:59:05.202736",
     "status": "completed"
    },
    "tags": []
   },
   "outputs": [
    {
     "name": "stdout",
     "output_type": "stream",
     "text": [
      "Setup complete.\n"
     ]
    }
   ],
   "source": [
    "# SETUP. You don't need to worry for now about what this code does or how it works.\n",
    "from learntools.core import binder; binder.bind(globals())\n",
    "from learntools.python.ex2 import *\n",
    "print('Setup complete.')"
   ]
  },
  {
   "cell_type": "markdown",
   "id": "443478b3",
   "metadata": {
    "papermill": {
     "duration": 0.005087,
     "end_time": "2023-07-24T22:59:05.277901",
     "exception": false,
     "start_time": "2023-07-24T22:59:05.272814",
     "status": "completed"
    },
    "tags": []
   },
   "source": [
    "# 1.\n",
    "\n",
    "Complete the body of the following function according to its docstring.\n",
    "\n",
    "HINT: Python has a built-in function `round`."
   ]
  },
  {
   "cell_type": "code",
   "execution_count": 2,
   "id": "33b5674b",
   "metadata": {
    "execution": {
     "iopub.execute_input": "2023-07-24T22:59:05.289283Z",
     "iopub.status.busy": "2023-07-24T22:59:05.288870Z",
     "iopub.status.idle": "2023-07-24T22:59:05.300292Z",
     "shell.execute_reply": "2023-07-24T22:59:05.299007Z"
    },
    "papermill": {
     "duration": 0.019786,
     "end_time": "2023-07-24T22:59:05.302609",
     "exception": false,
     "start_time": "2023-07-24T22:59:05.282823",
     "status": "completed"
    },
    "tags": []
   },
   "outputs": [
    {
     "data": {
      "application/javascript": [
       "parent.postMessage({\"jupyterEvent\": \"custom.exercise_interaction\", \"data\": {\"outcomeType\": 1, \"valueTowardsCompletion\": 0.16666666666666666, \"interactionType\": 1, \"questionType\": 2, \"questionId\": \"1_RoundFunctionProblem\", \"learnToolsVersion\": \"0.3.4\", \"failureMessage\": \"\", \"exceptionClass\": \"\", \"trace\": \"\"}}, \"*\")"
      ],
      "text/plain": [
       "<IPython.core.display.Javascript object>"
      ]
     },
     "metadata": {},
     "output_type": "display_data"
    },
    {
     "data": {
      "text/markdown": [
       "<span style=\"color:#33cc33\">Correct</span>"
      ],
      "text/plain": [
       "Correct"
      ]
     },
     "metadata": {},
     "output_type": "display_data"
    }
   ],
   "source": [
    "def round_to_two_places(num):\n",
    "    \"\"\"Return the given number rounded to two decimal places. \n",
    "    \n",
    "    >>> round_to_two_places(3.14159)\n",
    "    3.14\n",
    "    \"\"\"\n",
    "    # Replace this body with your own code.\n",
    "    # (\"pass\" is a keyword that does literally nothing. We used it as a placeholder\n",
    "    # because after we begin a code block, Python requires at least one line of code)\n",
    "    return round(num,2)\n",
    "\n",
    "# Check your answer\n",
    "q1.check()"
   ]
  },
  {
   "cell_type": "code",
   "execution_count": 3,
   "id": "44d677af",
   "metadata": {
    "execution": {
     "iopub.execute_input": "2023-07-24T22:59:05.315217Z",
     "iopub.status.busy": "2023-07-24T22:59:05.314785Z",
     "iopub.status.idle": "2023-07-24T22:59:05.319543Z",
     "shell.execute_reply": "2023-07-24T22:59:05.318006Z"
    },
    "papermill": {
     "duration": 0.013989,
     "end_time": "2023-07-24T22:59:05.321919",
     "exception": false,
     "start_time": "2023-07-24T22:59:05.307930",
     "status": "completed"
    },
    "tags": []
   },
   "outputs": [],
   "source": [
    "# Uncomment the following for a hint\n",
    "#q1.hint()\n",
    "# Or uncomment the following to peek at the solution\n",
    "#q1.solution()"
   ]
  },
  {
   "cell_type": "markdown",
   "id": "48f56da3",
   "metadata": {
    "papermill": {
     "duration": 0.004791,
     "end_time": "2023-07-24T22:59:05.331800",
     "exception": false,
     "start_time": "2023-07-24T22:59:05.327009",
     "status": "completed"
    },
    "tags": []
   },
   "source": [
    "# 2.\n",
    "The help for `round` says that `ndigits` (the second argument) may be negative.\n",
    "What do you think will happen when it is? Try some examples in the following cell."
   ]
  },
  {
   "cell_type": "code",
   "execution_count": 4,
   "id": "eb922c88",
   "metadata": {
    "execution": {
     "iopub.execute_input": "2023-07-24T22:59:05.344248Z",
     "iopub.status.busy": "2023-07-24T22:59:05.343796Z",
     "iopub.status.idle": "2023-07-24T22:59:05.351076Z",
     "shell.execute_reply": "2023-07-24T22:59:05.349979Z"
    },
    "papermill": {
     "duration": 0.016502,
     "end_time": "2023-07-24T22:59:05.353645",
     "exception": false,
     "start_time": "2023-07-24T22:59:05.337143",
     "status": "completed"
    },
    "tags": []
   },
   "outputs": [
    {
     "name": "stdout",
     "output_type": "stream",
     "text": [
      "Help on built-in function round in module builtins:\n",
      "\n",
      "round(number, ndigits=None)\n",
      "    Round a number to a given precision in decimal digits.\n",
      "    \n",
      "    The return value is an integer if ndigits is omitted or None.  Otherwise\n",
      "    the return value has the same type as the number.  ndigits may be negative.\n",
      "\n",
      "0.0\n",
      "1920.0\n",
      "1900.0\n",
      "2000.0\n",
      "0.0\n"
     ]
    }
   ],
   "source": [
    "# Put your test code here\n",
    "help(round)\n",
    "print(round(1921.1212,-11))\n",
    "print(round(1921.1212,-1))\n",
    "print(round(1921.1212,-2))\n",
    "print(round(1921.1212,-3))\n",
    "print(round(1921.1212,-4))"
   ]
  },
  {
   "cell_type": "markdown",
   "id": "41a8e7c8",
   "metadata": {
    "papermill": {
     "duration": 0.005129,
     "end_time": "2023-07-24T22:59:05.364012",
     "exception": false,
     "start_time": "2023-07-24T22:59:05.358883",
     "status": "completed"
    },
    "tags": []
   },
   "source": [
    "Can you think of a case where this would be useful?  Once you're ready, run the code cell below to see the answer and to receive credit for completing the problem."
   ]
  },
  {
   "cell_type": "code",
   "execution_count": 5,
   "id": "1c3091e0",
   "metadata": {
    "execution": {
     "iopub.execute_input": "2023-07-24T22:59:05.377493Z",
     "iopub.status.busy": "2023-07-24T22:59:05.377092Z",
     "iopub.status.idle": "2023-07-24T22:59:05.381587Z",
     "shell.execute_reply": "2023-07-24T22:59:05.380576Z"
    },
    "papermill": {
     "duration": 0.013231,
     "end_time": "2023-07-24T22:59:05.383715",
     "exception": false,
     "start_time": "2023-07-24T22:59:05.370484",
     "status": "completed"
    },
    "tags": []
   },
   "outputs": [],
   "source": [
    "# Check your answer (Run this code cell to receive credit!)\n",
    "#q2.solution()"
   ]
  },
  {
   "cell_type": "markdown",
   "id": "8257099f",
   "metadata": {
    "papermill": {
     "duration": 0.004746,
     "end_time": "2023-07-24T22:59:05.393469",
     "exception": false,
     "start_time": "2023-07-24T22:59:05.388723",
     "status": "completed"
    },
    "tags": []
   },
   "source": [
    "# 3.\n",
    "\n",
    "In the previous exercise, the candy-sharing friends Alice, Bob and Carol tried to split candies evenly. For the sake of their friendship, any candies left over would be smashed. For example, if they collectively bring home 91 candies, they'll take 30 each and smash 1.\n",
    "\n",
    "Below is a simple function that will calculate the number of candies to smash for *any* number of total candies.\n",
    "\n",
    "Modify it so that it optionally takes a second argument representing the number of friends the candies are being split between. If no second argument is provided, it should assume 3 friends, as before.\n",
    "\n",
    "Update the docstring to reflect this new behaviour."
   ]
  },
  {
   "cell_type": "code",
   "execution_count": 6,
   "id": "4cedd33b",
   "metadata": {
    "execution": {
     "iopub.execute_input": "2023-07-24T22:59:05.405106Z",
     "iopub.status.busy": "2023-07-24T22:59:05.404707Z",
     "iopub.status.idle": "2023-07-24T22:59:05.414775Z",
     "shell.execute_reply": "2023-07-24T22:59:05.413820Z"
    },
    "papermill": {
     "duration": 0.018385,
     "end_time": "2023-07-24T22:59:05.416915",
     "exception": false,
     "start_time": "2023-07-24T22:59:05.398530",
     "status": "completed"
    },
    "tags": []
   },
   "outputs": [
    {
     "data": {
      "application/javascript": [
       "parent.postMessage({\"jupyterEvent\": \"custom.exercise_interaction\", \"data\": {\"outcomeType\": 1, \"valueTowardsCompletion\": 0.16666666666666666, \"interactionType\": 1, \"questionType\": 2, \"questionId\": \"3_CandySmashingFunctionProblem\", \"learnToolsVersion\": \"0.3.4\", \"failureMessage\": \"\", \"exceptionClass\": \"\", \"trace\": \"\"}}, \"*\")"
      ],
      "text/plain": [
       "<IPython.core.display.Javascript object>"
      ]
     },
     "metadata": {},
     "output_type": "display_data"
    },
    {
     "data": {
      "text/markdown": [
       "<span style=\"color:#33cc33\">Correct</span>"
      ],
      "text/plain": [
       "Correct"
      ]
     },
     "metadata": {},
     "output_type": "display_data"
    }
   ],
   "source": [
    "def to_smash(total_candies, n_friends=3):\n",
    "    \"\"\"Return the number of leftover candies that must be smashed after distributing\n",
    "    the given number of candies evenly between n_friends friends.\n",
    "    \n",
    "    >>> to_smash(91,3)\n",
    "    1\n",
    "    \"\"\"\n",
    "    return total_candies % n_friends\n",
    "\n",
    "# Check your answer\n",
    "q3.check()"
   ]
  },
  {
   "cell_type": "code",
   "execution_count": 7,
   "id": "139d932c",
   "metadata": {
    "execution": {
     "iopub.execute_input": "2023-07-24T22:59:05.429722Z",
     "iopub.status.busy": "2023-07-24T22:59:05.428898Z",
     "iopub.status.idle": "2023-07-24T22:59:05.433737Z",
     "shell.execute_reply": "2023-07-24T22:59:05.432474Z"
    },
    "papermill": {
     "duration": 0.013526,
     "end_time": "2023-07-24T22:59:05.435822",
     "exception": false,
     "start_time": "2023-07-24T22:59:05.422296",
     "status": "completed"
    },
    "tags": []
   },
   "outputs": [],
   "source": [
    "#q3.hint()"
   ]
  },
  {
   "cell_type": "code",
   "execution_count": 8,
   "id": "0749a425",
   "metadata": {
    "execution": {
     "iopub.execute_input": "2023-07-24T22:59:05.448750Z",
     "iopub.status.busy": "2023-07-24T22:59:05.448363Z",
     "iopub.status.idle": "2023-07-24T22:59:05.452431Z",
     "shell.execute_reply": "2023-07-24T22:59:05.451282Z"
    },
    "papermill": {
     "duration": 0.013099,
     "end_time": "2023-07-24T22:59:05.454556",
     "exception": false,
     "start_time": "2023-07-24T22:59:05.441457",
     "status": "completed"
    },
    "tags": []
   },
   "outputs": [],
   "source": [
    "#q3.solution()"
   ]
  },
  {
   "cell_type": "markdown",
   "id": "e3057b44",
   "metadata": {
    "papermill": {
     "duration": 0.005867,
     "end_time": "2023-07-24T22:59:05.465889",
     "exception": false,
     "start_time": "2023-07-24T22:59:05.460022",
     "status": "completed"
    },
    "tags": []
   },
   "source": [
    "# 4. (Optional)\n",
    "\n",
    "It may not be fun, but reading and understanding error messages will be an important part of your Python career.\n",
    "\n",
    "Each code cell below contains some commented buggy code. For each cell...\n",
    "\n",
    "1. Read the code and predict what you think will happen when it's run.\n",
    "2. Then uncomment the code and run it to see what happens. (**Tip**: In the kernel editor, you can highlight several lines and press `ctrl`+`/` to toggle commenting.)\n",
    "3. Fix the code (so that it accomplishes its intended purpose without throwing an exception)\n",
    "\n",
    "<!-- TODO: should this be autochecked? Delta is probably pretty small. -->"
   ]
  },
  {
   "cell_type": "code",
   "execution_count": 9,
   "id": "d22b0ab1",
   "metadata": {
    "execution": {
     "iopub.execute_input": "2023-07-24T22:59:05.480292Z",
     "iopub.status.busy": "2023-07-24T22:59:05.479938Z",
     "iopub.status.idle": "2023-07-24T22:59:05.486509Z",
     "shell.execute_reply": "2023-07-24T22:59:05.485427Z"
    },
    "papermill": {
     "duration": 0.016886,
     "end_time": "2023-07-24T22:59:05.488786",
     "exception": false,
     "start_time": "2023-07-24T22:59:05.471900",
     "status": "completed"
    },
    "tags": []
   },
   "outputs": [
    {
     "data": {
      "text/plain": [
       "10.0"
      ]
     },
     "execution_count": 9,
     "metadata": {},
     "output_type": "execute_result"
    }
   ],
   "source": [
    "def  ruound_to_two_places(x,n_digits=1):\n",
    "    return round(x,n_digits)\n",
    "ruound_to_two_places(9.9999)"
   ]
  },
  {
   "cell_type": "code",
   "execution_count": 10,
   "id": "fac7e7fd",
   "metadata": {
    "execution": {
     "iopub.execute_input": "2023-07-24T22:59:05.502313Z",
     "iopub.status.busy": "2023-07-24T22:59:05.501689Z",
     "iopub.status.idle": "2023-07-24T22:59:05.507412Z",
     "shell.execute_reply": "2023-07-24T22:59:05.506518Z"
    },
    "papermill": {
     "duration": 0.015087,
     "end_time": "2023-07-24T22:59:05.509698",
     "exception": false,
     "start_time": "2023-07-24T22:59:05.494611",
     "status": "completed"
    },
    "tags": []
   },
   "outputs": [],
   "source": [
    "x = -10\n",
    "y = 555\n",
    "# # Which of the two variables above has the smallest absolute value?\n",
    "smallest_abs = min(abs(x), abs(y))"
   ]
  },
  {
   "cell_type": "code",
   "execution_count": 11,
   "id": "6b537fc5",
   "metadata": {
    "execution": {
     "iopub.execute_input": "2023-07-24T22:59:05.524168Z",
     "iopub.status.busy": "2023-07-24T22:59:05.523432Z",
     "iopub.status.idle": "2023-07-24T22:59:05.529695Z",
     "shell.execute_reply": "2023-07-24T22:59:05.528577Z"
    },
    "papermill": {
     "duration": 0.015583,
     "end_time": "2023-07-24T22:59:05.531842",
     "exception": false,
     "start_time": "2023-07-24T22:59:05.516259",
     "status": "completed"
    },
    "tags": []
   },
   "outputs": [
    {
     "data": {
      "text/plain": [
       "10"
      ]
     },
     "execution_count": 11,
     "metadata": {},
     "output_type": "execute_result"
    }
   ],
   "source": [
    "smallest_abs"
   ]
  },
  {
   "cell_type": "code",
   "execution_count": 12,
   "id": "84879bc6",
   "metadata": {
    "execution": {
     "iopub.execute_input": "2023-07-24T22:59:05.545593Z",
     "iopub.status.busy": "2023-07-24T22:59:05.545153Z",
     "iopub.status.idle": "2023-07-24T22:59:05.550724Z",
     "shell.execute_reply": "2023-07-24T22:59:05.549553Z"
    },
    "papermill": {
     "duration": 0.015124,
     "end_time": "2023-07-24T22:59:05.552840",
     "exception": false,
     "start_time": "2023-07-24T22:59:05.537716",
     "status": "completed"
    },
    "tags": []
   },
   "outputs": [
    {
     "name": "stdout",
     "output_type": "stream",
     "text": [
      "5\n"
     ]
    }
   ],
   "source": [
    "def f(x):\n",
    "    y = abs(x)\n",
    "    return y\n",
    "\n",
    "print(f(5))"
   ]
  },
  {
   "cell_type": "markdown",
   "id": "407ca425",
   "metadata": {
    "papermill": {
     "duration": 0.00545,
     "end_time": "2023-07-24T22:59:05.564151",
     "exception": false,
     "start_time": "2023-07-24T22:59:05.558701",
     "status": "completed"
    },
    "tags": []
   },
   "source": [
    "# Keep Going\n",
    "\n",
    "Nice job with the code. Next up, you'll learn about *conditionals*, which you'll need to **[write interesting programs](https://www.kaggle.com/colinmorris/booleans-and-conditionals)**. "
   ]
  },
  {
   "cell_type": "markdown",
   "id": "4964ea33",
   "metadata": {
    "papermill": {
     "duration": 0.005811,
     "end_time": "2023-07-24T22:59:05.576136",
     "exception": false,
     "start_time": "2023-07-24T22:59:05.570325",
     "status": "completed"
    },
    "tags": []
   },
   "source": [
    "---\n",
    "\n",
    "\n",
    "\n",
    "\n",
    "*Have questions or comments? Visit the [course discussion forum](https://www.kaggle.com/learn/python/discussion) to chat with other learners.*"
   ]
  }
 ],
 "metadata": {
  "kernelspec": {
   "display_name": "Python 3",
   "language": "python",
   "name": "python3"
  },
  "language_info": {
   "codemirror_mode": {
    "name": "ipython",
    "version": 3
   },
   "file_extension": ".py",
   "mimetype": "text/x-python",
   "name": "python",
   "nbconvert_exporter": "python",
   "pygments_lexer": "ipython3",
   "version": "3.10.12"
  },
  "papermill": {
   "default_parameters": {},
   "duration": 11.641233,
   "end_time": "2023-07-24T22:59:06.410979",
   "environment_variables": {},
   "exception": null,
   "input_path": "__notebook__.ipynb",
   "output_path": "__notebook__.ipynb",
   "parameters": {},
   "start_time": "2023-07-24T22:58:54.769746",
   "version": "2.4.0"
  }
 },
 "nbformat": 4,
 "nbformat_minor": 5
}
