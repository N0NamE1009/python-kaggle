{
 "cells": [
  {
   "cell_type": "markdown",
   "id": "f3bb0e85",
   "metadata": {
    "papermill": {
     "duration": 0.006998,
     "end_time": "2023-07-24T22:58:42.104261",
     "exception": false,
     "start_time": "2023-07-24T22:58:42.097263",
     "status": "completed"
    },
    "tags": []
   },
   "source": [
    "**This notebook is an exercise in the [Python](https://www.kaggle.com/learn/python) course.  You can reference the tutorial at [this link](https://www.kaggle.com/colinmorris/functions-and-getting-help).**\n",
    "\n",
    "---\n"
   ]
  },
  {
   "cell_type": "markdown",
   "id": "c1670adb",
   "metadata": {
    "papermill": {
     "duration": 0.005783,
     "end_time": "2023-07-24T22:58:42.116415",
     "exception": false,
     "start_time": "2023-07-24T22:58:42.110632",
     "status": "completed"
    },
    "tags": []
   },
   "source": [
    "Functions are powerful. Try writing some yourself.\n",
    "\n",
    "As before, don't forget to run the setup code below before jumping into question 1."
   ]
  },
  {
   "cell_type": "code",
   "execution_count": 1,
   "id": "eb521daa",
   "metadata": {
    "_kg_hide-input": true,
    "_kg_hide-output": true,
    "execution": {
     "iopub.execute_input": "2023-07-24T22:58:42.130723Z",
     "iopub.status.busy": "2023-07-24T22:58:42.130338Z",
     "iopub.status.idle": "2023-07-24T22:58:42.178098Z",
     "shell.execute_reply": "2023-07-24T22:58:42.176883Z"
    },
    "papermill": {
     "duration": 0.058074,
     "end_time": "2023-07-24T22:58:42.180752",
     "exception": false,
     "start_time": "2023-07-24T22:58:42.122678",
     "status": "completed"
    },
    "tags": []
   },
   "outputs": [
    {
     "name": "stdout",
     "output_type": "stream",
     "text": [
      "Setup complete.\n"
     ]
    }
   ],
   "source": [
    "# SETUP. You don't need to worry for now about what this code does or how it works.\n",
    "from learntools.core import binder; binder.bind(globals())\n",
    "from learntools.python.ex2 import *\n",
    "print('Setup complete.')"
   ]
  },
  {
   "cell_type": "markdown",
   "id": "9d1bc5bd",
   "metadata": {
    "papermill": {
     "duration": 0.006006,
     "end_time": "2023-07-24T22:58:42.193145",
     "exception": false,
     "start_time": "2023-07-24T22:58:42.187139",
     "status": "completed"
    },
    "tags": []
   },
   "source": [
    "# 1.\n",
    "\n",
    "Complete the body of the following function according to its docstring.\n",
    "\n",
    "HINT: Python has a built-in function `round`."
   ]
  },
  {
   "cell_type": "code",
   "execution_count": 2,
   "id": "1a737b57",
   "metadata": {
    "execution": {
     "iopub.execute_input": "2023-07-24T22:58:42.207313Z",
     "iopub.status.busy": "2023-07-24T22:58:42.206919Z",
     "iopub.status.idle": "2023-07-24T22:58:42.217591Z",
     "shell.execute_reply": "2023-07-24T22:58:42.216799Z"
    },
    "papermill": {
     "duration": 0.020303,
     "end_time": "2023-07-24T22:58:42.219630",
     "exception": false,
     "start_time": "2023-07-24T22:58:42.199327",
     "status": "completed"
    },
    "tags": []
   },
   "outputs": [
    {
     "data": {
      "application/javascript": [
       "parent.postMessage({\"jupyterEvent\": \"custom.exercise_interaction\", \"data\": {\"outcomeType\": 1, \"valueTowardsCompletion\": 0.16666666666666666, \"interactionType\": 1, \"questionType\": 2, \"questionId\": \"1_RoundFunctionProblem\", \"learnToolsVersion\": \"0.3.4\", \"failureMessage\": \"\", \"exceptionClass\": \"\", \"trace\": \"\"}}, \"*\")"
      ],
      "text/plain": [
       "<IPython.core.display.Javascript object>"
      ]
     },
     "metadata": {},
     "output_type": "display_data"
    },
    {
     "data": {
      "text/markdown": [
       "<span style=\"color:#33cc33\">Correct</span>"
      ],
      "text/plain": [
       "Correct"
      ]
     },
     "metadata": {},
     "output_type": "display_data"
    }
   ],
   "source": [
    "def round_to_two_places(num):\n",
    "    \"\"\"Return the given number rounded to two decimal places. \n",
    "    \n",
    "    >>> round_to_two_places(3.14159)\n",
    "    3.14\n",
    "    \"\"\"\n",
    "    # Replace this body with your own code.\n",
    "    # (\"pass\" is a keyword that does literally nothing. We used it as a placeholder\n",
    "    # because after we begin a code block, Python requires at least one line of code)\n",
    "    return round(num,2)\n",
    "\n",
    "# Check your answer\n",
    "q1.check()"
   ]
  },
  {
   "cell_type": "code",
   "execution_count": 3,
   "id": "dd64fb67",
   "metadata": {
    "execution": {
     "iopub.execute_input": "2023-07-24T22:58:42.235282Z",
     "iopub.status.busy": "2023-07-24T22:58:42.234859Z",
     "iopub.status.idle": "2023-07-24T22:58:42.239842Z",
     "shell.execute_reply": "2023-07-24T22:58:42.238820Z"
    },
    "papermill": {
     "duration": 0.015378,
     "end_time": "2023-07-24T22:58:42.242173",
     "exception": false,
     "start_time": "2023-07-24T22:58:42.226795",
     "status": "completed"
    },
    "tags": []
   },
   "outputs": [],
   "source": [
    "# Uncomment the following for a hint\n",
    "#q1.hint()\n",
    "# Or uncomment the following to peek at the solution\n",
    "#q1.solution()"
   ]
  },
  {
   "cell_type": "markdown",
   "id": "90205558",
   "metadata": {
    "papermill": {
     "duration": 0.006416,
     "end_time": "2023-07-24T22:58:42.255383",
     "exception": false,
     "start_time": "2023-07-24T22:58:42.248967",
     "status": "completed"
    },
    "tags": []
   },
   "source": [
    "# 2.\n",
    "The help for `round` says that `ndigits` (the second argument) may be negative.\n",
    "What do you think will happen when it is? Try some examples in the following cell."
   ]
  },
  {
   "cell_type": "code",
   "execution_count": 4,
   "id": "e7c39fc6",
   "metadata": {
    "execution": {
     "iopub.execute_input": "2023-07-24T22:58:42.270557Z",
     "iopub.status.busy": "2023-07-24T22:58:42.269877Z",
     "iopub.status.idle": "2023-07-24T22:58:42.277277Z",
     "shell.execute_reply": "2023-07-24T22:58:42.275943Z"
    },
    "papermill": {
     "duration": 0.017525,
     "end_time": "2023-07-24T22:58:42.279516",
     "exception": false,
     "start_time": "2023-07-24T22:58:42.261991",
     "status": "completed"
    },
    "tags": []
   },
   "outputs": [
    {
     "name": "stdout",
     "output_type": "stream",
     "text": [
      "Help on built-in function round in module builtins:\n",
      "\n",
      "round(number, ndigits=None)\n",
      "    Round a number to a given precision in decimal digits.\n",
      "    \n",
      "    The return value is an integer if ndigits is omitted or None.  Otherwise\n",
      "    the return value has the same type as the number.  ndigits may be negative.\n",
      "\n",
      "0.0\n",
      "1920.0\n",
      "1900.0\n",
      "2000.0\n",
      "0.0\n"
     ]
    }
   ],
   "source": [
    "# Put your test code here\n",
    "help(round)\n",
    "print(round(1921.1212,-11))\n",
    "print(round(1921.1212,-1))\n",
    "print(round(1921.1212,-2))\n",
    "print(round(1921.1212,-3))\n",
    "print(round(1921.1212,-4))"
   ]
  },
  {
   "cell_type": "markdown",
   "id": "4c62e0c2",
   "metadata": {
    "papermill": {
     "duration": 0.006382,
     "end_time": "2023-07-24T22:58:42.292647",
     "exception": false,
     "start_time": "2023-07-24T22:58:42.286265",
     "status": "completed"
    },
    "tags": []
   },
   "source": [
    "Can you think of a case where this would be useful?  Once you're ready, run the code cell below to see the answer and to receive credit for completing the problem."
   ]
  },
  {
   "cell_type": "code",
   "execution_count": 5,
   "id": "7e065b3e",
   "metadata": {
    "execution": {
     "iopub.execute_input": "2023-07-24T22:58:42.308834Z",
     "iopub.status.busy": "2023-07-24T22:58:42.308458Z",
     "iopub.status.idle": "2023-07-24T22:58:42.312184Z",
     "shell.execute_reply": "2023-07-24T22:58:42.311409Z"
    },
    "papermill": {
     "duration": 0.014814,
     "end_time": "2023-07-24T22:58:42.314165",
     "exception": false,
     "start_time": "2023-07-24T22:58:42.299351",
     "status": "completed"
    },
    "tags": []
   },
   "outputs": [],
   "source": [
    "# Check your answer (Run this code cell to receive credit!)\n",
    "#q2.solution()"
   ]
  },
  {
   "cell_type": "markdown",
   "id": "243cb90d",
   "metadata": {
    "papermill": {
     "duration": 0.006407,
     "end_time": "2023-07-24T22:58:42.327675",
     "exception": false,
     "start_time": "2023-07-24T22:58:42.321268",
     "status": "completed"
    },
    "tags": []
   },
   "source": [
    "# 3.\n",
    "\n",
    "In the previous exercise, the candy-sharing friends Alice, Bob and Carol tried to split candies evenly. For the sake of their friendship, any candies left over would be smashed. For example, if they collectively bring home 91 candies, they'll take 30 each and smash 1.\n",
    "\n",
    "Below is a simple function that will calculate the number of candies to smash for *any* number of total candies.\n",
    "\n",
    "Modify it so that it optionally takes a second argument representing the number of friends the candies are being split between. If no second argument is provided, it should assume 3 friends, as before.\n",
    "\n",
    "Update the docstring to reflect this new behaviour."
   ]
  },
  {
   "cell_type": "code",
   "execution_count": 6,
   "id": "cf205bee",
   "metadata": {
    "execution": {
     "iopub.execute_input": "2023-07-24T22:58:42.342576Z",
     "iopub.status.busy": "2023-07-24T22:58:42.342162Z",
     "iopub.status.idle": "2023-07-24T22:58:42.352119Z",
     "shell.execute_reply": "2023-07-24T22:58:42.350998Z"
    },
    "papermill": {
     "duration": 0.020164,
     "end_time": "2023-07-24T22:58:42.354516",
     "exception": false,
     "start_time": "2023-07-24T22:58:42.334352",
     "status": "completed"
    },
    "tags": []
   },
   "outputs": [
    {
     "data": {
      "application/javascript": [
       "parent.postMessage({\"jupyterEvent\": \"custom.exercise_interaction\", \"data\": {\"outcomeType\": 1, \"valueTowardsCompletion\": 0.16666666666666666, \"interactionType\": 1, \"questionType\": 2, \"questionId\": \"3_CandySmashingFunctionProblem\", \"learnToolsVersion\": \"0.3.4\", \"failureMessage\": \"\", \"exceptionClass\": \"\", \"trace\": \"\"}}, \"*\")"
      ],
      "text/plain": [
       "<IPython.core.display.Javascript object>"
      ]
     },
     "metadata": {},
     "output_type": "display_data"
    },
    {
     "data": {
      "text/markdown": [
       "<span style=\"color:#33cc33\">Correct</span>"
      ],
      "text/plain": [
       "Correct"
      ]
     },
     "metadata": {},
     "output_type": "display_data"
    }
   ],
   "source": [
    "def to_smash(total_candies, n_friends=3):\n",
    "    \"\"\"Return the number of leftover candies that must be smashed after distributing\n",
    "    the given number of candies evenly between n_friends friends.\n",
    "    \n",
    "    >>> to_smash(91,3)\n",
    "    1\n",
    "    \"\"\"\n",
    "    return total_candies % n_friends\n",
    "\n",
    "# Check your answer\n",
    "q3.check()"
   ]
  },
  {
   "cell_type": "code",
   "execution_count": 7,
   "id": "bcf0064d",
   "metadata": {
    "execution": {
     "iopub.execute_input": "2023-07-24T22:58:42.369791Z",
     "iopub.status.busy": "2023-07-24T22:58:42.369426Z",
     "iopub.status.idle": "2023-07-24T22:58:42.374167Z",
     "shell.execute_reply": "2023-07-24T22:58:42.373128Z"
    },
    "papermill": {
     "duration": 0.014953,
     "end_time": "2023-07-24T22:58:42.376342",
     "exception": false,
     "start_time": "2023-07-24T22:58:42.361389",
     "status": "completed"
    },
    "tags": []
   },
   "outputs": [],
   "source": [
    "#q3.hint()"
   ]
  },
  {
   "cell_type": "code",
   "execution_count": 8,
   "id": "06f889c3",
   "metadata": {
    "execution": {
     "iopub.execute_input": "2023-07-24T22:58:42.392682Z",
     "iopub.status.busy": "2023-07-24T22:58:42.392256Z",
     "iopub.status.idle": "2023-07-24T22:58:42.396843Z",
     "shell.execute_reply": "2023-07-24T22:58:42.395888Z"
    },
    "papermill": {
     "duration": 0.015181,
     "end_time": "2023-07-24T22:58:42.398858",
     "exception": false,
     "start_time": "2023-07-24T22:58:42.383677",
     "status": "completed"
    },
    "tags": []
   },
   "outputs": [],
   "source": [
    "#q3.solution()"
   ]
  },
  {
   "cell_type": "markdown",
   "id": "7d5999d5",
   "metadata": {
    "papermill": {
     "duration": 0.007183,
     "end_time": "2023-07-24T22:58:42.413323",
     "exception": false,
     "start_time": "2023-07-24T22:58:42.406140",
     "status": "completed"
    },
    "tags": []
   },
   "source": [
    "# 4. (Optional)\n",
    "\n",
    "It may not be fun, but reading and understanding error messages will be an important part of your Python career.\n",
    "\n",
    "Each code cell below contains some commented buggy code. For each cell...\n",
    "\n",
    "1. Read the code and predict what you think will happen when it's run.\n",
    "2. Then uncomment the code and run it to see what happens. (**Tip**: In the kernel editor, you can highlight several lines and press `ctrl`+`/` to toggle commenting.)\n",
    "3. Fix the code (so that it accomplishes its intended purpose without throwing an exception)\n",
    "\n",
    "<!-- TODO: should this be autochecked? Delta is probably pretty small. -->"
   ]
  },
  {
   "cell_type": "code",
   "execution_count": 9,
   "id": "ee0267a8",
   "metadata": {
    "execution": {
     "iopub.execute_input": "2023-07-24T22:58:42.430186Z",
     "iopub.status.busy": "2023-07-24T22:58:42.429235Z",
     "iopub.status.idle": "2023-07-24T22:58:42.436859Z",
     "shell.execute_reply": "2023-07-24T22:58:42.435981Z"
    },
    "papermill": {
     "duration": 0.018452,
     "end_time": "2023-07-24T22:58:42.439089",
     "exception": false,
     "start_time": "2023-07-24T22:58:42.420637",
     "status": "completed"
    },
    "tags": []
   },
   "outputs": [
    {
     "data": {
      "text/plain": [
       "10.0"
      ]
     },
     "execution_count": 9,
     "metadata": {},
     "output_type": "execute_result"
    }
   ],
   "source": [
    "def  ruound_to_two_places(x,n_digits=1):\n",
    "    return round(x,n_digits)\n",
    "ruound_to_two_places(9.9999)"
   ]
  },
  {
   "cell_type": "code",
   "execution_count": 10,
   "id": "a2a9b51c",
   "metadata": {
    "execution": {
     "iopub.execute_input": "2023-07-24T22:58:42.456187Z",
     "iopub.status.busy": "2023-07-24T22:58:42.455778Z",
     "iopub.status.idle": "2023-07-24T22:58:42.461192Z",
     "shell.execute_reply": "2023-07-24T22:58:42.460136Z"
    },
    "papermill": {
     "duration": 0.01682,
     "end_time": "2023-07-24T22:58:42.463622",
     "exception": false,
     "start_time": "2023-07-24T22:58:42.446802",
     "status": "completed"
    },
    "tags": []
   },
   "outputs": [],
   "source": [
    "x = -10\n",
    "y = 555\n",
    "# # Which of the two variables above has the smallest absolute value?\n",
    "smallest_abs = min(abs(x), abs(y))"
   ]
  },
  {
   "cell_type": "code",
   "execution_count": 11,
   "id": "47c8316e",
   "metadata": {
    "execution": {
     "iopub.execute_input": "2023-07-24T22:58:42.480281Z",
     "iopub.status.busy": "2023-07-24T22:58:42.479882Z",
     "iopub.status.idle": "2023-07-24T22:58:42.486716Z",
     "shell.execute_reply": "2023-07-24T22:58:42.485577Z"
    },
    "papermill": {
     "duration": 0.017834,
     "end_time": "2023-07-24T22:58:42.488936",
     "exception": false,
     "start_time": "2023-07-24T22:58:42.471102",
     "status": "completed"
    },
    "tags": []
   },
   "outputs": [
    {
     "data": {
      "text/plain": [
       "10"
      ]
     },
     "execution_count": 11,
     "metadata": {},
     "output_type": "execute_result"
    }
   ],
   "source": [
    "smallest_abs"
   ]
  },
  {
   "cell_type": "code",
   "execution_count": 12,
   "id": "35c2c3f6",
   "metadata": {
    "execution": {
     "iopub.execute_input": "2023-07-24T22:58:42.505597Z",
     "iopub.status.busy": "2023-07-24T22:58:42.505186Z",
     "iopub.status.idle": "2023-07-24T22:58:42.511252Z",
     "shell.execute_reply": "2023-07-24T22:58:42.510018Z"
    },
    "papermill": {
     "duration": 0.017321,
     "end_time": "2023-07-24T22:58:42.513757",
     "exception": false,
     "start_time": "2023-07-24T22:58:42.496436",
     "status": "completed"
    },
    "tags": []
   },
   "outputs": [
    {
     "name": "stdout",
     "output_type": "stream",
     "text": [
      "5\n"
     ]
    }
   ],
   "source": [
    "def f(x):\n",
    "    y = abs(x)\n",
    "    return y\n",
    "\n",
    "print(f(5))"
   ]
  },
  {
   "cell_type": "markdown",
   "id": "1d233612",
   "metadata": {
    "papermill": {
     "duration": 0.007508,
     "end_time": "2023-07-24T22:58:42.529083",
     "exception": false,
     "start_time": "2023-07-24T22:58:42.521575",
     "status": "completed"
    },
    "tags": []
   },
   "source": [
    "# Keep Going\n",
    "\n",
    "Nice job with the code. Next up, you'll learn about *conditionals*, which you'll need to **[write interesting programs](https://www.kaggle.com/colinmorris/booleans-and-conditionals)**. "
   ]
  },
  {
   "cell_type": "markdown",
   "id": "a1fc940a",
   "metadata": {
    "papermill": {
     "duration": 0.007488,
     "end_time": "2023-07-24T22:58:42.544405",
     "exception": false,
     "start_time": "2023-07-24T22:58:42.536917",
     "status": "completed"
    },
    "tags": []
   },
   "source": [
    "---\n",
    "\n",
    "\n",
    "\n",
    "\n",
    "*Have questions or comments? Visit the [course discussion forum](https://www.kaggle.com/learn/python/discussion) to chat with other learners.*"
   ]
  }
 ],
 "metadata": {
  "kernelspec": {
   "display_name": "Python 3",
   "language": "python",
   "name": "python3"
  },
  "language_info": {
   "codemirror_mode": {
    "name": "ipython",
    "version": 3
   },
   "file_extension": ".py",
   "mimetype": "text/x-python",
   "name": "python",
   "nbconvert_exporter": "python",
   "pygments_lexer": "ipython3",
   "version": "3.10.12"
  },
  "papermill": {
   "default_parameters": {},
   "duration": 12.353218,
   "end_time": "2023-07-24T22:58:43.374328",
   "environment_variables": {},
   "exception": null,
   "input_path": "__notebook__.ipynb",
   "output_path": "__notebook__.ipynb",
   "parameters": {},
   "start_time": "2023-07-24T22:58:31.021110",
   "version": "2.4.0"
  }
 },
 "nbformat": 4,
 "nbformat_minor": 5
}
