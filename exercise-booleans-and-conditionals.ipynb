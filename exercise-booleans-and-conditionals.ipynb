{
 "cells": [
  {
   "cell_type": "markdown",
   "id": "1bd065d3",
   "metadata": {
    "papermill": {
     "duration": 0.01286,
     "end_time": "2023-07-24T23:39:37.040558",
     "exception": false,
     "start_time": "2023-07-24T23:39:37.027698",
     "status": "completed"
    },
    "tags": []
   },
   "source": [
    "**This notebook is an exercise in the [Python](https://www.kaggle.com/learn/python) course.  You can reference the tutorial at [this link](https://www.kaggle.com/colinmorris/booleans-and-conditionals).**\n",
    "\n",
    "---\n"
   ]
  },
  {
   "cell_type": "markdown",
   "id": "a84dad8a",
   "metadata": {
    "papermill": {
     "duration": 0.012017,
     "end_time": "2023-07-24T23:39:37.065171",
     "exception": false,
     "start_time": "2023-07-24T23:39:37.053154",
     "status": "completed"
    },
    "tags": []
   },
   "source": [
    "In this exercise, you'll put to work what you have learned about booleans and conditionals.\n",
    "\n",
    "To get started, **run the setup code below** before writing your own code (and if you leave this notebook and come back later, don't forget to run the setup code again)."
   ]
  },
  {
   "cell_type": "code",
   "execution_count": 1,
   "id": "031a6a9c",
   "metadata": {
    "execution": {
     "iopub.execute_input": "2023-07-24T23:39:37.093764Z",
     "iopub.status.busy": "2023-07-24T23:39:37.093216Z",
     "iopub.status.idle": "2023-07-24T23:39:37.144820Z",
     "shell.execute_reply": "2023-07-24T23:39:37.143398Z"
    },
    "papermill": {
     "duration": 0.069765,
     "end_time": "2023-07-24T23:39:37.147227",
     "exception": false,
     "start_time": "2023-07-24T23:39:37.077462",
     "status": "completed"
    },
    "tags": []
   },
   "outputs": [
    {
     "name": "stdout",
     "output_type": "stream",
     "text": [
      "Setup complete.\n"
     ]
    }
   ],
   "source": [
    "from learntools.core import binder; binder.bind(globals())\n",
    "from learntools.python.ex3 import *\n",
    "print('Setup complete.')"
   ]
  },
  {
   "cell_type": "markdown",
   "id": "c37ced1b",
   "metadata": {
    "papermill": {
     "duration": 0.012615,
     "end_time": "2023-07-24T23:39:37.172511",
     "exception": false,
     "start_time": "2023-07-24T23:39:37.159896",
     "status": "completed"
    },
    "tags": []
   },
   "source": [
    "# 1.\n",
    "\n",
    "Many programming languages have [`sign`](https://en.wikipedia.org/wiki/Sign_function) available as a built-in function. Python doesn't, but we can define our own!\n",
    "\n",
    "In the cell below, define a function called `sign` which takes a numerical argument and returns -1 if it's negative, 1 if it's positive, and 0 if it's 0."
   ]
  },
  {
   "cell_type": "code",
   "execution_count": 2,
   "id": "809beda0",
   "metadata": {
    "execution": {
     "iopub.execute_input": "2023-07-24T23:39:37.199805Z",
     "iopub.status.busy": "2023-07-24T23:39:37.199062Z",
     "iopub.status.idle": "2023-07-24T23:39:37.209040Z",
     "shell.execute_reply": "2023-07-24T23:39:37.207868Z"
    },
    "papermill": {
     "duration": 0.026547,
     "end_time": "2023-07-24T23:39:37.211657",
     "exception": false,
     "start_time": "2023-07-24T23:39:37.185110",
     "status": "completed"
    },
    "tags": []
   },
   "outputs": [
    {
     "data": {
      "application/javascript": [
       "parent.postMessage({\"jupyterEvent\": \"custom.exercise_interaction\", \"data\": {\"outcomeType\": 1, \"valueTowardsCompletion\": 0.2, \"interactionType\": 1, \"questionType\": 2, \"questionId\": \"1_SignFunctionProblem\", \"learnToolsVersion\": \"0.3.4\", \"failureMessage\": \"\", \"exceptionClass\": \"\", \"trace\": \"\"}}, \"*\")"
      ],
      "text/plain": [
       "<IPython.core.display.Javascript object>"
      ]
     },
     "metadata": {},
     "output_type": "display_data"
    },
    {
     "data": {
      "text/markdown": [
       "<span style=\"color:#33cc33\">Correct</span>"
      ],
      "text/plain": [
       "Correct"
      ]
     },
     "metadata": {},
     "output_type": "display_data"
    }
   ],
   "source": [
    "# Your code goes here. Define a function called 'sign'\n",
    "def sign(num):\n",
    "    if num>0:\n",
    "        return 1\n",
    "    elif num<0:\n",
    "        return -1\n",
    "    else:\n",
    "        return 0\n",
    "\n",
    "# Check your answer\n",
    "q1.check()"
   ]
  },
  {
   "cell_type": "code",
   "execution_count": 3,
   "id": "059cc6b4",
   "metadata": {
    "execution": {
     "iopub.execute_input": "2023-07-24T23:39:37.239558Z",
     "iopub.status.busy": "2023-07-24T23:39:37.239136Z",
     "iopub.status.idle": "2023-07-24T23:39:37.243985Z",
     "shell.execute_reply": "2023-07-24T23:39:37.242834Z"
    },
    "papermill": {
     "duration": 0.0215,
     "end_time": "2023-07-24T23:39:37.246406",
     "exception": false,
     "start_time": "2023-07-24T23:39:37.224906",
     "status": "completed"
    },
    "tags": []
   },
   "outputs": [],
   "source": [
    "#q1.solution()"
   ]
  },
  {
   "cell_type": "markdown",
   "id": "ef7cc812",
   "metadata": {
    "papermill": {
     "duration": 0.012439,
     "end_time": "2023-07-24T23:39:37.271837",
     "exception": false,
     "start_time": "2023-07-24T23:39:37.259398",
     "status": "completed"
    },
    "tags": []
   },
   "source": [
    "# 2.\n",
    "\n",
    "We've decided to add \"logging\" to our `to_smash` function from the previous exercise."
   ]
  },
  {
   "cell_type": "code",
   "execution_count": 4,
   "id": "f7e37177",
   "metadata": {
    "execution": {
     "iopub.execute_input": "2023-07-24T23:39:37.299319Z",
     "iopub.status.busy": "2023-07-24T23:39:37.298922Z",
     "iopub.status.idle": "2023-07-24T23:39:37.307036Z",
     "shell.execute_reply": "2023-07-24T23:39:37.305867Z"
    },
    "papermill": {
     "duration": 0.024609,
     "end_time": "2023-07-24T23:39:37.309339",
     "exception": false,
     "start_time": "2023-07-24T23:39:37.284730",
     "status": "completed"
    },
    "tags": []
   },
   "outputs": [
    {
     "name": "stdout",
     "output_type": "stream",
     "text": [
      "Splitting 91 candies\n"
     ]
    },
    {
     "data": {
      "text/plain": [
       "1"
      ]
     },
     "execution_count": 4,
     "metadata": {},
     "output_type": "execute_result"
    }
   ],
   "source": [
    "def to_smash(total_candies):\n",
    "    \"\"\"Return the number of leftover candies that must be smashed after distributing\n",
    "    the given number of candies evenly between 3 friends.\n",
    "    \n",
    "    >>> to_smash(91)\n",
    "    1\n",
    "    \"\"\"\n",
    "    print(\"Splitting\", total_candies, \"candies\")\n",
    "    return total_candies % 3\n",
    "\n",
    "to_smash(91)"
   ]
  },
  {
   "cell_type": "markdown",
   "id": "f038ff6d",
   "metadata": {
    "papermill": {
     "duration": 0.013183,
     "end_time": "2023-07-24T23:39:37.335638",
     "exception": false,
     "start_time": "2023-07-24T23:39:37.322455",
     "status": "completed"
    },
    "tags": []
   },
   "source": [
    "What happens if we call it with `total_candies = 1`?"
   ]
  },
  {
   "cell_type": "code",
   "execution_count": 5,
   "id": "b7ebaa88",
   "metadata": {
    "execution": {
     "iopub.execute_input": "2023-07-24T23:39:37.364087Z",
     "iopub.status.busy": "2023-07-24T23:39:37.363369Z",
     "iopub.status.idle": "2023-07-24T23:39:37.371131Z",
     "shell.execute_reply": "2023-07-24T23:39:37.369715Z"
    },
    "papermill": {
     "duration": 0.024469,
     "end_time": "2023-07-24T23:39:37.373332",
     "exception": false,
     "start_time": "2023-07-24T23:39:37.348863",
     "status": "completed"
    },
    "tags": []
   },
   "outputs": [
    {
     "name": "stdout",
     "output_type": "stream",
     "text": [
      "Splitting 1 candies\n"
     ]
    },
    {
     "data": {
      "text/plain": [
       "1"
      ]
     },
     "execution_count": 5,
     "metadata": {},
     "output_type": "execute_result"
    }
   ],
   "source": [
    "to_smash(1)"
   ]
  },
  {
   "cell_type": "markdown",
   "id": "728b7599",
   "metadata": {
    "papermill": {
     "duration": 0.012919,
     "end_time": "2023-07-24T23:39:37.399585",
     "exception": false,
     "start_time": "2023-07-24T23:39:37.386666",
     "status": "completed"
    },
    "tags": []
   },
   "source": [
    "That isn't great grammar!\n",
    "\n",
    "Modify the definition in the cell below to correct the grammar of our print statement. (If there's only one candy, we should use the singular \"candy\" instead of the plural \"candies\")"
   ]
  },
  {
   "cell_type": "code",
   "execution_count": 6,
   "id": "f5ec34a5",
   "metadata": {
    "execution": {
     "iopub.execute_input": "2023-07-24T23:39:37.427889Z",
     "iopub.status.busy": "2023-07-24T23:39:37.427468Z",
     "iopub.status.idle": "2023-07-24T23:39:37.434878Z",
     "shell.execute_reply": "2023-07-24T23:39:37.433588Z"
    },
    "papermill": {
     "duration": 0.023999,
     "end_time": "2023-07-24T23:39:37.437116",
     "exception": false,
     "start_time": "2023-07-24T23:39:37.413117",
     "status": "completed"
    },
    "tags": []
   },
   "outputs": [
    {
     "name": "stdout",
     "output_type": "stream",
     "text": [
      "Splitting 91 candies\n",
      "Splitting 1 candy\n"
     ]
    }
   ],
   "source": [
    "def to_smash(total_candies):\n",
    "    \"\"\"Return the number of leftover candies that must be smashed after distributing\n",
    "    the given number of candies evenly between 3 friends.\n",
    "    \n",
    "    >>> to_smash(91)\n",
    "    1\n",
    "    \"\"\"\n",
    "    if total_candies==1:\n",
    "        print(\"Splitting 1 candy\")\n",
    "    else:\n",
    "        print(\"Splitting\", total_candies, \"candies\")\n",
    "\n",
    "to_smash(91)\n",
    "to_smash(1)\n"
   ]
  },
  {
   "cell_type": "code",
   "execution_count": 7,
   "id": "0f81f258",
   "metadata": {
    "execution": {
     "iopub.execute_input": "2023-07-24T23:39:37.466659Z",
     "iopub.status.busy": "2023-07-24T23:39:37.466293Z",
     "iopub.status.idle": "2023-07-24T23:39:37.475059Z",
     "shell.execute_reply": "2023-07-24T23:39:37.474227Z"
    },
    "papermill": {
     "duration": 0.026188,
     "end_time": "2023-07-24T23:39:37.477182",
     "exception": false,
     "start_time": "2023-07-24T23:39:37.450994",
     "status": "completed"
    },
    "tags": []
   },
   "outputs": [
    {
     "data": {
      "application/javascript": [
       "parent.postMessage({\"jupyterEvent\": \"custom.exercise_interaction\", \"data\": {\"outcomeType\": 1, \"valueTowardsCompletion\": 0.2, \"interactionType\": 1, \"questionType\": 4, \"questionId\": \"2_PluralizationProblem\", \"learnToolsVersion\": \"0.3.4\", \"failureMessage\": \"\", \"exceptionClass\": \"\", \"trace\": \"\"}}, \"*\")"
      ],
      "text/plain": [
       "<IPython.core.display.Javascript object>"
      ]
     },
     "metadata": {},
     "output_type": "display_data"
    },
    {
     "data": {
      "text/markdown": [
       "<span style=\"color:#33cc33\">Correct:</span> \n",
       "\n",
       "A straightforward (and totally fine) solution is to replace the original `print` call with:\n",
       "\n",
       "```python\n",
       "if total_candies == 1:\n",
       "    print(\"Splitting 1 candy\")\n",
       "else:\n",
       "    print(\"Splitting\", total_candies, \"candies\")\n",
       "```\n",
       "\n",
       "Here's a slightly more succinct solution using a conditional expression:\n",
       "\n",
       "```python\n",
       "print(\"Splitting\", total_candies, \"candy\" if total_candies == 1 else \"candies\")\n",
       "```"
      ],
      "text/plain": [
       "Correct: \n",
       "\n",
       "A straightforward (and totally fine) solution is to replace the original `print` call with:\n",
       "\n",
       "```python\n",
       "if total_candies == 1:\n",
       "    print(\"Splitting 1 candy\")\n",
       "else:\n",
       "    print(\"Splitting\", total_candies, \"candies\")\n",
       "```\n",
       "\n",
       "Here's a slightly more succinct solution using a conditional expression:\n",
       "\n",
       "```python\n",
       "print(\"Splitting\", total_candies, \"candy\" if total_candies == 1 else \"candies\")\n",
       "```"
      ]
     },
     "metadata": {},
     "output_type": "display_data"
    }
   ],
   "source": [
    "q2.check()"
   ]
  },
  {
   "cell_type": "markdown",
   "id": "37d17ffc",
   "metadata": {
    "papermill": {
     "duration": 0.013358,
     "end_time": "2023-07-24T23:39:37.504533",
     "exception": false,
     "start_time": "2023-07-24T23:39:37.491175",
     "status": "completed"
    },
    "tags": []
   },
   "source": [
    "To get credit for completing this problem, and to see the official answer, run the code cell below."
   ]
  },
  {
   "cell_type": "code",
   "execution_count": 8,
   "id": "f9ebc411",
   "metadata": {
    "execution": {
     "iopub.execute_input": "2023-07-24T23:39:37.533936Z",
     "iopub.status.busy": "2023-07-24T23:39:37.533492Z",
     "iopub.status.idle": "2023-07-24T23:39:37.537385Z",
     "shell.execute_reply": "2023-07-24T23:39:37.536547Z"
    },
    "papermill": {
     "duration": 0.021011,
     "end_time": "2023-07-24T23:39:37.539434",
     "exception": false,
     "start_time": "2023-07-24T23:39:37.518423",
     "status": "completed"
    },
    "tags": []
   },
   "outputs": [],
   "source": [
    "# Check your answer (Run this code cell to receive credit!)\n",
    "#q2.solution()"
   ]
  },
  {
   "cell_type": "markdown",
   "id": "51551874",
   "metadata": {
    "papermill": {
     "duration": 0.013384,
     "end_time": "2023-07-24T23:39:37.566670",
     "exception": false,
     "start_time": "2023-07-24T23:39:37.553286",
     "status": "completed"
    },
    "tags": []
   },
   "source": [
    "# 3. <span title=\"A bit spicy\" style=\"color: darkgreen \">🌶️</span>\n",
    "\n",
    "In the tutorial, we talked about deciding whether we're prepared for the weather. I said that I'm safe from today's weather if...\n",
    "- I have an umbrella...\n",
    "- or if the rain isn't too heavy and I have a hood...\n",
    "- otherwise, I'm still fine unless it's raining *and* it's a workday\n",
    "\n",
    "The function below uses our first attempt at turning this logic into a Python expression. I claimed that there was a bug in that code. Can you find it?\n",
    "\n",
    "To prove that `prepared_for_weather` is buggy, come up with a set of inputs where either:\n",
    "- the function returns `False` (but should have returned `True`), or\n",
    "- the function returned `True` (but should have returned `False`).\n",
    "\n",
    "To get credit for completing this question, your code should return a <font color='#33cc33'>Correct</font> result."
   ]
  },
  {
   "cell_type": "code",
   "execution_count": 9,
   "id": "ba9c776b",
   "metadata": {
    "execution": {
     "iopub.execute_input": "2023-07-24T23:39:37.596033Z",
     "iopub.status.busy": "2023-07-24T23:39:37.595616Z",
     "iopub.status.idle": "2023-07-24T23:39:37.607428Z",
     "shell.execute_reply": "2023-07-24T23:39:37.606345Z"
    },
    "papermill": {
     "duration": 0.029635,
     "end_time": "2023-07-24T23:39:37.610236",
     "exception": false,
     "start_time": "2023-07-24T23:39:37.580601",
     "status": "completed"
    },
    "tags": []
   },
   "outputs": [
    {
     "name": "stdout",
     "output_type": "stream",
     "text": [
      "True\n"
     ]
    },
    {
     "data": {
      "application/javascript": [
       "parent.postMessage({\"jupyterEvent\": \"custom.exercise_interaction\", \"data\": {\"outcomeType\": 1, \"valueTowardsCompletion\": 0.2, \"interactionType\": 1, \"questionType\": 1, \"questionId\": \"3_WeatherDebug\", \"learnToolsVersion\": \"0.3.4\", \"failureMessage\": \"\", \"exceptionClass\": \"\", \"trace\": \"\"}}, \"*\")"
      ],
      "text/plain": [
       "<IPython.core.display.Javascript object>"
      ]
     },
     "metadata": {},
     "output_type": "display_data"
    },
    {
     "data": {
      "text/markdown": [
       "<span style=\"color:#33cc33\">Correct:</span> \n",
       "\n",
       "One example of a failing test case is:\n",
       "\n",
       "```python\n",
       "have_umbrella = False\n",
       "rain_level = 0.0\n",
       "have_hood = False\n",
       "is_workday = False\n",
       "```\n",
       "\n",
       "Clearly we're prepared for the weather in this case. It's not raining. Not only that, it's not a workday, so we don't even need to leave the house! But our function will return False on these inputs.\n",
       "\n",
       "The key problem is that Python implictly parenthesizes the last part as:\n",
       "\n",
       "```python\n",
       "(not (rain_level > 0)) and is_workday\n",
       "```\n",
       "\n",
       "Whereas what we were trying to express would look more like:\n",
       "\n",
       "```python\n",
       "not (rain_level > 0 and is_workday)\n",
       "```\n"
      ],
      "text/plain": [
       "Correct: \n",
       "\n",
       "One example of a failing test case is:\n",
       "\n",
       "```python\n",
       "have_umbrella = False\n",
       "rain_level = 0.0\n",
       "have_hood = False\n",
       "is_workday = False\n",
       "```\n",
       "\n",
       "Clearly we're prepared for the weather in this case. It's not raining. Not only that, it's not a workday, so we don't even need to leave the house! But our function will return False on these inputs.\n",
       "\n",
       "The key problem is that Python implictly parenthesizes the last part as:\n",
       "\n",
       "```python\n",
       "(not (rain_level > 0)) and is_workday\n",
       "```\n",
       "\n",
       "Whereas what we were trying to express would look more like:\n",
       "\n",
       "```python\n",
       "not (rain_level > 0 and is_workday)\n",
       "```"
      ]
     },
     "metadata": {},
     "output_type": "display_data"
    }
   ],
   "source": [
    "def prepared_for_weather(have_umbrella, rain_level, have_hood, is_workday):\n",
    "    # Don't change this code. Our goal is just to find the bug, not fix it!\n",
    "    return have_umbrella or (rain_level < 5 and have_hood) or not (rain_level > 0 and is_workday)\n",
    "\n",
    "# Change the values of these inputs so they represent a case where prepared_for_weather\n",
    "# returns the wrong answer.\n",
    "#have_umbrella = True\n",
    "#rain_level = 0.0\n",
    "#have_hood = True\n",
    "#is_workday = True\n",
    "have_umbrella = False\n",
    "rain_level = 0.0\n",
    "have_hood = False\n",
    "is_workday = False\n",
    "# Check what the function returns given the current values of the variables above\n",
    "actual = prepared_for_weather(have_umbrella, rain_level, have_hood, is_workday)\n",
    "print(actual)\n",
    "\n",
    "# Check your answer\n",
    "q3.check()"
   ]
  },
  {
   "cell_type": "code",
   "execution_count": 10,
   "id": "3cbe7feb",
   "metadata": {
    "execution": {
     "iopub.execute_input": "2023-07-24T23:39:37.641600Z",
     "iopub.status.busy": "2023-07-24T23:39:37.641214Z",
     "iopub.status.idle": "2023-07-24T23:39:37.646336Z",
     "shell.execute_reply": "2023-07-24T23:39:37.645126Z"
    },
    "papermill": {
     "duration": 0.023615,
     "end_time": "2023-07-24T23:39:37.648790",
     "exception": false,
     "start_time": "2023-07-24T23:39:37.625175",
     "status": "completed"
    },
    "tags": []
   },
   "outputs": [],
   "source": [
    "#q3.hint()\n",
    "#\n",
    "#q3.solution()"
   ]
  },
  {
   "cell_type": "markdown",
   "id": "4494a058",
   "metadata": {
    "papermill": {
     "duration": 0.014009,
     "end_time": "2023-07-24T23:39:37.677600",
     "exception": false,
     "start_time": "2023-07-24T23:39:37.663591",
     "status": "completed"
    },
    "tags": []
   },
   "source": [
    "# 4.\n",
    "\n",
    "The function `is_negative` below is implemented correctly - it returns True if the given number is negative and False otherwise.\n",
    "\n",
    "However, it's more verbose than it needs to be. We can actually reduce the number of lines of code in this function by *75%* while keeping the same behaviour. \n",
    "\n",
    "See if you can come up with an equivalent body that uses just **one line** of code, and put it in the function `concise_is_negative`. (HINT: you don't even need Python's ternary syntax)"
   ]
  },
  {
   "cell_type": "code",
   "execution_count": 11,
   "id": "3f464350",
   "metadata": {
    "execution": {
     "iopub.execute_input": "2023-07-24T23:39:37.709379Z",
     "iopub.status.busy": "2023-07-24T23:39:37.708996Z",
     "iopub.status.idle": "2023-07-24T23:39:37.718836Z",
     "shell.execute_reply": "2023-07-24T23:39:37.717846Z"
    },
    "papermill": {
     "duration": 0.028416,
     "end_time": "2023-07-24T23:39:37.721081",
     "exception": false,
     "start_time": "2023-07-24T23:39:37.692665",
     "status": "completed"
    },
    "tags": []
   },
   "outputs": [
    {
     "data": {
      "application/javascript": [
       "parent.postMessage({\"jupyterEvent\": \"custom.exercise_interaction\", \"data\": {\"outcomeType\": 1, \"valueTowardsCompletion\": 0.2, \"interactionType\": 1, \"questionType\": 2, \"questionId\": \"4_ConciseIsNegative\", \"learnToolsVersion\": \"0.3.4\", \"failureMessage\": \"\", \"exceptionClass\": \"\", \"trace\": \"\"}}, \"*\")"
      ],
      "text/plain": [
       "<IPython.core.display.Javascript object>"
      ]
     },
     "metadata": {},
     "output_type": "display_data"
    },
    {
     "data": {
      "text/markdown": [
       "<span style=\"color:#33cc33\">Correct</span>"
      ],
      "text/plain": [
       "Correct"
      ]
     },
     "metadata": {},
     "output_type": "display_data"
    }
   ],
   "source": [
    "def is_negative(number):\n",
    "    if number < 0:\n",
    "        return True\n",
    "    else:\n",
    "        return False\n",
    "\n",
    "def concise_is_negative(number):\n",
    "    return number<0;\n",
    "\n",
    "# Check your answer\n",
    "q4.check()"
   ]
  },
  {
   "cell_type": "code",
   "execution_count": 12,
   "id": "0f7a99df",
   "metadata": {
    "execution": {
     "iopub.execute_input": "2023-07-24T23:39:37.753474Z",
     "iopub.status.busy": "2023-07-24T23:39:37.753087Z",
     "iopub.status.idle": "2023-07-24T23:39:37.757789Z",
     "shell.execute_reply": "2023-07-24T23:39:37.756611Z"
    },
    "papermill": {
     "duration": 0.024483,
     "end_time": "2023-07-24T23:39:37.760221",
     "exception": false,
     "start_time": "2023-07-24T23:39:37.735738",
     "status": "completed"
    },
    "tags": []
   },
   "outputs": [],
   "source": [
    "#q4.hint()\n",
    "#q4.solution()"
   ]
  },
  {
   "cell_type": "markdown",
   "id": "b6cf2c21",
   "metadata": {
    "papermill": {
     "duration": 0.014993,
     "end_time": "2023-07-24T23:39:37.790298",
     "exception": false,
     "start_time": "2023-07-24T23:39:37.775305",
     "status": "completed"
    },
    "tags": []
   },
   "source": [
    "# 5a.\n",
    "\n",
    "The boolean variables `ketchup`, `mustard` and `onion` represent whether a customer wants a particular topping on their hot dog. We want to implement a number of boolean functions that correspond to some yes-or-no questions about the customer's order. For example:"
   ]
  },
  {
   "cell_type": "code",
   "execution_count": 13,
   "id": "1d63444d",
   "metadata": {
    "execution": {
     "iopub.execute_input": "2023-07-24T23:39:37.821819Z",
     "iopub.status.busy": "2023-07-24T23:39:37.821453Z",
     "iopub.status.idle": "2023-07-24T23:39:37.826462Z",
     "shell.execute_reply": "2023-07-24T23:39:37.825221Z"
    },
    "papermill": {
     "duration": 0.023758,
     "end_time": "2023-07-24T23:39:37.829125",
     "exception": false,
     "start_time": "2023-07-24T23:39:37.805367",
     "status": "completed"
    },
    "tags": []
   },
   "outputs": [],
   "source": [
    "def onionless(ketchup, mustard, onion):\n",
    "    \"\"\"Return whether the customer doesn't want onions.\n",
    "    \"\"\"\n",
    "    return not onion"
   ]
  },
  {
   "cell_type": "code",
   "execution_count": 14,
   "id": "64e86bdd",
   "metadata": {
    "execution": {
     "iopub.execute_input": "2023-07-24T23:39:37.861263Z",
     "iopub.status.busy": "2023-07-24T23:39:37.860591Z",
     "iopub.status.idle": "2023-07-24T23:39:37.870296Z",
     "shell.execute_reply": "2023-07-24T23:39:37.869296Z"
    },
    "papermill": {
     "duration": 0.027876,
     "end_time": "2023-07-24T23:39:37.872508",
     "exception": false,
     "start_time": "2023-07-24T23:39:37.844632",
     "status": "completed"
    },
    "tags": []
   },
   "outputs": [
    {
     "data": {
      "application/javascript": [
       "parent.postMessage({\"jupyterEvent\": \"custom.exercise_interaction\", \"data\": {\"outcomeType\": 1, \"valueTowardsCompletion\": 0.2, \"interactionType\": 1, \"questionType\": 2, \"questionId\": \"5.1_AllToppings\", \"learnToolsVersion\": \"0.3.4\", \"failureMessage\": \"\", \"exceptionClass\": \"\", \"trace\": \"\"}}, \"*\")"
      ],
      "text/plain": [
       "<IPython.core.display.Javascript object>"
      ]
     },
     "metadata": {},
     "output_type": "display_data"
    },
    {
     "data": {
      "text/markdown": [
       "<span style=\"color:#33cc33\">Correct</span>"
      ],
      "text/plain": [
       "Correct"
      ]
     },
     "metadata": {},
     "output_type": "display_data"
    }
   ],
   "source": [
    "def wants_all_toppings(ketchup, mustard, onion):\n",
    "    \"\"\"Return whether the customer wants \"the works\" (all 3 toppings)\n",
    "    \"\"\"\n",
    "    return (onion and mustard and ketchup)\n",
    "\n",
    "# Check your answer\n",
    "q5.a.check()"
   ]
  },
  {
   "cell_type": "code",
   "execution_count": 15,
   "id": "9512a8d5",
   "metadata": {
    "execution": {
     "iopub.execute_input": "2023-07-24T23:39:37.904177Z",
     "iopub.status.busy": "2023-07-24T23:39:37.903797Z",
     "iopub.status.idle": "2023-07-24T23:39:37.908200Z",
     "shell.execute_reply": "2023-07-24T23:39:37.907154Z"
    },
    "papermill": {
     "duration": 0.022976,
     "end_time": "2023-07-24T23:39:37.910354",
     "exception": false,
     "start_time": "2023-07-24T23:39:37.887378",
     "status": "completed"
    },
    "tags": []
   },
   "outputs": [],
   "source": [
    "#q5.a.hint()\n",
    "#q5.a.solution()"
   ]
  },
  {
   "cell_type": "markdown",
   "id": "b7524b49",
   "metadata": {
    "papermill": {
     "duration": 0.014547,
     "end_time": "2023-07-24T23:39:37.939919",
     "exception": false,
     "start_time": "2023-07-24T23:39:37.925372",
     "status": "completed"
    },
    "tags": []
   },
   "source": [
    "# 5b.\n",
    "\n",
    "For the next function, fill in the body to match the English description in the docstring. "
   ]
  },
  {
   "cell_type": "code",
   "execution_count": 16,
   "id": "7a520145",
   "metadata": {
    "execution": {
     "iopub.execute_input": "2023-07-24T23:39:37.971355Z",
     "iopub.status.busy": "2023-07-24T23:39:37.970942Z",
     "iopub.status.idle": "2023-07-24T23:39:37.980619Z",
     "shell.execute_reply": "2023-07-24T23:39:37.979556Z"
    },
    "papermill": {
     "duration": 0.028154,
     "end_time": "2023-07-24T23:39:37.982976",
     "exception": false,
     "start_time": "2023-07-24T23:39:37.954822",
     "status": "completed"
    },
    "tags": []
   },
   "outputs": [
    {
     "data": {
      "application/javascript": [
       "parent.postMessage({\"jupyterEvent\": \"custom.exercise_interaction\", \"data\": {\"outcomeType\": 1, \"valueTowardsCompletion\": 0.2, \"interactionType\": 1, \"questionType\": 2, \"questionId\": \"5.2_PlainDog\", \"learnToolsVersion\": \"0.3.4\", \"failureMessage\": \"\", \"exceptionClass\": \"\", \"trace\": \"\"}}, \"*\")"
      ],
      "text/plain": [
       "<IPython.core.display.Javascript object>"
      ]
     },
     "metadata": {},
     "output_type": "display_data"
    },
    {
     "data": {
      "text/markdown": [
       "<span style=\"color:#33cc33\">Correct:</span> \n",
       "\n",
       "One solution looks like:\n",
       "```python\n",
       "return not ketchup and not mustard and not onion\n",
       "```\n",
       "\n",
       "We can also [\"factor out\" the nots](https://en.wikipedia.org/wiki/De_Morgan%27s_laws) to get:\n",
       "\n",
       "```python\n",
       "return not (ketchup or mustard or onion)\n",
       "```"
      ],
      "text/plain": [
       "Correct: \n",
       "\n",
       "One solution looks like:\n",
       "```python\n",
       "return not ketchup and not mustard and not onion\n",
       "```\n",
       "\n",
       "We can also [\"factor out\" the nots](https://en.wikipedia.org/wiki/De_Morgan%27s_laws) to get:\n",
       "\n",
       "```python\n",
       "return not (ketchup or mustard or onion)\n",
       "```"
      ]
     },
     "metadata": {},
     "output_type": "display_data"
    }
   ],
   "source": [
    "def wants_plain_hotdog(ketchup, mustard, onion):\n",
    "    \"\"\"Return whether the customer wants a plain hot dog with no toppings.\n",
    "    \"\"\"\n",
    "    return not(onion or mustard or ketchup)\n",
    "\n",
    "# Check your answer\n",
    "q5.b.check()"
   ]
  },
  {
   "cell_type": "code",
   "execution_count": 17,
   "id": "078a363f",
   "metadata": {
    "execution": {
     "iopub.execute_input": "2023-07-24T23:39:38.015363Z",
     "iopub.status.busy": "2023-07-24T23:39:38.014963Z",
     "iopub.status.idle": "2023-07-24T23:39:38.019259Z",
     "shell.execute_reply": "2023-07-24T23:39:38.018341Z"
    },
    "papermill": {
     "duration": 0.02316,
     "end_time": "2023-07-24T23:39:38.021439",
     "exception": false,
     "start_time": "2023-07-24T23:39:37.998279",
     "status": "completed"
    },
    "tags": []
   },
   "outputs": [],
   "source": [
    "#q5.b.hint()\n",
    "#q5.b.solution()"
   ]
  },
  {
   "cell_type": "markdown",
   "id": "ed455676",
   "metadata": {
    "papermill": {
     "duration": 0.014962,
     "end_time": "2023-07-24T23:39:38.051857",
     "exception": false,
     "start_time": "2023-07-24T23:39:38.036895",
     "status": "completed"
    },
    "tags": []
   },
   "source": [
    "# 5c.\n",
    "\n",
    "You know what to do: for the next function, fill in the body to match the English description in the docstring."
   ]
  },
  {
   "cell_type": "code",
   "execution_count": 18,
   "id": "01c51d0a",
   "metadata": {
    "execution": {
     "iopub.execute_input": "2023-07-24T23:39:38.084136Z",
     "iopub.status.busy": "2023-07-24T23:39:38.083669Z",
     "iopub.status.idle": "2023-07-24T23:39:38.093658Z",
     "shell.execute_reply": "2023-07-24T23:39:38.092442Z"
    },
    "papermill": {
     "duration": 0.028728,
     "end_time": "2023-07-24T23:39:38.095841",
     "exception": false,
     "start_time": "2023-07-24T23:39:38.067113",
     "status": "completed"
    },
    "tags": []
   },
   "outputs": [
    {
     "data": {
      "application/javascript": [
       "parent.postMessage({\"jupyterEvent\": \"custom.exercise_interaction\", \"data\": {\"outcomeType\": 1, \"valueTowardsCompletion\": 0.2, \"interactionType\": 1, \"questionType\": 2, \"questionId\": \"5.3_OneSauce\", \"learnToolsVersion\": \"0.3.4\", \"failureMessage\": \"\", \"exceptionClass\": \"\", \"trace\": \"\"}}, \"*\")"
      ],
      "text/plain": [
       "<IPython.core.display.Javascript object>"
      ]
     },
     "metadata": {},
     "output_type": "display_data"
    },
    {
     "data": {
      "text/markdown": [
       "<span style=\"color:#33cc33\">Correct</span>"
      ],
      "text/plain": [
       "Correct"
      ]
     },
     "metadata": {},
     "output_type": "display_data"
    }
   ],
   "source": [
    "def exactly_one_sauce(ketchup, mustard, onion):\n",
    "    \"\"\"Return whether the customer wants either ketchup or mustard, but not both.\n",
    "    (You may be familiar with this operation under the name \"exclusive or\")\n",
    "    \"\"\"\n",
    "    \n",
    "    \"\"\"\n",
    "    other Solution:\n",
    "    return (ketchup and not mustard) or (mustard and not ketchup)\n",
    "    \"\"\"\n",
    "    return ketchup ^ mustard\n",
    "\n",
    "# Check your answer\n",
    "q5.c.check()"
   ]
  },
  {
   "cell_type": "code",
   "execution_count": 19,
   "id": "6d942c85",
   "metadata": {
    "execution": {
     "iopub.execute_input": "2023-07-24T23:39:38.129049Z",
     "iopub.status.busy": "2023-07-24T23:39:38.128626Z",
     "iopub.status.idle": "2023-07-24T23:39:38.132700Z",
     "shell.execute_reply": "2023-07-24T23:39:38.131613Z"
    },
    "papermill": {
     "duration": 0.023445,
     "end_time": "2023-07-24T23:39:38.135126",
     "exception": false,
     "start_time": "2023-07-24T23:39:38.111681",
     "status": "completed"
    },
    "tags": []
   },
   "outputs": [],
   "source": [
    "#q5.c.hint()\n",
    "#q5.c.solution()"
   ]
  },
  {
   "cell_type": "markdown",
   "id": "42ee5a7e",
   "metadata": {
    "papermill": {
     "duration": 0.015224,
     "end_time": "2023-07-24T23:39:38.165853",
     "exception": false,
     "start_time": "2023-07-24T23:39:38.150629",
     "status": "completed"
    },
    "tags": []
   },
   "source": [
    "# 6. <span title=\"A bit spicy\" style=\"color: darkgreen \">🌶️</span>\n",
    "\n",
    "We’ve seen that calling `bool()` on an integer returns `False` if it’s equal to 0 and `True` otherwise. What happens if we call `int()` on a bool? Try it out in the notebook cell below.\n",
    "\n",
    "Can you take advantage of this to write a succinct function that corresponds to the English sentence \"does the customer want exactly one topping?\"?"
   ]
  },
  {
   "cell_type": "code",
   "execution_count": 20,
   "id": "412d8382",
   "metadata": {
    "execution": {
     "iopub.execute_input": "2023-07-24T23:39:38.199392Z",
     "iopub.status.busy": "2023-07-24T23:39:38.199018Z",
     "iopub.status.idle": "2023-07-24T23:39:38.209115Z",
     "shell.execute_reply": "2023-07-24T23:39:38.208020Z"
    },
    "papermill": {
     "duration": 0.029876,
     "end_time": "2023-07-24T23:39:38.211351",
     "exception": false,
     "start_time": "2023-07-24T23:39:38.181475",
     "status": "completed"
    },
    "tags": []
   },
   "outputs": [
    {
     "data": {
      "application/javascript": [
       "parent.postMessage({\"jupyterEvent\": \"custom.exercise_interaction\", \"data\": {\"outcomeType\": 1, \"valueTowardsCompletion\": 0.2, \"interactionType\": 1, \"questionType\": 2, \"questionId\": \"6_OneTopping\", \"learnToolsVersion\": \"0.3.4\", \"failureMessage\": \"\", \"exceptionClass\": \"\", \"trace\": \"\"}}, \"*\")"
      ],
      "text/plain": [
       "<IPython.core.display.Javascript object>"
      ]
     },
     "metadata": {},
     "output_type": "display_data"
    },
    {
     "data": {
      "text/markdown": [
       "<span style=\"color:#33cc33\">Correct:</span> \n",
       "\n",
       "This condition would be pretty complicated to express using just `and`, `or` and `not`, but using boolean-to-integer conversion gives us this short solution:\n",
       "```python\n",
       "return (int(ketchup) + int(mustard) + int(onion)) == 1\n",
       "```\n",
       "\n",
       "Fun fact: we don't technically need to call `int` on the arguments. Just by doing addition with booleans, Python implicitly does the integer conversion. So we could also write...\n",
       "\n",
       "```python\n",
       "return (ketchup + mustard + onion) == 1\n",
       "```"
      ],
      "text/plain": [
       "Correct: \n",
       "\n",
       "This condition would be pretty complicated to express using just `and`, `or` and `not`, but using boolean-to-integer conversion gives us this short solution:\n",
       "```python\n",
       "return (int(ketchup) + int(mustard) + int(onion)) == 1\n",
       "```\n",
       "\n",
       "Fun fact: we don't technically need to call `int` on the arguments. Just by doing addition with booleans, Python implicitly does the integer conversion. So we could also write...\n",
       "\n",
       "```python\n",
       "return (ketchup + mustard + onion) == 1\n",
       "```"
      ]
     },
     "metadata": {},
     "output_type": "display_data"
    }
   ],
   "source": [
    "def exactly_one_topping(ketchup, mustard, onion):\n",
    "    \"\"\"Return whether the customer wants exactly one of the three available toppings\n",
    "    on their hot dog.\n",
    "    \"\"\"\n",
    "    return (ketchup + mustard + onion) == 1\n",
    "\n",
    "# Check your answer\n",
    "q6.check()"
   ]
  },
  {
   "cell_type": "code",
   "execution_count": 21,
   "id": "22dbbf54",
   "metadata": {
    "execution": {
     "iopub.execute_input": "2023-07-24T23:39:38.245025Z",
     "iopub.status.busy": "2023-07-24T23:39:38.244623Z",
     "iopub.status.idle": "2023-07-24T23:39:38.249051Z",
     "shell.execute_reply": "2023-07-24T23:39:38.247833Z"
    },
    "papermill": {
     "duration": 0.023918,
     "end_time": "2023-07-24T23:39:38.251168",
     "exception": false,
     "start_time": "2023-07-24T23:39:38.227250",
     "status": "completed"
    },
    "tags": []
   },
   "outputs": [],
   "source": [
    "#q6.hint()\n",
    "#q6.solution()"
   ]
  },
  {
   "cell_type": "markdown",
   "id": "b72b0a94",
   "metadata": {
    "papermill": {
     "duration": 0.015462,
     "end_time": "2023-07-24T23:39:38.282980",
     "exception": false,
     "start_time": "2023-07-24T23:39:38.267518",
     "status": "completed"
    },
    "tags": []
   },
   "source": [
    "# 7. <span title=\"A bit spicy\" style=\"color: darkgreen \">🌶️</span> (Optional)\n",
    "\n",
    "In this problem we'll be working with a simplified version of [blackjack](https://en.wikipedia.org/wiki/Blackjack) (aka twenty-one). In this version there is one player (who you'll control) and a dealer. Play proceeds as follows:\n",
    "\n",
    "- The player is dealt two face-up cards. The dealer is dealt one face-up card.\n",
    "- The player may ask to be dealt another card ('hit') as many times as they wish. If the sum of their cards exceeds 21, they lose the round immediately.\n",
    "- The dealer then deals additional cards to himself until either:\n",
    "    - the sum of the dealer's cards exceeds 21, in which case the player wins the round\n",
    "    - the sum of the dealer's cards is greater than or equal to 17. If the player's total is greater than the dealer's, the player wins. Otherwise, the dealer wins (even in case of a tie).\n",
    "    \n",
    "When calculating the sum of cards, Jack, Queen, and King count for 10. Aces can count as 1 or 11 (when referring to a player's \"total\" above, we mean the largest total that can be made without exceeding 21. So e.g. A+8 = 19, A+8+8 = 17)\n",
    "\n",
    "For this problem, you'll write a function representing the player's decision-making strategy in this game. We've provided a very unintelligent implementation below:"
   ]
  },
  {
   "cell_type": "code",
   "execution_count": 22,
   "id": "ed13dd15",
   "metadata": {
    "execution": {
     "iopub.execute_input": "2023-07-24T23:39:38.316923Z",
     "iopub.status.busy": "2023-07-24T23:39:38.315798Z",
     "iopub.status.idle": "2023-07-24T23:39:38.321716Z",
     "shell.execute_reply": "2023-07-24T23:39:38.320734Z"
    },
    "papermill": {
     "duration": 0.025171,
     "end_time": "2023-07-24T23:39:38.323945",
     "exception": false,
     "start_time": "2023-07-24T23:39:38.298774",
     "status": "completed"
    },
    "tags": []
   },
   "outputs": [],
   "source": [
    "def should_hit(dealer_total, player_total, player_low_aces, player_high_aces):\n",
    "    \"\"\"Return True if the player should hit (request another card) given the current game\n",
    "    state, or False if the player should stay.\n",
    "    When calculating a hand's total value, we count aces as \"high\" (with value 11) if doing so\n",
    "    doesn't bring the total above 21, otherwise we count them as low (with value 1). \n",
    "    For example, if the player's hand is {A, A, A, 7}, we will count it as 11 + 1 + 1 + 7,\n",
    "    and therefore set player_total=20, player_low_aces=2, player_high_aces=1.\n",
    "    \"\"\"\n",
    "    return False"
   ]
  },
  {
   "cell_type": "markdown",
   "id": "b28e7c7f",
   "metadata": {
    "papermill": {
     "duration": 0.015784,
     "end_time": "2023-07-24T23:39:38.355764",
     "exception": false,
     "start_time": "2023-07-24T23:39:38.339980",
     "status": "completed"
    },
    "tags": []
   },
   "source": [
    "This very conservative agent *always* sticks with the hand of two cards that they're dealt.\n",
    "\n",
    "We'll be simulating games between your player agent and our own dealer agent by calling your function.\n",
    "\n",
    "Try running the function below to see an example of a simulated game:"
   ]
  },
  {
   "cell_type": "code",
   "execution_count": 23,
   "id": "c9bc1986",
   "metadata": {
    "execution": {
     "iopub.execute_input": "2023-07-24T23:39:38.389398Z",
     "iopub.status.busy": "2023-07-24T23:39:38.389006Z",
     "iopub.status.idle": "2023-07-24T23:39:38.394788Z",
     "shell.execute_reply": "2023-07-24T23:39:38.393691Z"
    },
    "papermill": {
     "duration": 0.025742,
     "end_time": "2023-07-24T23:39:38.397477",
     "exception": false,
     "start_time": "2023-07-24T23:39:38.371735",
     "status": "completed"
    },
    "tags": []
   },
   "outputs": [
    {
     "name": "stdout",
     "output_type": "stream",
     "text": [
      "Player starts with 5 and 5 (total = 10)\n",
      "Dealer starts with 3\n",
      "\n",
      "__Player's turn__\n",
      "Player stays\n",
      "\n",
      "__Dealer's turn__\n",
      "Dealer hits and receives 5. (total = 8)\n",
      "Dealer hits and receives 8. (total = 16)\n",
      "Dealer hits and receives J. (total = 26)\n",
      "Dealer busts! Player wins.\n"
     ]
    }
   ],
   "source": [
    "q7.simulate_one_game()"
   ]
  },
  {
   "cell_type": "markdown",
   "id": "c1c88f81",
   "metadata": {
    "papermill": {
     "duration": 0.015829,
     "end_time": "2023-07-24T23:39:38.429290",
     "exception": false,
     "start_time": "2023-07-24T23:39:38.413461",
     "status": "completed"
    },
    "tags": []
   },
   "source": [
    "The real test of your agent's mettle is their average win rate over many games. Try calling the function below to simulate 50000 games of blackjack (it may take a couple seconds):"
   ]
  },
  {
   "cell_type": "code",
   "execution_count": 24,
   "id": "3a02a81a",
   "metadata": {
    "execution": {
     "iopub.execute_input": "2023-07-24T23:39:38.463683Z",
     "iopub.status.busy": "2023-07-24T23:39:38.462645Z",
     "iopub.status.idle": "2023-07-24T23:39:40.617761Z",
     "shell.execute_reply": "2023-07-24T23:39:40.616670Z"
    },
    "papermill": {
     "duration": 2.175021,
     "end_time": "2023-07-24T23:39:40.620440",
     "exception": false,
     "start_time": "2023-07-24T23:39:38.445419",
     "status": "completed"
    },
    "tags": []
   },
   "outputs": [
    {
     "name": "stdout",
     "output_type": "stream",
     "text": [
      "Player won 18748 out of 50000 games (win rate = 37.5%)\n"
     ]
    }
   ],
   "source": [
    "q7.simulate(n_games=50000)"
   ]
  },
  {
   "cell_type": "markdown",
   "id": "12cb6dad",
   "metadata": {
    "papermill": {
     "duration": 0.016168,
     "end_time": "2023-07-24T23:39:40.653321",
     "exception": false,
     "start_time": "2023-07-24T23:39:40.637153",
     "status": "completed"
    },
    "tags": []
   },
   "source": [
    "Our dumb agent that completely ignores the game state still manages to win shockingly often!\n",
    "\n",
    "Try adding some more smarts to the `should_hit` function and see how it affects the results."
   ]
  },
  {
   "cell_type": "code",
   "execution_count": 25,
   "id": "03c3f4e7",
   "metadata": {
    "execution": {
     "iopub.execute_input": "2023-07-24T23:39:40.686856Z",
     "iopub.status.busy": "2023-07-24T23:39:40.686477Z",
     "iopub.status.idle": "2023-07-24T23:39:42.840281Z",
     "shell.execute_reply": "2023-07-24T23:39:42.839130Z"
    },
    "papermill": {
     "duration": 2.173418,
     "end_time": "2023-07-24T23:39:42.842683",
     "exception": false,
     "start_time": "2023-07-24T23:39:40.669265",
     "status": "completed"
    },
    "tags": []
   },
   "outputs": [
    {
     "name": "stdout",
     "output_type": "stream",
     "text": [
      "Player won 19069 out of 50000 games (win rate = 38.1%)\n"
     ]
    }
   ],
   "source": [
    "def should_hit(dealer_total, player_total, player_low_aces, player_high_aces):\n",
    "    \"\"\"Return True if the player should hit (request another card) given the current game\n",
    "    state, or False if the player should stay.\n",
    "    When calculating a hand's total value, we count aces as \"high\" (with value 11) if doing so\n",
    "    doesn't bring the total above 21, otherwise we count them as low (with value 1). \n",
    "    For example, if the player's hand is {A, A, A, 7}, we will count it as 11 + 1 + 1 + 7,\n",
    "    and therefore set player_total=20, player_low_aces=2, player_high_aces=1.\n",
    "    \"\"\"\n",
    "    return False\n",
    "\n",
    "q7.simulate(n_games=50000)"
   ]
  },
  {
   "cell_type": "markdown",
   "id": "62479dcb",
   "metadata": {
    "papermill": {
     "duration": 0.01605,
     "end_time": "2023-07-24T23:39:42.875725",
     "exception": false,
     "start_time": "2023-07-24T23:39:42.859675",
     "status": "completed"
    },
    "tags": []
   },
   "source": [
    "# Keep Going\n",
    "\n",
    "Learn about **[lists and tuples](https://www.kaggle.com/colinmorris/lists)** to handle multiple items of data in a systematic way."
   ]
  },
  {
   "cell_type": "markdown",
   "id": "db4919c0",
   "metadata": {
    "papermill": {
     "duration": 0.015734,
     "end_time": "2023-07-24T23:39:42.907638",
     "exception": false,
     "start_time": "2023-07-24T23:39:42.891904",
     "status": "completed"
    },
    "tags": []
   },
   "source": [
    "---\n",
    "\n",
    "\n",
    "\n",
    "\n",
    "*Have questions or comments? Visit the [course discussion forum](https://www.kaggle.com/learn/python/discussion) to chat with other learners.*"
   ]
  }
 ],
 "metadata": {
  "kernelspec": {
   "display_name": "Python 3",
   "language": "python",
   "name": "python3"
  },
  "language_info": {
   "codemirror_mode": {
    "name": "ipython",
    "version": 3
   },
   "file_extension": ".py",
   "mimetype": "text/x-python",
   "name": "python",
   "nbconvert_exporter": "python",
   "pygments_lexer": "ipython3",
   "version": "3.10.12"
  },
  "papermill": {
   "default_parameters": {},
   "duration": 17.822468,
   "end_time": "2023-07-24T23:39:43.745921",
   "environment_variables": {},
   "exception": null,
   "input_path": "__notebook__.ipynb",
   "output_path": "__notebook__.ipynb",
   "parameters": {},
   "start_time": "2023-07-24T23:39:25.923453",
   "version": "2.4.0"
  }
 },
 "nbformat": 4,
 "nbformat_minor": 5
}
