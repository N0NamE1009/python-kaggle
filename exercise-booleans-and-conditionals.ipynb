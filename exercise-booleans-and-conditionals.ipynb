{
 "cells": [
  {
   "cell_type": "markdown",
   "id": "2290bad2",
   "metadata": {
    "papermill": {
     "duration": 0.01278,
     "end_time": "2023-07-24T23:34:33.023631",
     "exception": false,
     "start_time": "2023-07-24T23:34:33.010851",
     "status": "completed"
    },
    "tags": []
   },
   "source": [
    "**This notebook is an exercise in the [Python](https://www.kaggle.com/learn/python) course.  You can reference the tutorial at [this link](https://www.kaggle.com/colinmorris/booleans-and-conditionals).**\n",
    "\n",
    "---\n"
   ]
  },
  {
   "cell_type": "markdown",
   "id": "57a35644",
   "metadata": {
    "papermill": {
     "duration": 0.012054,
     "end_time": "2023-07-24T23:34:33.048596",
     "exception": false,
     "start_time": "2023-07-24T23:34:33.036542",
     "status": "completed"
    },
    "tags": []
   },
   "source": [
    "In this exercise, you'll put to work what you have learned about booleans and conditionals.\n",
    "\n",
    "To get started, **run the setup code below** before writing your own code (and if you leave this notebook and come back later, don't forget to run the setup code again)."
   ]
  },
  {
   "cell_type": "code",
   "execution_count": 1,
   "id": "674ffa23",
   "metadata": {
    "execution": {
     "iopub.execute_input": "2023-07-24T23:34:33.077249Z",
     "iopub.status.busy": "2023-07-24T23:34:33.076306Z",
     "iopub.status.idle": "2023-07-24T23:34:33.124041Z",
     "shell.execute_reply": "2023-07-24T23:34:33.123106Z"
    },
    "papermill": {
     "duration": 0.06581,
     "end_time": "2023-07-24T23:34:33.126784",
     "exception": false,
     "start_time": "2023-07-24T23:34:33.060974",
     "status": "completed"
    },
    "tags": []
   },
   "outputs": [
    {
     "name": "stdout",
     "output_type": "stream",
     "text": [
      "Setup complete.\n"
     ]
    }
   ],
   "source": [
    "from learntools.core import binder; binder.bind(globals())\n",
    "from learntools.python.ex3 import *\n",
    "print('Setup complete.')"
   ]
  },
  {
   "cell_type": "markdown",
   "id": "15866bb3",
   "metadata": {
    "papermill": {
     "duration": 0.012444,
     "end_time": "2023-07-24T23:34:33.151862",
     "exception": false,
     "start_time": "2023-07-24T23:34:33.139418",
     "status": "completed"
    },
    "tags": []
   },
   "source": [
    "# 1.\n",
    "\n",
    "Many programming languages have [`sign`](https://en.wikipedia.org/wiki/Sign_function) available as a built-in function. Python doesn't, but we can define our own!\n",
    "\n",
    "In the cell below, define a function called `sign` which takes a numerical argument and returns -1 if it's negative, 1 if it's positive, and 0 if it's 0."
   ]
  },
  {
   "cell_type": "code",
   "execution_count": 2,
   "id": "04ed9dee",
   "metadata": {
    "execution": {
     "iopub.execute_input": "2023-07-24T23:34:33.178879Z",
     "iopub.status.busy": "2023-07-24T23:34:33.178348Z",
     "iopub.status.idle": "2023-07-24T23:34:33.188656Z",
     "shell.execute_reply": "2023-07-24T23:34:33.187875Z"
    },
    "papermill": {
     "duration": 0.026191,
     "end_time": "2023-07-24T23:34:33.190739",
     "exception": false,
     "start_time": "2023-07-24T23:34:33.164548",
     "status": "completed"
    },
    "tags": []
   },
   "outputs": [
    {
     "data": {
      "application/javascript": [
       "parent.postMessage({\"jupyterEvent\": \"custom.exercise_interaction\", \"data\": {\"outcomeType\": 1, \"valueTowardsCompletion\": 0.2, \"interactionType\": 1, \"questionType\": 2, \"questionId\": \"1_SignFunctionProblem\", \"learnToolsVersion\": \"0.3.4\", \"failureMessage\": \"\", \"exceptionClass\": \"\", \"trace\": \"\"}}, \"*\")"
      ],
      "text/plain": [
       "<IPython.core.display.Javascript object>"
      ]
     },
     "metadata": {},
     "output_type": "display_data"
    },
    {
     "data": {
      "text/markdown": [
       "<span style=\"color:#33cc33\">Correct</span>"
      ],
      "text/plain": [
       "Correct"
      ]
     },
     "metadata": {},
     "output_type": "display_data"
    }
   ],
   "source": [
    "# Your code goes here. Define a function called 'sign'\n",
    "def sign(num):\n",
    "    if num>0:\n",
    "        return 1\n",
    "    elif num<0:\n",
    "        return -1\n",
    "    else:\n",
    "        return 0\n",
    "\n",
    "# Check your answer\n",
    "q1.check()"
   ]
  },
  {
   "cell_type": "code",
   "execution_count": 3,
   "id": "59001889",
   "metadata": {
    "execution": {
     "iopub.execute_input": "2023-07-24T23:34:33.218591Z",
     "iopub.status.busy": "2023-07-24T23:34:33.217842Z",
     "iopub.status.idle": "2023-07-24T23:34:33.222418Z",
     "shell.execute_reply": "2023-07-24T23:34:33.221328Z"
    },
    "papermill": {
     "duration": 0.021144,
     "end_time": "2023-07-24T23:34:33.224871",
     "exception": false,
     "start_time": "2023-07-24T23:34:33.203727",
     "status": "completed"
    },
    "tags": []
   },
   "outputs": [],
   "source": [
    "#q1.solution()"
   ]
  },
  {
   "cell_type": "markdown",
   "id": "92b72122",
   "metadata": {
    "papermill": {
     "duration": 0.013241,
     "end_time": "2023-07-24T23:34:33.251481",
     "exception": false,
     "start_time": "2023-07-24T23:34:33.238240",
     "status": "completed"
    },
    "tags": []
   },
   "source": [
    "# 2.\n",
    "\n",
    "We've decided to add \"logging\" to our `to_smash` function from the previous exercise."
   ]
  },
  {
   "cell_type": "code",
   "execution_count": 4,
   "id": "3f7e0b54",
   "metadata": {
    "execution": {
     "iopub.execute_input": "2023-07-24T23:34:33.279429Z",
     "iopub.status.busy": "2023-07-24T23:34:33.278507Z",
     "iopub.status.idle": "2023-07-24T23:34:33.287383Z",
     "shell.execute_reply": "2023-07-24T23:34:33.286551Z"
    },
    "papermill": {
     "duration": 0.02485,
     "end_time": "2023-07-24T23:34:33.289370",
     "exception": false,
     "start_time": "2023-07-24T23:34:33.264520",
     "status": "completed"
    },
    "tags": []
   },
   "outputs": [
    {
     "name": "stdout",
     "output_type": "stream",
     "text": [
      "Splitting 91 candies\n"
     ]
    },
    {
     "data": {
      "text/plain": [
       "1"
      ]
     },
     "execution_count": 4,
     "metadata": {},
     "output_type": "execute_result"
    }
   ],
   "source": [
    "def to_smash(total_candies):\n",
    "    \"\"\"Return the number of leftover candies that must be smashed after distributing\n",
    "    the given number of candies evenly between 3 friends.\n",
    "    \n",
    "    >>> to_smash(91)\n",
    "    1\n",
    "    \"\"\"\n",
    "    print(\"Splitting\", total_candies, \"candies\")\n",
    "    return total_candies % 3\n",
    "\n",
    "to_smash(91)"
   ]
  },
  {
   "cell_type": "markdown",
   "id": "0df6bfbb",
   "metadata": {
    "papermill": {
     "duration": 0.012683,
     "end_time": "2023-07-24T23:34:33.315208",
     "exception": false,
     "start_time": "2023-07-24T23:34:33.302525",
     "status": "completed"
    },
    "tags": []
   },
   "source": [
    "What happens if we call it with `total_candies = 1`?"
   ]
  },
  {
   "cell_type": "code",
   "execution_count": 5,
   "id": "2c7e0e90",
   "metadata": {
    "execution": {
     "iopub.execute_input": "2023-07-24T23:34:33.343129Z",
     "iopub.status.busy": "2023-07-24T23:34:33.342706Z",
     "iopub.status.idle": "2023-07-24T23:34:33.349489Z",
     "shell.execute_reply": "2023-07-24T23:34:33.348407Z"
    },
    "papermill": {
     "duration": 0.023247,
     "end_time": "2023-07-24T23:34:33.351573",
     "exception": false,
     "start_time": "2023-07-24T23:34:33.328326",
     "status": "completed"
    },
    "tags": []
   },
   "outputs": [
    {
     "name": "stdout",
     "output_type": "stream",
     "text": [
      "Splitting 1 candies\n"
     ]
    },
    {
     "data": {
      "text/plain": [
       "1"
      ]
     },
     "execution_count": 5,
     "metadata": {},
     "output_type": "execute_result"
    }
   ],
   "source": [
    "to_smash(1)"
   ]
  },
  {
   "cell_type": "markdown",
   "id": "61607896",
   "metadata": {
    "papermill": {
     "duration": 0.012965,
     "end_time": "2023-07-24T23:34:33.377974",
     "exception": false,
     "start_time": "2023-07-24T23:34:33.365009",
     "status": "completed"
    },
    "tags": []
   },
   "source": [
    "That isn't great grammar!\n",
    "\n",
    "Modify the definition in the cell below to correct the grammar of our print statement. (If there's only one candy, we should use the singular \"candy\" instead of the plural \"candies\")"
   ]
  },
  {
   "cell_type": "code",
   "execution_count": 6,
   "id": "34901526",
   "metadata": {
    "execution": {
     "iopub.execute_input": "2023-07-24T23:34:33.406381Z",
     "iopub.status.busy": "2023-07-24T23:34:33.405972Z",
     "iopub.status.idle": "2023-07-24T23:34:33.412844Z",
     "shell.execute_reply": "2023-07-24T23:34:33.411636Z"
    },
    "papermill": {
     "duration": 0.023957,
     "end_time": "2023-07-24T23:34:33.415402",
     "exception": false,
     "start_time": "2023-07-24T23:34:33.391445",
     "status": "completed"
    },
    "tags": []
   },
   "outputs": [
    {
     "name": "stdout",
     "output_type": "stream",
     "text": [
      "Splitting 91 candies\n",
      "Splitting 1 candy\n"
     ]
    }
   ],
   "source": [
    "def to_smash(total_candies):\n",
    "    \"\"\"Return the number of leftover candies that must be smashed after distributing\n",
    "    the given number of candies evenly between 3 friends.\n",
    "    \n",
    "    >>> to_smash(91)\n",
    "    1\n",
    "    \"\"\"\n",
    "    if total_candies==1:\n",
    "        print(\"Splitting 1 candy\")\n",
    "    else:\n",
    "        print(\"Splitting\", total_candies, \"candies\")\n",
    "\n",
    "to_smash(91)\n",
    "to_smash(1)\n"
   ]
  },
  {
   "cell_type": "code",
   "execution_count": 7,
   "id": "fcf5aa6b",
   "metadata": {
    "execution": {
     "iopub.execute_input": "2023-07-24T23:34:33.443947Z",
     "iopub.status.busy": "2023-07-24T23:34:33.443504Z",
     "iopub.status.idle": "2023-07-24T23:34:33.452072Z",
     "shell.execute_reply": "2023-07-24T23:34:33.451276Z"
    },
    "papermill": {
     "duration": 0.02519,
     "end_time": "2023-07-24T23:34:33.454060",
     "exception": false,
     "start_time": "2023-07-24T23:34:33.428870",
     "status": "completed"
    },
    "tags": []
   },
   "outputs": [
    {
     "data": {
      "application/javascript": [
       "parent.postMessage({\"jupyterEvent\": \"custom.exercise_interaction\", \"data\": {\"outcomeType\": 1, \"valueTowardsCompletion\": 0.2, \"interactionType\": 1, \"questionType\": 4, \"questionId\": \"2_PluralizationProblem\", \"learnToolsVersion\": \"0.3.4\", \"failureMessage\": \"\", \"exceptionClass\": \"\", \"trace\": \"\"}}, \"*\")"
      ],
      "text/plain": [
       "<IPython.core.display.Javascript object>"
      ]
     },
     "metadata": {},
     "output_type": "display_data"
    },
    {
     "data": {
      "text/markdown": [
       "<span style=\"color:#33cc33\">Correct:</span> \n",
       "\n",
       "A straightforward (and totally fine) solution is to replace the original `print` call with:\n",
       "\n",
       "```python\n",
       "if total_candies == 1:\n",
       "    print(\"Splitting 1 candy\")\n",
       "else:\n",
       "    print(\"Splitting\", total_candies, \"candies\")\n",
       "```\n",
       "\n",
       "Here's a slightly more succinct solution using a conditional expression:\n",
       "\n",
       "```python\n",
       "print(\"Splitting\", total_candies, \"candy\" if total_candies == 1 else \"candies\")\n",
       "```"
      ],
      "text/plain": [
       "Correct: \n",
       "\n",
       "A straightforward (and totally fine) solution is to replace the original `print` call with:\n",
       "\n",
       "```python\n",
       "if total_candies == 1:\n",
       "    print(\"Splitting 1 candy\")\n",
       "else:\n",
       "    print(\"Splitting\", total_candies, \"candies\")\n",
       "```\n",
       "\n",
       "Here's a slightly more succinct solution using a conditional expression:\n",
       "\n",
       "```python\n",
       "print(\"Splitting\", total_candies, \"candy\" if total_candies == 1 else \"candies\")\n",
       "```"
      ]
     },
     "metadata": {},
     "output_type": "display_data"
    }
   ],
   "source": [
    "q2.check()"
   ]
  },
  {
   "cell_type": "markdown",
   "id": "d66d9cf2",
   "metadata": {
    "papermill": {
     "duration": 0.01403,
     "end_time": "2023-07-24T23:34:33.481877",
     "exception": false,
     "start_time": "2023-07-24T23:34:33.467847",
     "status": "completed"
    },
    "tags": []
   },
   "source": [
    "To get credit for completing this problem, and to see the official answer, run the code cell below."
   ]
  },
  {
   "cell_type": "code",
   "execution_count": 8,
   "id": "fd100392",
   "metadata": {
    "execution": {
     "iopub.execute_input": "2023-07-24T23:34:33.511264Z",
     "iopub.status.busy": "2023-07-24T23:34:33.510851Z",
     "iopub.status.idle": "2023-07-24T23:34:33.514487Z",
     "shell.execute_reply": "2023-07-24T23:34:33.513678Z"
    },
    "papermill": {
     "duration": 0.020792,
     "end_time": "2023-07-24T23:34:33.516609",
     "exception": false,
     "start_time": "2023-07-24T23:34:33.495817",
     "status": "completed"
    },
    "tags": []
   },
   "outputs": [],
   "source": [
    "# Check your answer (Run this code cell to receive credit!)\n",
    "#q2.solution()"
   ]
  },
  {
   "cell_type": "markdown",
   "id": "1f2e671a",
   "metadata": {
    "papermill": {
     "duration": 0.01323,
     "end_time": "2023-07-24T23:34:33.543875",
     "exception": false,
     "start_time": "2023-07-24T23:34:33.530645",
     "status": "completed"
    },
    "tags": []
   },
   "source": [
    "# 3. <span title=\"A bit spicy\" style=\"color: darkgreen \">🌶️</span>\n",
    "\n",
    "In the tutorial, we talked about deciding whether we're prepared for the weather. I said that I'm safe from today's weather if...\n",
    "- I have an umbrella...\n",
    "- or if the rain isn't too heavy and I have a hood...\n",
    "- otherwise, I'm still fine unless it's raining *and* it's a workday\n",
    "\n",
    "The function below uses our first attempt at turning this logic into a Python expression. I claimed that there was a bug in that code. Can you find it?\n",
    "\n",
    "To prove that `prepared_for_weather` is buggy, come up with a set of inputs where either:\n",
    "- the function returns `False` (but should have returned `True`), or\n",
    "- the function returned `True` (but should have returned `False`).\n",
    "\n",
    "To get credit for completing this question, your code should return a <font color='#33cc33'>Correct</font> result."
   ]
  },
  {
   "cell_type": "code",
   "execution_count": 9,
   "id": "0774f687",
   "metadata": {
    "execution": {
     "iopub.execute_input": "2023-07-24T23:34:33.573663Z",
     "iopub.status.busy": "2023-07-24T23:34:33.573263Z",
     "iopub.status.idle": "2023-07-24T23:34:33.585529Z",
     "shell.execute_reply": "2023-07-24T23:34:33.584384Z"
    },
    "papermill": {
     "duration": 0.030316,
     "end_time": "2023-07-24T23:34:33.588047",
     "exception": false,
     "start_time": "2023-07-24T23:34:33.557731",
     "status": "completed"
    },
    "tags": []
   },
   "outputs": [
    {
     "name": "stdout",
     "output_type": "stream",
     "text": [
      "True\n"
     ]
    },
    {
     "data": {
      "application/javascript": [
       "parent.postMessage({\"jupyterEvent\": \"custom.exercise_interaction\", \"data\": {\"outcomeType\": 1, \"valueTowardsCompletion\": 0.2, \"interactionType\": 1, \"questionType\": 1, \"questionId\": \"3_WeatherDebug\", \"learnToolsVersion\": \"0.3.4\", \"failureMessage\": \"\", \"exceptionClass\": \"\", \"trace\": \"\"}}, \"*\")"
      ],
      "text/plain": [
       "<IPython.core.display.Javascript object>"
      ]
     },
     "metadata": {},
     "output_type": "display_data"
    },
    {
     "data": {
      "text/markdown": [
       "<span style=\"color:#33cc33\">Correct:</span> \n",
       "\n",
       "One example of a failing test case is:\n",
       "\n",
       "```python\n",
       "have_umbrella = False\n",
       "rain_level = 0.0\n",
       "have_hood = False\n",
       "is_workday = False\n",
       "```\n",
       "\n",
       "Clearly we're prepared for the weather in this case. It's not raining. Not only that, it's not a workday, so we don't even need to leave the house! But our function will return False on these inputs.\n",
       "\n",
       "The key problem is that Python implictly parenthesizes the last part as:\n",
       "\n",
       "```python\n",
       "(not (rain_level > 0)) and is_workday\n",
       "```\n",
       "\n",
       "Whereas what we were trying to express would look more like:\n",
       "\n",
       "```python\n",
       "not (rain_level > 0 and is_workday)\n",
       "```\n"
      ],
      "text/plain": [
       "Correct: \n",
       "\n",
       "One example of a failing test case is:\n",
       "\n",
       "```python\n",
       "have_umbrella = False\n",
       "rain_level = 0.0\n",
       "have_hood = False\n",
       "is_workday = False\n",
       "```\n",
       "\n",
       "Clearly we're prepared for the weather in this case. It's not raining. Not only that, it's not a workday, so we don't even need to leave the house! But our function will return False on these inputs.\n",
       "\n",
       "The key problem is that Python implictly parenthesizes the last part as:\n",
       "\n",
       "```python\n",
       "(not (rain_level > 0)) and is_workday\n",
       "```\n",
       "\n",
       "Whereas what we were trying to express would look more like:\n",
       "\n",
       "```python\n",
       "not (rain_level > 0 and is_workday)\n",
       "```"
      ]
     },
     "metadata": {},
     "output_type": "display_data"
    }
   ],
   "source": [
    "def prepared_for_weather(have_umbrella, rain_level, have_hood, is_workday):\n",
    "    # Don't change this code. Our goal is just to find the bug, not fix it!\n",
    "    return have_umbrella or (rain_level < 5 and have_hood) or not (rain_level > 0 and is_workday)\n",
    "\n",
    "# Change the values of these inputs so they represent a case where prepared_for_weather\n",
    "# returns the wrong answer.\n",
    "#have_umbrella = True\n",
    "#rain_level = 0.0\n",
    "#have_hood = True\n",
    "#is_workday = True\n",
    "have_umbrella = False\n",
    "rain_level = 0.0\n",
    "have_hood = False\n",
    "is_workday = False\n",
    "# Check what the function returns given the current values of the variables above\n",
    "actual = prepared_for_weather(have_umbrella, rain_level, have_hood, is_workday)\n",
    "print(actual)\n",
    "\n",
    "# Check your answer\n",
    "q3.check()"
   ]
  },
  {
   "cell_type": "code",
   "execution_count": 10,
   "id": "24e283b1",
   "metadata": {
    "execution": {
     "iopub.execute_input": "2023-07-24T23:34:33.618852Z",
     "iopub.status.busy": "2023-07-24T23:34:33.618420Z",
     "iopub.status.idle": "2023-07-24T23:34:33.622509Z",
     "shell.execute_reply": "2023-07-24T23:34:33.621704Z"
    },
    "papermill": {
     "duration": 0.022324,
     "end_time": "2023-07-24T23:34:33.624816",
     "exception": false,
     "start_time": "2023-07-24T23:34:33.602492",
     "status": "completed"
    },
    "tags": []
   },
   "outputs": [],
   "source": [
    "#q3.hint()\n",
    "#\n",
    "#q3.solution()"
   ]
  },
  {
   "cell_type": "markdown",
   "id": "ef224bc1",
   "metadata": {
    "papermill": {
     "duration": 0.013913,
     "end_time": "2023-07-24T23:34:33.653253",
     "exception": false,
     "start_time": "2023-07-24T23:34:33.639340",
     "status": "completed"
    },
    "tags": []
   },
   "source": [
    "# 4.\n",
    "\n",
    "The function `is_negative` below is implemented correctly - it returns True if the given number is negative and False otherwise.\n",
    "\n",
    "However, it's more verbose than it needs to be. We can actually reduce the number of lines of code in this function by *75%* while keeping the same behaviour. \n",
    "\n",
    "See if you can come up with an equivalent body that uses just **one line** of code, and put it in the function `concise_is_negative`. (HINT: you don't even need Python's ternary syntax)"
   ]
  },
  {
   "cell_type": "code",
   "execution_count": 11,
   "id": "094026cc",
   "metadata": {
    "execution": {
     "iopub.execute_input": "2023-07-24T23:34:33.683531Z",
     "iopub.status.busy": "2023-07-24T23:34:33.683123Z",
     "iopub.status.idle": "2023-07-24T23:34:33.692150Z",
     "shell.execute_reply": "2023-07-24T23:34:33.691327Z"
    },
    "papermill": {
     "duration": 0.026628,
     "end_time": "2023-07-24T23:34:33.694159",
     "exception": false,
     "start_time": "2023-07-24T23:34:33.667531",
     "status": "completed"
    },
    "tags": []
   },
   "outputs": [
    {
     "data": {
      "application/javascript": [
       "parent.postMessage({\"jupyterEvent\": \"custom.exercise_interaction\", \"data\": {\"outcomeType\": 1, \"valueTowardsCompletion\": 0.2, \"interactionType\": 1, \"questionType\": 2, \"questionId\": \"4_ConciseIsNegative\", \"learnToolsVersion\": \"0.3.4\", \"failureMessage\": \"\", \"exceptionClass\": \"\", \"trace\": \"\"}}, \"*\")"
      ],
      "text/plain": [
       "<IPython.core.display.Javascript object>"
      ]
     },
     "metadata": {},
     "output_type": "display_data"
    },
    {
     "data": {
      "text/markdown": [
       "<span style=\"color:#33cc33\">Correct</span>"
      ],
      "text/plain": [
       "Correct"
      ]
     },
     "metadata": {},
     "output_type": "display_data"
    }
   ],
   "source": [
    "def is_negative(number):\n",
    "    if number < 0:\n",
    "        return True\n",
    "    else:\n",
    "        return False\n",
    "\n",
    "def concise_is_negative(number):\n",
    "    return number<0;\n",
    "\n",
    "# Check your answer\n",
    "q4.check()"
   ]
  },
  {
   "cell_type": "code",
   "execution_count": 12,
   "id": "0f3165f6",
   "metadata": {
    "execution": {
     "iopub.execute_input": "2023-07-24T23:34:33.725868Z",
     "iopub.status.busy": "2023-07-24T23:34:33.724641Z",
     "iopub.status.idle": "2023-07-24T23:34:33.729855Z",
     "shell.execute_reply": "2023-07-24T23:34:33.728681Z"
    },
    "papermill": {
     "duration": 0.023458,
     "end_time": "2023-07-24T23:34:33.732231",
     "exception": false,
     "start_time": "2023-07-24T23:34:33.708773",
     "status": "completed"
    },
    "tags": []
   },
   "outputs": [],
   "source": [
    "#q4.hint()\n",
    "#q4.solution()"
   ]
  },
  {
   "cell_type": "markdown",
   "id": "47d2e6c1",
   "metadata": {
    "papermill": {
     "duration": 0.014199,
     "end_time": "2023-07-24T23:34:33.761145",
     "exception": false,
     "start_time": "2023-07-24T23:34:33.746946",
     "status": "completed"
    },
    "tags": []
   },
   "source": [
    "# 5a.\n",
    "\n",
    "The boolean variables `ketchup`, `mustard` and `onion` represent whether a customer wants a particular topping on their hot dog. We want to implement a number of boolean functions that correspond to some yes-or-no questions about the customer's order. For example:"
   ]
  },
  {
   "cell_type": "code",
   "execution_count": 13,
   "id": "361e1f1a",
   "metadata": {
    "execution": {
     "iopub.execute_input": "2023-07-24T23:34:33.792780Z",
     "iopub.status.busy": "2023-07-24T23:34:33.792321Z",
     "iopub.status.idle": "2023-07-24T23:34:33.797776Z",
     "shell.execute_reply": "2023-07-24T23:34:33.796675Z"
    },
    "papermill": {
     "duration": 0.024286,
     "end_time": "2023-07-24T23:34:33.799937",
     "exception": false,
     "start_time": "2023-07-24T23:34:33.775651",
     "status": "completed"
    },
    "tags": []
   },
   "outputs": [],
   "source": [
    "def onionless(ketchup, mustard, onion):\n",
    "    \"\"\"Return whether the customer doesn't want onions.\n",
    "    \"\"\"\n",
    "    return not onion"
   ]
  },
  {
   "cell_type": "code",
   "execution_count": 14,
   "id": "3d4bb6a9",
   "metadata": {
    "execution": {
     "iopub.execute_input": "2023-07-24T23:34:33.830478Z",
     "iopub.status.busy": "2023-07-24T23:34:33.830040Z",
     "iopub.status.idle": "2023-07-24T23:34:33.838658Z",
     "shell.execute_reply": "2023-07-24T23:34:33.837921Z"
    },
    "papermill": {
     "duration": 0.026412,
     "end_time": "2023-07-24T23:34:33.840678",
     "exception": false,
     "start_time": "2023-07-24T23:34:33.814266",
     "status": "completed"
    },
    "tags": []
   },
   "outputs": [
    {
     "data": {
      "application/javascript": [
       "parent.postMessage({\"jupyterEvent\": \"custom.exercise_interaction\", \"data\": {\"outcomeType\": 1, \"valueTowardsCompletion\": 0.2, \"interactionType\": 1, \"questionType\": 2, \"questionId\": \"5.1_AllToppings\", \"learnToolsVersion\": \"0.3.4\", \"failureMessage\": \"\", \"exceptionClass\": \"\", \"trace\": \"\"}}, \"*\")"
      ],
      "text/plain": [
       "<IPython.core.display.Javascript object>"
      ]
     },
     "metadata": {},
     "output_type": "display_data"
    },
    {
     "data": {
      "text/markdown": [
       "<span style=\"color:#33cc33\">Correct</span>"
      ],
      "text/plain": [
       "Correct"
      ]
     },
     "metadata": {},
     "output_type": "display_data"
    }
   ],
   "source": [
    "def wants_all_toppings(ketchup, mustard, onion):\n",
    "    \"\"\"Return whether the customer wants \"the works\" (all 3 toppings)\n",
    "    \"\"\"\n",
    "    return (onion and mustard and ketchup)\n",
    "\n",
    "# Check your answer\n",
    "q5.a.check()"
   ]
  },
  {
   "cell_type": "code",
   "execution_count": 15,
   "id": "193e6cec",
   "metadata": {
    "execution": {
     "iopub.execute_input": "2023-07-24T23:34:33.871896Z",
     "iopub.status.busy": "2023-07-24T23:34:33.871476Z",
     "iopub.status.idle": "2023-07-24T23:34:33.876026Z",
     "shell.execute_reply": "2023-07-24T23:34:33.874962Z"
    },
    "papermill": {
     "duration": 0.022817,
     "end_time": "2023-07-24T23:34:33.878174",
     "exception": false,
     "start_time": "2023-07-24T23:34:33.855357",
     "status": "completed"
    },
    "tags": []
   },
   "outputs": [],
   "source": [
    "#q5.a.hint()\n",
    "#q5.a.solution()"
   ]
  },
  {
   "cell_type": "markdown",
   "id": "36ebd9e6",
   "metadata": {
    "papermill": {
     "duration": 0.014217,
     "end_time": "2023-07-24T23:34:33.907165",
     "exception": false,
     "start_time": "2023-07-24T23:34:33.892948",
     "status": "completed"
    },
    "tags": []
   },
   "source": [
    "# 5b.\n",
    "\n",
    "For the next function, fill in the body to match the English description in the docstring. "
   ]
  },
  {
   "cell_type": "code",
   "execution_count": 16,
   "id": "b5bcb52a",
   "metadata": {
    "execution": {
     "iopub.execute_input": "2023-07-24T23:34:33.938098Z",
     "iopub.status.busy": "2023-07-24T23:34:33.937652Z",
     "iopub.status.idle": "2023-07-24T23:34:33.947803Z",
     "shell.execute_reply": "2023-07-24T23:34:33.946741Z"
    },
    "papermill": {
     "duration": 0.028336,
     "end_time": "2023-07-24T23:34:33.950077",
     "exception": false,
     "start_time": "2023-07-24T23:34:33.921741",
     "status": "completed"
    },
    "tags": []
   },
   "outputs": [
    {
     "data": {
      "application/javascript": [
       "parent.postMessage({\"jupyterEvent\": \"custom.exercise_interaction\", \"data\": {\"outcomeType\": 1, \"valueTowardsCompletion\": 0.2, \"interactionType\": 1, \"questionType\": 2, \"questionId\": \"5.2_PlainDog\", \"learnToolsVersion\": \"0.3.4\", \"failureMessage\": \"\", \"exceptionClass\": \"\", \"trace\": \"\"}}, \"*\")"
      ],
      "text/plain": [
       "<IPython.core.display.Javascript object>"
      ]
     },
     "metadata": {},
     "output_type": "display_data"
    },
    {
     "data": {
      "text/markdown": [
       "<span style=\"color:#33cc33\">Correct:</span> \n",
       "\n",
       "One solution looks like:\n",
       "```python\n",
       "return not ketchup and not mustard and not onion\n",
       "```\n",
       "\n",
       "We can also [\"factor out\" the nots](https://en.wikipedia.org/wiki/De_Morgan%27s_laws) to get:\n",
       "\n",
       "```python\n",
       "return not (ketchup or mustard or onion)\n",
       "```"
      ],
      "text/plain": [
       "Correct: \n",
       "\n",
       "One solution looks like:\n",
       "```python\n",
       "return not ketchup and not mustard and not onion\n",
       "```\n",
       "\n",
       "We can also [\"factor out\" the nots](https://en.wikipedia.org/wiki/De_Morgan%27s_laws) to get:\n",
       "\n",
       "```python\n",
       "return not (ketchup or mustard or onion)\n",
       "```"
      ]
     },
     "metadata": {},
     "output_type": "display_data"
    }
   ],
   "source": [
    "def wants_plain_hotdog(ketchup, mustard, onion):\n",
    "    \"\"\"Return whether the customer wants a plain hot dog with no toppings.\n",
    "    \"\"\"\n",
    "    return not(onion or mustard or ketchup)\n",
    "\n",
    "# Check your answer\n",
    "q5.b.check()"
   ]
  },
  {
   "cell_type": "code",
   "execution_count": 17,
   "id": "c392ab9c",
   "metadata": {
    "execution": {
     "iopub.execute_input": "2023-07-24T23:34:33.982547Z",
     "iopub.status.busy": "2023-07-24T23:34:33.982100Z",
     "iopub.status.idle": "2023-07-24T23:34:33.986982Z",
     "shell.execute_reply": "2023-07-24T23:34:33.985873Z"
    },
    "papermill": {
     "duration": 0.023724,
     "end_time": "2023-07-24T23:34:33.989288",
     "exception": false,
     "start_time": "2023-07-24T23:34:33.965564",
     "status": "completed"
    },
    "tags": []
   },
   "outputs": [],
   "source": [
    "#q5.b.hint()\n",
    "#q5.b.solution()"
   ]
  },
  {
   "cell_type": "markdown",
   "id": "d9fc4551",
   "metadata": {
    "papermill": {
     "duration": 0.014778,
     "end_time": "2023-07-24T23:34:34.019179",
     "exception": false,
     "start_time": "2023-07-24T23:34:34.004401",
     "status": "completed"
    },
    "tags": []
   },
   "source": [
    "# 5c.\n",
    "\n",
    "You know what to do: for the next function, fill in the body to match the English description in the docstring."
   ]
  },
  {
   "cell_type": "code",
   "execution_count": 18,
   "id": "2a9696a2",
   "metadata": {
    "execution": {
     "iopub.execute_input": "2023-07-24T23:34:34.050927Z",
     "iopub.status.busy": "2023-07-24T23:34:34.050506Z",
     "iopub.status.idle": "2023-07-24T23:34:34.060062Z",
     "shell.execute_reply": "2023-07-24T23:34:34.059214Z"
    },
    "papermill": {
     "duration": 0.02799,
     "end_time": "2023-07-24T23:34:34.062248",
     "exception": false,
     "start_time": "2023-07-24T23:34:34.034258",
     "status": "completed"
    },
    "tags": []
   },
   "outputs": [
    {
     "data": {
      "application/javascript": [
       "parent.postMessage({\"jupyterEvent\": \"custom.exercise_interaction\", \"data\": {\"outcomeType\": 4, \"interactionType\": 1, \"questionType\": 2, \"questionId\": \"5.3_OneSauce\", \"learnToolsVersion\": \"0.3.4\", \"valueTowardsCompletion\": 0.0, \"failureMessage\": \"\", \"exceptionClass\": \"\", \"trace\": \"\"}}, \"*\")"
      ],
      "text/plain": [
       "<IPython.core.display.Javascript object>"
      ]
     },
     "metadata": {},
     "output_type": "display_data"
    },
    {
     "data": {
      "text/markdown": [
       "<span style=\"color:#ccaa33\">Check:</span> When you've updated the starter code, `check()` will tell you whether your code is correct. "
      ],
      "text/plain": [
       "Check: When you've updated the starter code, `check()` will tell you whether your code is correct. "
      ]
     },
     "metadata": {},
     "output_type": "display_data"
    }
   ],
   "source": [
    "def exactly_one_sauce(ketchup, mustard, onion):\n",
    "    \"\"\"Return whether the customer wants either ketchup or mustard, but not both.\n",
    "    (You may be familiar with this operation under the name \"exclusive or\")\n",
    "    \"\"\"\n",
    "    pass\n",
    "\n",
    "# Check your answer\n",
    "q5.c.check()"
   ]
  },
  {
   "cell_type": "code",
   "execution_count": 19,
   "id": "a8e9ff85",
   "metadata": {
    "execution": {
     "iopub.execute_input": "2023-07-24T23:34:34.095271Z",
     "iopub.status.busy": "2023-07-24T23:34:34.094883Z",
     "iopub.status.idle": "2023-07-24T23:34:34.099148Z",
     "shell.execute_reply": "2023-07-24T23:34:34.098049Z"
    },
    "papermill": {
     "duration": 0.023379,
     "end_time": "2023-07-24T23:34:34.101277",
     "exception": false,
     "start_time": "2023-07-24T23:34:34.077898",
     "status": "completed"
    },
    "tags": []
   },
   "outputs": [],
   "source": [
    "#q5.c.hint()\n",
    "#q5.c.solution()"
   ]
  },
  {
   "cell_type": "markdown",
   "id": "8d821f8b",
   "metadata": {
    "papermill": {
     "duration": 0.01501,
     "end_time": "2023-07-24T23:34:34.131732",
     "exception": false,
     "start_time": "2023-07-24T23:34:34.116722",
     "status": "completed"
    },
    "tags": []
   },
   "source": [
    "# 6. <span title=\"A bit spicy\" style=\"color: darkgreen \">🌶️</span>\n",
    "\n",
    "We’ve seen that calling `bool()` on an integer returns `False` if it’s equal to 0 and `True` otherwise. What happens if we call `int()` on a bool? Try it out in the notebook cell below.\n",
    "\n",
    "Can you take advantage of this to write a succinct function that corresponds to the English sentence \"does the customer want exactly one topping?\"?"
   ]
  },
  {
   "cell_type": "code",
   "execution_count": 20,
   "id": "29d68705",
   "metadata": {
    "execution": {
     "iopub.execute_input": "2023-07-24T23:34:34.164136Z",
     "iopub.status.busy": "2023-07-24T23:34:34.163715Z",
     "iopub.status.idle": "2023-07-24T23:34:34.173226Z",
     "shell.execute_reply": "2023-07-24T23:34:34.172118Z"
    },
    "papermill": {
     "duration": 0.028543,
     "end_time": "2023-07-24T23:34:34.175552",
     "exception": false,
     "start_time": "2023-07-24T23:34:34.147009",
     "status": "completed"
    },
    "tags": []
   },
   "outputs": [
    {
     "data": {
      "application/javascript": [
       "parent.postMessage({\"jupyterEvent\": \"custom.exercise_interaction\", \"data\": {\"outcomeType\": 4, \"interactionType\": 1, \"questionType\": 2, \"questionId\": \"6_OneTopping\", \"learnToolsVersion\": \"0.3.4\", \"valueTowardsCompletion\": 0.0, \"failureMessage\": \"\", \"exceptionClass\": \"\", \"trace\": \"\"}}, \"*\")"
      ],
      "text/plain": [
       "<IPython.core.display.Javascript object>"
      ]
     },
     "metadata": {},
     "output_type": "display_data"
    },
    {
     "data": {
      "text/markdown": [
       "<span style=\"color:#ccaa33\">Check:</span> When you've updated the starter code, `check()` will tell you whether your code is correct. "
      ],
      "text/plain": [
       "Check: When you've updated the starter code, `check()` will tell you whether your code is correct. "
      ]
     },
     "metadata": {},
     "output_type": "display_data"
    }
   ],
   "source": [
    "def exactly_one_topping(ketchup, mustard, onion):\n",
    "    \"\"\"Return whether the customer wants exactly one of the three available toppings\n",
    "    on their hot dog.\n",
    "    \"\"\"\n",
    "    pass\n",
    "\n",
    "# Check your answer\n",
    "q6.check()"
   ]
  },
  {
   "cell_type": "code",
   "execution_count": 21,
   "id": "f3ca0d79",
   "metadata": {
    "execution": {
     "iopub.execute_input": "2023-07-24T23:34:34.208820Z",
     "iopub.status.busy": "2023-07-24T23:34:34.208397Z",
     "iopub.status.idle": "2023-07-24T23:34:34.213146Z",
     "shell.execute_reply": "2023-07-24T23:34:34.211971Z"
    },
    "papermill": {
     "duration": 0.024178,
     "end_time": "2023-07-24T23:34:34.215418",
     "exception": false,
     "start_time": "2023-07-24T23:34:34.191240",
     "status": "completed"
    },
    "tags": []
   },
   "outputs": [],
   "source": [
    "#q6.hint()\n",
    "#q6.solution()"
   ]
  },
  {
   "cell_type": "markdown",
   "id": "3b50e29d",
   "metadata": {
    "papermill": {
     "duration": 0.015537,
     "end_time": "2023-07-24T23:34:34.246875",
     "exception": false,
     "start_time": "2023-07-24T23:34:34.231338",
     "status": "completed"
    },
    "tags": []
   },
   "source": [
    "# 7. <span title=\"A bit spicy\" style=\"color: darkgreen \">🌶️</span> (Optional)\n",
    "\n",
    "In this problem we'll be working with a simplified version of [blackjack](https://en.wikipedia.org/wiki/Blackjack) (aka twenty-one). In this version there is one player (who you'll control) and a dealer. Play proceeds as follows:\n",
    "\n",
    "- The player is dealt two face-up cards. The dealer is dealt one face-up card.\n",
    "- The player may ask to be dealt another card ('hit') as many times as they wish. If the sum of their cards exceeds 21, they lose the round immediately.\n",
    "- The dealer then deals additional cards to himself until either:\n",
    "    - the sum of the dealer's cards exceeds 21, in which case the player wins the round\n",
    "    - the sum of the dealer's cards is greater than or equal to 17. If the player's total is greater than the dealer's, the player wins. Otherwise, the dealer wins (even in case of a tie).\n",
    "    \n",
    "When calculating the sum of cards, Jack, Queen, and King count for 10. Aces can count as 1 or 11 (when referring to a player's \"total\" above, we mean the largest total that can be made without exceeding 21. So e.g. A+8 = 19, A+8+8 = 17)\n",
    "\n",
    "For this problem, you'll write a function representing the player's decision-making strategy in this game. We've provided a very unintelligent implementation below:"
   ]
  },
  {
   "cell_type": "code",
   "execution_count": 22,
   "id": "e470cc73",
   "metadata": {
    "execution": {
     "iopub.execute_input": "2023-07-24T23:34:34.280374Z",
     "iopub.status.busy": "2023-07-24T23:34:34.280008Z",
     "iopub.status.idle": "2023-07-24T23:34:34.284923Z",
     "shell.execute_reply": "2023-07-24T23:34:34.284072Z"
    },
    "papermill": {
     "duration": 0.024229,
     "end_time": "2023-07-24T23:34:34.286999",
     "exception": false,
     "start_time": "2023-07-24T23:34:34.262770",
     "status": "completed"
    },
    "tags": []
   },
   "outputs": [],
   "source": [
    "def should_hit(dealer_total, player_total, player_low_aces, player_high_aces):\n",
    "    \"\"\"Return True if the player should hit (request another card) given the current game\n",
    "    state, or False if the player should stay.\n",
    "    When calculating a hand's total value, we count aces as \"high\" (with value 11) if doing so\n",
    "    doesn't bring the total above 21, otherwise we count them as low (with value 1). \n",
    "    For example, if the player's hand is {A, A, A, 7}, we will count it as 11 + 1 + 1 + 7,\n",
    "    and therefore set player_total=20, player_low_aces=2, player_high_aces=1.\n",
    "    \"\"\"\n",
    "    return False"
   ]
  },
  {
   "cell_type": "markdown",
   "id": "baa14a66",
   "metadata": {
    "papermill": {
     "duration": 0.015423,
     "end_time": "2023-07-24T23:34:34.318237",
     "exception": false,
     "start_time": "2023-07-24T23:34:34.302814",
     "status": "completed"
    },
    "tags": []
   },
   "source": [
    "This very conservative agent *always* sticks with the hand of two cards that they're dealt.\n",
    "\n",
    "We'll be simulating games between your player agent and our own dealer agent by calling your function.\n",
    "\n",
    "Try running the function below to see an example of a simulated game:"
   ]
  },
  {
   "cell_type": "code",
   "execution_count": 23,
   "id": "26f20f5f",
   "metadata": {
    "execution": {
     "iopub.execute_input": "2023-07-24T23:34:34.352341Z",
     "iopub.status.busy": "2023-07-24T23:34:34.351159Z",
     "iopub.status.idle": "2023-07-24T23:34:34.357981Z",
     "shell.execute_reply": "2023-07-24T23:34:34.356538Z"
    },
    "papermill": {
     "duration": 0.026197,
     "end_time": "2023-07-24T23:34:34.360296",
     "exception": false,
     "start_time": "2023-07-24T23:34:34.334099",
     "status": "completed"
    },
    "tags": []
   },
   "outputs": [
    {
     "name": "stdout",
     "output_type": "stream",
     "text": [
      "Player starts with K and 5 (total = 15)\n",
      "Dealer starts with 5\n",
      "\n",
      "__Player's turn__\n",
      "Player stays\n",
      "\n",
      "__Dealer's turn__\n",
      "Dealer hits and receives 9. (total = 14)\n",
      "Dealer hits and receives K. (total = 24)\n",
      "Dealer busts! Player wins.\n"
     ]
    }
   ],
   "source": [
    "q7.simulate_one_game()"
   ]
  },
  {
   "cell_type": "markdown",
   "id": "b96cf215",
   "metadata": {
    "papermill": {
     "duration": 0.015691,
     "end_time": "2023-07-24T23:34:34.392002",
     "exception": false,
     "start_time": "2023-07-24T23:34:34.376311",
     "status": "completed"
    },
    "tags": []
   },
   "source": [
    "The real test of your agent's mettle is their average win rate over many games. Try calling the function below to simulate 50000 games of blackjack (it may take a couple seconds):"
   ]
  },
  {
   "cell_type": "code",
   "execution_count": 24,
   "id": "73956ea6",
   "metadata": {
    "execution": {
     "iopub.execute_input": "2023-07-24T23:34:34.425814Z",
     "iopub.status.busy": "2023-07-24T23:34:34.425359Z",
     "iopub.status.idle": "2023-07-24T23:34:36.595557Z",
     "shell.execute_reply": "2023-07-24T23:34:36.594318Z"
    },
    "papermill": {
     "duration": 2.190005,
     "end_time": "2023-07-24T23:34:36.597984",
     "exception": false,
     "start_time": "2023-07-24T23:34:34.407979",
     "status": "completed"
    },
    "tags": []
   },
   "outputs": [
    {
     "name": "stdout",
     "output_type": "stream",
     "text": [
      "Player won 18826 out of 50000 games (win rate = 37.7%)\n"
     ]
    }
   ],
   "source": [
    "q7.simulate(n_games=50000)"
   ]
  },
  {
   "cell_type": "markdown",
   "id": "a1f5b6ec",
   "metadata": {
    "papermill": {
     "duration": 0.01642,
     "end_time": "2023-07-24T23:34:36.630546",
     "exception": false,
     "start_time": "2023-07-24T23:34:36.614126",
     "status": "completed"
    },
    "tags": []
   },
   "source": [
    "Our dumb agent that completely ignores the game state still manages to win shockingly often!\n",
    "\n",
    "Try adding some more smarts to the `should_hit` function and see how it affects the results."
   ]
  },
  {
   "cell_type": "code",
   "execution_count": 25,
   "id": "25ff586b",
   "metadata": {
    "execution": {
     "iopub.execute_input": "2023-07-24T23:34:36.664444Z",
     "iopub.status.busy": "2023-07-24T23:34:36.664018Z",
     "iopub.status.idle": "2023-07-24T23:34:38.817057Z",
     "shell.execute_reply": "2023-07-24T23:34:38.815865Z"
    },
    "papermill": {
     "duration": 2.172987,
     "end_time": "2023-07-24T23:34:38.819595",
     "exception": false,
     "start_time": "2023-07-24T23:34:36.646608",
     "status": "completed"
    },
    "tags": []
   },
   "outputs": [
    {
     "name": "stdout",
     "output_type": "stream",
     "text": [
      "Player won 19137 out of 50000 games (win rate = 38.3%)\n"
     ]
    }
   ],
   "source": [
    "def should_hit(dealer_total, player_total, player_low_aces, player_high_aces):\n",
    "    \"\"\"Return True if the player should hit (request another card) given the current game\n",
    "    state, or False if the player should stay.\n",
    "    When calculating a hand's total value, we count aces as \"high\" (with value 11) if doing so\n",
    "    doesn't bring the total above 21, otherwise we count them as low (with value 1). \n",
    "    For example, if the player's hand is {A, A, A, 7}, we will count it as 11 + 1 + 1 + 7,\n",
    "    and therefore set player_total=20, player_low_aces=2, player_high_aces=1.\n",
    "    \"\"\"\n",
    "    return False\n",
    "\n",
    "q7.simulate(n_games=50000)"
   ]
  },
  {
   "cell_type": "markdown",
   "id": "3360c068",
   "metadata": {
    "papermill": {
     "duration": 0.016265,
     "end_time": "2023-07-24T23:34:38.852028",
     "exception": false,
     "start_time": "2023-07-24T23:34:38.835763",
     "status": "completed"
    },
    "tags": []
   },
   "source": [
    "# Keep Going\n",
    "\n",
    "Learn about **[lists and tuples](https://www.kaggle.com/colinmorris/lists)** to handle multiple items of data in a systematic way."
   ]
  },
  {
   "cell_type": "markdown",
   "id": "ef68b6ec",
   "metadata": {
    "papermill": {
     "duration": 0.016326,
     "end_time": "2023-07-24T23:34:38.884874",
     "exception": false,
     "start_time": "2023-07-24T23:34:38.868548",
     "status": "completed"
    },
    "tags": []
   },
   "source": [
    "---\n",
    "\n",
    "\n",
    "\n",
    "\n",
    "*Have questions or comments? Visit the [course discussion forum](https://www.kaggle.com/learn/python/discussion) to chat with other learners.*"
   ]
  }
 ],
 "metadata": {
  "kernelspec": {
   "display_name": "Python 3",
   "language": "python",
   "name": "python3"
  },
  "language_info": {
   "codemirror_mode": {
    "name": "ipython",
    "version": 3
   },
   "file_extension": ".py",
   "mimetype": "text/x-python",
   "name": "python",
   "nbconvert_exporter": "python",
   "pygments_lexer": "ipython3",
   "version": "3.10.12"
  },
  "papermill": {
   "default_parameters": {},
   "duration": 17.785203,
   "end_time": "2023-07-24T23:34:39.723781",
   "environment_variables": {},
   "exception": null,
   "input_path": "__notebook__.ipynb",
   "output_path": "__notebook__.ipynb",
   "parameters": {},
   "start_time": "2023-07-24T23:34:21.938578",
   "version": "2.4.0"
  }
 },
 "nbformat": 4,
 "nbformat_minor": 5
}
