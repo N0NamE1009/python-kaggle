{
 "cells": [
  {
   "cell_type": "markdown",
   "id": "12cbddb3",
   "metadata": {
    "papermill": {
     "duration": 0.00913,
     "end_time": "2023-07-24T23:28:08.882185",
     "exception": false,
     "start_time": "2023-07-24T23:28:08.873055",
     "status": "completed"
    },
    "tags": []
   },
   "source": [
    "**This notebook is an exercise in the [Python](https://www.kaggle.com/learn/python) course.  You can reference the tutorial at [this link](https://www.kaggle.com/colinmorris/booleans-and-conditionals).**\n",
    "\n",
    "---\n"
   ]
  },
  {
   "cell_type": "markdown",
   "id": "4e46a4c3",
   "metadata": {
    "papermill": {
     "duration": 0.008775,
     "end_time": "2023-07-24T23:28:08.899767",
     "exception": false,
     "start_time": "2023-07-24T23:28:08.890992",
     "status": "completed"
    },
    "tags": []
   },
   "source": [
    "In this exercise, you'll put to work what you have learned about booleans and conditionals.\n",
    "\n",
    "To get started, **run the setup code below** before writing your own code (and if you leave this notebook and come back later, don't forget to run the setup code again)."
   ]
  },
  {
   "cell_type": "code",
   "execution_count": 1,
   "id": "05fc7ad2",
   "metadata": {
    "execution": {
     "iopub.execute_input": "2023-07-24T23:28:08.921017Z",
     "iopub.status.busy": "2023-07-24T23:28:08.920587Z",
     "iopub.status.idle": "2023-07-24T23:28:08.964548Z",
     "shell.execute_reply": "2023-07-24T23:28:08.963730Z"
    },
    "papermill": {
     "duration": 0.057934,
     "end_time": "2023-07-24T23:28:08.966744",
     "exception": false,
     "start_time": "2023-07-24T23:28:08.908810",
     "status": "completed"
    },
    "tags": []
   },
   "outputs": [
    {
     "name": "stdout",
     "output_type": "stream",
     "text": [
      "Setup complete.\n"
     ]
    }
   ],
   "source": [
    "from learntools.core import binder; binder.bind(globals())\n",
    "from learntools.python.ex3 import *\n",
    "print('Setup complete.')"
   ]
  },
  {
   "cell_type": "markdown",
   "id": "fffaf791",
   "metadata": {
    "papermill": {
     "duration": 0.008526,
     "end_time": "2023-07-24T23:28:08.984086",
     "exception": false,
     "start_time": "2023-07-24T23:28:08.975560",
     "status": "completed"
    },
    "tags": []
   },
   "source": [
    "# 1.\n",
    "\n",
    "Many programming languages have [`sign`](https://en.wikipedia.org/wiki/Sign_function) available as a built-in function. Python doesn't, but we can define our own!\n",
    "\n",
    "In the cell below, define a function called `sign` which takes a numerical argument and returns -1 if it's negative, 1 if it's positive, and 0 if it's 0."
   ]
  },
  {
   "cell_type": "code",
   "execution_count": 2,
   "id": "44985534",
   "metadata": {
    "execution": {
     "iopub.execute_input": "2023-07-24T23:28:09.003505Z",
     "iopub.status.busy": "2023-07-24T23:28:09.003092Z",
     "iopub.status.idle": "2023-07-24T23:28:09.013803Z",
     "shell.execute_reply": "2023-07-24T23:28:09.012725Z"
    },
    "papermill": {
     "duration": 0.022983,
     "end_time": "2023-07-24T23:28:09.015852",
     "exception": false,
     "start_time": "2023-07-24T23:28:08.992869",
     "status": "completed"
    },
    "tags": []
   },
   "outputs": [
    {
     "data": {
      "application/javascript": [
       "parent.postMessage({\"jupyterEvent\": \"custom.exercise_interaction\", \"data\": {\"outcomeType\": 1, \"valueTowardsCompletion\": 0.2, \"interactionType\": 1, \"questionType\": 2, \"questionId\": \"1_SignFunctionProblem\", \"learnToolsVersion\": \"0.3.4\", \"failureMessage\": \"\", \"exceptionClass\": \"\", \"trace\": \"\"}}, \"*\")"
      ],
      "text/plain": [
       "<IPython.core.display.Javascript object>"
      ]
     },
     "metadata": {},
     "output_type": "display_data"
    },
    {
     "data": {
      "text/markdown": [
       "<span style=\"color:#33cc33\">Correct</span>"
      ],
      "text/plain": [
       "Correct"
      ]
     },
     "metadata": {},
     "output_type": "display_data"
    }
   ],
   "source": [
    "# Your code goes here. Define a function called 'sign'\n",
    "def sign(num):\n",
    "    if num>0:\n",
    "        return 1\n",
    "    elif num<0:\n",
    "        return -1\n",
    "    else:\n",
    "        return 0\n",
    "\n",
    "# Check your answer\n",
    "q1.check()"
   ]
  },
  {
   "cell_type": "code",
   "execution_count": 3,
   "id": "4735f7c7",
   "metadata": {
    "execution": {
     "iopub.execute_input": "2023-07-24T23:28:09.035605Z",
     "iopub.status.busy": "2023-07-24T23:28:09.035206Z",
     "iopub.status.idle": "2023-07-24T23:28:09.039647Z",
     "shell.execute_reply": "2023-07-24T23:28:09.038572Z"
    },
    "papermill": {
     "duration": 0.016957,
     "end_time": "2023-07-24T23:28:09.041829",
     "exception": false,
     "start_time": "2023-07-24T23:28:09.024872",
     "status": "completed"
    },
    "tags": []
   },
   "outputs": [],
   "source": [
    "#q1.solution()"
   ]
  },
  {
   "cell_type": "markdown",
   "id": "04b5e492",
   "metadata": {
    "papermill": {
     "duration": 0.008716,
     "end_time": "2023-07-24T23:28:09.059593",
     "exception": false,
     "start_time": "2023-07-24T23:28:09.050877",
     "status": "completed"
    },
    "tags": []
   },
   "source": [
    "# 2.\n",
    "\n",
    "We've decided to add \"logging\" to our `to_smash` function from the previous exercise."
   ]
  },
  {
   "cell_type": "code",
   "execution_count": 4,
   "id": "e07da6b9",
   "metadata": {
    "execution": {
     "iopub.execute_input": "2023-07-24T23:28:09.080353Z",
     "iopub.status.busy": "2023-07-24T23:28:09.079622Z",
     "iopub.status.idle": "2023-07-24T23:28:09.088309Z",
     "shell.execute_reply": "2023-07-24T23:28:09.087120Z"
    },
    "papermill": {
     "duration": 0.021591,
     "end_time": "2023-07-24T23:28:09.090754",
     "exception": false,
     "start_time": "2023-07-24T23:28:09.069163",
     "status": "completed"
    },
    "tags": []
   },
   "outputs": [
    {
     "name": "stdout",
     "output_type": "stream",
     "text": [
      "Splitting 91 candies\n"
     ]
    },
    {
     "data": {
      "text/plain": [
       "1"
      ]
     },
     "execution_count": 4,
     "metadata": {},
     "output_type": "execute_result"
    }
   ],
   "source": [
    "def to_smash(total_candies):\n",
    "    \"\"\"Return the number of leftover candies that must be smashed after distributing\n",
    "    the given number of candies evenly between 3 friends.\n",
    "    \n",
    "    >>> to_smash(91)\n",
    "    1\n",
    "    \"\"\"\n",
    "    print(\"Splitting\", total_candies, \"candies\")\n",
    "    return total_candies % 3\n",
    "\n",
    "to_smash(91)"
   ]
  },
  {
   "cell_type": "markdown",
   "id": "037fad1f",
   "metadata": {
    "papermill": {
     "duration": 0.008965,
     "end_time": "2023-07-24T23:28:09.109030",
     "exception": false,
     "start_time": "2023-07-24T23:28:09.100065",
     "status": "completed"
    },
    "tags": []
   },
   "source": [
    "What happens if we call it with `total_candies = 1`?"
   ]
  },
  {
   "cell_type": "code",
   "execution_count": 5,
   "id": "e1a68a46",
   "metadata": {
    "execution": {
     "iopub.execute_input": "2023-07-24T23:28:09.129687Z",
     "iopub.status.busy": "2023-07-24T23:28:09.128712Z",
     "iopub.status.idle": "2023-07-24T23:28:09.134970Z",
     "shell.execute_reply": "2023-07-24T23:28:09.134225Z"
    },
    "papermill": {
     "duration": 0.018447,
     "end_time": "2023-07-24T23:28:09.136761",
     "exception": false,
     "start_time": "2023-07-24T23:28:09.118314",
     "status": "completed"
    },
    "tags": []
   },
   "outputs": [
    {
     "name": "stdout",
     "output_type": "stream",
     "text": [
      "Splitting 1 candies\n"
     ]
    },
    {
     "data": {
      "text/plain": [
       "1"
      ]
     },
     "execution_count": 5,
     "metadata": {},
     "output_type": "execute_result"
    }
   ],
   "source": [
    "to_smash(1)"
   ]
  },
  {
   "cell_type": "markdown",
   "id": "214612ee",
   "metadata": {
    "papermill": {
     "duration": 0.00894,
     "end_time": "2023-07-24T23:28:09.154964",
     "exception": false,
     "start_time": "2023-07-24T23:28:09.146024",
     "status": "completed"
    },
    "tags": []
   },
   "source": [
    "That isn't great grammar!\n",
    "\n",
    "Modify the definition in the cell below to correct the grammar of our print statement. (If there's only one candy, we should use the singular \"candy\" instead of the plural \"candies\")"
   ]
  },
  {
   "cell_type": "code",
   "execution_count": 6,
   "id": "4d75ea21",
   "metadata": {
    "execution": {
     "iopub.execute_input": "2023-07-24T23:28:09.175148Z",
     "iopub.status.busy": "2023-07-24T23:28:09.174744Z",
     "iopub.status.idle": "2023-07-24T23:28:09.180716Z",
     "shell.execute_reply": "2023-07-24T23:28:09.179679Z"
    },
    "papermill": {
     "duration": 0.018745,
     "end_time": "2023-07-24T23:28:09.183001",
     "exception": false,
     "start_time": "2023-07-24T23:28:09.164256",
     "status": "completed"
    },
    "tags": []
   },
   "outputs": [
    {
     "name": "stdout",
     "output_type": "stream",
     "text": [
      "Splitting 91 candies\n",
      "Splitting 1 candy\n"
     ]
    }
   ],
   "source": [
    "def to_smash(total_candies):\n",
    "    \"\"\"Return the number of leftover candies that must be smashed after distributing\n",
    "    the given number of candies evenly between 3 friends.\n",
    "    \n",
    "    >>> to_smash(91)\n",
    "    1\n",
    "    \"\"\"\n",
    "    if total_candies==1:\n",
    "        print(\"Splitting 1 candy\")\n",
    "    else:\n",
    "        print(\"Splitting\", total_candies, \"candies\")\n",
    "\n",
    "to_smash(91)\n",
    "to_smash(1)\n"
   ]
  },
  {
   "cell_type": "code",
   "execution_count": 7,
   "id": "57fba2bb",
   "metadata": {
    "execution": {
     "iopub.execute_input": "2023-07-24T23:28:09.203254Z",
     "iopub.status.busy": "2023-07-24T23:28:09.202891Z",
     "iopub.status.idle": "2023-07-24T23:28:09.210229Z",
     "shell.execute_reply": "2023-07-24T23:28:09.209506Z"
    },
    "papermill": {
     "duration": 0.019712,
     "end_time": "2023-07-24T23:28:09.212069",
     "exception": false,
     "start_time": "2023-07-24T23:28:09.192357",
     "status": "completed"
    },
    "tags": []
   },
   "outputs": [
    {
     "data": {
      "application/javascript": [
       "parent.postMessage({\"jupyterEvent\": \"custom.exercise_interaction\", \"data\": {\"outcomeType\": 1, \"valueTowardsCompletion\": 0.2, \"interactionType\": 1, \"questionType\": 4, \"questionId\": \"2_PluralizationProblem\", \"learnToolsVersion\": \"0.3.4\", \"failureMessage\": \"\", \"exceptionClass\": \"\", \"trace\": \"\"}}, \"*\")"
      ],
      "text/plain": [
       "<IPython.core.display.Javascript object>"
      ]
     },
     "metadata": {},
     "output_type": "display_data"
    },
    {
     "data": {
      "text/markdown": [
       "<span style=\"color:#33cc33\">Correct:</span> \n",
       "\n",
       "A straightforward (and totally fine) solution is to replace the original `print` call with:\n",
       "\n",
       "```python\n",
       "if total_candies == 1:\n",
       "    print(\"Splitting 1 candy\")\n",
       "else:\n",
       "    print(\"Splitting\", total_candies, \"candies\")\n",
       "```\n",
       "\n",
       "Here's a slightly more succinct solution using a conditional expression:\n",
       "\n",
       "```python\n",
       "print(\"Splitting\", total_candies, \"candy\" if total_candies == 1 else \"candies\")\n",
       "```"
      ],
      "text/plain": [
       "Correct: \n",
       "\n",
       "A straightforward (and totally fine) solution is to replace the original `print` call with:\n",
       "\n",
       "```python\n",
       "if total_candies == 1:\n",
       "    print(\"Splitting 1 candy\")\n",
       "else:\n",
       "    print(\"Splitting\", total_candies, \"candies\")\n",
       "```\n",
       "\n",
       "Here's a slightly more succinct solution using a conditional expression:\n",
       "\n",
       "```python\n",
       "print(\"Splitting\", total_candies, \"candy\" if total_candies == 1 else \"candies\")\n",
       "```"
      ]
     },
     "metadata": {},
     "output_type": "display_data"
    }
   ],
   "source": [
    "q2.check()"
   ]
  },
  {
   "cell_type": "markdown",
   "id": "6a042080",
   "metadata": {
    "papermill": {
     "duration": 0.009263,
     "end_time": "2023-07-24T23:28:09.231055",
     "exception": false,
     "start_time": "2023-07-24T23:28:09.221792",
     "status": "completed"
    },
    "tags": []
   },
   "source": [
    "To get credit for completing this problem, and to see the official answer, run the code cell below."
   ]
  },
  {
   "cell_type": "code",
   "execution_count": 8,
   "id": "684ea227",
   "metadata": {
    "execution": {
     "iopub.execute_input": "2023-07-24T23:28:09.251972Z",
     "iopub.status.busy": "2023-07-24T23:28:09.251344Z",
     "iopub.status.idle": "2023-07-24T23:28:09.255157Z",
     "shell.execute_reply": "2023-07-24T23:28:09.254424Z"
    },
    "papermill": {
     "duration": 0.016311,
     "end_time": "2023-07-24T23:28:09.256926",
     "exception": false,
     "start_time": "2023-07-24T23:28:09.240615",
     "status": "completed"
    },
    "tags": []
   },
   "outputs": [],
   "source": [
    "# Check your answer (Run this code cell to receive credit!)\n",
    "#q2.solution()"
   ]
  },
  {
   "cell_type": "markdown",
   "id": "eaf2b931",
   "metadata": {
    "papermill": {
     "duration": 0.009551,
     "end_time": "2023-07-24T23:28:09.276178",
     "exception": false,
     "start_time": "2023-07-24T23:28:09.266627",
     "status": "completed"
    },
    "tags": []
   },
   "source": [
    "# 3. <span title=\"A bit spicy\" style=\"color: darkgreen \">🌶️</span>\n",
    "\n",
    "In the tutorial, we talked about deciding whether we're prepared for the weather. I said that I'm safe from today's weather if...\n",
    "- I have an umbrella...\n",
    "- or if the rain isn't too heavy and I have a hood...\n",
    "- otherwise, I'm still fine unless it's raining *and* it's a workday\n",
    "\n",
    "The function below uses our first attempt at turning this logic into a Python expression. I claimed that there was a bug in that code. Can you find it?\n",
    "\n",
    "To prove that `prepared_for_weather` is buggy, come up with a set of inputs where either:\n",
    "- the function returns `False` (but should have returned `True`), or\n",
    "- the function returned `True` (but should have returned `False`).\n",
    "\n",
    "To get credit for completing this question, your code should return a <font color='#33cc33'>Correct</font> result."
   ]
  },
  {
   "cell_type": "code",
   "execution_count": 9,
   "id": "a57ac58f",
   "metadata": {
    "execution": {
     "iopub.execute_input": "2023-07-24T23:28:09.298317Z",
     "iopub.status.busy": "2023-07-24T23:28:09.297608Z",
     "iopub.status.idle": "2023-07-24T23:28:09.308053Z",
     "shell.execute_reply": "2023-07-24T23:28:09.306952Z"
    },
    "papermill": {
     "duration": 0.02381,
     "end_time": "2023-07-24T23:28:09.310243",
     "exception": false,
     "start_time": "2023-07-24T23:28:09.286433",
     "status": "completed"
    },
    "tags": []
   },
   "outputs": [
    {
     "name": "stdout",
     "output_type": "stream",
     "text": [
      "True\n"
     ]
    },
    {
     "data": {
      "application/javascript": [
       "parent.postMessage({\"jupyterEvent\": \"custom.exercise_interaction\", \"data\": {\"outcomeType\": 1, \"valueTowardsCompletion\": 0.2, \"interactionType\": 1, \"questionType\": 1, \"questionId\": \"3_WeatherDebug\", \"learnToolsVersion\": \"0.3.4\", \"failureMessage\": \"\", \"exceptionClass\": \"\", \"trace\": \"\"}}, \"*\")"
      ],
      "text/plain": [
       "<IPython.core.display.Javascript object>"
      ]
     },
     "metadata": {},
     "output_type": "display_data"
    },
    {
     "data": {
      "text/markdown": [
       "<span style=\"color:#33cc33\">Correct:</span> \n",
       "\n",
       "One example of a failing test case is:\n",
       "\n",
       "```python\n",
       "have_umbrella = False\n",
       "rain_level = 0.0\n",
       "have_hood = False\n",
       "is_workday = False\n",
       "```\n",
       "\n",
       "Clearly we're prepared for the weather in this case. It's not raining. Not only that, it's not a workday, so we don't even need to leave the house! But our function will return False on these inputs.\n",
       "\n",
       "The key problem is that Python implictly parenthesizes the last part as:\n",
       "\n",
       "```python\n",
       "(not (rain_level > 0)) and is_workday\n",
       "```\n",
       "\n",
       "Whereas what we were trying to express would look more like:\n",
       "\n",
       "```python\n",
       "not (rain_level > 0 and is_workday)\n",
       "```\n"
      ],
      "text/plain": [
       "Correct: \n",
       "\n",
       "One example of a failing test case is:\n",
       "\n",
       "```python\n",
       "have_umbrella = False\n",
       "rain_level = 0.0\n",
       "have_hood = False\n",
       "is_workday = False\n",
       "```\n",
       "\n",
       "Clearly we're prepared for the weather in this case. It's not raining. Not only that, it's not a workday, so we don't even need to leave the house! But our function will return False on these inputs.\n",
       "\n",
       "The key problem is that Python implictly parenthesizes the last part as:\n",
       "\n",
       "```python\n",
       "(not (rain_level > 0)) and is_workday\n",
       "```\n",
       "\n",
       "Whereas what we were trying to express would look more like:\n",
       "\n",
       "```python\n",
       "not (rain_level > 0 and is_workday)\n",
       "```"
      ]
     },
     "metadata": {},
     "output_type": "display_data"
    }
   ],
   "source": [
    "def prepared_for_weather(have_umbrella, rain_level, have_hood, is_workday):\n",
    "    # Don't change this code. Our goal is just to find the bug, not fix it!\n",
    "    return have_umbrella or (rain_level < 5 and have_hood) or not (rain_level > 0 and is_workday)\n",
    "\n",
    "# Change the values of these inputs so they represent a case where prepared_for_weather\n",
    "# returns the wrong answer.\n",
    "#have_umbrella = True\n",
    "#rain_level = 0.0\n",
    "#have_hood = True\n",
    "#is_workday = True\n",
    "have_umbrella = False\n",
    "rain_level = 0.0\n",
    "have_hood = False\n",
    "is_workday = False\n",
    "# Check what the function returns given the current values of the variables above\n",
    "actual = prepared_for_weather(have_umbrella, rain_level, have_hood, is_workday)\n",
    "print(actual)\n",
    "\n",
    "# Check your answer\n",
    "q3.check()"
   ]
  },
  {
   "cell_type": "code",
   "execution_count": 10,
   "id": "1d288957",
   "metadata": {
    "execution": {
     "iopub.execute_input": "2023-07-24T23:28:09.332028Z",
     "iopub.status.busy": "2023-07-24T23:28:09.331600Z",
     "iopub.status.idle": "2023-07-24T23:28:09.335969Z",
     "shell.execute_reply": "2023-07-24T23:28:09.334952Z"
    },
    "papermill": {
     "duration": 0.017659,
     "end_time": "2023-07-24T23:28:09.337975",
     "exception": false,
     "start_time": "2023-07-24T23:28:09.320316",
     "status": "completed"
    },
    "tags": []
   },
   "outputs": [],
   "source": [
    "#q3.hint()\n",
    "#\n",
    "#q3.solution()"
   ]
  },
  {
   "cell_type": "markdown",
   "id": "f1538c59",
   "metadata": {
    "papermill": {
     "duration": 0.009696,
     "end_time": "2023-07-24T23:28:09.357831",
     "exception": false,
     "start_time": "2023-07-24T23:28:09.348135",
     "status": "completed"
    },
    "tags": []
   },
   "source": [
    "# 4.\n",
    "\n",
    "The function `is_negative` below is implemented correctly - it returns True if the given number is negative and False otherwise.\n",
    "\n",
    "However, it's more verbose than it needs to be. We can actually reduce the number of lines of code in this function by *75%* while keeping the same behaviour. \n",
    "\n",
    "See if you can come up with an equivalent body that uses just **one line** of code, and put it in the function `concise_is_negative`. (HINT: you don't even need Python's ternary syntax)"
   ]
  },
  {
   "cell_type": "code",
   "execution_count": 11,
   "id": "2e958223",
   "metadata": {
    "execution": {
     "iopub.execute_input": "2023-07-24T23:28:09.379774Z",
     "iopub.status.busy": "2023-07-24T23:28:09.379404Z",
     "iopub.status.idle": "2023-07-24T23:28:09.388141Z",
     "shell.execute_reply": "2023-07-24T23:28:09.387031Z"
    },
    "papermill": {
     "duration": 0.022221,
     "end_time": "2023-07-24T23:28:09.390255",
     "exception": false,
     "start_time": "2023-07-24T23:28:09.368034",
     "status": "completed"
    },
    "tags": []
   },
   "outputs": [
    {
     "data": {
      "application/javascript": [
       "parent.postMessage({\"jupyterEvent\": \"custom.exercise_interaction\", \"data\": {\"outcomeType\": 4, \"interactionType\": 1, \"questionType\": 2, \"questionId\": \"4_ConciseIsNegative\", \"learnToolsVersion\": \"0.3.4\", \"valueTowardsCompletion\": 0.0, \"failureMessage\": \"\", \"exceptionClass\": \"\", \"trace\": \"\"}}, \"*\")"
      ],
      "text/plain": [
       "<IPython.core.display.Javascript object>"
      ]
     },
     "metadata": {},
     "output_type": "display_data"
    },
    {
     "data": {
      "text/markdown": [
       "<span style=\"color:#ccaa33\">Check:</span> When you've updated the starter code, `check()` will tell you whether your code is correct. "
      ],
      "text/plain": [
       "Check: When you've updated the starter code, `check()` will tell you whether your code is correct. "
      ]
     },
     "metadata": {},
     "output_type": "display_data"
    }
   ],
   "source": [
    "def is_negative(number):\n",
    "    if number < 0:\n",
    "        return True\n",
    "    else:\n",
    "        return False\n",
    "\n",
    "def concise_is_negative(number):\n",
    "    pass # Your code goes here (try to keep it to one line!)\n",
    "\n",
    "# Check your answer\n",
    "q4.check()"
   ]
  },
  {
   "cell_type": "code",
   "execution_count": 12,
   "id": "dcbcd1ab",
   "metadata": {
    "execution": {
     "iopub.execute_input": "2023-07-24T23:28:09.413145Z",
     "iopub.status.busy": "2023-07-24T23:28:09.412756Z",
     "iopub.status.idle": "2023-07-24T23:28:09.417553Z",
     "shell.execute_reply": "2023-07-24T23:28:09.416458Z"
    },
    "papermill": {
     "duration": 0.019041,
     "end_time": "2023-07-24T23:28:09.419777",
     "exception": false,
     "start_time": "2023-07-24T23:28:09.400736",
     "status": "completed"
    },
    "tags": []
   },
   "outputs": [],
   "source": [
    "#q4.hint()\n",
    "#q4.solution()"
   ]
  },
  {
   "cell_type": "markdown",
   "id": "d5710470",
   "metadata": {
    "papermill": {
     "duration": 0.009883,
     "end_time": "2023-07-24T23:28:09.440019",
     "exception": false,
     "start_time": "2023-07-24T23:28:09.430136",
     "status": "completed"
    },
    "tags": []
   },
   "source": [
    "# 5a.\n",
    "\n",
    "The boolean variables `ketchup`, `mustard` and `onion` represent whether a customer wants a particular topping on their hot dog. We want to implement a number of boolean functions that correspond to some yes-or-no questions about the customer's order. For example:"
   ]
  },
  {
   "cell_type": "code",
   "execution_count": 13,
   "id": "5342016e",
   "metadata": {
    "execution": {
     "iopub.execute_input": "2023-07-24T23:28:09.462058Z",
     "iopub.status.busy": "2023-07-24T23:28:09.461664Z",
     "iopub.status.idle": "2023-07-24T23:28:09.466668Z",
     "shell.execute_reply": "2023-07-24T23:28:09.465597Z"
    },
    "papermill": {
     "duration": 0.018672,
     "end_time": "2023-07-24T23:28:09.468898",
     "exception": false,
     "start_time": "2023-07-24T23:28:09.450226",
     "status": "completed"
    },
    "tags": []
   },
   "outputs": [],
   "source": [
    "def onionless(ketchup, mustard, onion):\n",
    "    \"\"\"Return whether the customer doesn't want onions.\n",
    "    \"\"\"\n",
    "    return not onion"
   ]
  },
  {
   "cell_type": "code",
   "execution_count": 14,
   "id": "050395bd",
   "metadata": {
    "execution": {
     "iopub.execute_input": "2023-07-24T23:28:09.492176Z",
     "iopub.status.busy": "2023-07-24T23:28:09.491790Z",
     "iopub.status.idle": "2023-07-24T23:28:09.500456Z",
     "shell.execute_reply": "2023-07-24T23:28:09.499477Z"
    },
    "papermill": {
     "duration": 0.023028,
     "end_time": "2023-07-24T23:28:09.502596",
     "exception": false,
     "start_time": "2023-07-24T23:28:09.479568",
     "status": "completed"
    },
    "tags": []
   },
   "outputs": [
    {
     "data": {
      "application/javascript": [
       "parent.postMessage({\"jupyterEvent\": \"custom.exercise_interaction\", \"data\": {\"outcomeType\": 4, \"interactionType\": 1, \"questionType\": 2, \"questionId\": \"5.1_AllToppings\", \"learnToolsVersion\": \"0.3.4\", \"valueTowardsCompletion\": 0.0, \"failureMessage\": \"\", \"exceptionClass\": \"\", \"trace\": \"\"}}, \"*\")"
      ],
      "text/plain": [
       "<IPython.core.display.Javascript object>"
      ]
     },
     "metadata": {},
     "output_type": "display_data"
    },
    {
     "data": {
      "text/markdown": [
       "<span style=\"color:#ccaa33\">Check:</span> When you've updated the starter code, `check()` will tell you whether your code is correct. "
      ],
      "text/plain": [
       "Check: When you've updated the starter code, `check()` will tell you whether your code is correct. "
      ]
     },
     "metadata": {},
     "output_type": "display_data"
    }
   ],
   "source": [
    "def wants_all_toppings(ketchup, mustard, onion):\n",
    "    \"\"\"Return whether the customer wants \"the works\" (all 3 toppings)\n",
    "    \"\"\"\n",
    "    pass\n",
    "\n",
    "# Check your answer\n",
    "q5.a.check()"
   ]
  },
  {
   "cell_type": "code",
   "execution_count": 15,
   "id": "66ae1c1c",
   "metadata": {
    "execution": {
     "iopub.execute_input": "2023-07-24T23:28:09.525414Z",
     "iopub.status.busy": "2023-07-24T23:28:09.525040Z",
     "iopub.status.idle": "2023-07-24T23:28:09.529302Z",
     "shell.execute_reply": "2023-07-24T23:28:09.528312Z"
    },
    "papermill": {
     "duration": 0.018113,
     "end_time": "2023-07-24T23:28:09.531311",
     "exception": false,
     "start_time": "2023-07-24T23:28:09.513198",
     "status": "completed"
    },
    "tags": []
   },
   "outputs": [],
   "source": [
    "#q5.a.hint()\n",
    "#q5.a.solution()"
   ]
  },
  {
   "cell_type": "markdown",
   "id": "939d6f8e",
   "metadata": {
    "papermill": {
     "duration": 0.010424,
     "end_time": "2023-07-24T23:28:09.552304",
     "exception": false,
     "start_time": "2023-07-24T23:28:09.541880",
     "status": "completed"
    },
    "tags": []
   },
   "source": [
    "# 5b.\n",
    "\n",
    "For the next function, fill in the body to match the English description in the docstring. "
   ]
  },
  {
   "cell_type": "code",
   "execution_count": 16,
   "id": "bb645f88",
   "metadata": {
    "execution": {
     "iopub.execute_input": "2023-07-24T23:28:09.575237Z",
     "iopub.status.busy": "2023-07-24T23:28:09.574182Z",
     "iopub.status.idle": "2023-07-24T23:28:09.583035Z",
     "shell.execute_reply": "2023-07-24T23:28:09.581954Z"
    },
    "papermill": {
     "duration": 0.022397,
     "end_time": "2023-07-24T23:28:09.585119",
     "exception": false,
     "start_time": "2023-07-24T23:28:09.562722",
     "status": "completed"
    },
    "tags": []
   },
   "outputs": [
    {
     "data": {
      "application/javascript": [
       "parent.postMessage({\"jupyterEvent\": \"custom.exercise_interaction\", \"data\": {\"outcomeType\": 4, \"interactionType\": 1, \"questionType\": 2, \"questionId\": \"5.2_PlainDog\", \"learnToolsVersion\": \"0.3.4\", \"valueTowardsCompletion\": 0.0, \"failureMessage\": \"\", \"exceptionClass\": \"\", \"trace\": \"\"}}, \"*\")"
      ],
      "text/plain": [
       "<IPython.core.display.Javascript object>"
      ]
     },
     "metadata": {},
     "output_type": "display_data"
    },
    {
     "data": {
      "text/markdown": [
       "<span style=\"color:#ccaa33\">Check:</span> When you've updated the starter code, `check()` will tell you whether your code is correct. "
      ],
      "text/plain": [
       "Check: When you've updated the starter code, `check()` will tell you whether your code is correct. "
      ]
     },
     "metadata": {},
     "output_type": "display_data"
    }
   ],
   "source": [
    "def wants_plain_hotdog(ketchup, mustard, onion):\n",
    "    \"\"\"Return whether the customer wants a plain hot dog with no toppings.\n",
    "    \"\"\"\n",
    "    pass\n",
    "\n",
    "# Check your answer\n",
    "q5.b.check()"
   ]
  },
  {
   "cell_type": "code",
   "execution_count": 17,
   "id": "f44c220b",
   "metadata": {
    "execution": {
     "iopub.execute_input": "2023-07-24T23:28:09.609342Z",
     "iopub.status.busy": "2023-07-24T23:28:09.608151Z",
     "iopub.status.idle": "2023-07-24T23:28:09.612856Z",
     "shell.execute_reply": "2023-07-24T23:28:09.611845Z"
    },
    "papermill": {
     "duration": 0.019114,
     "end_time": "2023-07-24T23:28:09.615058",
     "exception": false,
     "start_time": "2023-07-24T23:28:09.595944",
     "status": "completed"
    },
    "tags": []
   },
   "outputs": [],
   "source": [
    "#q5.b.hint()\n",
    "#q5.b.solution()"
   ]
  },
  {
   "cell_type": "markdown",
   "id": "76782d81",
   "metadata": {
    "papermill": {
     "duration": 0.010445,
     "end_time": "2023-07-24T23:28:09.636451",
     "exception": false,
     "start_time": "2023-07-24T23:28:09.626006",
     "status": "completed"
    },
    "tags": []
   },
   "source": [
    "# 5c.\n",
    "\n",
    "You know what to do: for the next function, fill in the body to match the English description in the docstring."
   ]
  },
  {
   "cell_type": "code",
   "execution_count": 18,
   "id": "29eb7124",
   "metadata": {
    "execution": {
     "iopub.execute_input": "2023-07-24T23:28:09.666000Z",
     "iopub.status.busy": "2023-07-24T23:28:09.664578Z",
     "iopub.status.idle": "2023-07-24T23:28:09.675302Z",
     "shell.execute_reply": "2023-07-24T23:28:09.674233Z"
    },
    "papermill": {
     "duration": 0.029329,
     "end_time": "2023-07-24T23:28:09.677364",
     "exception": false,
     "start_time": "2023-07-24T23:28:09.648035",
     "status": "completed"
    },
    "tags": []
   },
   "outputs": [
    {
     "data": {
      "application/javascript": [
       "parent.postMessage({\"jupyterEvent\": \"custom.exercise_interaction\", \"data\": {\"outcomeType\": 4, \"interactionType\": 1, \"questionType\": 2, \"questionId\": \"5.3_OneSauce\", \"learnToolsVersion\": \"0.3.4\", \"valueTowardsCompletion\": 0.0, \"failureMessage\": \"\", \"exceptionClass\": \"\", \"trace\": \"\"}}, \"*\")"
      ],
      "text/plain": [
       "<IPython.core.display.Javascript object>"
      ]
     },
     "metadata": {},
     "output_type": "display_data"
    },
    {
     "data": {
      "text/markdown": [
       "<span style=\"color:#ccaa33\">Check:</span> When you've updated the starter code, `check()` will tell you whether your code is correct. "
      ],
      "text/plain": [
       "Check: When you've updated the starter code, `check()` will tell you whether your code is correct. "
      ]
     },
     "metadata": {},
     "output_type": "display_data"
    }
   ],
   "source": [
    "def exactly_one_sauce(ketchup, mustard, onion):\n",
    "    \"\"\"Return whether the customer wants either ketchup or mustard, but not both.\n",
    "    (You may be familiar with this operation under the name \"exclusive or\")\n",
    "    \"\"\"\n",
    "    pass\n",
    "\n",
    "# Check your answer\n",
    "q5.c.check()"
   ]
  },
  {
   "cell_type": "code",
   "execution_count": 19,
   "id": "aca4013b",
   "metadata": {
    "execution": {
     "iopub.execute_input": "2023-07-24T23:28:09.708592Z",
     "iopub.status.busy": "2023-07-24T23:28:09.708007Z",
     "iopub.status.idle": "2023-07-24T23:28:09.711804Z",
     "shell.execute_reply": "2023-07-24T23:28:09.710975Z"
    },
    "papermill": {
     "duration": 0.023079,
     "end_time": "2023-07-24T23:28:09.713900",
     "exception": false,
     "start_time": "2023-07-24T23:28:09.690821",
     "status": "completed"
    },
    "tags": []
   },
   "outputs": [],
   "source": [
    "#q5.c.hint()\n",
    "#q5.c.solution()"
   ]
  },
  {
   "cell_type": "markdown",
   "id": "5ea5785b",
   "metadata": {
    "papermill": {
     "duration": 0.012875,
     "end_time": "2023-07-24T23:28:09.737720",
     "exception": false,
     "start_time": "2023-07-24T23:28:09.724845",
     "status": "completed"
    },
    "tags": []
   },
   "source": [
    "# 6. <span title=\"A bit spicy\" style=\"color: darkgreen \">🌶️</span>\n",
    "\n",
    "We’ve seen that calling `bool()` on an integer returns `False` if it’s equal to 0 and `True` otherwise. What happens if we call `int()` on a bool? Try it out in the notebook cell below.\n",
    "\n",
    "Can you take advantage of this to write a succinct function that corresponds to the English sentence \"does the customer want exactly one topping?\"?"
   ]
  },
  {
   "cell_type": "code",
   "execution_count": 20,
   "id": "127cf3ac",
   "metadata": {
    "execution": {
     "iopub.execute_input": "2023-07-24T23:28:09.766119Z",
     "iopub.status.busy": "2023-07-24T23:28:09.765269Z",
     "iopub.status.idle": "2023-07-24T23:28:09.775898Z",
     "shell.execute_reply": "2023-07-24T23:28:09.774442Z"
    },
    "papermill": {
     "duration": 0.026908,
     "end_time": "2023-07-24T23:28:09.778421",
     "exception": false,
     "start_time": "2023-07-24T23:28:09.751513",
     "status": "completed"
    },
    "tags": []
   },
   "outputs": [
    {
     "data": {
      "application/javascript": [
       "parent.postMessage({\"jupyterEvent\": \"custom.exercise_interaction\", \"data\": {\"outcomeType\": 4, \"interactionType\": 1, \"questionType\": 2, \"questionId\": \"6_OneTopping\", \"learnToolsVersion\": \"0.3.4\", \"valueTowardsCompletion\": 0.0, \"failureMessage\": \"\", \"exceptionClass\": \"\", \"trace\": \"\"}}, \"*\")"
      ],
      "text/plain": [
       "<IPython.core.display.Javascript object>"
      ]
     },
     "metadata": {},
     "output_type": "display_data"
    },
    {
     "data": {
      "text/markdown": [
       "<span style=\"color:#ccaa33\">Check:</span> When you've updated the starter code, `check()` will tell you whether your code is correct. "
      ],
      "text/plain": [
       "Check: When you've updated the starter code, `check()` will tell you whether your code is correct. "
      ]
     },
     "metadata": {},
     "output_type": "display_data"
    }
   ],
   "source": [
    "def exactly_one_topping(ketchup, mustard, onion):\n",
    "    \"\"\"Return whether the customer wants exactly one of the three available toppings\n",
    "    on their hot dog.\n",
    "    \"\"\"\n",
    "    pass\n",
    "\n",
    "# Check your answer\n",
    "q6.check()"
   ]
  },
  {
   "cell_type": "code",
   "execution_count": 21,
   "id": "b11878fa",
   "metadata": {
    "execution": {
     "iopub.execute_input": "2023-07-24T23:28:09.808237Z",
     "iopub.status.busy": "2023-07-24T23:28:09.807228Z",
     "iopub.status.idle": "2023-07-24T23:28:09.811980Z",
     "shell.execute_reply": "2023-07-24T23:28:09.811135Z"
    },
    "papermill": {
     "duration": 0.022364,
     "end_time": "2023-07-24T23:28:09.814506",
     "exception": false,
     "start_time": "2023-07-24T23:28:09.792142",
     "status": "completed"
    },
    "tags": []
   },
   "outputs": [],
   "source": [
    "#q6.hint()\n",
    "#q6.solution()"
   ]
  },
  {
   "cell_type": "markdown",
   "id": "57891e97",
   "metadata": {
    "papermill": {
     "duration": 0.010917,
     "end_time": "2023-07-24T23:28:09.838736",
     "exception": false,
     "start_time": "2023-07-24T23:28:09.827819",
     "status": "completed"
    },
    "tags": []
   },
   "source": [
    "# 7. <span title=\"A bit spicy\" style=\"color: darkgreen \">🌶️</span> (Optional)\n",
    "\n",
    "In this problem we'll be working with a simplified version of [blackjack](https://en.wikipedia.org/wiki/Blackjack) (aka twenty-one). In this version there is one player (who you'll control) and a dealer. Play proceeds as follows:\n",
    "\n",
    "- The player is dealt two face-up cards. The dealer is dealt one face-up card.\n",
    "- The player may ask to be dealt another card ('hit') as many times as they wish. If the sum of their cards exceeds 21, they lose the round immediately.\n",
    "- The dealer then deals additional cards to himself until either:\n",
    "    - the sum of the dealer's cards exceeds 21, in which case the player wins the round\n",
    "    - the sum of the dealer's cards is greater than or equal to 17. If the player's total is greater than the dealer's, the player wins. Otherwise, the dealer wins (even in case of a tie).\n",
    "    \n",
    "When calculating the sum of cards, Jack, Queen, and King count for 10. Aces can count as 1 or 11 (when referring to a player's \"total\" above, we mean the largest total that can be made without exceeding 21. So e.g. A+8 = 19, A+8+8 = 17)\n",
    "\n",
    "For this problem, you'll write a function representing the player's decision-making strategy in this game. We've provided a very unintelligent implementation below:"
   ]
  },
  {
   "cell_type": "code",
   "execution_count": 22,
   "id": "c99985cd",
   "metadata": {
    "execution": {
     "iopub.execute_input": "2023-07-24T23:28:09.863185Z",
     "iopub.status.busy": "2023-07-24T23:28:09.862417Z",
     "iopub.status.idle": "2023-07-24T23:28:09.867507Z",
     "shell.execute_reply": "2023-07-24T23:28:09.866798Z"
    },
    "papermill": {
     "duration": 0.019665,
     "end_time": "2023-07-24T23:28:09.869572",
     "exception": false,
     "start_time": "2023-07-24T23:28:09.849907",
     "status": "completed"
    },
    "tags": []
   },
   "outputs": [],
   "source": [
    "def should_hit(dealer_total, player_total, player_low_aces, player_high_aces):\n",
    "    \"\"\"Return True if the player should hit (request another card) given the current game\n",
    "    state, or False if the player should stay.\n",
    "    When calculating a hand's total value, we count aces as \"high\" (with value 11) if doing so\n",
    "    doesn't bring the total above 21, otherwise we count them as low (with value 1). \n",
    "    For example, if the player's hand is {A, A, A, 7}, we will count it as 11 + 1 + 1 + 7,\n",
    "    and therefore set player_total=20, player_low_aces=2, player_high_aces=1.\n",
    "    \"\"\"\n",
    "    return False"
   ]
  },
  {
   "cell_type": "markdown",
   "id": "8210800a",
   "metadata": {
    "papermill": {
     "duration": 0.010951,
     "end_time": "2023-07-24T23:28:09.891695",
     "exception": false,
     "start_time": "2023-07-24T23:28:09.880744",
     "status": "completed"
    },
    "tags": []
   },
   "source": [
    "This very conservative agent *always* sticks with the hand of two cards that they're dealt.\n",
    "\n",
    "We'll be simulating games between your player agent and our own dealer agent by calling your function.\n",
    "\n",
    "Try running the function below to see an example of a simulated game:"
   ]
  },
  {
   "cell_type": "code",
   "execution_count": 23,
   "id": "3e700bed",
   "metadata": {
    "execution": {
     "iopub.execute_input": "2023-07-24T23:28:09.916392Z",
     "iopub.status.busy": "2023-07-24T23:28:09.915607Z",
     "iopub.status.idle": "2023-07-24T23:28:09.921684Z",
     "shell.execute_reply": "2023-07-24T23:28:09.920555Z"
    },
    "papermill": {
     "duration": 0.02103,
     "end_time": "2023-07-24T23:28:09.923923",
     "exception": false,
     "start_time": "2023-07-24T23:28:09.902893",
     "status": "completed"
    },
    "tags": []
   },
   "outputs": [
    {
     "name": "stdout",
     "output_type": "stream",
     "text": [
      "Player starts with 8 and K (total = 18)\n",
      "Dealer starts with 4\n",
      "\n",
      "__Player's turn__\n",
      "Player stays\n",
      "\n",
      "__Dealer's turn__\n",
      "Dealer hits and receives 8. (total = 12)\n",
      "Dealer hits and receives 10. (total = 22)\n",
      "Dealer busts! Player wins.\n"
     ]
    }
   ],
   "source": [
    "q7.simulate_one_game()"
   ]
  },
  {
   "cell_type": "markdown",
   "id": "43374515",
   "metadata": {
    "papermill": {
     "duration": 0.010912,
     "end_time": "2023-07-24T23:28:09.946224",
     "exception": false,
     "start_time": "2023-07-24T23:28:09.935312",
     "status": "completed"
    },
    "tags": []
   },
   "source": [
    "The real test of your agent's mettle is their average win rate over many games. Try calling the function below to simulate 50000 games of blackjack (it may take a couple seconds):"
   ]
  },
  {
   "cell_type": "code",
   "execution_count": 24,
   "id": "a3fbccfe",
   "metadata": {
    "execution": {
     "iopub.execute_input": "2023-07-24T23:28:09.970397Z",
     "iopub.status.busy": "2023-07-24T23:28:09.970021Z",
     "iopub.status.idle": "2023-07-24T23:28:11.361953Z",
     "shell.execute_reply": "2023-07-24T23:28:11.361178Z"
    },
    "papermill": {
     "duration": 1.406601,
     "end_time": "2023-07-24T23:28:11.363993",
     "exception": false,
     "start_time": "2023-07-24T23:28:09.957392",
     "status": "completed"
    },
    "tags": []
   },
   "outputs": [
    {
     "name": "stdout",
     "output_type": "stream",
     "text": [
      "Player won 18913 out of 50000 games (win rate = 37.8%)\n"
     ]
    }
   ],
   "source": [
    "q7.simulate(n_games=50000)"
   ]
  },
  {
   "cell_type": "markdown",
   "id": "64cfdcb9",
   "metadata": {
    "papermill": {
     "duration": 0.011077,
     "end_time": "2023-07-24T23:28:11.386487",
     "exception": false,
     "start_time": "2023-07-24T23:28:11.375410",
     "status": "completed"
    },
    "tags": []
   },
   "source": [
    "Our dumb agent that completely ignores the game state still manages to win shockingly often!\n",
    "\n",
    "Try adding some more smarts to the `should_hit` function and see how it affects the results."
   ]
  },
  {
   "cell_type": "code",
   "execution_count": 25,
   "id": "45589b43",
   "metadata": {
    "execution": {
     "iopub.execute_input": "2023-07-24T23:28:11.411672Z",
     "iopub.status.busy": "2023-07-24T23:28:11.411061Z",
     "iopub.status.idle": "2023-07-24T23:28:12.777238Z",
     "shell.execute_reply": "2023-07-24T23:28:12.776371Z"
    },
    "papermill": {
     "duration": 1.381186,
     "end_time": "2023-07-24T23:28:12.779426",
     "exception": false,
     "start_time": "2023-07-24T23:28:11.398240",
     "status": "completed"
    },
    "tags": []
   },
   "outputs": [
    {
     "name": "stdout",
     "output_type": "stream",
     "text": [
      "Player won 19165 out of 50000 games (win rate = 38.3%)\n"
     ]
    }
   ],
   "source": [
    "def should_hit(dealer_total, player_total, player_low_aces, player_high_aces):\n",
    "    \"\"\"Return True if the player should hit (request another card) given the current game\n",
    "    state, or False if the player should stay.\n",
    "    When calculating a hand's total value, we count aces as \"high\" (with value 11) if doing so\n",
    "    doesn't bring the total above 21, otherwise we count them as low (with value 1). \n",
    "    For example, if the player's hand is {A, A, A, 7}, we will count it as 11 + 1 + 1 + 7,\n",
    "    and therefore set player_total=20, player_low_aces=2, player_high_aces=1.\n",
    "    \"\"\"\n",
    "    return False\n",
    "\n",
    "q7.simulate(n_games=50000)"
   ]
  },
  {
   "cell_type": "markdown",
   "id": "fa53ca7d",
   "metadata": {
    "papermill": {
     "duration": 0.010989,
     "end_time": "2023-07-24T23:28:12.801830",
     "exception": false,
     "start_time": "2023-07-24T23:28:12.790841",
     "status": "completed"
    },
    "tags": []
   },
   "source": [
    "# Keep Going\n",
    "\n",
    "Learn about **[lists and tuples](https://www.kaggle.com/colinmorris/lists)** to handle multiple items of data in a systematic way."
   ]
  },
  {
   "cell_type": "markdown",
   "id": "91e61b83",
   "metadata": {
    "papermill": {
     "duration": 0.010973,
     "end_time": "2023-07-24T23:28:12.824068",
     "exception": false,
     "start_time": "2023-07-24T23:28:12.813095",
     "status": "completed"
    },
    "tags": []
   },
   "source": [
    "---\n",
    "\n",
    "\n",
    "\n",
    "\n",
    "*Have questions or comments? Visit the [course discussion forum](https://www.kaggle.com/learn/python/discussion) to chat with other learners.*"
   ]
  }
 ],
 "metadata": {
  "kernelspec": {
   "display_name": "Python 3",
   "language": "python",
   "name": "python3"
  },
  "language_info": {
   "codemirror_mode": {
    "name": "ipython",
    "version": 3
   },
   "file_extension": ".py",
   "mimetype": "text/x-python",
   "name": "python",
   "nbconvert_exporter": "python",
   "pygments_lexer": "ipython3",
   "version": "3.10.12"
  },
  "papermill": {
   "default_parameters": {},
   "duration": 14.116212,
   "end_time": "2023-07-24T23:28:13.655841",
   "environment_variables": {},
   "exception": null,
   "input_path": "__notebook__.ipynb",
   "output_path": "__notebook__.ipynb",
   "parameters": {},
   "start_time": "2023-07-24T23:27:59.539629",
   "version": "2.4.0"
  }
 },
 "nbformat": 4,
 "nbformat_minor": 5
}
