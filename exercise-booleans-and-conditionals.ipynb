{
 "cells": [
  {
   "cell_type": "markdown",
   "id": "66c2257e",
   "metadata": {
    "papermill": {
     "duration": 0.012768,
     "end_time": "2023-07-24T23:45:27.793784",
     "exception": false,
     "start_time": "2023-07-24T23:45:27.781016",
     "status": "completed"
    },
    "tags": []
   },
   "source": [
    "**This notebook is an exercise in the [Python](https://www.kaggle.com/learn/python) course.  You can reference the tutorial at [this link](https://www.kaggle.com/colinmorris/booleans-and-conditionals).**\n",
    "\n",
    "---\n"
   ]
  },
  {
   "cell_type": "markdown",
   "id": "0d0b365d",
   "metadata": {
    "papermill": {
     "duration": 0.011943,
     "end_time": "2023-07-24T23:45:27.818108",
     "exception": false,
     "start_time": "2023-07-24T23:45:27.806165",
     "status": "completed"
    },
    "tags": []
   },
   "source": [
    "In this exercise, you'll put to work what you have learned about booleans and conditionals.\n",
    "\n",
    "To get started, **run the setup code below** before writing your own code (and if you leave this notebook and come back later, don't forget to run the setup code again)."
   ]
  },
  {
   "cell_type": "code",
   "execution_count": 1,
   "id": "f017e543",
   "metadata": {
    "execution": {
     "iopub.execute_input": "2023-07-24T23:45:27.845954Z",
     "iopub.status.busy": "2023-07-24T23:45:27.845574Z",
     "iopub.status.idle": "2023-07-24T23:45:27.893072Z",
     "shell.execute_reply": "2023-07-24T23:45:27.891738Z"
    },
    "papermill": {
     "duration": 0.065108,
     "end_time": "2023-07-24T23:45:27.895876",
     "exception": false,
     "start_time": "2023-07-24T23:45:27.830768",
     "status": "completed"
    },
    "tags": []
   },
   "outputs": [
    {
     "name": "stdout",
     "output_type": "stream",
     "text": [
      "Setup complete.\n"
     ]
    }
   ],
   "source": [
    "from learntools.core import binder; binder.bind(globals())\n",
    "from learntools.python.ex3 import *\n",
    "print('Setup complete.')"
   ]
  },
  {
   "cell_type": "markdown",
   "id": "117d6677",
   "metadata": {
    "papermill": {
     "duration": 0.011971,
     "end_time": "2023-07-24T23:45:27.920335",
     "exception": false,
     "start_time": "2023-07-24T23:45:27.908364",
     "status": "completed"
    },
    "tags": []
   },
   "source": [
    "# 1.\n",
    "\n",
    "Many programming languages have [`sign`](https://en.wikipedia.org/wiki/Sign_function) available as a built-in function. Python doesn't, but we can define our own!\n",
    "\n",
    "In the cell below, define a function called `sign` which takes a numerical argument and returns -1 if it's negative, 1 if it's positive, and 0 if it's 0."
   ]
  },
  {
   "cell_type": "code",
   "execution_count": 2,
   "id": "86bfbc79",
   "metadata": {
    "execution": {
     "iopub.execute_input": "2023-07-24T23:45:27.947280Z",
     "iopub.status.busy": "2023-07-24T23:45:27.946892Z",
     "iopub.status.idle": "2023-07-24T23:45:27.957876Z",
     "shell.execute_reply": "2023-07-24T23:45:27.957076Z"
    },
    "papermill": {
     "duration": 0.027073,
     "end_time": "2023-07-24T23:45:27.959868",
     "exception": false,
     "start_time": "2023-07-24T23:45:27.932795",
     "status": "completed"
    },
    "tags": []
   },
   "outputs": [
    {
     "data": {
      "application/javascript": [
       "parent.postMessage({\"jupyterEvent\": \"custom.exercise_interaction\", \"data\": {\"outcomeType\": 1, \"valueTowardsCompletion\": 0.2, \"interactionType\": 1, \"questionType\": 2, \"questionId\": \"1_SignFunctionProblem\", \"learnToolsVersion\": \"0.3.4\", \"failureMessage\": \"\", \"exceptionClass\": \"\", \"trace\": \"\"}}, \"*\")"
      ],
      "text/plain": [
       "<IPython.core.display.Javascript object>"
      ]
     },
     "metadata": {},
     "output_type": "display_data"
    },
    {
     "data": {
      "text/markdown": [
       "<span style=\"color:#33cc33\">Correct</span>"
      ],
      "text/plain": [
       "Correct"
      ]
     },
     "metadata": {},
     "output_type": "display_data"
    }
   ],
   "source": [
    "# Your code goes here. Define a function called 'sign'\n",
    "def sign(num):\n",
    "    if num>0:\n",
    "        return 1\n",
    "    elif num<0:\n",
    "        return -1\n",
    "    else:\n",
    "        return 0\n",
    "\n",
    "# Check your answer\n",
    "q1.check()"
   ]
  },
  {
   "cell_type": "code",
   "execution_count": 3,
   "id": "39656003",
   "metadata": {
    "execution": {
     "iopub.execute_input": "2023-07-24T23:45:27.987171Z",
     "iopub.status.busy": "2023-07-24T23:45:27.986776Z",
     "iopub.status.idle": "2023-07-24T23:45:27.991383Z",
     "shell.execute_reply": "2023-07-24T23:45:27.990170Z"
    },
    "papermill": {
     "duration": 0.021173,
     "end_time": "2023-07-24T23:45:27.993718",
     "exception": false,
     "start_time": "2023-07-24T23:45:27.972545",
     "status": "completed"
    },
    "tags": []
   },
   "outputs": [],
   "source": [
    "#q1.solution()"
   ]
  },
  {
   "cell_type": "markdown",
   "id": "31820036",
   "metadata": {
    "papermill": {
     "duration": 0.012449,
     "end_time": "2023-07-24T23:45:28.019075",
     "exception": false,
     "start_time": "2023-07-24T23:45:28.006626",
     "status": "completed"
    },
    "tags": []
   },
   "source": [
    "# 2.\n",
    "\n",
    "We've decided to add \"logging\" to our `to_smash` function from the previous exercise."
   ]
  },
  {
   "cell_type": "code",
   "execution_count": 4,
   "id": "74fed15d",
   "metadata": {
    "execution": {
     "iopub.execute_input": "2023-07-24T23:45:28.046464Z",
     "iopub.status.busy": "2023-07-24T23:45:28.046093Z",
     "iopub.status.idle": "2023-07-24T23:45:28.054891Z",
     "shell.execute_reply": "2023-07-24T23:45:28.053329Z"
    },
    "papermill": {
     "duration": 0.02523,
     "end_time": "2023-07-24T23:45:28.057118",
     "exception": false,
     "start_time": "2023-07-24T23:45:28.031888",
     "status": "completed"
    },
    "tags": []
   },
   "outputs": [
    {
     "name": "stdout",
     "output_type": "stream",
     "text": [
      "Splitting 91 candies\n"
     ]
    },
    {
     "data": {
      "text/plain": [
       "1"
      ]
     },
     "execution_count": 4,
     "metadata": {},
     "output_type": "execute_result"
    }
   ],
   "source": [
    "def to_smash(total_candies):\n",
    "    \"\"\"Return the number of leftover candies that must be smashed after distributing\n",
    "    the given number of candies evenly between 3 friends.\n",
    "    \n",
    "    >>> to_smash(91)\n",
    "    1\n",
    "    \"\"\"\n",
    "    print(\"Splitting\", total_candies, \"candies\")\n",
    "    return total_candies % 3\n",
    "\n",
    "to_smash(91)"
   ]
  },
  {
   "cell_type": "markdown",
   "id": "615468a8",
   "metadata": {
    "papermill": {
     "duration": 0.012681,
     "end_time": "2023-07-24T23:45:28.082823",
     "exception": false,
     "start_time": "2023-07-24T23:45:28.070142",
     "status": "completed"
    },
    "tags": []
   },
   "source": [
    "What happens if we call it with `total_candies = 1`?"
   ]
  },
  {
   "cell_type": "code",
   "execution_count": 5,
   "id": "0baf9891",
   "metadata": {
    "execution": {
     "iopub.execute_input": "2023-07-24T23:45:28.110891Z",
     "iopub.status.busy": "2023-07-24T23:45:28.110093Z",
     "iopub.status.idle": "2023-07-24T23:45:28.117858Z",
     "shell.execute_reply": "2023-07-24T23:45:28.116946Z"
    },
    "papermill": {
     "duration": 0.024121,
     "end_time": "2023-07-24T23:45:28.120019",
     "exception": false,
     "start_time": "2023-07-24T23:45:28.095898",
     "status": "completed"
    },
    "tags": []
   },
   "outputs": [
    {
     "name": "stdout",
     "output_type": "stream",
     "text": [
      "Splitting 1 candies\n"
     ]
    },
    {
     "data": {
      "text/plain": [
       "1"
      ]
     },
     "execution_count": 5,
     "metadata": {},
     "output_type": "execute_result"
    }
   ],
   "source": [
    "to_smash(1)"
   ]
  },
  {
   "cell_type": "markdown",
   "id": "2ad17db9",
   "metadata": {
    "papermill": {
     "duration": 0.012907,
     "end_time": "2023-07-24T23:45:28.146615",
     "exception": false,
     "start_time": "2023-07-24T23:45:28.133708",
     "status": "completed"
    },
    "tags": []
   },
   "source": [
    "That isn't great grammar!\n",
    "\n",
    "Modify the definition in the cell below to correct the grammar of our print statement. (If there's only one candy, we should use the singular \"candy\" instead of the plural \"candies\")"
   ]
  },
  {
   "cell_type": "code",
   "execution_count": 6,
   "id": "f7dff39f",
   "metadata": {
    "execution": {
     "iopub.execute_input": "2023-07-24T23:45:28.175401Z",
     "iopub.status.busy": "2023-07-24T23:45:28.174325Z",
     "iopub.status.idle": "2023-07-24T23:45:28.181059Z",
     "shell.execute_reply": "2023-07-24T23:45:28.180054Z"
    },
    "papermill": {
     "duration": 0.023242,
     "end_time": "2023-07-24T23:45:28.183221",
     "exception": false,
     "start_time": "2023-07-24T23:45:28.159979",
     "status": "completed"
    },
    "tags": []
   },
   "outputs": [
    {
     "name": "stdout",
     "output_type": "stream",
     "text": [
      "Splitting 91 candies\n",
      "Splitting 1 candy\n"
     ]
    }
   ],
   "source": [
    "def to_smash(total_candies):\n",
    "    \"\"\"Return the number of leftover candies that must be smashed after distributing\n",
    "    the given number of candies evenly between 3 friends.\n",
    "    \n",
    "    >>> to_smash(91)\n",
    "    1\n",
    "    \"\"\"\n",
    "    if total_candies==1:\n",
    "        print(\"Splitting 1 candy\")\n",
    "    else:\n",
    "        print(\"Splitting\", total_candies, \"candies\")\n",
    "\n",
    "to_smash(91)\n",
    "to_smash(1)\n"
   ]
  },
  {
   "cell_type": "code",
   "execution_count": 7,
   "id": "2a60d499",
   "metadata": {
    "execution": {
     "iopub.execute_input": "2023-07-24T23:45:28.211084Z",
     "iopub.status.busy": "2023-07-24T23:45:28.210617Z",
     "iopub.status.idle": "2023-07-24T23:45:28.219780Z",
     "shell.execute_reply": "2023-07-24T23:45:28.218695Z"
    },
    "papermill": {
     "duration": 0.02582,
     "end_time": "2023-07-24T23:45:28.222241",
     "exception": false,
     "start_time": "2023-07-24T23:45:28.196421",
     "status": "completed"
    },
    "tags": []
   },
   "outputs": [
    {
     "data": {
      "application/javascript": [
       "parent.postMessage({\"jupyterEvent\": \"custom.exercise_interaction\", \"data\": {\"outcomeType\": 1, \"valueTowardsCompletion\": 0.2, \"interactionType\": 1, \"questionType\": 4, \"questionId\": \"2_PluralizationProblem\", \"learnToolsVersion\": \"0.3.4\", \"failureMessage\": \"\", \"exceptionClass\": \"\", \"trace\": \"\"}}, \"*\")"
      ],
      "text/plain": [
       "<IPython.core.display.Javascript object>"
      ]
     },
     "metadata": {},
     "output_type": "display_data"
    },
    {
     "data": {
      "text/markdown": [
       "<span style=\"color:#33cc33\">Correct:</span> \n",
       "\n",
       "A straightforward (and totally fine) solution is to replace the original `print` call with:\n",
       "\n",
       "```python\n",
       "if total_candies == 1:\n",
       "    print(\"Splitting 1 candy\")\n",
       "else:\n",
       "    print(\"Splitting\", total_candies, \"candies\")\n",
       "```\n",
       "\n",
       "Here's a slightly more succinct solution using a conditional expression:\n",
       "\n",
       "```python\n",
       "print(\"Splitting\", total_candies, \"candy\" if total_candies == 1 else \"candies\")\n",
       "```"
      ],
      "text/plain": [
       "Correct: \n",
       "\n",
       "A straightforward (and totally fine) solution is to replace the original `print` call with:\n",
       "\n",
       "```python\n",
       "if total_candies == 1:\n",
       "    print(\"Splitting 1 candy\")\n",
       "else:\n",
       "    print(\"Splitting\", total_candies, \"candies\")\n",
       "```\n",
       "\n",
       "Here's a slightly more succinct solution using a conditional expression:\n",
       "\n",
       "```python\n",
       "print(\"Splitting\", total_candies, \"candy\" if total_candies == 1 else \"candies\")\n",
       "```"
      ]
     },
     "metadata": {},
     "output_type": "display_data"
    }
   ],
   "source": [
    "q2.check()"
   ]
  },
  {
   "cell_type": "markdown",
   "id": "029de397",
   "metadata": {
    "papermill": {
     "duration": 0.013337,
     "end_time": "2023-07-24T23:45:28.249491",
     "exception": false,
     "start_time": "2023-07-24T23:45:28.236154",
     "status": "completed"
    },
    "tags": []
   },
   "source": [
    "To get credit for completing this problem, and to see the official answer, run the code cell below."
   ]
  },
  {
   "cell_type": "code",
   "execution_count": 8,
   "id": "44c7f08f",
   "metadata": {
    "execution": {
     "iopub.execute_input": "2023-07-24T23:45:28.279313Z",
     "iopub.status.busy": "2023-07-24T23:45:28.278918Z",
     "iopub.status.idle": "2023-07-24T23:45:28.283591Z",
     "shell.execute_reply": "2023-07-24T23:45:28.282451Z"
    },
    "papermill": {
     "duration": 0.022162,
     "end_time": "2023-07-24T23:45:28.285910",
     "exception": false,
     "start_time": "2023-07-24T23:45:28.263748",
     "status": "completed"
    },
    "tags": []
   },
   "outputs": [],
   "source": [
    "# Check your answer (Run this code cell to receive credit!)\n",
    "#q2.solution()"
   ]
  },
  {
   "cell_type": "markdown",
   "id": "06a58d4f",
   "metadata": {
    "papermill": {
     "duration": 0.013698,
     "end_time": "2023-07-24T23:45:28.313502",
     "exception": false,
     "start_time": "2023-07-24T23:45:28.299804",
     "status": "completed"
    },
    "tags": []
   },
   "source": [
    "# 3. <span title=\"A bit spicy\" style=\"color: darkgreen \">🌶️</span>\n",
    "\n",
    "In the tutorial, we talked about deciding whether we're prepared for the weather. I said that I'm safe from today's weather if...\n",
    "- I have an umbrella...\n",
    "- or if the rain isn't too heavy and I have a hood...\n",
    "- otherwise, I'm still fine unless it's raining *and* it's a workday\n",
    "\n",
    "The function below uses our first attempt at turning this logic into a Python expression. I claimed that there was a bug in that code. Can you find it?\n",
    "\n",
    "To prove that `prepared_for_weather` is buggy, come up with a set of inputs where either:\n",
    "- the function returns `False` (but should have returned `True`), or\n",
    "- the function returned `True` (but should have returned `False`).\n",
    "\n",
    "To get credit for completing this question, your code should return a <font color='#33cc33'>Correct</font> result."
   ]
  },
  {
   "cell_type": "code",
   "execution_count": 9,
   "id": "d0933f23",
   "metadata": {
    "execution": {
     "iopub.execute_input": "2023-07-24T23:45:28.342412Z",
     "iopub.status.busy": "2023-07-24T23:45:28.342024Z",
     "iopub.status.idle": "2023-07-24T23:45:28.354373Z",
     "shell.execute_reply": "2023-07-24T23:45:28.353299Z"
    },
    "papermill": {
     "duration": 0.029518,
     "end_time": "2023-07-24T23:45:28.356739",
     "exception": false,
     "start_time": "2023-07-24T23:45:28.327221",
     "status": "completed"
    },
    "tags": []
   },
   "outputs": [
    {
     "name": "stdout",
     "output_type": "stream",
     "text": [
      "True\n"
     ]
    },
    {
     "data": {
      "application/javascript": [
       "parent.postMessage({\"jupyterEvent\": \"custom.exercise_interaction\", \"data\": {\"outcomeType\": 1, \"valueTowardsCompletion\": 0.2, \"interactionType\": 1, \"questionType\": 1, \"questionId\": \"3_WeatherDebug\", \"learnToolsVersion\": \"0.3.4\", \"failureMessage\": \"\", \"exceptionClass\": \"\", \"trace\": \"\"}}, \"*\")"
      ],
      "text/plain": [
       "<IPython.core.display.Javascript object>"
      ]
     },
     "metadata": {},
     "output_type": "display_data"
    },
    {
     "data": {
      "text/markdown": [
       "<span style=\"color:#33cc33\">Correct:</span> \n",
       "\n",
       "One example of a failing test case is:\n",
       "\n",
       "```python\n",
       "have_umbrella = False\n",
       "rain_level = 0.0\n",
       "have_hood = False\n",
       "is_workday = False\n",
       "```\n",
       "\n",
       "Clearly we're prepared for the weather in this case. It's not raining. Not only that, it's not a workday, so we don't even need to leave the house! But our function will return False on these inputs.\n",
       "\n",
       "The key problem is that Python implictly parenthesizes the last part as:\n",
       "\n",
       "```python\n",
       "(not (rain_level > 0)) and is_workday\n",
       "```\n",
       "\n",
       "Whereas what we were trying to express would look more like:\n",
       "\n",
       "```python\n",
       "not (rain_level > 0 and is_workday)\n",
       "```\n"
      ],
      "text/plain": [
       "Correct: \n",
       "\n",
       "One example of a failing test case is:\n",
       "\n",
       "```python\n",
       "have_umbrella = False\n",
       "rain_level = 0.0\n",
       "have_hood = False\n",
       "is_workday = False\n",
       "```\n",
       "\n",
       "Clearly we're prepared for the weather in this case. It's not raining. Not only that, it's not a workday, so we don't even need to leave the house! But our function will return False on these inputs.\n",
       "\n",
       "The key problem is that Python implictly parenthesizes the last part as:\n",
       "\n",
       "```python\n",
       "(not (rain_level > 0)) and is_workday\n",
       "```\n",
       "\n",
       "Whereas what we were trying to express would look more like:\n",
       "\n",
       "```python\n",
       "not (rain_level > 0 and is_workday)\n",
       "```"
      ]
     },
     "metadata": {},
     "output_type": "display_data"
    }
   ],
   "source": [
    "def prepared_for_weather(have_umbrella, rain_level, have_hood, is_workday):\n",
    "    # Don't change this code. Our goal is just to find the bug, not fix it!\n",
    "    return have_umbrella or (rain_level < 5 and have_hood) or not (rain_level > 0 and is_workday)\n",
    "\n",
    "# Change the values of these inputs so they represent a case where prepared_for_weather\n",
    "# returns the wrong answer.\n",
    "#have_umbrella = True\n",
    "#rain_level = 0.0\n",
    "#have_hood = True\n",
    "#is_workday = True\n",
    "have_umbrella = False\n",
    "rain_level = 0.0\n",
    "have_hood = False\n",
    "is_workday = False\n",
    "# Check what the function returns given the current values of the variables above\n",
    "actual = prepared_for_weather(have_umbrella, rain_level, have_hood, is_workday)\n",
    "print(actual)\n",
    "\n",
    "# Check your answer\n",
    "q3.check()"
   ]
  },
  {
   "cell_type": "code",
   "execution_count": 10,
   "id": "ddca1dc4",
   "metadata": {
    "execution": {
     "iopub.execute_input": "2023-07-24T23:45:28.386958Z",
     "iopub.status.busy": "2023-07-24T23:45:28.386537Z",
     "iopub.status.idle": "2023-07-24T23:45:28.390664Z",
     "shell.execute_reply": "2023-07-24T23:45:28.389623Z"
    },
    "papermill": {
     "duration": 0.021932,
     "end_time": "2023-07-24T23:45:28.392800",
     "exception": false,
     "start_time": "2023-07-24T23:45:28.370868",
     "status": "completed"
    },
    "tags": []
   },
   "outputs": [],
   "source": [
    "#q3.hint()\n",
    "#\n",
    "#q3.solution()"
   ]
  },
  {
   "cell_type": "markdown",
   "id": "04eb471d",
   "metadata": {
    "papermill": {
     "duration": 0.013729,
     "end_time": "2023-07-24T23:45:28.420830",
     "exception": false,
     "start_time": "2023-07-24T23:45:28.407101",
     "status": "completed"
    },
    "tags": []
   },
   "source": [
    "# 4.\n",
    "\n",
    "The function `is_negative` below is implemented correctly - it returns True if the given number is negative and False otherwise.\n",
    "\n",
    "However, it's more verbose than it needs to be. We can actually reduce the number of lines of code in this function by *75%* while keeping the same behaviour. \n",
    "\n",
    "See if you can come up with an equivalent body that uses just **one line** of code, and put it in the function `concise_is_negative`. (HINT: you don't even need Python's ternary syntax)"
   ]
  },
  {
   "cell_type": "code",
   "execution_count": 11,
   "id": "4ed337a2",
   "metadata": {
    "execution": {
     "iopub.execute_input": "2023-07-24T23:45:28.450873Z",
     "iopub.status.busy": "2023-07-24T23:45:28.450458Z",
     "iopub.status.idle": "2023-07-24T23:45:28.460911Z",
     "shell.execute_reply": "2023-07-24T23:45:28.459850Z"
    },
    "papermill": {
     "duration": 0.028209,
     "end_time": "2023-07-24T23:45:28.463209",
     "exception": false,
     "start_time": "2023-07-24T23:45:28.435000",
     "status": "completed"
    },
    "tags": []
   },
   "outputs": [
    {
     "data": {
      "application/javascript": [
       "parent.postMessage({\"jupyterEvent\": \"custom.exercise_interaction\", \"data\": {\"outcomeType\": 1, \"valueTowardsCompletion\": 0.2, \"interactionType\": 1, \"questionType\": 2, \"questionId\": \"4_ConciseIsNegative\", \"learnToolsVersion\": \"0.3.4\", \"failureMessage\": \"\", \"exceptionClass\": \"\", \"trace\": \"\"}}, \"*\")"
      ],
      "text/plain": [
       "<IPython.core.display.Javascript object>"
      ]
     },
     "metadata": {},
     "output_type": "display_data"
    },
    {
     "data": {
      "text/markdown": [
       "<span style=\"color:#33cc33\">Correct</span>"
      ],
      "text/plain": [
       "Correct"
      ]
     },
     "metadata": {},
     "output_type": "display_data"
    }
   ],
   "source": [
    "def is_negative(number):\n",
    "    if number < 0:\n",
    "        return True\n",
    "    else:\n",
    "        return False\n",
    "\n",
    "def concise_is_negative(number):\n",
    "    return number<0;\n",
    "\n",
    "# Check your answer\n",
    "q4.check()"
   ]
  },
  {
   "cell_type": "code",
   "execution_count": 12,
   "id": "ddcd2d13",
   "metadata": {
    "execution": {
     "iopub.execute_input": "2023-07-24T23:45:28.494089Z",
     "iopub.status.busy": "2023-07-24T23:45:28.493687Z",
     "iopub.status.idle": "2023-07-24T23:45:28.498391Z",
     "shell.execute_reply": "2023-07-24T23:45:28.497235Z"
    },
    "papermill": {
     "duration": 0.022765,
     "end_time": "2023-07-24T23:45:28.500596",
     "exception": false,
     "start_time": "2023-07-24T23:45:28.477831",
     "status": "completed"
    },
    "tags": []
   },
   "outputs": [],
   "source": [
    "#q4.hint()\n",
    "#q4.solution()"
   ]
  },
  {
   "cell_type": "markdown",
   "id": "d3fd12de",
   "metadata": {
    "papermill": {
     "duration": 0.013995,
     "end_time": "2023-07-24T23:45:28.529212",
     "exception": false,
     "start_time": "2023-07-24T23:45:28.515217",
     "status": "completed"
    },
    "tags": []
   },
   "source": [
    "# 5a.\n",
    "\n",
    "The boolean variables `ketchup`, `mustard` and `onion` represent whether a customer wants a particular topping on their hot dog. We want to implement a number of boolean functions that correspond to some yes-or-no questions about the customer's order. For example:"
   ]
  },
  {
   "cell_type": "code",
   "execution_count": 13,
   "id": "8fe7151e",
   "metadata": {
    "execution": {
     "iopub.execute_input": "2023-07-24T23:45:28.559948Z",
     "iopub.status.busy": "2023-07-24T23:45:28.559547Z",
     "iopub.status.idle": "2023-07-24T23:45:28.565005Z",
     "shell.execute_reply": "2023-07-24T23:45:28.563859Z"
    },
    "papermill": {
     "duration": 0.023508,
     "end_time": "2023-07-24T23:45:28.567405",
     "exception": false,
     "start_time": "2023-07-24T23:45:28.543897",
     "status": "completed"
    },
    "tags": []
   },
   "outputs": [],
   "source": [
    "def onionless(ketchup, mustard, onion):\n",
    "    \"\"\"Return whether the customer doesn't want onions.\n",
    "    \"\"\"\n",
    "    return not onion"
   ]
  },
  {
   "cell_type": "code",
   "execution_count": 14,
   "id": "77496eb5",
   "metadata": {
    "execution": {
     "iopub.execute_input": "2023-07-24T23:45:28.598109Z",
     "iopub.status.busy": "2023-07-24T23:45:28.597703Z",
     "iopub.status.idle": "2023-07-24T23:45:28.607085Z",
     "shell.execute_reply": "2023-07-24T23:45:28.605998Z"
    },
    "papermill": {
     "duration": 0.027437,
     "end_time": "2023-07-24T23:45:28.609413",
     "exception": false,
     "start_time": "2023-07-24T23:45:28.581976",
     "status": "completed"
    },
    "tags": []
   },
   "outputs": [
    {
     "data": {
      "application/javascript": [
       "parent.postMessage({\"jupyterEvent\": \"custom.exercise_interaction\", \"data\": {\"outcomeType\": 1, \"valueTowardsCompletion\": 0.2, \"interactionType\": 1, \"questionType\": 2, \"questionId\": \"5.1_AllToppings\", \"learnToolsVersion\": \"0.3.4\", \"failureMessage\": \"\", \"exceptionClass\": \"\", \"trace\": \"\"}}, \"*\")"
      ],
      "text/plain": [
       "<IPython.core.display.Javascript object>"
      ]
     },
     "metadata": {},
     "output_type": "display_data"
    },
    {
     "data": {
      "text/markdown": [
       "<span style=\"color:#33cc33\">Correct</span>"
      ],
      "text/plain": [
       "Correct"
      ]
     },
     "metadata": {},
     "output_type": "display_data"
    }
   ],
   "source": [
    "def wants_all_toppings(ketchup, mustard, onion):\n",
    "    \"\"\"Return whether the customer wants \"the works\" (all 3 toppings)\n",
    "    \"\"\"\n",
    "    return (onion and mustard and ketchup)\n",
    "\n",
    "# Check your answer\n",
    "q5.a.check()"
   ]
  },
  {
   "cell_type": "code",
   "execution_count": 15,
   "id": "ad30b5b3",
   "metadata": {
    "execution": {
     "iopub.execute_input": "2023-07-24T23:45:28.642358Z",
     "iopub.status.busy": "2023-07-24T23:45:28.641909Z",
     "iopub.status.idle": "2023-07-24T23:45:28.646787Z",
     "shell.execute_reply": "2023-07-24T23:45:28.645626Z"
    },
    "papermill": {
     "duration": 0.023681,
     "end_time": "2023-07-24T23:45:28.649301",
     "exception": false,
     "start_time": "2023-07-24T23:45:28.625620",
     "status": "completed"
    },
    "tags": []
   },
   "outputs": [],
   "source": [
    "#q5.a.hint()\n",
    "#q5.a.solution()"
   ]
  },
  {
   "cell_type": "markdown",
   "id": "58c7dd24",
   "metadata": {
    "papermill": {
     "duration": 0.015111,
     "end_time": "2023-07-24T23:45:28.679603",
     "exception": false,
     "start_time": "2023-07-24T23:45:28.664492",
     "status": "completed"
    },
    "tags": []
   },
   "source": [
    "# 5b.\n",
    "\n",
    "For the next function, fill in the body to match the English description in the docstring. "
   ]
  },
  {
   "cell_type": "code",
   "execution_count": 16,
   "id": "c2eb30f3",
   "metadata": {
    "execution": {
     "iopub.execute_input": "2023-07-24T23:45:28.711622Z",
     "iopub.status.busy": "2023-07-24T23:45:28.711220Z",
     "iopub.status.idle": "2023-07-24T23:45:28.721187Z",
     "shell.execute_reply": "2023-07-24T23:45:28.719988Z"
    },
    "papermill": {
     "duration": 0.028825,
     "end_time": "2023-07-24T23:45:28.723551",
     "exception": false,
     "start_time": "2023-07-24T23:45:28.694726",
     "status": "completed"
    },
    "tags": []
   },
   "outputs": [
    {
     "data": {
      "application/javascript": [
       "parent.postMessage({\"jupyterEvent\": \"custom.exercise_interaction\", \"data\": {\"outcomeType\": 1, \"valueTowardsCompletion\": 0.2, \"interactionType\": 1, \"questionType\": 2, \"questionId\": \"5.2_PlainDog\", \"learnToolsVersion\": \"0.3.4\", \"failureMessage\": \"\", \"exceptionClass\": \"\", \"trace\": \"\"}}, \"*\")"
      ],
      "text/plain": [
       "<IPython.core.display.Javascript object>"
      ]
     },
     "metadata": {},
     "output_type": "display_data"
    },
    {
     "data": {
      "text/markdown": [
       "<span style=\"color:#33cc33\">Correct:</span> \n",
       "\n",
       "One solution looks like:\n",
       "```python\n",
       "return not ketchup and not mustard and not onion\n",
       "```\n",
       "\n",
       "We can also [\"factor out\" the nots](https://en.wikipedia.org/wiki/De_Morgan%27s_laws) to get:\n",
       "\n",
       "```python\n",
       "return not (ketchup or mustard or onion)\n",
       "```"
      ],
      "text/plain": [
       "Correct: \n",
       "\n",
       "One solution looks like:\n",
       "```python\n",
       "return not ketchup and not mustard and not onion\n",
       "```\n",
       "\n",
       "We can also [\"factor out\" the nots](https://en.wikipedia.org/wiki/De_Morgan%27s_laws) to get:\n",
       "\n",
       "```python\n",
       "return not (ketchup or mustard or onion)\n",
       "```"
      ]
     },
     "metadata": {},
     "output_type": "display_data"
    }
   ],
   "source": [
    "def wants_plain_hotdog(ketchup, mustard, onion):\n",
    "    \"\"\"Return whether the customer wants a plain hot dog with no toppings.\n",
    "    \"\"\"\n",
    "    return not(onion or mustard or ketchup)\n",
    "\n",
    "# Check your answer\n",
    "q5.b.check()"
   ]
  },
  {
   "cell_type": "code",
   "execution_count": 17,
   "id": "574046d8",
   "metadata": {
    "execution": {
     "iopub.execute_input": "2023-07-24T23:45:28.756003Z",
     "iopub.status.busy": "2023-07-24T23:45:28.755527Z",
     "iopub.status.idle": "2023-07-24T23:45:28.760204Z",
     "shell.execute_reply": "2023-07-24T23:45:28.759079Z"
    },
    "papermill": {
     "duration": 0.023474,
     "end_time": "2023-07-24T23:45:28.762352",
     "exception": false,
     "start_time": "2023-07-24T23:45:28.738878",
     "status": "completed"
    },
    "tags": []
   },
   "outputs": [],
   "source": [
    "#q5.b.hint()\n",
    "#q5.b.solution()"
   ]
  },
  {
   "cell_type": "markdown",
   "id": "1c0e0ab7",
   "metadata": {
    "papermill": {
     "duration": 0.0149,
     "end_time": "2023-07-24T23:45:28.792495",
     "exception": false,
     "start_time": "2023-07-24T23:45:28.777595",
     "status": "completed"
    },
    "tags": []
   },
   "source": [
    "# 5c.\n",
    "\n",
    "You know what to do: for the next function, fill in the body to match the English description in the docstring."
   ]
  },
  {
   "cell_type": "code",
   "execution_count": 18,
   "id": "3fbe0536",
   "metadata": {
    "execution": {
     "iopub.execute_input": "2023-07-24T23:45:28.824934Z",
     "iopub.status.busy": "2023-07-24T23:45:28.824509Z",
     "iopub.status.idle": "2023-07-24T23:45:28.833772Z",
     "shell.execute_reply": "2023-07-24T23:45:28.832857Z"
    },
    "papermill": {
     "duration": 0.028119,
     "end_time": "2023-07-24T23:45:28.835815",
     "exception": false,
     "start_time": "2023-07-24T23:45:28.807696",
     "status": "completed"
    },
    "tags": []
   },
   "outputs": [
    {
     "data": {
      "application/javascript": [
       "parent.postMessage({\"jupyterEvent\": \"custom.exercise_interaction\", \"data\": {\"outcomeType\": 1, \"valueTowardsCompletion\": 0.2, \"interactionType\": 1, \"questionType\": 2, \"questionId\": \"5.3_OneSauce\", \"learnToolsVersion\": \"0.3.4\", \"failureMessage\": \"\", \"exceptionClass\": \"\", \"trace\": \"\"}}, \"*\")"
      ],
      "text/plain": [
       "<IPython.core.display.Javascript object>"
      ]
     },
     "metadata": {},
     "output_type": "display_data"
    },
    {
     "data": {
      "text/markdown": [
       "<span style=\"color:#33cc33\">Correct</span>"
      ],
      "text/plain": [
       "Correct"
      ]
     },
     "metadata": {},
     "output_type": "display_data"
    }
   ],
   "source": [
    "def exactly_one_sauce(ketchup, mustard, onion):\n",
    "    \"\"\"Return whether the customer wants either ketchup or mustard, but not both.\n",
    "    (You may be familiar with this operation under the name \"exclusive or\")\n",
    "    \"\"\"\n",
    "    \n",
    "    \"\"\"\n",
    "    other Solution:\n",
    "    return (ketchup and not mustard) or (mustard and not ketchup)\n",
    "    \"\"\"\n",
    "    return ketchup ^ mustard\n",
    "\n",
    "# Check your answer\n",
    "q5.c.check()"
   ]
  },
  {
   "cell_type": "code",
   "execution_count": 19,
   "id": "c52937db",
   "metadata": {
    "execution": {
     "iopub.execute_input": "2023-07-24T23:45:28.869951Z",
     "iopub.status.busy": "2023-07-24T23:45:28.869548Z",
     "iopub.status.idle": "2023-07-24T23:45:28.873980Z",
     "shell.execute_reply": "2023-07-24T23:45:28.872820Z"
    },
    "papermill": {
     "duration": 0.024979,
     "end_time": "2023-07-24T23:45:28.876375",
     "exception": false,
     "start_time": "2023-07-24T23:45:28.851396",
     "status": "completed"
    },
    "tags": []
   },
   "outputs": [],
   "source": [
    "#q5.c.hint()\n",
    "#q5.c.solution()"
   ]
  },
  {
   "cell_type": "markdown",
   "id": "1f95563b",
   "metadata": {
    "papermill": {
     "duration": 0.01549,
     "end_time": "2023-07-24T23:45:28.907619",
     "exception": false,
     "start_time": "2023-07-24T23:45:28.892129",
     "status": "completed"
    },
    "tags": []
   },
   "source": [
    "# 6. <span title=\"A bit spicy\" style=\"color: darkgreen \">🌶️</span>\n",
    "\n",
    "We’ve seen that calling `bool()` on an integer returns `False` if it’s equal to 0 and `True` otherwise. What happens if we call `int()` on a bool? Try it out in the notebook cell below.\n",
    "\n",
    "Can you take advantage of this to write a succinct function that corresponds to the English sentence \"does the customer want exactly one topping?\"?"
   ]
  },
  {
   "cell_type": "code",
   "execution_count": 20,
   "id": "4439d9b3",
   "metadata": {
    "execution": {
     "iopub.execute_input": "2023-07-24T23:45:28.940850Z",
     "iopub.status.busy": "2023-07-24T23:45:28.940404Z",
     "iopub.status.idle": "2023-07-24T23:45:28.950556Z",
     "shell.execute_reply": "2023-07-24T23:45:28.949438Z"
    },
    "papermill": {
     "duration": 0.029363,
     "end_time": "2023-07-24T23:45:28.952844",
     "exception": false,
     "start_time": "2023-07-24T23:45:28.923481",
     "status": "completed"
    },
    "tags": []
   },
   "outputs": [
    {
     "data": {
      "application/javascript": [
       "parent.postMessage({\"jupyterEvent\": \"custom.exercise_interaction\", \"data\": {\"outcomeType\": 1, \"valueTowardsCompletion\": 0.2, \"interactionType\": 1, \"questionType\": 2, \"questionId\": \"6_OneTopping\", \"learnToolsVersion\": \"0.3.4\", \"failureMessage\": \"\", \"exceptionClass\": \"\", \"trace\": \"\"}}, \"*\")"
      ],
      "text/plain": [
       "<IPython.core.display.Javascript object>"
      ]
     },
     "metadata": {},
     "output_type": "display_data"
    },
    {
     "data": {
      "text/markdown": [
       "<span style=\"color:#33cc33\">Correct:</span> \n",
       "\n",
       "This condition would be pretty complicated to express using just `and`, `or` and `not`, but using boolean-to-integer conversion gives us this short solution:\n",
       "```python\n",
       "return (int(ketchup) + int(mustard) + int(onion)) == 1\n",
       "```\n",
       "\n",
       "Fun fact: we don't technically need to call `int` on the arguments. Just by doing addition with booleans, Python implicitly does the integer conversion. So we could also write...\n",
       "\n",
       "```python\n",
       "return (ketchup + mustard + onion) == 1\n",
       "```"
      ],
      "text/plain": [
       "Correct: \n",
       "\n",
       "This condition would be pretty complicated to express using just `and`, `or` and `not`, but using boolean-to-integer conversion gives us this short solution:\n",
       "```python\n",
       "return (int(ketchup) + int(mustard) + int(onion)) == 1\n",
       "```\n",
       "\n",
       "Fun fact: we don't technically need to call `int` on the arguments. Just by doing addition with booleans, Python implicitly does the integer conversion. So we could also write...\n",
       "\n",
       "```python\n",
       "return (ketchup + mustard + onion) == 1\n",
       "```"
      ]
     },
     "metadata": {},
     "output_type": "display_data"
    }
   ],
   "source": [
    "def exactly_one_topping(ketchup, mustard, onion):\n",
    "    \"\"\"Return whether the customer wants exactly one of the three available toppings\n",
    "    on their hot dog.\n",
    "    \"\"\"\n",
    "    return (ketchup + mustard + onion) == 1\n",
    "\n",
    "# Check your answer\n",
    "q6.check()"
   ]
  },
  {
   "cell_type": "code",
   "execution_count": 21,
   "id": "9402a096",
   "metadata": {
    "execution": {
     "iopub.execute_input": "2023-07-24T23:45:28.987615Z",
     "iopub.status.busy": "2023-07-24T23:45:28.987214Z",
     "iopub.status.idle": "2023-07-24T23:45:28.991724Z",
     "shell.execute_reply": "2023-07-24T23:45:28.990456Z"
    },
    "papermill": {
     "duration": 0.025247,
     "end_time": "2023-07-24T23:45:28.994018",
     "exception": false,
     "start_time": "2023-07-24T23:45:28.968771",
     "status": "completed"
    },
    "tags": []
   },
   "outputs": [],
   "source": [
    "#q6.hint()\n",
    "#q6.solution()"
   ]
  },
  {
   "cell_type": "markdown",
   "id": "7f40b771",
   "metadata": {
    "papermill": {
     "duration": 0.015607,
     "end_time": "2023-07-24T23:45:29.025859",
     "exception": false,
     "start_time": "2023-07-24T23:45:29.010252",
     "status": "completed"
    },
    "tags": []
   },
   "source": [
    "# 7. <span title=\"A bit spicy\" style=\"color: darkgreen \">🌶️</span> (Optional)\n",
    "\n",
    "In this problem we'll be working with a simplified version of [blackjack](https://en.wikipedia.org/wiki/Blackjack) (aka twenty-one). In this version there is one player (who you'll control) and a dealer. Play proceeds as follows:\n",
    "\n",
    "- The player is dealt two face-up cards. The dealer is dealt one face-up card.\n",
    "- The player may ask to be dealt another card ('hit') as many times as they wish. If the sum of their cards exceeds 21, they lose the round immediately.\n",
    "- The dealer then deals additional cards to himself until either:\n",
    "    - the sum of the dealer's cards exceeds 21, in which case the player wins the round\n",
    "    - the sum of the dealer's cards is greater than or equal to 17. If the player's total is greater than the dealer's, the player wins. Otherwise, the dealer wins (even in case of a tie).\n",
    "    \n",
    "When calculating the sum of cards, Jack, Queen, and King count for 10. Aces can count as 1 or 11 (when referring to a player's \"total\" above, we mean the largest total that can be made without exceeding 21. So e.g. A+8 = 19, A+8+8 = 17)\n",
    "\n",
    "For this problem, you'll write a function representing the player's decision-making strategy in this game. We've provided a very unintelligent implementation below:"
   ]
  },
  {
   "cell_type": "code",
   "execution_count": 22,
   "id": "95dc15a4",
   "metadata": {
    "execution": {
     "iopub.execute_input": "2023-07-24T23:45:29.060113Z",
     "iopub.status.busy": "2023-07-24T23:45:29.059708Z",
     "iopub.status.idle": "2023-07-24T23:45:29.065604Z",
     "shell.execute_reply": "2023-07-24T23:45:29.064229Z"
    },
    "papermill": {
     "duration": 0.026174,
     "end_time": "2023-07-24T23:45:29.068025",
     "exception": false,
     "start_time": "2023-07-24T23:45:29.041851",
     "status": "completed"
    },
    "tags": []
   },
   "outputs": [],
   "source": [
    "def should_hit(dealer_total, player_total, player_low_aces, player_high_aces):\n",
    "    \"\"\"Return True if the player should hit (request another card) given the current game\n",
    "    state, or False if the player should stay.\n",
    "    When calculating a hand's total value, we count aces as \"high\" (with value 11) if doing so\n",
    "    doesn't bring the total above 21, otherwise we count them as low (with value 1). \n",
    "    For example, if the player's hand is {A, A, A, 7}, we will count it as 11 + 1 + 1 + 7,\n",
    "    and therefore set player_total=20, player_low_aces=2, player_high_aces=1.\n",
    "    \"\"\"\n",
    "    return False"
   ]
  },
  {
   "cell_type": "markdown",
   "id": "092c894c",
   "metadata": {
    "papermill": {
     "duration": 0.015827,
     "end_time": "2023-07-24T23:45:29.100003",
     "exception": false,
     "start_time": "2023-07-24T23:45:29.084176",
     "status": "completed"
    },
    "tags": []
   },
   "source": [
    "This very conservative agent *always* sticks with the hand of two cards that they're dealt.\n",
    "\n",
    "We'll be simulating games between your player agent and our own dealer agent by calling your function.\n",
    "\n",
    "Try running the function below to see an example of a simulated game:"
   ]
  },
  {
   "cell_type": "code",
   "execution_count": 23,
   "id": "aff90802",
   "metadata": {
    "execution": {
     "iopub.execute_input": "2023-07-24T23:45:29.133825Z",
     "iopub.status.busy": "2023-07-24T23:45:29.133399Z",
     "iopub.status.idle": "2023-07-24T23:45:29.138561Z",
     "shell.execute_reply": "2023-07-24T23:45:29.137702Z"
    },
    "papermill": {
     "duration": 0.024869,
     "end_time": "2023-07-24T23:45:29.140749",
     "exception": false,
     "start_time": "2023-07-24T23:45:29.115880",
     "status": "completed"
    },
    "tags": []
   },
   "outputs": [
    {
     "name": "stdout",
     "output_type": "stream",
     "text": [
      "Player starts with Q and 8 (total = 18)\n",
      "Dealer starts with Q\n",
      "\n",
      "__Player's turn__\n",
      "Player stays\n",
      "\n",
      "__Dealer's turn__\n",
      "Dealer hits and receives 4. (total = 14)\n",
      "Dealer hits and receives 3. (total = 17)\n",
      "Dealer stands.\n",
      "Player wins. 18 > 17\n"
     ]
    }
   ],
   "source": [
    "q7.simulate_one_game()"
   ]
  },
  {
   "cell_type": "markdown",
   "id": "c1c480c0",
   "metadata": {
    "papermill": {
     "duration": 0.015481,
     "end_time": "2023-07-24T23:45:29.172195",
     "exception": false,
     "start_time": "2023-07-24T23:45:29.156714",
     "status": "completed"
    },
    "tags": []
   },
   "source": [
    "The real test of your agent's mettle is their average win rate over many games. Try calling the function below to simulate 50000 games of blackjack (it may take a couple seconds):"
   ]
  },
  {
   "cell_type": "code",
   "execution_count": 24,
   "id": "cc67679e",
   "metadata": {
    "execution": {
     "iopub.execute_input": "2023-07-24T23:45:29.206485Z",
     "iopub.status.busy": "2023-07-24T23:45:29.206087Z",
     "iopub.status.idle": "2023-07-24T23:45:31.354047Z",
     "shell.execute_reply": "2023-07-24T23:45:31.353019Z"
    },
    "papermill": {
     "duration": 2.167951,
     "end_time": "2023-07-24T23:45:31.356562",
     "exception": false,
     "start_time": "2023-07-24T23:45:29.188611",
     "status": "completed"
    },
    "tags": []
   },
   "outputs": [
    {
     "name": "stdout",
     "output_type": "stream",
     "text": [
      "Player won 19029 out of 50000 games (win rate = 38.1%)\n"
     ]
    }
   ],
   "source": [
    "q7.simulate(n_games=50000)"
   ]
  },
  {
   "cell_type": "markdown",
   "id": "4023f784",
   "metadata": {
    "papermill": {
     "duration": 0.015639,
     "end_time": "2023-07-24T23:45:31.388375",
     "exception": false,
     "start_time": "2023-07-24T23:45:31.372736",
     "status": "completed"
    },
    "tags": []
   },
   "source": [
    "Our dumb agent that completely ignores the game state still manages to win shockingly often!\n",
    "\n",
    "Try adding some more smarts to the should_hit function and see how it affects the results.Our dumb agent that completely ignores the game state still manages to win shockingly often!\n",
    "\n",
    "Try adding some more smarts to the `should_hit` function and see how it affects the results."
   ]
  },
  {
   "cell_type": "code",
   "execution_count": 25,
   "id": "fce4e8e4",
   "metadata": {
    "execution": {
     "iopub.execute_input": "2023-07-24T23:45:31.422514Z",
     "iopub.status.busy": "2023-07-24T23:45:31.422131Z",
     "iopub.status.idle": "2023-07-24T23:45:33.595747Z",
     "shell.execute_reply": "2023-07-24T23:45:33.594422Z"
    },
    "papermill": {
     "duration": 2.193625,
     "end_time": "2023-07-24T23:45:33.598162",
     "exception": false,
     "start_time": "2023-07-24T23:45:31.404537",
     "status": "completed"
    },
    "tags": []
   },
   "outputs": [
    {
     "name": "stdout",
     "output_type": "stream",
     "text": [
      "Player won 19045 out of 50000 games (win rate = 38.1%)\n"
     ]
    }
   ],
   "source": [
    "def should_hit(dealer_total, player_total, player_low_aces, player_high_aces):\n",
    "    \"\"\"Return True if the player should hit (request another card) given the current game\n",
    "    state, or False if the player should stay.\n",
    "    When calculating a hand's total value, we count aces as \"high\" (with value 11) if doing so\n",
    "    doesn't bring the total above 21, otherwise we count them as low (with value 1). \n",
    "    For example, if the player's hand is {A, A, A, 7}, we will count it as 11 + 1 + 1 + 7,\n",
    "    and therefore set player_total=20, player_low_aces=2, player_high_aces=1.\n",
    "    \"\"\"\n",
    "    return False\n",
    "\n",
    "q7.simulate(n_games=50000)"
   ]
  },
  {
   "cell_type": "markdown",
   "id": "8efe4b1d",
   "metadata": {
    "papermill": {
     "duration": 0.016122,
     "end_time": "2023-07-24T23:45:33.630429",
     "exception": false,
     "start_time": "2023-07-24T23:45:33.614307",
     "status": "completed"
    },
    "tags": []
   },
   "source": [
    "# Keep Going\n",
    "\n",
    "Learn about **[lists and tuples](https://www.kaggle.com/colinmorris/lists)** to handle multiple items of data in a systematic way."
   ]
  },
  {
   "cell_type": "markdown",
   "id": "8695b7d9",
   "metadata": {
    "papermill": {
     "duration": 0.015887,
     "end_time": "2023-07-24T23:45:33.664260",
     "exception": false,
     "start_time": "2023-07-24T23:45:33.648373",
     "status": "completed"
    },
    "tags": []
   },
   "source": [
    "---\n",
    "\n",
    "\n",
    "\n",
    "\n",
    "*Have questions or comments? Visit the [course discussion forum](https://www.kaggle.com/learn/python/discussion) to chat with other learners.*"
   ]
  }
 ],
 "metadata": {
  "kernelspec": {
   "display_name": "Python 3",
   "language": "python",
   "name": "python3"
  },
  "language_info": {
   "codemirror_mode": {
    "name": "ipython",
    "version": 3
   },
   "file_extension": ".py",
   "mimetype": "text/x-python",
   "name": "python",
   "nbconvert_exporter": "python",
   "pygments_lexer": "ipython3",
   "version": "3.10.12"
  },
  "papermill": {
   "default_parameters": {},
   "duration": 19.148931,
   "end_time": "2023-07-24T23:45:34.502054",
   "environment_variables": {},
   "exception": null,
   "input_path": "__notebook__.ipynb",
   "output_path": "__notebook__.ipynb",
   "parameters": {},
   "start_time": "2023-07-24T23:45:15.353123",
   "version": "2.4.0"
  }
 },
 "nbformat": 4,
 "nbformat_minor": 5
}
