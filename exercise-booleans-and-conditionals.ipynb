{
 "cells": [
  {
   "cell_type": "markdown",
   "id": "c42a3230",
   "metadata": {
    "papermill": {
     "duration": 0.008895,
     "end_time": "2023-07-24T23:36:49.012376",
     "exception": false,
     "start_time": "2023-07-24T23:36:49.003481",
     "status": "completed"
    },
    "tags": []
   },
   "source": [
    "**This notebook is an exercise in the [Python](https://www.kaggle.com/learn/python) course.  You can reference the tutorial at [this link](https://www.kaggle.com/colinmorris/booleans-and-conditionals).**\n",
    "\n",
    "---\n"
   ]
  },
  {
   "cell_type": "markdown",
   "id": "c47541e1",
   "metadata": {
    "papermill": {
     "duration": 0.007977,
     "end_time": "2023-07-24T23:36:49.028858",
     "exception": false,
     "start_time": "2023-07-24T23:36:49.020881",
     "status": "completed"
    },
    "tags": []
   },
   "source": [
    "In this exercise, you'll put to work what you have learned about booleans and conditionals.\n",
    "\n",
    "To get started, **run the setup code below** before writing your own code (and if you leave this notebook and come back later, don't forget to run the setup code again)."
   ]
  },
  {
   "cell_type": "code",
   "execution_count": 1,
   "id": "fac5284f",
   "metadata": {
    "execution": {
     "iopub.execute_input": "2023-07-24T23:36:49.048999Z",
     "iopub.status.busy": "2023-07-24T23:36:49.048157Z",
     "iopub.status.idle": "2023-07-24T23:36:49.089400Z",
     "shell.execute_reply": "2023-07-24T23:36:49.088362Z"
    },
    "papermill": {
     "duration": 0.054422,
     "end_time": "2023-07-24T23:36:49.091523",
     "exception": false,
     "start_time": "2023-07-24T23:36:49.037101",
     "status": "completed"
    },
    "tags": []
   },
   "outputs": [
    {
     "name": "stdout",
     "output_type": "stream",
     "text": [
      "Setup complete.\n"
     ]
    }
   ],
   "source": [
    "from learntools.core import binder; binder.bind(globals())\n",
    "from learntools.python.ex3 import *\n",
    "print('Setup complete.')"
   ]
  },
  {
   "cell_type": "markdown",
   "id": "4b7f5984",
   "metadata": {
    "papermill": {
     "duration": 0.008129,
     "end_time": "2023-07-24T23:36:49.108104",
     "exception": false,
     "start_time": "2023-07-24T23:36:49.099975",
     "status": "completed"
    },
    "tags": []
   },
   "source": [
    "# 1.\n",
    "\n",
    "Many programming languages have [`sign`](https://en.wikipedia.org/wiki/Sign_function) available as a built-in function. Python doesn't, but we can define our own!\n",
    "\n",
    "In the cell below, define a function called `sign` which takes a numerical argument and returns -1 if it's negative, 1 if it's positive, and 0 if it's 0."
   ]
  },
  {
   "cell_type": "code",
   "execution_count": 2,
   "id": "52af1af3",
   "metadata": {
    "execution": {
     "iopub.execute_input": "2023-07-24T23:36:49.126172Z",
     "iopub.status.busy": "2023-07-24T23:36:49.125846Z",
     "iopub.status.idle": "2023-07-24T23:36:49.134551Z",
     "shell.execute_reply": "2023-07-24T23:36:49.133623Z"
    },
    "papermill": {
     "duration": 0.020217,
     "end_time": "2023-07-24T23:36:49.136607",
     "exception": false,
     "start_time": "2023-07-24T23:36:49.116390",
     "status": "completed"
    },
    "tags": []
   },
   "outputs": [
    {
     "data": {
      "application/javascript": [
       "parent.postMessage({\"jupyterEvent\": \"custom.exercise_interaction\", \"data\": {\"outcomeType\": 1, \"valueTowardsCompletion\": 0.2, \"interactionType\": 1, \"questionType\": 2, \"questionId\": \"1_SignFunctionProblem\", \"learnToolsVersion\": \"0.3.4\", \"failureMessage\": \"\", \"exceptionClass\": \"\", \"trace\": \"\"}}, \"*\")"
      ],
      "text/plain": [
       "<IPython.core.display.Javascript object>"
      ]
     },
     "metadata": {},
     "output_type": "display_data"
    },
    {
     "data": {
      "text/markdown": [
       "<span style=\"color:#33cc33\">Correct</span>"
      ],
      "text/plain": [
       "Correct"
      ]
     },
     "metadata": {},
     "output_type": "display_data"
    }
   ],
   "source": [
    "# Your code goes here. Define a function called 'sign'\n",
    "def sign(num):\n",
    "    if num>0:\n",
    "        return 1\n",
    "    elif num<0:\n",
    "        return -1\n",
    "    else:\n",
    "        return 0\n",
    "\n",
    "# Check your answer\n",
    "q1.check()"
   ]
  },
  {
   "cell_type": "code",
   "execution_count": 3,
   "id": "8cfb55a1",
   "metadata": {
    "execution": {
     "iopub.execute_input": "2023-07-24T23:36:49.155270Z",
     "iopub.status.busy": "2023-07-24T23:36:49.154948Z",
     "iopub.status.idle": "2023-07-24T23:36:49.158174Z",
     "shell.execute_reply": "2023-07-24T23:36:49.157500Z"
    },
    "papermill": {
     "duration": 0.014588,
     "end_time": "2023-07-24T23:36:49.159879",
     "exception": false,
     "start_time": "2023-07-24T23:36:49.145291",
     "status": "completed"
    },
    "tags": []
   },
   "outputs": [],
   "source": [
    "#q1.solution()"
   ]
  },
  {
   "cell_type": "markdown",
   "id": "a58c4080",
   "metadata": {
    "papermill": {
     "duration": 0.008284,
     "end_time": "2023-07-24T23:36:49.176671",
     "exception": false,
     "start_time": "2023-07-24T23:36:49.168387",
     "status": "completed"
    },
    "tags": []
   },
   "source": [
    "# 2.\n",
    "\n",
    "We've decided to add \"logging\" to our `to_smash` function from the previous exercise."
   ]
  },
  {
   "cell_type": "code",
   "execution_count": 4,
   "id": "0062bbd4",
   "metadata": {
    "execution": {
     "iopub.execute_input": "2023-07-24T23:36:49.196384Z",
     "iopub.status.busy": "2023-07-24T23:36:49.195628Z",
     "iopub.status.idle": "2023-07-24T23:36:49.202648Z",
     "shell.execute_reply": "2023-07-24T23:36:49.202040Z"
    },
    "papermill": {
     "duration": 0.018051,
     "end_time": "2023-07-24T23:36:49.204355",
     "exception": false,
     "start_time": "2023-07-24T23:36:49.186304",
     "status": "completed"
    },
    "tags": []
   },
   "outputs": [
    {
     "name": "stdout",
     "output_type": "stream",
     "text": [
      "Splitting 91 candies\n"
     ]
    },
    {
     "data": {
      "text/plain": [
       "1"
      ]
     },
     "execution_count": 4,
     "metadata": {},
     "output_type": "execute_result"
    }
   ],
   "source": [
    "def to_smash(total_candies):\n",
    "    \"\"\"Return the number of leftover candies that must be smashed after distributing\n",
    "    the given number of candies evenly between 3 friends.\n",
    "    \n",
    "    >>> to_smash(91)\n",
    "    1\n",
    "    \"\"\"\n",
    "    print(\"Splitting\", total_candies, \"candies\")\n",
    "    return total_candies % 3\n",
    "\n",
    "to_smash(91)"
   ]
  },
  {
   "cell_type": "markdown",
   "id": "0f77dbe8",
   "metadata": {
    "papermill": {
     "duration": 0.008378,
     "end_time": "2023-07-24T23:36:49.221488",
     "exception": false,
     "start_time": "2023-07-24T23:36:49.213110",
     "status": "completed"
    },
    "tags": []
   },
   "source": [
    "What happens if we call it with `total_candies = 1`?"
   ]
  },
  {
   "cell_type": "code",
   "execution_count": 5,
   "id": "1f752bdb",
   "metadata": {
    "execution": {
     "iopub.execute_input": "2023-07-24T23:36:49.240505Z",
     "iopub.status.busy": "2023-07-24T23:36:49.239866Z",
     "iopub.status.idle": "2023-07-24T23:36:49.246696Z",
     "shell.execute_reply": "2023-07-24T23:36:49.245899Z"
    },
    "papermill": {
     "duration": 0.018316,
     "end_time": "2023-07-24T23:36:49.248515",
     "exception": false,
     "start_time": "2023-07-24T23:36:49.230199",
     "status": "completed"
    },
    "tags": []
   },
   "outputs": [
    {
     "name": "stdout",
     "output_type": "stream",
     "text": [
      "Splitting 1 candies\n"
     ]
    },
    {
     "data": {
      "text/plain": [
       "1"
      ]
     },
     "execution_count": 5,
     "metadata": {},
     "output_type": "execute_result"
    }
   ],
   "source": [
    "to_smash(1)"
   ]
  },
  {
   "cell_type": "markdown",
   "id": "24996df4",
   "metadata": {
    "papermill": {
     "duration": 0.008667,
     "end_time": "2023-07-24T23:36:49.266055",
     "exception": false,
     "start_time": "2023-07-24T23:36:49.257388",
     "status": "completed"
    },
    "tags": []
   },
   "source": [
    "That isn't great grammar!\n",
    "\n",
    "Modify the definition in the cell below to correct the grammar of our print statement. (If there's only one candy, we should use the singular \"candy\" instead of the plural \"candies\")"
   ]
  },
  {
   "cell_type": "code",
   "execution_count": 6,
   "id": "bc78ecb3",
   "metadata": {
    "execution": {
     "iopub.execute_input": "2023-07-24T23:36:49.285163Z",
     "iopub.status.busy": "2023-07-24T23:36:49.284422Z",
     "iopub.status.idle": "2023-07-24T23:36:49.290610Z",
     "shell.execute_reply": "2023-07-24T23:36:49.289773Z"
    },
    "papermill": {
     "duration": 0.017558,
     "end_time": "2023-07-24T23:36:49.292393",
     "exception": false,
     "start_time": "2023-07-24T23:36:49.274835",
     "status": "completed"
    },
    "tags": []
   },
   "outputs": [
    {
     "name": "stdout",
     "output_type": "stream",
     "text": [
      "Splitting 91 candies\n",
      "Splitting 1 candy\n"
     ]
    }
   ],
   "source": [
    "def to_smash(total_candies):\n",
    "    \"\"\"Return the number of leftover candies that must be smashed after distributing\n",
    "    the given number of candies evenly between 3 friends.\n",
    "    \n",
    "    >>> to_smash(91)\n",
    "    1\n",
    "    \"\"\"\n",
    "    if total_candies==1:\n",
    "        print(\"Splitting 1 candy\")\n",
    "    else:\n",
    "        print(\"Splitting\", total_candies, \"candies\")\n",
    "\n",
    "to_smash(91)\n",
    "to_smash(1)\n"
   ]
  },
  {
   "cell_type": "code",
   "execution_count": 7,
   "id": "ce03e5a2",
   "metadata": {
    "execution": {
     "iopub.execute_input": "2023-07-24T23:36:49.312202Z",
     "iopub.status.busy": "2023-07-24T23:36:49.311343Z",
     "iopub.status.idle": "2023-07-24T23:36:49.319485Z",
     "shell.execute_reply": "2023-07-24T23:36:49.318552Z"
    },
    "papermill": {
     "duration": 0.019865,
     "end_time": "2023-07-24T23:36:49.321274",
     "exception": false,
     "start_time": "2023-07-24T23:36:49.301409",
     "status": "completed"
    },
    "tags": []
   },
   "outputs": [
    {
     "data": {
      "application/javascript": [
       "parent.postMessage({\"jupyterEvent\": \"custom.exercise_interaction\", \"data\": {\"outcomeType\": 1, \"valueTowardsCompletion\": 0.2, \"interactionType\": 1, \"questionType\": 4, \"questionId\": \"2_PluralizationProblem\", \"learnToolsVersion\": \"0.3.4\", \"failureMessage\": \"\", \"exceptionClass\": \"\", \"trace\": \"\"}}, \"*\")"
      ],
      "text/plain": [
       "<IPython.core.display.Javascript object>"
      ]
     },
     "metadata": {},
     "output_type": "display_data"
    },
    {
     "data": {
      "text/markdown": [
       "<span style=\"color:#33cc33\">Correct:</span> \n",
       "\n",
       "A straightforward (and totally fine) solution is to replace the original `print` call with:\n",
       "\n",
       "```python\n",
       "if total_candies == 1:\n",
       "    print(\"Splitting 1 candy\")\n",
       "else:\n",
       "    print(\"Splitting\", total_candies, \"candies\")\n",
       "```\n",
       "\n",
       "Here's a slightly more succinct solution using a conditional expression:\n",
       "\n",
       "```python\n",
       "print(\"Splitting\", total_candies, \"candy\" if total_candies == 1 else \"candies\")\n",
       "```"
      ],
      "text/plain": [
       "Correct: \n",
       "\n",
       "A straightforward (and totally fine) solution is to replace the original `print` call with:\n",
       "\n",
       "```python\n",
       "if total_candies == 1:\n",
       "    print(\"Splitting 1 candy\")\n",
       "else:\n",
       "    print(\"Splitting\", total_candies, \"candies\")\n",
       "```\n",
       "\n",
       "Here's a slightly more succinct solution using a conditional expression:\n",
       "\n",
       "```python\n",
       "print(\"Splitting\", total_candies, \"candy\" if total_candies == 1 else \"candies\")\n",
       "```"
      ]
     },
     "metadata": {},
     "output_type": "display_data"
    }
   ],
   "source": [
    "q2.check()"
   ]
  },
  {
   "cell_type": "markdown",
   "id": "378523b7",
   "metadata": {
    "papermill": {
     "duration": 0.009071,
     "end_time": "2023-07-24T23:36:49.339594",
     "exception": false,
     "start_time": "2023-07-24T23:36:49.330523",
     "status": "completed"
    },
    "tags": []
   },
   "source": [
    "To get credit for completing this problem, and to see the official answer, run the code cell below."
   ]
  },
  {
   "cell_type": "code",
   "execution_count": 8,
   "id": "8e588959",
   "metadata": {
    "execution": {
     "iopub.execute_input": "2023-07-24T23:36:49.359346Z",
     "iopub.status.busy": "2023-07-24T23:36:49.358847Z",
     "iopub.status.idle": "2023-07-24T23:36:49.362706Z",
     "shell.execute_reply": "2023-07-24T23:36:49.361833Z"
    },
    "papermill": {
     "duration": 0.015805,
     "end_time": "2023-07-24T23:36:49.364593",
     "exception": false,
     "start_time": "2023-07-24T23:36:49.348788",
     "status": "completed"
    },
    "tags": []
   },
   "outputs": [],
   "source": [
    "# Check your answer (Run this code cell to receive credit!)\n",
    "#q2.solution()"
   ]
  },
  {
   "cell_type": "markdown",
   "id": "2211fe4f",
   "metadata": {
    "papermill": {
     "duration": 0.00885,
     "end_time": "2023-07-24T23:36:49.382604",
     "exception": false,
     "start_time": "2023-07-24T23:36:49.373754",
     "status": "completed"
    },
    "tags": []
   },
   "source": [
    "# 3. <span title=\"A bit spicy\" style=\"color: darkgreen \">🌶️</span>\n",
    "\n",
    "In the tutorial, we talked about deciding whether we're prepared for the weather. I said that I'm safe from today's weather if...\n",
    "- I have an umbrella...\n",
    "- or if the rain isn't too heavy and I have a hood...\n",
    "- otherwise, I'm still fine unless it's raining *and* it's a workday\n",
    "\n",
    "The function below uses our first attempt at turning this logic into a Python expression. I claimed that there was a bug in that code. Can you find it?\n",
    "\n",
    "To prove that `prepared_for_weather` is buggy, come up with a set of inputs where either:\n",
    "- the function returns `False` (but should have returned `True`), or\n",
    "- the function returned `True` (but should have returned `False`).\n",
    "\n",
    "To get credit for completing this question, your code should return a <font color='#33cc33'>Correct</font> result."
   ]
  },
  {
   "cell_type": "code",
   "execution_count": 9,
   "id": "da81db03",
   "metadata": {
    "execution": {
     "iopub.execute_input": "2023-07-24T23:36:49.402755Z",
     "iopub.status.busy": "2023-07-24T23:36:49.402215Z",
     "iopub.status.idle": "2023-07-24T23:36:49.411531Z",
     "shell.execute_reply": "2023-07-24T23:36:49.410885Z"
    },
    "papermill": {
     "duration": 0.021482,
     "end_time": "2023-07-24T23:36:49.413240",
     "exception": false,
     "start_time": "2023-07-24T23:36:49.391758",
     "status": "completed"
    },
    "tags": []
   },
   "outputs": [
    {
     "name": "stdout",
     "output_type": "stream",
     "text": [
      "True\n"
     ]
    },
    {
     "data": {
      "application/javascript": [
       "parent.postMessage({\"jupyterEvent\": \"custom.exercise_interaction\", \"data\": {\"outcomeType\": 1, \"valueTowardsCompletion\": 0.2, \"interactionType\": 1, \"questionType\": 1, \"questionId\": \"3_WeatherDebug\", \"learnToolsVersion\": \"0.3.4\", \"failureMessage\": \"\", \"exceptionClass\": \"\", \"trace\": \"\"}}, \"*\")"
      ],
      "text/plain": [
       "<IPython.core.display.Javascript object>"
      ]
     },
     "metadata": {},
     "output_type": "display_data"
    },
    {
     "data": {
      "text/markdown": [
       "<span style=\"color:#33cc33\">Correct:</span> \n",
       "\n",
       "One example of a failing test case is:\n",
       "\n",
       "```python\n",
       "have_umbrella = False\n",
       "rain_level = 0.0\n",
       "have_hood = False\n",
       "is_workday = False\n",
       "```\n",
       "\n",
       "Clearly we're prepared for the weather in this case. It's not raining. Not only that, it's not a workday, so we don't even need to leave the house! But our function will return False on these inputs.\n",
       "\n",
       "The key problem is that Python implictly parenthesizes the last part as:\n",
       "\n",
       "```python\n",
       "(not (rain_level > 0)) and is_workday\n",
       "```\n",
       "\n",
       "Whereas what we were trying to express would look more like:\n",
       "\n",
       "```python\n",
       "not (rain_level > 0 and is_workday)\n",
       "```\n"
      ],
      "text/plain": [
       "Correct: \n",
       "\n",
       "One example of a failing test case is:\n",
       "\n",
       "```python\n",
       "have_umbrella = False\n",
       "rain_level = 0.0\n",
       "have_hood = False\n",
       "is_workday = False\n",
       "```\n",
       "\n",
       "Clearly we're prepared for the weather in this case. It's not raining. Not only that, it's not a workday, so we don't even need to leave the house! But our function will return False on these inputs.\n",
       "\n",
       "The key problem is that Python implictly parenthesizes the last part as:\n",
       "\n",
       "```python\n",
       "(not (rain_level > 0)) and is_workday\n",
       "```\n",
       "\n",
       "Whereas what we were trying to express would look more like:\n",
       "\n",
       "```python\n",
       "not (rain_level > 0 and is_workday)\n",
       "```"
      ]
     },
     "metadata": {},
     "output_type": "display_data"
    }
   ],
   "source": [
    "def prepared_for_weather(have_umbrella, rain_level, have_hood, is_workday):\n",
    "    # Don't change this code. Our goal is just to find the bug, not fix it!\n",
    "    return have_umbrella or (rain_level < 5 and have_hood) or not (rain_level > 0 and is_workday)\n",
    "\n",
    "# Change the values of these inputs so they represent a case where prepared_for_weather\n",
    "# returns the wrong answer.\n",
    "#have_umbrella = True\n",
    "#rain_level = 0.0\n",
    "#have_hood = True\n",
    "#is_workday = True\n",
    "have_umbrella = False\n",
    "rain_level = 0.0\n",
    "have_hood = False\n",
    "is_workday = False\n",
    "# Check what the function returns given the current values of the variables above\n",
    "actual = prepared_for_weather(have_umbrella, rain_level, have_hood, is_workday)\n",
    "print(actual)\n",
    "\n",
    "# Check your answer\n",
    "q3.check()"
   ]
  },
  {
   "cell_type": "code",
   "execution_count": 10,
   "id": "094f05e7",
   "metadata": {
    "execution": {
     "iopub.execute_input": "2023-07-24T23:36:49.433518Z",
     "iopub.status.busy": "2023-07-24T23:36:49.433039Z",
     "iopub.status.idle": "2023-07-24T23:36:49.436176Z",
     "shell.execute_reply": "2023-07-24T23:36:49.435495Z"
    },
    "papermill": {
     "duration": 0.015163,
     "end_time": "2023-07-24T23:36:49.437857",
     "exception": false,
     "start_time": "2023-07-24T23:36:49.422694",
     "status": "completed"
    },
    "tags": []
   },
   "outputs": [],
   "source": [
    "#q3.hint()\n",
    "#\n",
    "#q3.solution()"
   ]
  },
  {
   "cell_type": "markdown",
   "id": "67f416a1",
   "metadata": {
    "papermill": {
     "duration": 0.009312,
     "end_time": "2023-07-24T23:36:49.456797",
     "exception": false,
     "start_time": "2023-07-24T23:36:49.447485",
     "status": "completed"
    },
    "tags": []
   },
   "source": [
    "# 4.\n",
    "\n",
    "The function `is_negative` below is implemented correctly - it returns True if the given number is negative and False otherwise.\n",
    "\n",
    "However, it's more verbose than it needs to be. We can actually reduce the number of lines of code in this function by *75%* while keeping the same behaviour. \n",
    "\n",
    "See if you can come up with an equivalent body that uses just **one line** of code, and put it in the function `concise_is_negative`. (HINT: you don't even need Python's ternary syntax)"
   ]
  },
  {
   "cell_type": "code",
   "execution_count": 11,
   "id": "141e0dd2",
   "metadata": {
    "execution": {
     "iopub.execute_input": "2023-07-24T23:36:49.477788Z",
     "iopub.status.busy": "2023-07-24T23:36:49.477202Z",
     "iopub.status.idle": "2023-07-24T23:36:49.485148Z",
     "shell.execute_reply": "2023-07-24T23:36:49.484254Z"
    },
    "papermill": {
     "duration": 0.020612,
     "end_time": "2023-07-24T23:36:49.487081",
     "exception": false,
     "start_time": "2023-07-24T23:36:49.466469",
     "status": "completed"
    },
    "tags": []
   },
   "outputs": [
    {
     "data": {
      "application/javascript": [
       "parent.postMessage({\"jupyterEvent\": \"custom.exercise_interaction\", \"data\": {\"outcomeType\": 1, \"valueTowardsCompletion\": 0.2, \"interactionType\": 1, \"questionType\": 2, \"questionId\": \"4_ConciseIsNegative\", \"learnToolsVersion\": \"0.3.4\", \"failureMessage\": \"\", \"exceptionClass\": \"\", \"trace\": \"\"}}, \"*\")"
      ],
      "text/plain": [
       "<IPython.core.display.Javascript object>"
      ]
     },
     "metadata": {},
     "output_type": "display_data"
    },
    {
     "data": {
      "text/markdown": [
       "<span style=\"color:#33cc33\">Correct</span>"
      ],
      "text/plain": [
       "Correct"
      ]
     },
     "metadata": {},
     "output_type": "display_data"
    }
   ],
   "source": [
    "def is_negative(number):\n",
    "    if number < 0:\n",
    "        return True\n",
    "    else:\n",
    "        return False\n",
    "\n",
    "def concise_is_negative(number):\n",
    "    return number<0;\n",
    "\n",
    "# Check your answer\n",
    "q4.check()"
   ]
  },
  {
   "cell_type": "code",
   "execution_count": 12,
   "id": "316c9e00",
   "metadata": {
    "execution": {
     "iopub.execute_input": "2023-07-24T23:36:49.507820Z",
     "iopub.status.busy": "2023-07-24T23:36:49.507516Z",
     "iopub.status.idle": "2023-07-24T23:36:49.511339Z",
     "shell.execute_reply": "2023-07-24T23:36:49.510359Z"
    },
    "papermill": {
     "duration": 0.01633,
     "end_time": "2023-07-24T23:36:49.513248",
     "exception": false,
     "start_time": "2023-07-24T23:36:49.496918",
     "status": "completed"
    },
    "tags": []
   },
   "outputs": [],
   "source": [
    "#q4.hint()\n",
    "#q4.solution()"
   ]
  },
  {
   "cell_type": "markdown",
   "id": "4a887e79",
   "metadata": {
    "papermill": {
     "duration": 0.00943,
     "end_time": "2023-07-24T23:36:49.532369",
     "exception": false,
     "start_time": "2023-07-24T23:36:49.522939",
     "status": "completed"
    },
    "tags": []
   },
   "source": [
    "# 5a.\n",
    "\n",
    "The boolean variables `ketchup`, `mustard` and `onion` represent whether a customer wants a particular topping on their hot dog. We want to implement a number of boolean functions that correspond to some yes-or-no questions about the customer's order. For example:"
   ]
  },
  {
   "cell_type": "code",
   "execution_count": 13,
   "id": "ef347e7d",
   "metadata": {
    "execution": {
     "iopub.execute_input": "2023-07-24T23:36:49.553129Z",
     "iopub.status.busy": "2023-07-24T23:36:49.552802Z",
     "iopub.status.idle": "2023-07-24T23:36:49.557169Z",
     "shell.execute_reply": "2023-07-24T23:36:49.556301Z"
    },
    "papermill": {
     "duration": 0.016746,
     "end_time": "2023-07-24T23:36:49.558879",
     "exception": false,
     "start_time": "2023-07-24T23:36:49.542133",
     "status": "completed"
    },
    "tags": []
   },
   "outputs": [],
   "source": [
    "def onionless(ketchup, mustard, onion):\n",
    "    \"\"\"Return whether the customer doesn't want onions.\n",
    "    \"\"\"\n",
    "    return not onion"
   ]
  },
  {
   "cell_type": "code",
   "execution_count": 14,
   "id": "770b00e2",
   "metadata": {
    "execution": {
     "iopub.execute_input": "2023-07-24T23:36:49.580004Z",
     "iopub.status.busy": "2023-07-24T23:36:49.579179Z",
     "iopub.status.idle": "2023-07-24T23:36:49.586675Z",
     "shell.execute_reply": "2023-07-24T23:36:49.585751Z"
    },
    "papermill": {
     "duration": 0.019858,
     "end_time": "2023-07-24T23:36:49.588542",
     "exception": false,
     "start_time": "2023-07-24T23:36:49.568684",
     "status": "completed"
    },
    "tags": []
   },
   "outputs": [
    {
     "data": {
      "application/javascript": [
       "parent.postMessage({\"jupyterEvent\": \"custom.exercise_interaction\", \"data\": {\"outcomeType\": 1, \"valueTowardsCompletion\": 0.2, \"interactionType\": 1, \"questionType\": 2, \"questionId\": \"5.1_AllToppings\", \"learnToolsVersion\": \"0.3.4\", \"failureMessage\": \"\", \"exceptionClass\": \"\", \"trace\": \"\"}}, \"*\")"
      ],
      "text/plain": [
       "<IPython.core.display.Javascript object>"
      ]
     },
     "metadata": {},
     "output_type": "display_data"
    },
    {
     "data": {
      "text/markdown": [
       "<span style=\"color:#33cc33\">Correct</span>"
      ],
      "text/plain": [
       "Correct"
      ]
     },
     "metadata": {},
     "output_type": "display_data"
    }
   ],
   "source": [
    "def wants_all_toppings(ketchup, mustard, onion):\n",
    "    \"\"\"Return whether the customer wants \"the works\" (all 3 toppings)\n",
    "    \"\"\"\n",
    "    return (onion and mustard and ketchup)\n",
    "\n",
    "# Check your answer\n",
    "q5.a.check()"
   ]
  },
  {
   "cell_type": "code",
   "execution_count": 15,
   "id": "fda01eda",
   "metadata": {
    "execution": {
     "iopub.execute_input": "2023-07-24T23:36:49.610091Z",
     "iopub.status.busy": "2023-07-24T23:36:49.609737Z",
     "iopub.status.idle": "2023-07-24T23:36:49.613556Z",
     "shell.execute_reply": "2023-07-24T23:36:49.612637Z"
    },
    "papermill": {
     "duration": 0.016848,
     "end_time": "2023-07-24T23:36:49.615447",
     "exception": false,
     "start_time": "2023-07-24T23:36:49.598599",
     "status": "completed"
    },
    "tags": []
   },
   "outputs": [],
   "source": [
    "#q5.a.hint()\n",
    "#q5.a.solution()"
   ]
  },
  {
   "cell_type": "markdown",
   "id": "20e66e03",
   "metadata": {
    "papermill": {
     "duration": 0.009826,
     "end_time": "2023-07-24T23:36:49.635393",
     "exception": false,
     "start_time": "2023-07-24T23:36:49.625567",
     "status": "completed"
    },
    "tags": []
   },
   "source": [
    "# 5b.\n",
    "\n",
    "For the next function, fill in the body to match the English description in the docstring. "
   ]
  },
  {
   "cell_type": "code",
   "execution_count": 16,
   "id": "53cdf988",
   "metadata": {
    "execution": {
     "iopub.execute_input": "2023-07-24T23:36:49.656912Z",
     "iopub.status.busy": "2023-07-24T23:36:49.656572Z",
     "iopub.status.idle": "2023-07-24T23:36:49.664053Z",
     "shell.execute_reply": "2023-07-24T23:36:49.663402Z"
    },
    "papermill": {
     "duration": 0.020376,
     "end_time": "2023-07-24T23:36:49.665818",
     "exception": false,
     "start_time": "2023-07-24T23:36:49.645442",
     "status": "completed"
    },
    "tags": []
   },
   "outputs": [
    {
     "data": {
      "application/javascript": [
       "parent.postMessage({\"jupyterEvent\": \"custom.exercise_interaction\", \"data\": {\"outcomeType\": 1, \"valueTowardsCompletion\": 0.2, \"interactionType\": 1, \"questionType\": 2, \"questionId\": \"5.2_PlainDog\", \"learnToolsVersion\": \"0.3.4\", \"failureMessage\": \"\", \"exceptionClass\": \"\", \"trace\": \"\"}}, \"*\")"
      ],
      "text/plain": [
       "<IPython.core.display.Javascript object>"
      ]
     },
     "metadata": {},
     "output_type": "display_data"
    },
    {
     "data": {
      "text/markdown": [
       "<span style=\"color:#33cc33\">Correct:</span> \n",
       "\n",
       "One solution looks like:\n",
       "```python\n",
       "return not ketchup and not mustard and not onion\n",
       "```\n",
       "\n",
       "We can also [\"factor out\" the nots](https://en.wikipedia.org/wiki/De_Morgan%27s_laws) to get:\n",
       "\n",
       "```python\n",
       "return not (ketchup or mustard or onion)\n",
       "```"
      ],
      "text/plain": [
       "Correct: \n",
       "\n",
       "One solution looks like:\n",
       "```python\n",
       "return not ketchup and not mustard and not onion\n",
       "```\n",
       "\n",
       "We can also [\"factor out\" the nots](https://en.wikipedia.org/wiki/De_Morgan%27s_laws) to get:\n",
       "\n",
       "```python\n",
       "return not (ketchup or mustard or onion)\n",
       "```"
      ]
     },
     "metadata": {},
     "output_type": "display_data"
    }
   ],
   "source": [
    "def wants_plain_hotdog(ketchup, mustard, onion):\n",
    "    \"\"\"Return whether the customer wants a plain hot dog with no toppings.\n",
    "    \"\"\"\n",
    "    return not(onion or mustard or ketchup)\n",
    "\n",
    "# Check your answer\n",
    "q5.b.check()"
   ]
  },
  {
   "cell_type": "code",
   "execution_count": 17,
   "id": "81723fbc",
   "metadata": {
    "execution": {
     "iopub.execute_input": "2023-07-24T23:36:49.687527Z",
     "iopub.status.busy": "2023-07-24T23:36:49.687239Z",
     "iopub.status.idle": "2023-07-24T23:36:49.690760Z",
     "shell.execute_reply": "2023-07-24T23:36:49.689842Z"
    },
    "papermill": {
     "duration": 0.016702,
     "end_time": "2023-07-24T23:36:49.692663",
     "exception": false,
     "start_time": "2023-07-24T23:36:49.675961",
     "status": "completed"
    },
    "tags": []
   },
   "outputs": [],
   "source": [
    "#q5.b.hint()\n",
    "#q5.b.solution()"
   ]
  },
  {
   "cell_type": "markdown",
   "id": "9ea6041f",
   "metadata": {
    "papermill": {
     "duration": 0.011241,
     "end_time": "2023-07-24T23:36:49.714576",
     "exception": false,
     "start_time": "2023-07-24T23:36:49.703335",
     "status": "completed"
    },
    "tags": []
   },
   "source": [
    "# 5c.\n",
    "\n",
    "You know what to do: for the next function, fill in the body to match the English description in the docstring."
   ]
  },
  {
   "cell_type": "code",
   "execution_count": 18,
   "id": "5f2d251b",
   "metadata": {
    "execution": {
     "iopub.execute_input": "2023-07-24T23:36:49.736289Z",
     "iopub.status.busy": "2023-07-24T23:36:49.735929Z",
     "iopub.status.idle": "2023-07-24T23:36:49.743332Z",
     "shell.execute_reply": "2023-07-24T23:36:49.742599Z"
    },
    "papermill": {
     "duration": 0.020476,
     "end_time": "2023-07-24T23:36:49.745267",
     "exception": false,
     "start_time": "2023-07-24T23:36:49.724791",
     "status": "completed"
    },
    "tags": []
   },
   "outputs": [
    {
     "data": {
      "application/javascript": [
       "parent.postMessage({\"jupyterEvent\": \"custom.exercise_interaction\", \"data\": {\"outcomeType\": 1, \"valueTowardsCompletion\": 0.2, \"interactionType\": 1, \"questionType\": 2, \"questionId\": \"5.3_OneSauce\", \"learnToolsVersion\": \"0.3.4\", \"failureMessage\": \"\", \"exceptionClass\": \"\", \"trace\": \"\"}}, \"*\")"
      ],
      "text/plain": [
       "<IPython.core.display.Javascript object>"
      ]
     },
     "metadata": {},
     "output_type": "display_data"
    },
    {
     "data": {
      "text/markdown": [
       "<span style=\"color:#33cc33\">Correct</span>"
      ],
      "text/plain": [
       "Correct"
      ]
     },
     "metadata": {},
     "output_type": "display_data"
    }
   ],
   "source": [
    "def exactly_one_sauce(ketchup, mustard, onion):\n",
    "    \"\"\"Return whether the customer wants either ketchup or mustard, but not both.\n",
    "    (You may be familiar with this operation under the name \"exclusive or\")\n",
    "    \"\"\"\n",
    "    \n",
    "    \"\"\"\n",
    "    other Solution:\n",
    "    return (ketchup and not mustard) or (mustard and not ketchup)\n",
    "    \"\"\"\n",
    "    return ketchup ^ mustard\n",
    "\n",
    "# Check your answer\n",
    "q5.c.check()"
   ]
  },
  {
   "cell_type": "code",
   "execution_count": 19,
   "id": "6b3e13b3",
   "metadata": {
    "execution": {
     "iopub.execute_input": "2023-07-24T23:36:49.767575Z",
     "iopub.status.busy": "2023-07-24T23:36:49.767087Z",
     "iopub.status.idle": "2023-07-24T23:36:49.770929Z",
     "shell.execute_reply": "2023-07-24T23:36:49.769941Z"
    },
    "papermill": {
     "duration": 0.017162,
     "end_time": "2023-07-24T23:36:49.772831",
     "exception": false,
     "start_time": "2023-07-24T23:36:49.755669",
     "status": "completed"
    },
    "tags": []
   },
   "outputs": [],
   "source": [
    "#q5.c.hint()\n",
    "#q5.c.solution()"
   ]
  },
  {
   "cell_type": "markdown",
   "id": "4f9c0119",
   "metadata": {
    "papermill": {
     "duration": 0.01029,
     "end_time": "2023-07-24T23:36:49.793704",
     "exception": false,
     "start_time": "2023-07-24T23:36:49.783414",
     "status": "completed"
    },
    "tags": []
   },
   "source": [
    "# 6. <span title=\"A bit spicy\" style=\"color: darkgreen \">🌶️</span>\n",
    "\n",
    "We’ve seen that calling `bool()` on an integer returns `False` if it’s equal to 0 and `True` otherwise. What happens if we call `int()` on a bool? Try it out in the notebook cell below.\n",
    "\n",
    "Can you take advantage of this to write a succinct function that corresponds to the English sentence \"does the customer want exactly one topping?\"?"
   ]
  },
  {
   "cell_type": "code",
   "execution_count": 20,
   "id": "76663fc5",
   "metadata": {
    "execution": {
     "iopub.execute_input": "2023-07-24T23:36:49.816162Z",
     "iopub.status.busy": "2023-07-24T23:36:49.815789Z",
     "iopub.status.idle": "2023-07-24T23:36:49.823961Z",
     "shell.execute_reply": "2023-07-24T23:36:49.823050Z"
    },
    "papermill": {
     "duration": 0.021713,
     "end_time": "2023-07-24T23:36:49.825947",
     "exception": false,
     "start_time": "2023-07-24T23:36:49.804234",
     "status": "completed"
    },
    "tags": []
   },
   "outputs": [
    {
     "data": {
      "application/javascript": [
       "parent.postMessage({\"jupyterEvent\": \"custom.exercise_interaction\", \"data\": {\"outcomeType\": 4, \"interactionType\": 1, \"questionType\": 2, \"questionId\": \"6_OneTopping\", \"learnToolsVersion\": \"0.3.4\", \"valueTowardsCompletion\": 0.0, \"failureMessage\": \"\", \"exceptionClass\": \"\", \"trace\": \"\"}}, \"*\")"
      ],
      "text/plain": [
       "<IPython.core.display.Javascript object>"
      ]
     },
     "metadata": {},
     "output_type": "display_data"
    },
    {
     "data": {
      "text/markdown": [
       "<span style=\"color:#ccaa33\">Check:</span> When you've updated the starter code, `check()` will tell you whether your code is correct. "
      ],
      "text/plain": [
       "Check: When you've updated the starter code, `check()` will tell you whether your code is correct. "
      ]
     },
     "metadata": {},
     "output_type": "display_data"
    }
   ],
   "source": [
    "def exactly_one_topping(ketchup, mustard, onion):\n",
    "    \"\"\"Return whether the customer wants exactly one of the three available toppings\n",
    "    on their hot dog.\n",
    "    \"\"\"\n",
    "    pass\n",
    "\n",
    "# Check your answer\n",
    "q6.check()"
   ]
  },
  {
   "cell_type": "code",
   "execution_count": 21,
   "id": "ca33cd2b",
   "metadata": {
    "execution": {
     "iopub.execute_input": "2023-07-24T23:36:49.848728Z",
     "iopub.status.busy": "2023-07-24T23:36:49.848455Z",
     "iopub.status.idle": "2023-07-24T23:36:49.852349Z",
     "shell.execute_reply": "2023-07-24T23:36:49.851530Z"
    },
    "papermill": {
     "duration": 0.017528,
     "end_time": "2023-07-24T23:36:49.854221",
     "exception": false,
     "start_time": "2023-07-24T23:36:49.836693",
     "status": "completed"
    },
    "tags": []
   },
   "outputs": [],
   "source": [
    "#q6.hint()\n",
    "#q6.solution()"
   ]
  },
  {
   "cell_type": "markdown",
   "id": "db509a9f",
   "metadata": {
    "papermill": {
     "duration": 0.010517,
     "end_time": "2023-07-24T23:36:49.875344",
     "exception": false,
     "start_time": "2023-07-24T23:36:49.864827",
     "status": "completed"
    },
    "tags": []
   },
   "source": [
    "# 7. <span title=\"A bit spicy\" style=\"color: darkgreen \">🌶️</span> (Optional)\n",
    "\n",
    "In this problem we'll be working with a simplified version of [blackjack](https://en.wikipedia.org/wiki/Blackjack) (aka twenty-one). In this version there is one player (who you'll control) and a dealer. Play proceeds as follows:\n",
    "\n",
    "- The player is dealt two face-up cards. The dealer is dealt one face-up card.\n",
    "- The player may ask to be dealt another card ('hit') as many times as they wish. If the sum of their cards exceeds 21, they lose the round immediately.\n",
    "- The dealer then deals additional cards to himself until either:\n",
    "    - the sum of the dealer's cards exceeds 21, in which case the player wins the round\n",
    "    - the sum of the dealer's cards is greater than or equal to 17. If the player's total is greater than the dealer's, the player wins. Otherwise, the dealer wins (even in case of a tie).\n",
    "    \n",
    "When calculating the sum of cards, Jack, Queen, and King count for 10. Aces can count as 1 or 11 (when referring to a player's \"total\" above, we mean the largest total that can be made without exceeding 21. So e.g. A+8 = 19, A+8+8 = 17)\n",
    "\n",
    "For this problem, you'll write a function representing the player's decision-making strategy in this game. We've provided a very unintelligent implementation below:"
   ]
  },
  {
   "cell_type": "code",
   "execution_count": 22,
   "id": "c1c02524",
   "metadata": {
    "execution": {
     "iopub.execute_input": "2023-07-24T23:36:49.898356Z",
     "iopub.status.busy": "2023-07-24T23:36:49.898069Z",
     "iopub.status.idle": "2023-07-24T23:36:49.902925Z",
     "shell.execute_reply": "2023-07-24T23:36:49.902024Z"
    },
    "papermill": {
     "duration": 0.018695,
     "end_time": "2023-07-24T23:36:49.904730",
     "exception": false,
     "start_time": "2023-07-24T23:36:49.886035",
     "status": "completed"
    },
    "tags": []
   },
   "outputs": [],
   "source": [
    "def should_hit(dealer_total, player_total, player_low_aces, player_high_aces):\n",
    "    \"\"\"Return True if the player should hit (request another card) given the current game\n",
    "    state, or False if the player should stay.\n",
    "    When calculating a hand's total value, we count aces as \"high\" (with value 11) if doing so\n",
    "    doesn't bring the total above 21, otherwise we count them as low (with value 1). \n",
    "    For example, if the player's hand is {A, A, A, 7}, we will count it as 11 + 1 + 1 + 7,\n",
    "    and therefore set player_total=20, player_low_aces=2, player_high_aces=1.\n",
    "    \"\"\"\n",
    "    return False"
   ]
  },
  {
   "cell_type": "markdown",
   "id": "210ee01b",
   "metadata": {
    "papermill": {
     "duration": 0.010575,
     "end_time": "2023-07-24T23:36:49.926106",
     "exception": false,
     "start_time": "2023-07-24T23:36:49.915531",
     "status": "completed"
    },
    "tags": []
   },
   "source": [
    "This very conservative agent *always* sticks with the hand of two cards that they're dealt.\n",
    "\n",
    "We'll be simulating games between your player agent and our own dealer agent by calling your function.\n",
    "\n",
    "Try running the function below to see an example of a simulated game:"
   ]
  },
  {
   "cell_type": "code",
   "execution_count": 23,
   "id": "0cd0626d",
   "metadata": {
    "execution": {
     "iopub.execute_input": "2023-07-24T23:36:49.949715Z",
     "iopub.status.busy": "2023-07-24T23:36:49.948959Z",
     "iopub.status.idle": "2023-07-24T23:36:49.953658Z",
     "shell.execute_reply": "2023-07-24T23:36:49.952939Z"
    },
    "papermill": {
     "duration": 0.019011,
     "end_time": "2023-07-24T23:36:49.955812",
     "exception": false,
     "start_time": "2023-07-24T23:36:49.936801",
     "status": "completed"
    },
    "tags": []
   },
   "outputs": [
    {
     "name": "stdout",
     "output_type": "stream",
     "text": [
      "Player starts with 6 and Q (total = 16)\n",
      "Dealer starts with 8\n",
      "\n",
      "__Player's turn__\n",
      "Player stays\n",
      "\n",
      "__Dealer's turn__\n",
      "Dealer hits and receives 7. (total = 15)\n",
      "Dealer hits and receives Q. (total = 25)\n",
      "Dealer busts! Player wins.\n"
     ]
    }
   ],
   "source": [
    "q7.simulate_one_game()"
   ]
  },
  {
   "cell_type": "markdown",
   "id": "b7fc1276",
   "metadata": {
    "papermill": {
     "duration": 0.010532,
     "end_time": "2023-07-24T23:36:49.977167",
     "exception": false,
     "start_time": "2023-07-24T23:36:49.966635",
     "status": "completed"
    },
    "tags": []
   },
   "source": [
    "The real test of your agent's mettle is their average win rate over many games. Try calling the function below to simulate 50000 games of blackjack (it may take a couple seconds):"
   ]
  },
  {
   "cell_type": "code",
   "execution_count": 24,
   "id": "4bdb06ff",
   "metadata": {
    "execution": {
     "iopub.execute_input": "2023-07-24T23:36:49.999909Z",
     "iopub.status.busy": "2023-07-24T23:36:49.999602Z",
     "iopub.status.idle": "2023-07-24T23:36:51.436773Z",
     "shell.execute_reply": "2023-07-24T23:36:51.435972Z"
    },
    "papermill": {
     "duration": 1.451555,
     "end_time": "2023-07-24T23:36:51.439477",
     "exception": false,
     "start_time": "2023-07-24T23:36:49.987922",
     "status": "completed"
    },
    "tags": []
   },
   "outputs": [
    {
     "name": "stdout",
     "output_type": "stream",
     "text": [
      "Player won 18877 out of 50000 games (win rate = 37.8%)\n"
     ]
    }
   ],
   "source": [
    "q7.simulate(n_games=50000)"
   ]
  },
  {
   "cell_type": "markdown",
   "id": "1b265db7",
   "metadata": {
    "papermill": {
     "duration": 0.014589,
     "end_time": "2023-07-24T23:36:51.471518",
     "exception": false,
     "start_time": "2023-07-24T23:36:51.456929",
     "status": "completed"
    },
    "tags": []
   },
   "source": [
    "Our dumb agent that completely ignores the game state still manages to win shockingly often!\n",
    "\n",
    "Try adding some more smarts to the `should_hit` function and see how it affects the results."
   ]
  },
  {
   "cell_type": "code",
   "execution_count": 25,
   "id": "9445d891",
   "metadata": {
    "execution": {
     "iopub.execute_input": "2023-07-24T23:36:51.497714Z",
     "iopub.status.busy": "2023-07-24T23:36:51.497367Z",
     "iopub.status.idle": "2023-07-24T23:36:52.884307Z",
     "shell.execute_reply": "2023-07-24T23:36:52.883081Z"
    },
    "papermill": {
     "duration": 1.403051,
     "end_time": "2023-07-24T23:36:52.886620",
     "exception": false,
     "start_time": "2023-07-24T23:36:51.483569",
     "status": "completed"
    },
    "tags": []
   },
   "outputs": [
    {
     "name": "stdout",
     "output_type": "stream",
     "text": [
      "Player won 18901 out of 50000 games (win rate = 37.8%)\n"
     ]
    }
   ],
   "source": [
    "def should_hit(dealer_total, player_total, player_low_aces, player_high_aces):\n",
    "    \"\"\"Return True if the player should hit (request another card) given the current game\n",
    "    state, or False if the player should stay.\n",
    "    When calculating a hand's total value, we count aces as \"high\" (with value 11) if doing so\n",
    "    doesn't bring the total above 21, otherwise we count them as low (with value 1). \n",
    "    For example, if the player's hand is {A, A, A, 7}, we will count it as 11 + 1 + 1 + 7,\n",
    "    and therefore set player_total=20, player_low_aces=2, player_high_aces=1.\n",
    "    \"\"\"\n",
    "    return False\n",
    "\n",
    "q7.simulate(n_games=50000)"
   ]
  },
  {
   "cell_type": "markdown",
   "id": "6c7d7064",
   "metadata": {
    "papermill": {
     "duration": 0.010787,
     "end_time": "2023-07-24T23:36:52.908647",
     "exception": false,
     "start_time": "2023-07-24T23:36:52.897860",
     "status": "completed"
    },
    "tags": []
   },
   "source": [
    "# Keep Going\n",
    "\n",
    "Learn about **[lists and tuples](https://www.kaggle.com/colinmorris/lists)** to handle multiple items of data in a systematic way."
   ]
  },
  {
   "cell_type": "markdown",
   "id": "252f070d",
   "metadata": {
    "papermill": {
     "duration": 0.010779,
     "end_time": "2023-07-24T23:36:52.930405",
     "exception": false,
     "start_time": "2023-07-24T23:36:52.919626",
     "status": "completed"
    },
    "tags": []
   },
   "source": [
    "---\n",
    "\n",
    "\n",
    "\n",
    "\n",
    "*Have questions or comments? Visit the [course discussion forum](https://www.kaggle.com/learn/python/discussion) to chat with other learners.*"
   ]
  }
 ],
 "metadata": {
  "kernelspec": {
   "display_name": "Python 3",
   "language": "python",
   "name": "python3"
  },
  "language_info": {
   "codemirror_mode": {
    "name": "ipython",
    "version": 3
   },
   "file_extension": ".py",
   "mimetype": "text/x-python",
   "name": "python",
   "nbconvert_exporter": "python",
   "pygments_lexer": "ipython3",
   "version": "3.10.12"
  },
  "papermill": {
   "default_parameters": {},
   "duration": 13.035843,
   "end_time": "2023-07-24T23:36:53.561406",
   "environment_variables": {},
   "exception": null,
   "input_path": "__notebook__.ipynb",
   "output_path": "__notebook__.ipynb",
   "parameters": {},
   "start_time": "2023-07-24T23:36:40.525563",
   "version": "2.4.0"
  }
 },
 "nbformat": 4,
 "nbformat_minor": 5
}
