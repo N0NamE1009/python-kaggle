{
 "cells": [
  {
   "cell_type": "markdown",
   "id": "a867ceef",
   "metadata": {
    "papermill": {
     "duration": 0.013427,
     "end_time": "2023-07-24T23:10:47.949242",
     "exception": false,
     "start_time": "2023-07-24T23:10:47.935815",
     "status": "completed"
    },
    "tags": []
   },
   "source": [
    "**This notebook is an exercise in the [Python](https://www.kaggle.com/learn/python) course.  You can reference the tutorial at [this link](https://www.kaggle.com/colinmorris/booleans-and-conditionals).**\n",
    "\n",
    "---\n"
   ]
  },
  {
   "cell_type": "markdown",
   "id": "7f7ff96b",
   "metadata": {
    "papermill": {
     "duration": 0.012548,
     "end_time": "2023-07-24T23:10:47.975179",
     "exception": false,
     "start_time": "2023-07-24T23:10:47.962631",
     "status": "completed"
    },
    "tags": []
   },
   "source": [
    "In this exercise, you'll put to work what you have learned about booleans and conditionals.\n",
    "\n",
    "To get started, **run the setup code below** before writing your own code (and if you leave this notebook and come back later, don't forget to run the setup code again)."
   ]
  },
  {
   "cell_type": "code",
   "execution_count": 1,
   "id": "f2abd09a",
   "metadata": {
    "execution": {
     "iopub.execute_input": "2023-07-24T23:10:48.005195Z",
     "iopub.status.busy": "2023-07-24T23:10:48.004706Z",
     "iopub.status.idle": "2023-07-24T23:10:48.059617Z",
     "shell.execute_reply": "2023-07-24T23:10:48.058295Z"
    },
    "papermill": {
     "duration": 0.074385,
     "end_time": "2023-07-24T23:10:48.062372",
     "exception": false,
     "start_time": "2023-07-24T23:10:47.987987",
     "status": "completed"
    },
    "tags": []
   },
   "outputs": [
    {
     "name": "stdout",
     "output_type": "stream",
     "text": [
      "Setup complete.\n"
     ]
    }
   ],
   "source": [
    "from learntools.core import binder; binder.bind(globals())\n",
    "from learntools.python.ex3 import *\n",
    "print('Setup complete.')"
   ]
  },
  {
   "cell_type": "markdown",
   "id": "9463eb0c",
   "metadata": {
    "papermill": {
     "duration": 0.012694,
     "end_time": "2023-07-24T23:10:48.088341",
     "exception": false,
     "start_time": "2023-07-24T23:10:48.075647",
     "status": "completed"
    },
    "tags": []
   },
   "source": [
    "# 1.\n",
    "\n",
    "Many programming languages have [`sign`](https://en.wikipedia.org/wiki/Sign_function) available as a built-in function. Python doesn't, but we can define our own!\n",
    "\n",
    "In the cell below, define a function called `sign` which takes a numerical argument and returns -1 if it's negative, 1 if it's positive, and 0 if it's 0."
   ]
  },
  {
   "cell_type": "code",
   "execution_count": 2,
   "id": "ca193569",
   "metadata": {
    "execution": {
     "iopub.execute_input": "2023-07-24T23:10:48.116779Z",
     "iopub.status.busy": "2023-07-24T23:10:48.116227Z",
     "iopub.status.idle": "2023-07-24T23:10:48.128581Z",
     "shell.execute_reply": "2023-07-24T23:10:48.127217Z"
    },
    "papermill": {
     "duration": 0.029834,
     "end_time": "2023-07-24T23:10:48.131249",
     "exception": false,
     "start_time": "2023-07-24T23:10:48.101415",
     "status": "completed"
    },
    "tags": []
   },
   "outputs": [
    {
     "data": {
      "application/javascript": [
       "parent.postMessage({\"jupyterEvent\": \"custom.exercise_interaction\", \"data\": {\"outcomeType\": 1, \"valueTowardsCompletion\": 0.2, \"interactionType\": 1, \"questionType\": 2, \"questionId\": \"1_SignFunctionProblem\", \"learnToolsVersion\": \"0.3.4\", \"failureMessage\": \"\", \"exceptionClass\": \"\", \"trace\": \"\"}}, \"*\")"
      ],
      "text/plain": [
       "<IPython.core.display.Javascript object>"
      ]
     },
     "metadata": {},
     "output_type": "display_data"
    },
    {
     "data": {
      "text/markdown": [
       "<span style=\"color:#33cc33\">Correct</span>"
      ],
      "text/plain": [
       "Correct"
      ]
     },
     "metadata": {},
     "output_type": "display_data"
    }
   ],
   "source": [
    "# Your code goes here. Define a function called 'sign'\n",
    "def sign(num):\n",
    "    if num>0:\n",
    "        return 1\n",
    "    elif num<0:\n",
    "        return -1\n",
    "    else:\n",
    "        return 0\n",
    "\n",
    "# Check your answer\n",
    "q1.check()"
   ]
  },
  {
   "cell_type": "code",
   "execution_count": 3,
   "id": "57f92604",
   "metadata": {
    "execution": {
     "iopub.execute_input": "2023-07-24T23:10:48.161032Z",
     "iopub.status.busy": "2023-07-24T23:10:48.160384Z",
     "iopub.status.idle": "2023-07-24T23:10:48.165172Z",
     "shell.execute_reply": "2023-07-24T23:10:48.164167Z"
    },
    "papermill": {
     "duration": 0.022858,
     "end_time": "2023-07-24T23:10:48.167990",
     "exception": false,
     "start_time": "2023-07-24T23:10:48.145132",
     "status": "completed"
    },
    "tags": []
   },
   "outputs": [],
   "source": [
    "#q1.solution()"
   ]
  },
  {
   "cell_type": "markdown",
   "id": "c1bc7fa7",
   "metadata": {
    "papermill": {
     "duration": 0.013424,
     "end_time": "2023-07-24T23:10:48.194909",
     "exception": false,
     "start_time": "2023-07-24T23:10:48.181485",
     "status": "completed"
    },
    "tags": []
   },
   "source": [
    "# 2.\n",
    "\n",
    "We've decided to add \"logging\" to our `to_smash` function from the previous exercise."
   ]
  },
  {
   "cell_type": "code",
   "execution_count": 4,
   "id": "447b439f",
   "metadata": {
    "execution": {
     "iopub.execute_input": "2023-07-24T23:10:48.225085Z",
     "iopub.status.busy": "2023-07-24T23:10:48.224288Z",
     "iopub.status.idle": "2023-07-24T23:10:48.234581Z",
     "shell.execute_reply": "2023-07-24T23:10:48.233458Z"
    },
    "papermill": {
     "duration": 0.030862,
     "end_time": "2023-07-24T23:10:48.239687",
     "exception": false,
     "start_time": "2023-07-24T23:10:48.208825",
     "status": "completed"
    },
    "tags": []
   },
   "outputs": [
    {
     "name": "stdout",
     "output_type": "stream",
     "text": [
      "Splitting 91 candies\n"
     ]
    },
    {
     "data": {
      "text/plain": [
       "1"
      ]
     },
     "execution_count": 4,
     "metadata": {},
     "output_type": "execute_result"
    }
   ],
   "source": [
    "def to_smash(total_candies):\n",
    "    \"\"\"Return the number of leftover candies that must be smashed after distributing\n",
    "    the given number of candies evenly between 3 friends.\n",
    "    \n",
    "    >>> to_smash(91)\n",
    "    1\n",
    "    \"\"\"\n",
    "    print(\"Splitting\", total_candies, \"candies\")\n",
    "    return total_candies % 3\n",
    "\n",
    "to_smash(91)"
   ]
  },
  {
   "cell_type": "markdown",
   "id": "d931c1fb",
   "metadata": {
    "papermill": {
     "duration": 0.01354,
     "end_time": "2023-07-24T23:10:48.267675",
     "exception": false,
     "start_time": "2023-07-24T23:10:48.254135",
     "status": "completed"
    },
    "tags": []
   },
   "source": [
    "What happens if we call it with `total_candies = 1`?"
   ]
  },
  {
   "cell_type": "code",
   "execution_count": 5,
   "id": "d68f21cf",
   "metadata": {
    "execution": {
     "iopub.execute_input": "2023-07-24T23:10:48.298280Z",
     "iopub.status.busy": "2023-07-24T23:10:48.297748Z",
     "iopub.status.idle": "2023-07-24T23:10:48.306753Z",
     "shell.execute_reply": "2023-07-24T23:10:48.305114Z"
    },
    "papermill": {
     "duration": 0.028204,
     "end_time": "2023-07-24T23:10:48.309749",
     "exception": false,
     "start_time": "2023-07-24T23:10:48.281545",
     "status": "completed"
    },
    "tags": []
   },
   "outputs": [
    {
     "name": "stdout",
     "output_type": "stream",
     "text": [
      "Splitting 1 candies\n"
     ]
    },
    {
     "data": {
      "text/plain": [
       "1"
      ]
     },
     "execution_count": 5,
     "metadata": {},
     "output_type": "execute_result"
    }
   ],
   "source": [
    "to_smash(1)"
   ]
  },
  {
   "cell_type": "markdown",
   "id": "8167bfc6",
   "metadata": {
    "papermill": {
     "duration": 0.013442,
     "end_time": "2023-07-24T23:10:48.337326",
     "exception": false,
     "start_time": "2023-07-24T23:10:48.323884",
     "status": "completed"
    },
    "tags": []
   },
   "source": [
    "That isn't great grammar!\n",
    "\n",
    "Modify the definition in the cell below to correct the grammar of our print statement. (If there's only one candy, we should use the singular \"candy\" instead of the plural \"candies\")"
   ]
  },
  {
   "cell_type": "code",
   "execution_count": 6,
   "id": "3b227ea4",
   "metadata": {
    "execution": {
     "iopub.execute_input": "2023-07-24T23:10:48.367178Z",
     "iopub.status.busy": "2023-07-24T23:10:48.366713Z",
     "iopub.status.idle": "2023-07-24T23:10:48.374419Z",
     "shell.execute_reply": "2023-07-24T23:10:48.372986Z"
    },
    "papermill": {
     "duration": 0.026147,
     "end_time": "2023-07-24T23:10:48.377476",
     "exception": false,
     "start_time": "2023-07-24T23:10:48.351329",
     "status": "completed"
    },
    "tags": []
   },
   "outputs": [
    {
     "name": "stdout",
     "output_type": "stream",
     "text": [
      "Splitting 91 candies\n",
      "Splitting 1 candy\n"
     ]
    }
   ],
   "source": [
    "def to_smash(total_candies):\n",
    "    \"\"\"Return the number of leftover candies that must be smashed after distributing\n",
    "    the given number of candies evenly between 3 friends.\n",
    "    \n",
    "    >>> to_smash(91)\n",
    "    1\n",
    "    \"\"\"\n",
    "    if total_candies==1:\n",
    "        print(\"Splitting 1 candy\")\n",
    "    else:\n",
    "        print(\"Splitting\", total_candies, \"candies\")\n",
    "\n",
    "to_smash(91)\n",
    "to_smash(1)\n"
   ]
  },
  {
   "cell_type": "code",
   "execution_count": 7,
   "id": "bbdd4ab9",
   "metadata": {
    "execution": {
     "iopub.execute_input": "2023-07-24T23:10:48.408135Z",
     "iopub.status.busy": "2023-07-24T23:10:48.407617Z",
     "iopub.status.idle": "2023-07-24T23:10:48.417697Z",
     "shell.execute_reply": "2023-07-24T23:10:48.416329Z"
    },
    "papermill": {
     "duration": 0.028982,
     "end_time": "2023-07-24T23:10:48.420320",
     "exception": false,
     "start_time": "2023-07-24T23:10:48.391338",
     "status": "completed"
    },
    "tags": []
   },
   "outputs": [
    {
     "data": {
      "application/javascript": [
       "parent.postMessage({\"jupyterEvent\": \"custom.exercise_interaction\", \"data\": {\"outcomeType\": 1, \"valueTowardsCompletion\": 0.2, \"interactionType\": 1, \"questionType\": 4, \"questionId\": \"2_PluralizationProblem\", \"learnToolsVersion\": \"0.3.4\", \"failureMessage\": \"\", \"exceptionClass\": \"\", \"trace\": \"\"}}, \"*\")"
      ],
      "text/plain": [
       "<IPython.core.display.Javascript object>"
      ]
     },
     "metadata": {},
     "output_type": "display_data"
    },
    {
     "data": {
      "text/markdown": [
       "<span style=\"color:#33cc33\">Correct:</span> \n",
       "\n",
       "A straightforward (and totally fine) solution is to replace the original `print` call with:\n",
       "\n",
       "```python\n",
       "if total_candies == 1:\n",
       "    print(\"Splitting 1 candy\")\n",
       "else:\n",
       "    print(\"Splitting\", total_candies, \"candies\")\n",
       "```\n",
       "\n",
       "Here's a slightly more succinct solution using a conditional expression:\n",
       "\n",
       "```python\n",
       "print(\"Splitting\", total_candies, \"candy\" if total_candies == 1 else \"candies\")\n",
       "```"
      ],
      "text/plain": [
       "Correct: \n",
       "\n",
       "A straightforward (and totally fine) solution is to replace the original `print` call with:\n",
       "\n",
       "```python\n",
       "if total_candies == 1:\n",
       "    print(\"Splitting 1 candy\")\n",
       "else:\n",
       "    print(\"Splitting\", total_candies, \"candies\")\n",
       "```\n",
       "\n",
       "Here's a slightly more succinct solution using a conditional expression:\n",
       "\n",
       "```python\n",
       "print(\"Splitting\", total_candies, \"candy\" if total_candies == 1 else \"candies\")\n",
       "```"
      ]
     },
     "metadata": {},
     "output_type": "display_data"
    }
   ],
   "source": [
    "q2.check()"
   ]
  },
  {
   "cell_type": "markdown",
   "id": "5f0edc7f",
   "metadata": {
    "papermill": {
     "duration": 0.014465,
     "end_time": "2023-07-24T23:10:48.449273",
     "exception": false,
     "start_time": "2023-07-24T23:10:48.434808",
     "status": "completed"
    },
    "tags": []
   },
   "source": [
    "To get credit for completing this problem, and to see the official answer, run the code cell below."
   ]
  },
  {
   "cell_type": "code",
   "execution_count": 8,
   "id": "b64c2d98",
   "metadata": {
    "execution": {
     "iopub.execute_input": "2023-07-24T23:10:48.481628Z",
     "iopub.status.busy": "2023-07-24T23:10:48.481104Z",
     "iopub.status.idle": "2023-07-24T23:10:48.486614Z",
     "shell.execute_reply": "2023-07-24T23:10:48.485293Z"
    },
    "papermill": {
     "duration": 0.023971,
     "end_time": "2023-07-24T23:10:48.489202",
     "exception": false,
     "start_time": "2023-07-24T23:10:48.465231",
     "status": "completed"
    },
    "tags": []
   },
   "outputs": [],
   "source": [
    "# Check your answer (Run this code cell to receive credit!)\n",
    "#q2.solution()"
   ]
  },
  {
   "cell_type": "markdown",
   "id": "55e36411",
   "metadata": {
    "papermill": {
     "duration": 0.013742,
     "end_time": "2023-07-24T23:10:48.517384",
     "exception": false,
     "start_time": "2023-07-24T23:10:48.503642",
     "status": "completed"
    },
    "tags": []
   },
   "source": [
    "# 3. <span title=\"A bit spicy\" style=\"color: darkgreen \">🌶️</span>\n",
    "\n",
    "In the tutorial, we talked about deciding whether we're prepared for the weather. I said that I'm safe from today's weather if...\n",
    "- I have an umbrella...\n",
    "- or if the rain isn't too heavy and I have a hood...\n",
    "- otherwise, I'm still fine unless it's raining *and* it's a workday\n",
    "\n",
    "The function below uses our first attempt at turning this logic into a Python expression. I claimed that there was a bug in that code. Can you find it?\n",
    "\n",
    "To prove that `prepared_for_weather` is buggy, come up with a set of inputs where either:\n",
    "- the function returns `False` (but should have returned `True`), or\n",
    "- the function returned `True` (but should have returned `False`).\n",
    "\n",
    "To get credit for completing this question, your code should return a <font color='#33cc33'>Correct</font> result."
   ]
  },
  {
   "cell_type": "code",
   "execution_count": 9,
   "id": "c47312fa",
   "metadata": {
    "execution": {
     "iopub.execute_input": "2023-07-24T23:10:48.548225Z",
     "iopub.status.busy": "2023-07-24T23:10:48.547738Z",
     "iopub.status.idle": "2023-07-24T23:10:48.560377Z",
     "shell.execute_reply": "2023-07-24T23:10:48.559248Z"
    },
    "papermill": {
     "duration": 0.030867,
     "end_time": "2023-07-24T23:10:48.562958",
     "exception": false,
     "start_time": "2023-07-24T23:10:48.532091",
     "status": "completed"
    },
    "tags": []
   },
   "outputs": [
    {
     "name": "stdout",
     "output_type": "stream",
     "text": [
      "True\n"
     ]
    },
    {
     "data": {
      "application/javascript": [
       "parent.postMessage({\"jupyterEvent\": \"custom.exercise_interaction\", \"data\": {\"outcomeType\": 2, \"failureMessage\": \"Given `have_umbrella=True`, `rain_level=0.0`, `have_hood=True`, `is_workday=True`, `prepared_for_weather` returned `True`. But I think that's correct. (We want inputs that lead to an incorrect result from `prepared_for_weather`.)\", \"interactionType\": 1, \"questionType\": 1, \"questionId\": \"3_WeatherDebug\", \"learnToolsVersion\": \"0.3.4\", \"valueTowardsCompletion\": 0.0, \"exceptionClass\": \"\", \"trace\": \"\"}}, \"*\")"
      ],
      "text/plain": [
       "<IPython.core.display.Javascript object>"
      ]
     },
     "metadata": {},
     "output_type": "display_data"
    },
    {
     "data": {
      "text/markdown": [
       "<span style=\"color:#cc3333\">Incorrect:</span> Given `have_umbrella=True`, `rain_level=0.0`, `have_hood=True`, `is_workday=True`, `prepared_for_weather` returned `True`. But I think that's correct. (We want inputs that lead to an incorrect result from `prepared_for_weather`.)"
      ],
      "text/plain": [
       "Incorrect: Given `have_umbrella=True`, `rain_level=0.0`, `have_hood=True`, `is_workday=True`, `prepared_for_weather` returned `True`. But I think that's correct. (We want inputs that lead to an incorrect result from `prepared_for_weather`.)"
      ]
     },
     "metadata": {},
     "output_type": "display_data"
    }
   ],
   "source": [
    "def prepared_for_weather(have_umbrella, rain_level, have_hood, is_workday):\n",
    "    # Don't change this code. Our goal is just to find the bug, not fix it!\n",
    "    return have_umbrella or rain_level < 5 and have_hood or not rain_level > 0 and is_workday\n",
    "\n",
    "# Change the values of these inputs so they represent a case where prepared_for_weather\n",
    "# returns the wrong answer.\n",
    "have_umbrella = True\n",
    "rain_level = 0.0\n",
    "have_hood = True\n",
    "is_workday = True\n",
    "\n",
    "# Check what the function returns given the current values of the variables above\n",
    "actual = prepared_for_weather(have_umbrella, rain_level, have_hood, is_workday)\n",
    "print(actual)\n",
    "\n",
    "# Check your answer\n",
    "q3.check()"
   ]
  },
  {
   "cell_type": "code",
   "execution_count": 10,
   "id": "1435aabf",
   "metadata": {
    "execution": {
     "iopub.execute_input": "2023-07-24T23:10:48.594742Z",
     "iopub.status.busy": "2023-07-24T23:10:48.594235Z",
     "iopub.status.idle": "2023-07-24T23:10:48.599341Z",
     "shell.execute_reply": "2023-07-24T23:10:48.598070Z"
    },
    "papermill": {
     "duration": 0.024018,
     "end_time": "2023-07-24T23:10:48.601721",
     "exception": false,
     "start_time": "2023-07-24T23:10:48.577703",
     "status": "completed"
    },
    "tags": []
   },
   "outputs": [],
   "source": [
    "#q3.hint()\n",
    "#q3.solution()"
   ]
  },
  {
   "cell_type": "markdown",
   "id": "f62c153e",
   "metadata": {
    "papermill": {
     "duration": 0.014074,
     "end_time": "2023-07-24T23:10:48.630391",
     "exception": false,
     "start_time": "2023-07-24T23:10:48.616317",
     "status": "completed"
    },
    "tags": []
   },
   "source": [
    "# 4.\n",
    "\n",
    "The function `is_negative` below is implemented correctly - it returns True if the given number is negative and False otherwise.\n",
    "\n",
    "However, it's more verbose than it needs to be. We can actually reduce the number of lines of code in this function by *75%* while keeping the same behaviour. \n",
    "\n",
    "See if you can come up with an equivalent body that uses just **one line** of code, and put it in the function `concise_is_negative`. (HINT: you don't even need Python's ternary syntax)"
   ]
  },
  {
   "cell_type": "code",
   "execution_count": 11,
   "id": "630f0a81",
   "metadata": {
    "execution": {
     "iopub.execute_input": "2023-07-24T23:10:48.662229Z",
     "iopub.status.busy": "2023-07-24T23:10:48.661762Z",
     "iopub.status.idle": "2023-07-24T23:10:48.671046Z",
     "shell.execute_reply": "2023-07-24T23:10:48.670115Z"
    },
    "papermill": {
     "duration": 0.027775,
     "end_time": "2023-07-24T23:10:48.673361",
     "exception": false,
     "start_time": "2023-07-24T23:10:48.645586",
     "status": "completed"
    },
    "tags": []
   },
   "outputs": [
    {
     "data": {
      "application/javascript": [
       "parent.postMessage({\"jupyterEvent\": \"custom.exercise_interaction\", \"data\": {\"outcomeType\": 4, \"interactionType\": 1, \"questionType\": 2, \"questionId\": \"4_ConciseIsNegative\", \"learnToolsVersion\": \"0.3.4\", \"valueTowardsCompletion\": 0.0, \"failureMessage\": \"\", \"exceptionClass\": \"\", \"trace\": \"\"}}, \"*\")"
      ],
      "text/plain": [
       "<IPython.core.display.Javascript object>"
      ]
     },
     "metadata": {},
     "output_type": "display_data"
    },
    {
     "data": {
      "text/markdown": [
       "<span style=\"color:#ccaa33\">Check:</span> When you've updated the starter code, `check()` will tell you whether your code is correct. "
      ],
      "text/plain": [
       "Check: When you've updated the starter code, `check()` will tell you whether your code is correct. "
      ]
     },
     "metadata": {},
     "output_type": "display_data"
    }
   ],
   "source": [
    "def is_negative(number):\n",
    "    if number < 0:\n",
    "        return True\n",
    "    else:\n",
    "        return False\n",
    "\n",
    "def concise_is_negative(number):\n",
    "    pass # Your code goes here (try to keep it to one line!)\n",
    "\n",
    "# Check your answer\n",
    "q4.check()"
   ]
  },
  {
   "cell_type": "code",
   "execution_count": 12,
   "id": "65dda589",
   "metadata": {
    "execution": {
     "iopub.execute_input": "2023-07-24T23:10:48.706342Z",
     "iopub.status.busy": "2023-07-24T23:10:48.705232Z",
     "iopub.status.idle": "2023-07-24T23:10:48.709598Z",
     "shell.execute_reply": "2023-07-24T23:10:48.708743Z"
    },
    "papermill": {
     "duration": 0.023064,
     "end_time": "2023-07-24T23:10:48.711965",
     "exception": false,
     "start_time": "2023-07-24T23:10:48.688901",
     "status": "completed"
    },
    "tags": []
   },
   "outputs": [],
   "source": [
    "#q4.hint()\n",
    "#q4.solution()"
   ]
  },
  {
   "cell_type": "markdown",
   "id": "b422504e",
   "metadata": {
    "papermill": {
     "duration": 0.01483,
     "end_time": "2023-07-24T23:10:48.742574",
     "exception": false,
     "start_time": "2023-07-24T23:10:48.727744",
     "status": "completed"
    },
    "tags": []
   },
   "source": [
    "# 5a.\n",
    "\n",
    "The boolean variables `ketchup`, `mustard` and `onion` represent whether a customer wants a particular topping on their hot dog. We want to implement a number of boolean functions that correspond to some yes-or-no questions about the customer's order. For example:"
   ]
  },
  {
   "cell_type": "code",
   "execution_count": 13,
   "id": "a2c9d568",
   "metadata": {
    "execution": {
     "iopub.execute_input": "2023-07-24T23:10:48.775877Z",
     "iopub.status.busy": "2023-07-24T23:10:48.775359Z",
     "iopub.status.idle": "2023-07-24T23:10:48.781157Z",
     "shell.execute_reply": "2023-07-24T23:10:48.779948Z"
    },
    "papermill": {
     "duration": 0.025748,
     "end_time": "2023-07-24T23:10:48.783721",
     "exception": false,
     "start_time": "2023-07-24T23:10:48.757973",
     "status": "completed"
    },
    "tags": []
   },
   "outputs": [],
   "source": [
    "def onionless(ketchup, mustard, onion):\n",
    "    \"\"\"Return whether the customer doesn't want onions.\n",
    "    \"\"\"\n",
    "    return not onion"
   ]
  },
  {
   "cell_type": "code",
   "execution_count": 14,
   "id": "b36eb0ce",
   "metadata": {
    "execution": {
     "iopub.execute_input": "2023-07-24T23:10:48.816901Z",
     "iopub.status.busy": "2023-07-24T23:10:48.815732Z",
     "iopub.status.idle": "2023-07-24T23:10:48.825921Z",
     "shell.execute_reply": "2023-07-24T23:10:48.824758Z"
    },
    "papermill": {
     "duration": 0.029294,
     "end_time": "2023-07-24T23:10:48.828656",
     "exception": false,
     "start_time": "2023-07-24T23:10:48.799362",
     "status": "completed"
    },
    "tags": []
   },
   "outputs": [
    {
     "data": {
      "application/javascript": [
       "parent.postMessage({\"jupyterEvent\": \"custom.exercise_interaction\", \"data\": {\"outcomeType\": 4, \"interactionType\": 1, \"questionType\": 2, \"questionId\": \"5.1_AllToppings\", \"learnToolsVersion\": \"0.3.4\", \"valueTowardsCompletion\": 0.0, \"failureMessage\": \"\", \"exceptionClass\": \"\", \"trace\": \"\"}}, \"*\")"
      ],
      "text/plain": [
       "<IPython.core.display.Javascript object>"
      ]
     },
     "metadata": {},
     "output_type": "display_data"
    },
    {
     "data": {
      "text/markdown": [
       "<span style=\"color:#ccaa33\">Check:</span> When you've updated the starter code, `check()` will tell you whether your code is correct. "
      ],
      "text/plain": [
       "Check: When you've updated the starter code, `check()` will tell you whether your code is correct. "
      ]
     },
     "metadata": {},
     "output_type": "display_data"
    }
   ],
   "source": [
    "def wants_all_toppings(ketchup, mustard, onion):\n",
    "    \"\"\"Return whether the customer wants \"the works\" (all 3 toppings)\n",
    "    \"\"\"\n",
    "    pass\n",
    "\n",
    "# Check your answer\n",
    "q5.a.check()"
   ]
  },
  {
   "cell_type": "code",
   "execution_count": 15,
   "id": "ce46a286",
   "metadata": {
    "execution": {
     "iopub.execute_input": "2023-07-24T23:10:48.861529Z",
     "iopub.status.busy": "2023-07-24T23:10:48.861015Z",
     "iopub.status.idle": "2023-07-24T23:10:48.865808Z",
     "shell.execute_reply": "2023-07-24T23:10:48.864581Z"
    },
    "papermill": {
     "duration": 0.024262,
     "end_time": "2023-07-24T23:10:48.868306",
     "exception": false,
     "start_time": "2023-07-24T23:10:48.844044",
     "status": "completed"
    },
    "tags": []
   },
   "outputs": [],
   "source": [
    "#q5.a.hint()\n",
    "#q5.a.solution()"
   ]
  },
  {
   "cell_type": "markdown",
   "id": "7859d9b9",
   "metadata": {
    "papermill": {
     "duration": 0.015042,
     "end_time": "2023-07-24T23:10:48.899378",
     "exception": false,
     "start_time": "2023-07-24T23:10:48.884336",
     "status": "completed"
    },
    "tags": []
   },
   "source": [
    "# 5b.\n",
    "\n",
    "For the next function, fill in the body to match the English description in the docstring. "
   ]
  },
  {
   "cell_type": "code",
   "execution_count": 16,
   "id": "0ef736bd",
   "metadata": {
    "execution": {
     "iopub.execute_input": "2023-07-24T23:10:48.935454Z",
     "iopub.status.busy": "2023-07-24T23:10:48.934388Z",
     "iopub.status.idle": "2023-07-24T23:10:48.944158Z",
     "shell.execute_reply": "2023-07-24T23:10:48.942903Z"
    },
    "papermill": {
     "duration": 0.032389,
     "end_time": "2023-07-24T23:10:48.947394",
     "exception": false,
     "start_time": "2023-07-24T23:10:48.915005",
     "status": "completed"
    },
    "tags": []
   },
   "outputs": [
    {
     "data": {
      "application/javascript": [
       "parent.postMessage({\"jupyterEvent\": \"custom.exercise_interaction\", \"data\": {\"outcomeType\": 4, \"interactionType\": 1, \"questionType\": 2, \"questionId\": \"5.2_PlainDog\", \"learnToolsVersion\": \"0.3.4\", \"valueTowardsCompletion\": 0.0, \"failureMessage\": \"\", \"exceptionClass\": \"\", \"trace\": \"\"}}, \"*\")"
      ],
      "text/plain": [
       "<IPython.core.display.Javascript object>"
      ]
     },
     "metadata": {},
     "output_type": "display_data"
    },
    {
     "data": {
      "text/markdown": [
       "<span style=\"color:#ccaa33\">Check:</span> When you've updated the starter code, `check()` will tell you whether your code is correct. "
      ],
      "text/plain": [
       "Check: When you've updated the starter code, `check()` will tell you whether your code is correct. "
      ]
     },
     "metadata": {},
     "output_type": "display_data"
    }
   ],
   "source": [
    "def wants_plain_hotdog(ketchup, mustard, onion):\n",
    "    \"\"\"Return whether the customer wants a plain hot dog with no toppings.\n",
    "    \"\"\"\n",
    "    pass\n",
    "\n",
    "# Check your answer\n",
    "q5.b.check()"
   ]
  },
  {
   "cell_type": "code",
   "execution_count": 17,
   "id": "883496da",
   "metadata": {
    "execution": {
     "iopub.execute_input": "2023-07-24T23:10:48.982323Z",
     "iopub.status.busy": "2023-07-24T23:10:48.981820Z",
     "iopub.status.idle": "2023-07-24T23:10:48.986702Z",
     "shell.execute_reply": "2023-07-24T23:10:48.985393Z"
    },
    "papermill": {
     "duration": 0.025248,
     "end_time": "2023-07-24T23:10:48.989187",
     "exception": false,
     "start_time": "2023-07-24T23:10:48.963939",
     "status": "completed"
    },
    "tags": []
   },
   "outputs": [],
   "source": [
    "#q5.b.hint()\n",
    "#q5.b.solution()"
   ]
  },
  {
   "cell_type": "markdown",
   "id": "8350b22c",
   "metadata": {
    "papermill": {
     "duration": 0.015402,
     "end_time": "2023-07-24T23:10:49.021101",
     "exception": false,
     "start_time": "2023-07-24T23:10:49.005699",
     "status": "completed"
    },
    "tags": []
   },
   "source": [
    "# 5c.\n",
    "\n",
    "You know what to do: for the next function, fill in the body to match the English description in the docstring."
   ]
  },
  {
   "cell_type": "code",
   "execution_count": 18,
   "id": "ecb54df8",
   "metadata": {
    "execution": {
     "iopub.execute_input": "2023-07-24T23:10:49.056096Z",
     "iopub.status.busy": "2023-07-24T23:10:49.055218Z",
     "iopub.status.idle": "2023-07-24T23:10:49.064855Z",
     "shell.execute_reply": "2023-07-24T23:10:49.063485Z"
    },
    "papermill": {
     "duration": 0.029695,
     "end_time": "2023-07-24T23:10:49.067735",
     "exception": false,
     "start_time": "2023-07-24T23:10:49.038040",
     "status": "completed"
    },
    "tags": []
   },
   "outputs": [
    {
     "data": {
      "application/javascript": [
       "parent.postMessage({\"jupyterEvent\": \"custom.exercise_interaction\", \"data\": {\"outcomeType\": 4, \"interactionType\": 1, \"questionType\": 2, \"questionId\": \"5.3_OneSauce\", \"learnToolsVersion\": \"0.3.4\", \"valueTowardsCompletion\": 0.0, \"failureMessage\": \"\", \"exceptionClass\": \"\", \"trace\": \"\"}}, \"*\")"
      ],
      "text/plain": [
       "<IPython.core.display.Javascript object>"
      ]
     },
     "metadata": {},
     "output_type": "display_data"
    },
    {
     "data": {
      "text/markdown": [
       "<span style=\"color:#ccaa33\">Check:</span> When you've updated the starter code, `check()` will tell you whether your code is correct. "
      ],
      "text/plain": [
       "Check: When you've updated the starter code, `check()` will tell you whether your code is correct. "
      ]
     },
     "metadata": {},
     "output_type": "display_data"
    }
   ],
   "source": [
    "def exactly_one_sauce(ketchup, mustard, onion):\n",
    "    \"\"\"Return whether the customer wants either ketchup or mustard, but not both.\n",
    "    (You may be familiar with this operation under the name \"exclusive or\")\n",
    "    \"\"\"\n",
    "    pass\n",
    "\n",
    "# Check your answer\n",
    "q5.c.check()"
   ]
  },
  {
   "cell_type": "code",
   "execution_count": 19,
   "id": "6aafd27a",
   "metadata": {
    "execution": {
     "iopub.execute_input": "2023-07-24T23:10:49.102828Z",
     "iopub.status.busy": "2023-07-24T23:10:49.102291Z",
     "iopub.status.idle": "2023-07-24T23:10:49.107347Z",
     "shell.execute_reply": "2023-07-24T23:10:49.106272Z"
    },
    "papermill": {
     "duration": 0.025926,
     "end_time": "2023-07-24T23:10:49.109856",
     "exception": false,
     "start_time": "2023-07-24T23:10:49.083930",
     "status": "completed"
    },
    "tags": []
   },
   "outputs": [],
   "source": [
    "#q5.c.hint()\n",
    "#q5.c.solution()"
   ]
  },
  {
   "cell_type": "markdown",
   "id": "c977b032",
   "metadata": {
    "papermill": {
     "duration": 0.016621,
     "end_time": "2023-07-24T23:10:49.143043",
     "exception": false,
     "start_time": "2023-07-24T23:10:49.126422",
     "status": "completed"
    },
    "tags": []
   },
   "source": [
    "# 6. <span title=\"A bit spicy\" style=\"color: darkgreen \">🌶️</span>\n",
    "\n",
    "We’ve seen that calling `bool()` on an integer returns `False` if it’s equal to 0 and `True` otherwise. What happens if we call `int()` on a bool? Try it out in the notebook cell below.\n",
    "\n",
    "Can you take advantage of this to write a succinct function that corresponds to the English sentence \"does the customer want exactly one topping?\"?"
   ]
  },
  {
   "cell_type": "code",
   "execution_count": 20,
   "id": "60d5a929",
   "metadata": {
    "execution": {
     "iopub.execute_input": "2023-07-24T23:10:49.178624Z",
     "iopub.status.busy": "2023-07-24T23:10:49.178076Z",
     "iopub.status.idle": "2023-07-24T23:10:49.188777Z",
     "shell.execute_reply": "2023-07-24T23:10:49.187484Z"
    },
    "papermill": {
     "duration": 0.031714,
     "end_time": "2023-07-24T23:10:49.191480",
     "exception": false,
     "start_time": "2023-07-24T23:10:49.159766",
     "status": "completed"
    },
    "tags": []
   },
   "outputs": [
    {
     "data": {
      "application/javascript": [
       "parent.postMessage({\"jupyterEvent\": \"custom.exercise_interaction\", \"data\": {\"outcomeType\": 4, \"interactionType\": 1, \"questionType\": 2, \"questionId\": \"6_OneTopping\", \"learnToolsVersion\": \"0.3.4\", \"valueTowardsCompletion\": 0.0, \"failureMessage\": \"\", \"exceptionClass\": \"\", \"trace\": \"\"}}, \"*\")"
      ],
      "text/plain": [
       "<IPython.core.display.Javascript object>"
      ]
     },
     "metadata": {},
     "output_type": "display_data"
    },
    {
     "data": {
      "text/markdown": [
       "<span style=\"color:#ccaa33\">Check:</span> When you've updated the starter code, `check()` will tell you whether your code is correct. "
      ],
      "text/plain": [
       "Check: When you've updated the starter code, `check()` will tell you whether your code is correct. "
      ]
     },
     "metadata": {},
     "output_type": "display_data"
    }
   ],
   "source": [
    "def exactly_one_topping(ketchup, mustard, onion):\n",
    "    \"\"\"Return whether the customer wants exactly one of the three available toppings\n",
    "    on their hot dog.\n",
    "    \"\"\"\n",
    "    pass\n",
    "\n",
    "# Check your answer\n",
    "q6.check()"
   ]
  },
  {
   "cell_type": "code",
   "execution_count": 21,
   "id": "e3808cfe",
   "metadata": {
    "execution": {
     "iopub.execute_input": "2023-07-24T23:10:49.227970Z",
     "iopub.status.busy": "2023-07-24T23:10:49.227460Z",
     "iopub.status.idle": "2023-07-24T23:10:49.233172Z",
     "shell.execute_reply": "2023-07-24T23:10:49.231855Z"
    },
    "papermill": {
     "duration": 0.027028,
     "end_time": "2023-07-24T23:10:49.236054",
     "exception": false,
     "start_time": "2023-07-24T23:10:49.209026",
     "status": "completed"
    },
    "tags": []
   },
   "outputs": [],
   "source": [
    "#q6.hint()\n",
    "#q6.solution()"
   ]
  },
  {
   "cell_type": "markdown",
   "id": "180d3b24",
   "metadata": {
    "papermill": {
     "duration": 0.01631,
     "end_time": "2023-07-24T23:10:49.271965",
     "exception": false,
     "start_time": "2023-07-24T23:10:49.255655",
     "status": "completed"
    },
    "tags": []
   },
   "source": [
    "# 7. <span title=\"A bit spicy\" style=\"color: darkgreen \">🌶️</span> (Optional)\n",
    "\n",
    "In this problem we'll be working with a simplified version of [blackjack](https://en.wikipedia.org/wiki/Blackjack) (aka twenty-one). In this version there is one player (who you'll control) and a dealer. Play proceeds as follows:\n",
    "\n",
    "- The player is dealt two face-up cards. The dealer is dealt one face-up card.\n",
    "- The player may ask to be dealt another card ('hit') as many times as they wish. If the sum of their cards exceeds 21, they lose the round immediately.\n",
    "- The dealer then deals additional cards to himself until either:\n",
    "    - the sum of the dealer's cards exceeds 21, in which case the player wins the round\n",
    "    - the sum of the dealer's cards is greater than or equal to 17. If the player's total is greater than the dealer's, the player wins. Otherwise, the dealer wins (even in case of a tie).\n",
    "    \n",
    "When calculating the sum of cards, Jack, Queen, and King count for 10. Aces can count as 1 or 11 (when referring to a player's \"total\" above, we mean the largest total that can be made without exceeding 21. So e.g. A+8 = 19, A+8+8 = 17)\n",
    "\n",
    "For this problem, you'll write a function representing the player's decision-making strategy in this game. We've provided a very unintelligent implementation below:"
   ]
  },
  {
   "cell_type": "code",
   "execution_count": 22,
   "id": "1b215a18",
   "metadata": {
    "execution": {
     "iopub.execute_input": "2023-07-24T23:10:49.309389Z",
     "iopub.status.busy": "2023-07-24T23:10:49.308900Z",
     "iopub.status.idle": "2023-07-24T23:10:49.314682Z",
     "shell.execute_reply": "2023-07-24T23:10:49.313703Z"
    },
    "papermill": {
     "duration": 0.028206,
     "end_time": "2023-07-24T23:10:49.317266",
     "exception": false,
     "start_time": "2023-07-24T23:10:49.289060",
     "status": "completed"
    },
    "tags": []
   },
   "outputs": [],
   "source": [
    "def should_hit(dealer_total, player_total, player_low_aces, player_high_aces):\n",
    "    \"\"\"Return True if the player should hit (request another card) given the current game\n",
    "    state, or False if the player should stay.\n",
    "    When calculating a hand's total value, we count aces as \"high\" (with value 11) if doing so\n",
    "    doesn't bring the total above 21, otherwise we count them as low (with value 1). \n",
    "    For example, if the player's hand is {A, A, A, 7}, we will count it as 11 + 1 + 1 + 7,\n",
    "    and therefore set player_total=20, player_low_aces=2, player_high_aces=1.\n",
    "    \"\"\"\n",
    "    return False"
   ]
  },
  {
   "cell_type": "markdown",
   "id": "f50346ba",
   "metadata": {
    "papermill": {
     "duration": 0.016177,
     "end_time": "2023-07-24T23:10:49.350503",
     "exception": false,
     "start_time": "2023-07-24T23:10:49.334326",
     "status": "completed"
    },
    "tags": []
   },
   "source": [
    "This very conservative agent *always* sticks with the hand of two cards that they're dealt.\n",
    "\n",
    "We'll be simulating games between your player agent and our own dealer agent by calling your function.\n",
    "\n",
    "Try running the function below to see an example of a simulated game:"
   ]
  },
  {
   "cell_type": "code",
   "execution_count": 23,
   "id": "5eb6bbff",
   "metadata": {
    "execution": {
     "iopub.execute_input": "2023-07-24T23:10:49.386095Z",
     "iopub.status.busy": "2023-07-24T23:10:49.385617Z",
     "iopub.status.idle": "2023-07-24T23:10:49.392086Z",
     "shell.execute_reply": "2023-07-24T23:10:49.390902Z"
    },
    "papermill": {
     "duration": 0.027757,
     "end_time": "2023-07-24T23:10:49.395242",
     "exception": false,
     "start_time": "2023-07-24T23:10:49.367485",
     "status": "completed"
    },
    "tags": []
   },
   "outputs": [
    {
     "name": "stdout",
     "output_type": "stream",
     "text": [
      "Player starts with 3 and 7 (total = 10)\n",
      "Dealer starts with 9\n",
      "\n",
      "__Player's turn__\n",
      "Player stays\n",
      "\n",
      "__Dealer's turn__\n",
      "Dealer hits and receives 2. (total = 11)\n",
      "Dealer hits and receives 10. (total = 21)\n",
      "Dealer stands.\n",
      "Dealer wins. 21 >= 10\n"
     ]
    }
   ],
   "source": [
    "q7.simulate_one_game()"
   ]
  },
  {
   "cell_type": "markdown",
   "id": "ce0d81a8",
   "metadata": {
    "papermill": {
     "duration": 0.016331,
     "end_time": "2023-07-24T23:10:49.428089",
     "exception": false,
     "start_time": "2023-07-24T23:10:49.411758",
     "status": "completed"
    },
    "tags": []
   },
   "source": [
    "The real test of your agent's mettle is their average win rate over many games. Try calling the function below to simulate 50000 games of blackjack (it may take a couple seconds):"
   ]
  },
  {
   "cell_type": "code",
   "execution_count": 24,
   "id": "cfa52992",
   "metadata": {
    "execution": {
     "iopub.execute_input": "2023-07-24T23:10:49.463916Z",
     "iopub.status.busy": "2023-07-24T23:10:49.463429Z",
     "iopub.status.idle": "2023-07-24T23:10:51.628726Z",
     "shell.execute_reply": "2023-07-24T23:10:51.627319Z"
    },
    "papermill": {
     "duration": 2.186828,
     "end_time": "2023-07-24T23:10:51.631895",
     "exception": false,
     "start_time": "2023-07-24T23:10:49.445067",
     "status": "completed"
    },
    "tags": []
   },
   "outputs": [
    {
     "name": "stdout",
     "output_type": "stream",
     "text": [
      "Player won 19168 out of 50000 games (win rate = 38.3%)\n"
     ]
    }
   ],
   "source": [
    "q7.simulate(n_games=50000)"
   ]
  },
  {
   "cell_type": "markdown",
   "id": "86a2b096",
   "metadata": {
    "papermill": {
     "duration": 0.016249,
     "end_time": "2023-07-24T23:10:51.664964",
     "exception": false,
     "start_time": "2023-07-24T23:10:51.648715",
     "status": "completed"
    },
    "tags": []
   },
   "source": [
    "Our dumb agent that completely ignores the game state still manages to win shockingly often!\n",
    "\n",
    "Try adding some more smarts to the `should_hit` function and see how it affects the results."
   ]
  },
  {
   "cell_type": "code",
   "execution_count": 25,
   "id": "cba68af9",
   "metadata": {
    "execution": {
     "iopub.execute_input": "2023-07-24T23:10:51.700534Z",
     "iopub.status.busy": "2023-07-24T23:10:51.700016Z",
     "iopub.status.idle": "2023-07-24T23:10:53.893894Z",
     "shell.execute_reply": "2023-07-24T23:10:53.892525Z"
    },
    "papermill": {
     "duration": 2.215176,
     "end_time": "2023-07-24T23:10:53.896953",
     "exception": false,
     "start_time": "2023-07-24T23:10:51.681777",
     "status": "completed"
    },
    "tags": []
   },
   "outputs": [
    {
     "name": "stdout",
     "output_type": "stream",
     "text": [
      "Player won 18946 out of 50000 games (win rate = 37.9%)\n"
     ]
    }
   ],
   "source": [
    "def should_hit(dealer_total, player_total, player_low_aces, player_high_aces):\n",
    "    \"\"\"Return True if the player should hit (request another card) given the current game\n",
    "    state, or False if the player should stay.\n",
    "    When calculating a hand's total value, we count aces as \"high\" (with value 11) if doing so\n",
    "    doesn't bring the total above 21, otherwise we count them as low (with value 1). \n",
    "    For example, if the player's hand is {A, A, A, 7}, we will count it as 11 + 1 + 1 + 7,\n",
    "    and therefore set player_total=20, player_low_aces=2, player_high_aces=1.\n",
    "    \"\"\"\n",
    "    return False\n",
    "\n",
    "q7.simulate(n_games=50000)"
   ]
  },
  {
   "cell_type": "markdown",
   "id": "1ac2366f",
   "metadata": {
    "papermill": {
     "duration": 0.016646,
     "end_time": "2023-07-24T23:10:53.930294",
     "exception": false,
     "start_time": "2023-07-24T23:10:53.913648",
     "status": "completed"
    },
    "tags": []
   },
   "source": [
    "# Keep Going\n",
    "\n",
    "Learn about **[lists and tuples](https://www.kaggle.com/colinmorris/lists)** to handle multiple items of data in a systematic way."
   ]
  },
  {
   "cell_type": "markdown",
   "id": "0f0519fb",
   "metadata": {
    "papermill": {
     "duration": 0.016279,
     "end_time": "2023-07-24T23:10:53.964028",
     "exception": false,
     "start_time": "2023-07-24T23:10:53.947749",
     "status": "completed"
    },
    "tags": []
   },
   "source": [
    "---\n",
    "\n",
    "\n",
    "\n",
    "\n",
    "*Have questions or comments? Visit the [course discussion forum](https://www.kaggle.com/learn/python/discussion) to chat with other learners.*"
   ]
  }
 ],
 "metadata": {
  "kernelspec": {
   "display_name": "Python 3",
   "language": "python",
   "name": "python3"
  },
  "language_info": {
   "codemirror_mode": {
    "name": "ipython",
    "version": 3
   },
   "file_extension": ".py",
   "mimetype": "text/x-python",
   "name": "python",
   "nbconvert_exporter": "python",
   "pygments_lexer": "ipython3",
   "version": "3.10.12"
  },
  "papermill": {
   "default_parameters": {},
   "duration": 20.403277,
   "end_time": "2023-07-24T23:10:55.005670",
   "environment_variables": {},
   "exception": null,
   "input_path": "__notebook__.ipynb",
   "output_path": "__notebook__.ipynb",
   "parameters": {},
   "start_time": "2023-07-24T23:10:34.602393",
   "version": "2.4.0"
  }
 },
 "nbformat": 4,
 "nbformat_minor": 5
}
